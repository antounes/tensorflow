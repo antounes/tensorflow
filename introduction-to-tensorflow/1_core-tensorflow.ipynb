{
 "cells": [
  {
   "cell_type": "markdown",
   "id": "military-officer",
   "metadata": {},
   "source": [
    "# **Getting started with TensorFlow**\n",
    "\n",
    "**Learning objectives**\n",
    "\n",
    "1. Practice defining and performing basic operations on tensors\n",
    "2. Use TensorFlow automatic differentiation capability\n",
    "3. Learn how to train a linear regression from scratch with TensorFlow\n",
    "\n",
    "In this notebook, we will start by reviewing the main operations on tensors in TensorFlow and understand how to manipulate TensorFlow Variables. We explain how these are compatible with Python built-in `list` and NumPy `array` objects.\n",
    "\n",
    "Then we will jump to the problem of training a linear regression from scratch with gradient descent. The first order of business will be to understand how to compute the gradients of a function (a loss function here) with respect to some of its arguments (the model weights here). The TensorFlow construct allowing us to do that is `tf.GradientTape`, which we will describe.\n",
    "\n",
    "At last we will create a simple training loop to learn the weights of a 1-dim linear regression using synthetic data generated from a linear model.\n",
    "\n",
    "As a bonus exercise, we will do the same for data generated from a non-linear model, forcing us to manual-engineer non-linear features to improve our linear model performance."
   ]
  },
  {
   "cell_type": "code",
   "execution_count": 1,
   "id": "usual-bulgarian",
   "metadata": {},
   "outputs": [
    {
     "name": "stdout",
     "output_type": "stream",
     "text": [
      "2.4.1\n"
     ]
    }
   ],
   "source": [
    "import numpy as np\n",
    "import matplotlib.pyplot as plt\n",
    "import tensorflow as tf\n",
    "\n",
    "print(tf.__version__)"
   ]
  },
  {
   "cell_type": "markdown",
   "id": "stupid-python",
   "metadata": {},
   "source": [
    "## **Operations on tensors**\n",
    "\n",
    "### **Variables and constants**\n",
    "\n",
    "Tensors in TensorFlow are either **constants** (`tf.constant`) or **variables** (`tf.Variable`). Constant values cannot be changed, while variable values can be.\n",
    "\n",
    "The main difference is that instances of `tf.Variable` have methods allowing us to change their values while tensors constructed with `tf.constant` don't have these methods, and therefore their values cannot be changed. When you want to change the value of a `tf.Variable` `x` use one of the following methods:\n",
    "\n",
    "- `x.assign(new_value)`\n",
    "- `x.assign_add(value_to_be_added)`\n",
    "- `x.assign_sub(value_to_be_subtracted)`"
   ]
  },
  {
   "cell_type": "code",
   "execution_count": 2,
   "id": "referenced-cuisine",
   "metadata": {},
   "outputs": [
    {
     "data": {
      "text/plain": [
       "<tf.Tensor: shape=(3,), dtype=int32, numpy=array([2, 3, 4], dtype=int32)>"
      ]
     },
     "execution_count": 2,
     "metadata": {},
     "output_type": "execute_result"
    }
   ],
   "source": [
    "x = tf.constant([2, 3, 4])\n",
    "x"
   ]
  },
  {
   "cell_type": "code",
   "execution_count": 3,
   "id": "dense-windows",
   "metadata": {},
   "outputs": [],
   "source": [
    "x = tf.Variable(2.0, dtype=tf.float32, name=\"my_variable\")"
   ]
  },
  {
   "cell_type": "code",
   "execution_count": 4,
   "id": "entitled-account",
   "metadata": {},
   "outputs": [
    {
     "data": {
      "text/plain": [
       "<tf.Variable 'my_variable:0' shape=() dtype=float32, numpy=45.8>"
      ]
     },
     "execution_count": 4,
     "metadata": {},
     "output_type": "execute_result"
    }
   ],
   "source": [
    "x.assign(45.8)\n",
    "x"
   ]
  },
  {
   "cell_type": "code",
   "execution_count": 5,
   "id": "champion-brook",
   "metadata": {},
   "outputs": [
    {
     "data": {
      "text/plain": [
       "<tf.Variable 'my_variable:0' shape=() dtype=float32, numpy=49.8>"
      ]
     },
     "execution_count": 5,
     "metadata": {},
     "output_type": "execute_result"
    }
   ],
   "source": [
    "x.assign_add(4)\n",
    "x"
   ]
  },
  {
   "cell_type": "code",
   "execution_count": 6,
   "id": "inner-works",
   "metadata": {},
   "outputs": [
    {
     "data": {
      "text/plain": [
       "<tf.Variable 'my_variable:0' shape=() dtype=float32, numpy=0.0>"
      ]
     },
     "execution_count": 6,
     "metadata": {},
     "output_type": "execute_result"
    }
   ],
   "source": [
    "x.assign_sub(49.8)\n",
    "x"
   ]
  },
  {
   "cell_type": "markdown",
   "id": "sublime-syracuse",
   "metadata": {},
   "source": [
    "### **Point-wise operations**\n",
    "\n",
    "TensorFlow offers similar point-wise tensor operations as NumPy does:\n",
    "\n",
    "- `tf.add` allows to add the components of a tensor\n",
    "- `tf.multiply` allows to multiply the components of a tensor\n",
    "- `tf.subtract` allows to subtract the components of a tensor\n",
    "- `tf.math.*` contains the usual `math` operations to be applied on the components of a tensor\n",
    "\n",
    "Most of the standard arithmetic ops (`tf.add`, `tf.subtract`, etc.) are overloaded by the usual corresponding arithmetic symbols (`+`, `-`, `*`, etc.)"
   ]
  },
  {
   "cell_type": "code",
   "execution_count": 8,
   "id": "powered-breed",
   "metadata": {},
   "outputs": [
    {
     "name": "stdout",
     "output_type": "stream",
     "text": [
      "c: tf.Tensor([ 8  2 10], shape=(3,), dtype=int32)\n",
      "d: tf.Tensor([ 8  2 10], shape=(3,), dtype=int32)\n"
     ]
    }
   ],
   "source": [
    "a = tf.constant([5, 3, 8])\n",
    "b = tf.constant([3, -1, 2])\n",
    "c = tf.add(a, b)\n",
    "d = a + b\n",
    "\n",
    "print(\"c:\", c)\n",
    "print(\"d:\", d)"
   ]
  },
  {
   "cell_type": "code",
   "execution_count": 9,
   "id": "eleven-repository",
   "metadata": {},
   "outputs": [
    {
     "name": "stdout",
     "output_type": "stream",
     "text": [
      "c: tf.Tensor([15 -3 16], shape=(3,), dtype=int32)\n",
      "d: tf.Tensor([15 -3 16], shape=(3,), dtype=int32)\n"
     ]
    }
   ],
   "source": [
    "a = tf.constant([5, 3, 8])\n",
    "b = tf.constant([3, -1, 2])\n",
    "c = tf.multiply(a, b)\n",
    "d = a * b\n",
    "\n",
    "print(\"c:\", c)\n",
    "print(\"d:\", d)"
   ]
  },
  {
   "cell_type": "code",
   "execution_count": 10,
   "id": "noble-opportunity",
   "metadata": {},
   "outputs": [
    {
     "name": "stdout",
     "output_type": "stream",
     "text": [
      "b: tf.Tensor([ 148.41316    20.085537 2980.958   ], shape=(3,), dtype=float32)\n"
     ]
    }
   ],
   "source": [
    "# tf.math.exp expects floats so we need to explicitely give the type\n",
    "a = tf.constant([5, 3, 8], dtype=tf.float32)\n",
    "b = tf.math.exp(a)\n",
    "\n",
    "print(\"b:\", b)"
   ]
  },
  {
   "cell_type": "markdown",
   "id": "crucial-butler",
   "metadata": {},
   "source": [
    "### **Point-wise operations**\n",
    "\n",
    "In addition to naive TensorFlow tensors, tensorflow operations can take native Python types and NumPy `array` operands."
   ]
  },
  {
   "cell_type": "code",
   "execution_count": 13,
   "id": "focused-sword",
   "metadata": {},
   "outputs": [
    {
     "data": {
      "text/plain": [
       "<tf.Tensor: shape=(2,), dtype=int32, numpy=array([4, 6], dtype=int32)>"
      ]
     },
     "execution_count": 13,
     "metadata": {},
     "output_type": "execute_result"
    }
   ],
   "source": [
    "# Native Python lists\n",
    "a_py = [1, 2]\n",
    "b_py = [3, 4]\n",
    "\n",
    "tf.add(a_py, b_py)"
   ]
  },
  {
   "cell_type": "code",
   "execution_count": 14,
   "id": "gothic-mason",
   "metadata": {},
   "outputs": [
    {
     "data": {
      "text/plain": [
       "<tf.Tensor: shape=(2,), dtype=int64, numpy=array([4, 6])>"
      ]
     },
     "execution_count": 14,
     "metadata": {},
     "output_type": "execute_result"
    }
   ],
   "source": [
    "# NumPy arrays\n",
    "a_np = np.array([1, 2])\n",
    "b_np = np.array([3, 4])\n",
    "\n",
    "tf.add(a_np, b_np)"
   ]
  },
  {
   "cell_type": "code",
   "execution_count": 15,
   "id": "blond-disability",
   "metadata": {},
   "outputs": [
    {
     "data": {
      "text/plain": [
       "<tf.Tensor: shape=(2,), dtype=int32, numpy=array([4, 6], dtype=int32)>"
      ]
     },
     "execution_count": 15,
     "metadata": {},
     "output_type": "execute_result"
    }
   ],
   "source": [
    "# Native TensorFlow tensors\n",
    "a_tf = tf.constant([1, 2])\n",
    "b_tf = tf.constant([3, 4])\n",
    "\n",
    "tf.add(a_tf, b_tf)"
   ]
  },
  {
   "cell_type": "markdown",
   "id": "brazilian-lesson",
   "metadata": {},
   "source": [
    "You can convert a native TensorFlow tensor to a NumPy array using `.numpy()`."
   ]
  },
  {
   "cell_type": "code",
   "execution_count": 16,
   "id": "accomplished-skating",
   "metadata": {},
   "outputs": [
    {
     "data": {
      "text/plain": [
       "array([1, 2], dtype=int32)"
      ]
     },
     "execution_count": 16,
     "metadata": {},
     "output_type": "execute_result"
    }
   ],
   "source": [
    "a_tf.numpy()"
   ]
  },
  {
   "cell_type": "markdown",
   "id": "mineral-conference",
   "metadata": {},
   "source": [
    "## **Linear Regression**\n",
    "\n",
    "Now let's use low level TensorFlow operations to implement linear regression.\n",
    "\n",
    "### **Toy Dataset**\n",
    "\n",
    "We'll model the following function\n",
    "\n",
    "$$\n",
    "y = 2x + 10\n",
    "$$"
   ]
  },
  {
   "cell_type": "code",
   "execution_count": 17,
   "id": "completed-anime",
   "metadata": {},
   "outputs": [
    {
     "name": "stdout",
     "output_type": "stream",
     "text": [
      "X: [0. 1. 2. 3. 4. 5. 6. 7. 8. 9.]\n",
      "Y: [10. 12. 14. 16. 18. 20. 22. 24. 26. 28.]\n"
     ]
    }
   ],
   "source": [
    "X = tf.constant(range(10), dtype=tf.float32)\n",
    "Y = 2 * X + 10\n",
    "\n",
    "print(\"X: {}\".format(X))\n",
    "print(\"Y: {}\".format(Y))"
   ]
  },
  {
   "cell_type": "markdown",
   "id": "latest-wealth",
   "metadata": {},
   "source": [
    "Let's also create a test data set to evaluate our models:"
   ]
  },
  {
   "cell_type": "code",
   "execution_count": 19,
   "id": "going-commercial",
   "metadata": {},
   "outputs": [
    {
     "name": "stdout",
     "output_type": "stream",
     "text": [
      "X_test: [10. 11. 12. 13. 14. 15. 16. 17. 18. 19.]\n",
      "Y_test: [30. 32. 34. 36. 38. 40. 42. 44. 46. 48.]\n"
     ]
    }
   ],
   "source": [
    "X_test = tf.constant(range(10, 20), dtype=tf.float32)\n",
    "Y_test = 2 * X_test + 10\n",
    "\n",
    "print(\"X_test: {}\".format(X_test))\n",
    "print(\"Y_test: {}\".format(Y_test))"
   ]
  },
  {
   "cell_type": "markdown",
   "id": "built-translator",
   "metadata": {},
   "source": [
    "### **Loss function**\n",
    "\n",
    "The simplest model we can build is a model that for each value of `x` returns the sample mean of the training set:"
   ]
  },
  {
   "cell_type": "code",
   "execution_count": 50,
   "id": "fluid-reading",
   "metadata": {},
   "outputs": [],
   "source": [
    "def predict_mean(X):\n",
    "    y_hat = [Y.numpy().mean()] * len(X)\n",
    "    return y_hat\n",
    "\n",
    "Y_hat = predict_mean(X_test)    "
   ]
  },
  {
   "cell_type": "markdown",
   "id": "honest-calvin",
   "metadata": {},
   "source": [
    "Using *Mean Squared Error* as the error function, our loss is\n",
    "\n",
    "$$\n",
    "\\text{MSE} = \\frac{1}{m}\\sum_{i=1}^m(\\hat{Y}_i - Y_i)^2\n",
    "$$\n",
    "\n",
    "For our simple model the loss is then:"
   ]
  },
  {
   "cell_type": "code",
   "execution_count": 51,
   "id": "humanitarian-hollywood",
   "metadata": {},
   "outputs": [
    {
     "data": {
      "text/plain": [
       "33.0"
      ]
     },
     "execution_count": 51,
     "metadata": {},
     "output_type": "execute_result"
    }
   ],
   "source": [
    "loss = tf.reduce_mean((Y_hat - Y)**2)\n",
    "loss.numpy()"
   ]
  },
  {
   "cell_type": "markdown",
   "id": "muslim-singing",
   "metadata": {},
   "source": [
    "This very bad value for the MSE loss above will give us a baseline to compare how a more complex model is doing.\n",
    "\n",
    "Now, if $\\hat{Y}$ represents the vector containing our model predictions when we use a linear regression model, then we have:\n",
    "\n",
    "$$\n",
    "\\hat{Y} = w_0X + w_1\n",
    "$$\n",
    "\n",
    "we can write a loss function taking as arguments the coefficients (or parameters) of the model:"
   ]
  },
  {
   "cell_type": "code",
   "execution_count": 26,
   "id": "therapeutic-retirement",
   "metadata": {},
   "outputs": [],
   "source": [
    "def loss_mse(X, Y, w0, w1):\n",
    "    Y_hat = w0 * X + w1\n",
    "    return tf.reduce_mean((Y_hat - Y)**2)"
   ]
  },
  {
   "cell_type": "markdown",
   "id": "direct-resident",
   "metadata": {},
   "source": [
    "### **Gradient function**\n",
    "\n",
    "To use gradient descent we need to take the partial derivatives of the loss function with respect to each of the weights. We could manually compute the derivatives, but with TensorFlow automatic differentiation capabilities we don't have to!\n",
    "\n",
    "During gradient descent **we think of the loss as a function of the parameters $w_0$ and $w_1$**. Thus, we want to compute the derivatives with respect to these variables.\n",
    "\n",
    "For that we need to wrap our loss computation within the context of `tf.GradientTape` instance which will record gradient information."
   ]
  },
  {
   "cell_type": "markdown",
   "id": "opened-episode",
   "metadata": {},
   "source": [
    "```\n",
    "with tf.GradientTape() as tape:\n",
    "    loss = # loss computation\n",
    "```"
   ]
  },
  {
   "cell_type": "markdown",
   "id": "attended-enclosure",
   "metadata": {},
   "source": [
    "This will allow us to later compute the gradients of any tensor computed within the `tf.GradientTape` context with respect to instances of `tf.Variable`"
   ]
  },
  {
   "cell_type": "markdown",
   "id": "flush-mission",
   "metadata": {},
   "source": [
    "```\n",
    "gradients = tape.gradient(loss, [w0, w1])\n",
    "```"
   ]
  },
  {
   "cell_type": "markdown",
   "id": "outer-wright",
   "metadata": {},
   "source": [
    "Let's illustrate this procedure by computing the gradient of the loss function with respect to the model weights:"
   ]
  },
  {
   "cell_type": "code",
   "execution_count": 27,
   "id": "unlimited-taste",
   "metadata": {},
   "outputs": [],
   "source": [
    "def compute_gradients(X, Y, w0, w1):\n",
    "    with tf.GradientTape() as tape:\n",
    "        loss = loss_mse(X, Y, w0, w1)\n",
    "    return tape.gradient(loss, [w0, w1])"
   ]
  },
  {
   "cell_type": "code",
   "execution_count": 28,
   "id": "pointed-boring",
   "metadata": {},
   "outputs": [],
   "source": [
    "w0 = tf.Variable(0.0)\n",
    "w1 = tf.Variable(0.0)\n",
    "\n",
    "dw0, dw1 = compute_gradients(X, Y, w0, w1)"
   ]
  },
  {
   "cell_type": "code",
   "execution_count": 31,
   "id": "stone-quantum",
   "metadata": {},
   "outputs": [
    {
     "name": "stdout",
     "output_type": "stream",
     "text": [
      "dw0: -204.0\n",
      "dw1: -38.0\n"
     ]
    }
   ],
   "source": [
    "print(\"dw0:\", dw0.numpy())\n",
    "print(\"dw1:\", dw1.numpy())"
   ]
  },
  {
   "cell_type": "markdown",
   "id": "experienced-pencil",
   "metadata": {},
   "source": [
    "### **Training loop**\n",
    "\n",
    "Here we have a very simple training loop that converges. Note we are ignoring best practices like batching, creating a separate test set, and random weight initialisation for the sake of simplicity."
   ]
  },
  {
   "cell_type": "code",
   "execution_count": 42,
   "id": "modern-weight",
   "metadata": {},
   "outputs": [
    {
     "name": "stdout",
     "output_type": "stream",
     "text": [
      "STEP: 0 MSE: 35.70719528198242 w0: 4.079999923706055 w1: 0.7599999904632568\n",
      "\n",
      "STEP: 100 MSE: 2.6017532348632812 w0: 2.4780430793762207 w1: 7.002389907836914\n",
      "\n",
      "STEP: 200 MSE: 0.26831889152526855 w0: 2.153517961502075 w1: 9.037351608276367\n",
      "\n",
      "STEP: 300 MSE: 0.027671903371810913 w0: 2.0493006706237793 w1: 9.690855979919434\n",
      "\n",
      "STEP: 400 MSE: 0.0028539239428937435 w0: 2.0158326625823975 w1: 9.90071964263916\n",
      "\n",
      "STEP: 500 MSE: 0.0002943490108009428 w0: 2.005084753036499 w1: 9.96811580657959\n",
      "\n",
      "STEP: 600 MSE: 3.0356444767676294e-05 w0: 2.0016329288482666 w1: 9.989760398864746\n",
      "\n",
      "STEP: 700 MSE: 3.1322738323069643e-06 w0: 2.0005245208740234 w1: 9.996710777282715\n",
      "\n",
      "STEP: 800 MSE: 3.2238213520940917e-07 w0: 2.0001683235168457 w1: 9.998944282531738\n",
      "\n",
      "STEP: 900 MSE: 3.369950718479231e-08 w0: 2.000054359436035 w1: 9.999658584594727\n",
      "\n",
      "LAST STEP:999 FINAL MSE: 3.369950718479231e-08 Final w0: 2.0000178813934326 Final w1: 9.999887466430664\n"
     ]
    }
   ],
   "source": [
    "STEPS = 1000\n",
    "LEARNING_RATE = 0.02\n",
    "\n",
    "w0 = tf.Variable(0, dtype=tf.float32)\n",
    "w1 = tf.Variable(0, dtype=tf.float32)\n",
    "\n",
    "for step in range(STEPS):\n",
    "    # Calculate the gradients\n",
    "    dw0, dw1 = compute_gradients(X, Y, w0, w1)\n",
    "    \n",
    "    # Update weights\n",
    "    w0.assign_sub(dw0*LEARNING_RATE)\n",
    "    w1.assign_sub(dw1*LEARNING_RATE)\n",
    "    \n",
    "    # Periodically print MSE\n",
    "    if step % 100 == 0:\n",
    "        mse = loss_mse(X, Y, w0, w1)\n",
    "        print(\"STEP: {} MSE: {} w0: {} w1: {}\\n\".format(step, mse, w0.numpy(), w1.numpy()))\n",
    "    \n",
    "# Print final MSE and weights\n",
    "print(\"LAST STEP:{} FINAL MSE: {} Final w0: {} Final w1: {}\".format(step, mse, w0.numpy(), w1.numpy()))"
   ]
  },
  {
   "cell_type": "markdown",
   "id": "dependent-merchandise",
   "metadata": {},
   "source": [
    "Now let's compare the test loss for this linear regression model to the test loss from the baseline model that outputs always the mean of the test set."
   ]
  },
  {
   "cell_type": "code",
   "execution_count": 55,
   "id": "entertaining-environment",
   "metadata": {},
   "outputs": [
    {
     "data": {
      "text/plain": [
       "433.0"
      ]
     },
     "execution_count": 55,
     "metadata": {},
     "output_type": "execute_result"
    }
   ],
   "source": [
    "loss_pred_mean = tf.reduce_mean((predict_mean(X_test) - Y_test)**2)\n",
    "loss_pred_mean.numpy()"
   ]
  },
  {
   "cell_type": "code",
   "execution_count": 56,
   "id": "orange-bumper",
   "metadata": {},
   "outputs": [
    {
     "data": {
      "text/plain": [
       "2.4155089e-08"
      ]
     },
     "execution_count": 56,
     "metadata": {},
     "output_type": "execute_result"
    }
   ],
   "source": [
    "loss = loss_mse(X_test, Y_test, w0, w1)\n",
    "loss.numpy()"
   ]
  },
  {
   "cell_type": "markdown",
   "id": "backed-sunrise",
   "metadata": {},
   "source": [
    "This is indeed much better!"
   ]
  },
  {
   "cell_type": "markdown",
   "id": "competitive-granny",
   "metadata": {},
   "source": [
    "## **Non-linear regression**\n",
    "\n",
    "Try modelling a non-linear function such as $y=xe^{-x^2}$"
   ]
  },
  {
   "cell_type": "markdown",
   "id": "pediatric-electronics",
   "metadata": {},
   "source": [
    "### **Toy data set**"
   ]
  },
  {
   "cell_type": "code",
   "execution_count": 57,
   "id": "effective-listening",
   "metadata": {},
   "outputs": [],
   "source": [
    "X = tf.constant(np.linspace(0, 2, 1000), dtype=tf.float32)\n",
    "Y = X * tf.exp(-X**2)"
   ]
  },
  {
   "cell_type": "code",
   "execution_count": 61,
   "id": "eastern-return",
   "metadata": {},
   "outputs": [
    {
     "data": {
      "image/png": "[encoded data removed]",
      "text/plain": [
       "<Figure size 432x288 with 1 Axes>"
      ]
     },
     "metadata": {
      "needs_background": "light"
     },
     "output_type": "display_data"
    }
   ],
   "source": [
    "%matplotlib inline\n",
    "\n",
    "plt.plot(X, Y);"
   ]
  },
  {
   "cell_type": "code",
   "execution_count": 68,
   "id": "decimal-cornell",
   "metadata": {},
   "outputs": [],
   "source": [
    "def make_features(X):\n",
    "    f1 = tf.ones_like(X) # Bias term\n",
    "    f2 = X\n",
    "    f3 = tf.square(X)\n",
    "    f4 = tf.sqrt(X)\n",
    "    f5 = tf.exp(X)\n",
    "    return tf.stack([f1, f2, f3, f4, f5], axis=1)"
   ]
  },
  {
   "cell_type": "code",
   "execution_count": 63,
   "id": "aggregate-garage",
   "metadata": {},
   "outputs": [],
   "source": [
    "def predict(X, W):\n",
    "    return tf.squeeze(X @ W, -1)"
   ]
  },
  {
   "cell_type": "markdown",
   "id": "opening-portuguese",
   "metadata": {},
   "source": [
    "### **Loss function**"
   ]
  },
  {
   "cell_type": "code",
   "execution_count": 65,
   "id": "electoral-jaguar",
   "metadata": {},
   "outputs": [],
   "source": [
    "def loss_mse(X, Y, W):\n",
    "    return tf.reduce_mean((predict(X, W) - Y)**2)"
   ]
  },
  {
   "cell_type": "markdown",
   "id": "wound-pitch",
   "metadata": {},
   "source": [
    "### **Gradient function**"
   ]
  },
  {
   "cell_type": "code",
   "execution_count": 66,
   "id": "stopped-contents",
   "metadata": {},
   "outputs": [],
   "source": [
    "def compute_gradients(X, Y, W):\n",
    "    with tf.GradientTape() as tape:\n",
    "        loss = loss_mse(Xf, Y, W)\n",
    "    return tape.gradient(loss, W)"
   ]
  },
  {
   "cell_type": "markdown",
   "id": "alleged-bronze",
   "metadata": {},
   "source": [
    "### **Training loop**"
   ]
  },
  {
   "cell_type": "code",
   "execution_count": 79,
   "id": "material-butterfly",
   "metadata": {},
   "outputs": [
    {
     "name": "stdout",
     "output_type": "stream",
     "text": [
      "STEP: 2000 MSE: 0.0023767943494021893\n"
     ]
    },
    {
     "data": {
      "image/png": "[encoded data removed]",
      "text/plain": [
       "<Figure size 432x288 with 1 Axes>"
      ]
     },
     "metadata": {
      "needs_background": "light"
     },
     "output_type": "display_data"
    },
    {
     "data": {
      "image/png": "[encoded data removed]",
      "text/plain": [
       "<Figure size 432x288 with 1 Axes>"
      ]
     },
     "metadata": {
      "needs_background": "light"
     },
     "output_type": "display_data"
    }
   ],
   "source": [
    "STEPS = 2000\n",
    "LEARNING_RATE = 0.02\n",
    "\n",
    "Xf = make_features(X)\n",
    "n_weights = Xf.shape[1]\n",
    "\n",
    "W = tf.Variable(np.zeros((n_weights, 1)), dtype=tf.float32)\n",
    "\n",
    "# For plotting\n",
    "steps, losses = [], []\n",
    "plt.figure()\n",
    "\n",
    "for step in range(STEPS):\n",
    "    dW = compute_gradients(X, Y, W)\n",
    "    W.assign_sub(dW * LEARNING_RATE)\n",
    "    \n",
    "    if step % 100 == 0:\n",
    "        loss = loss_mse(Xf, Y, W)\n",
    "        steps.append(step)\n",
    "        losses.append(loss)\n",
    "        plt.clf()\n",
    "        plt.plot(steps, losses);\n",
    "\n",
    "print(\"STEP: {} MSE: {}\".format(STEPS, loss_mse(Xf, Y, W)))\n",
    "\n",
    "plt.figure()\n",
    "plt.plot(X, Y, label=\"actual\")\n",
    "plt.plot(X, predict(Xf, W), label=\"predicted\")\n",
    "plt.legend();"
   ]
  },
  {
   "cell_type": "code",
   "execution_count": null,
   "id": "russian-growth",
   "metadata": {},
   "outputs": [],
   "source": []
  }
 ],
 "metadata": {
  "kernelspec": {
   "display_name": "Python 3",
   "language": "python",
   "name": "python3"
  },
  "language_info": {
   "codemirror_mode": {
    "name": "ipython",
    "version": 3
   },
   "file_extension": ".py",
   "mimetype": "text/x-python",
   "name": "python",
   "nbconvert_exporter": "python",
   "pygments_lexer": "ipython3",
   "version": "3.8.5"
  }
 },
 "nbformat": 4,
 "nbformat_minor": 5
}
