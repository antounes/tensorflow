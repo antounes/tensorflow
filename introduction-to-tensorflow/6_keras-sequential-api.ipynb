{
 "cells": [
  {
   "cell_type": "markdown",
<<<<<<< HEAD
   "id": "healthy-mustang",
=======
   "id": "coupled-gilbert",
>>>>>>> 4484ec93da72965491ab165b553b7b01b4a9b6a1
   "metadata": {},
   "source": [
    "# **Introducing the Keras Sequential API**\n",
    "\n",
    "**Learning objectives**\n",
    "\n",
    "1. Build a DNN model using the Keras Sequential API\n",
    "2. Learn how to use feature columns in a Keras model\n",
    "3. Learn how to train a model with Keras\n",
    "4. Learn how to save/load and deploy a Keras model on GCP\n",
    "5. Learn how to deploy and make predictions with a Keras model\n",
    "\n",
    "## **Introduction**\n",
    "\n",
    "The Keras Sequential API allows you to create TensorFlow models **layer-by-layer**. This is useful for building most kind of meachine learning models but **it does not allow you to create model that share layers, re-use layers or have multiple inputs or outputs**.\n",
    "\n",
    "In this lab, we'll see how to build a simple deep neural network (DNN) model using Keras sequential API and feature columns. Once we have trained our model, we will deploy it using AI Platform and see how to call our model for online prediction."
   ]
  },
  {
   "cell_type": "code",
   "execution_count": 1,
<<<<<<< HEAD
   "id": "intended-duration",
=======
   "id": "iraqi-lodge",
>>>>>>> 4484ec93da72965491ab165b553b7b01b4a9b6a1
   "metadata": {},
   "outputs": [
    {
     "name": "stdout",
     "output_type": "stream",
     "text": [
      "2.4.1\n"
     ]
    }
   ],
   "source": [
    "import datetime\n",
    "import os\n",
    "import shutil\n",
    "\n",
    "import numpy as np\n",
    "import pandas as pd\n",
    "import tensorflow as tf\n",
    "\n",
    "from matplotlib import pyplot as plt\n",
    "%matplotlib inline\n",
    "from tensorflow import keras\n",
    "\n",
    "from tensorflow.keras.models import Sequential\n",
    "from tensorflow.keras.layers import Dense, DenseFeatures\n",
    "from tensorflow.keras.callbacks import TensorBoard\n",
    "\n",
    "print(tf.__version__)"
   ]
  },
  {
   "cell_type": "markdown",
<<<<<<< HEAD
   "id": "formed-progressive",
=======
   "id": "civic-economics",
>>>>>>> 4484ec93da72965491ab165b553b7b01b4a9b6a1
   "metadata": {},
   "source": [
    "## **Load raw data**\n",
    "\n",
    "We will use the taxi data set"
   ]
  },
  {
   "cell_type": "code",
   "execution_count": 2,
<<<<<<< HEAD
   "id": "directed-probability",
=======
   "id": "amino-philosophy",
>>>>>>> 4484ec93da72965491ab165b553b7b01b4a9b6a1
   "metadata": {},
   "outputs": [
    {
     "name": "stdout",
     "output_type": "stream",
     "text": [
<<<<<<< HEAD
      "total 1836\n",
      "-rw-rw-r-- 1 antounes antounes   33558 mars  14 21:22 images.tfrecords\n",
      "-rw-r--r-- 1 antounes antounes  123589 mars  16 18:20 taxi-test.csv\n",
      "-rw-r--r-- 1 antounes antounes  579054 mars  16 18:21 taxi-train.csv\n",
      "-rw-rw-r-- 1 antounes antounes  123113 mars  16 18:21 taxi-valid.csv\n",
      "-rw-rw-r-- 1 antounes antounes 1003818 mars  14 21:01 test.tfrecord\n"
=======
      "total 122288\n",
      "-rw-rw-r-- 1 antounes antounes    33558 mars  14 21:22 images.tfrecords\n",
      "-rw-r--r-- 1 antounes antounes 44706590 mars  16 15:54 taxi-test.csv\n",
      "-rw-r--r-- 1 antounes antounes 79468840 mars  16 15:53 taxi-train.csv\n",
      "-rw-rw-r-- 1 antounes antounes  1003818 mars  14 21:01 test.tfrecord\n"
>>>>>>> 4484ec93da72965491ab165b553b7b01b4a9b6a1
     ]
    }
   ],
   "source": [
    "!ls -l data/"
   ]
  },
  {
   "cell_type": "code",
   "execution_count": 3,
<<<<<<< HEAD
   "id": "first-fossil",
=======
   "id": "judicial-planet",
>>>>>>> 4484ec93da72965491ab165b553b7b01b4a9b6a1
   "metadata": {},
   "outputs": [
    {
     "name": "stdout",
     "output_type": "stream",
     "text": [
      "==> data/taxi-test.csv <==\n",
<<<<<<< HEAD
      "6.0,2013-03-27 03:35:00 UTC,-73.977672,40.784052,-73.965332,40.801025,2,0\n",
      "19.3,2012-05-10 18:43:16 UTC,-73.954366,40.778924,-74.004094,40.723104,1,1\n",
      "7.5,2014-05-20 23:09:00 UTC,-73.999165,40.738377,-74.003473,40.723862,2,2\n",
      "12.5,2015-02-23 19:51:31 UTC,-73.9652099609375,40.76948165893555,-73.98949432373047,40.739742279052734,1,3\n",
      "10.9,2011-03-19 03:32:00 UTC,-73.99259,40.742957,-73.989908,40.711053,1,4\n",
      "7.0,2012-09-18 12:51:11 UTC,-73.971195,40.751566,-73.975922,40.756361,1,5\n",
      "19.0,2014-05-20 23:09:00 UTC,-73.998392,40.74517,-73.939845,40.74908,1,6\n",
      "8.9,2012-07-18 08:46:08 UTC,-73.997638,40.756541,-73.973303,40.762019,1,7\n",
      "4.5,2010-07-11 20:39:08 UTC,-73.976738,40.751321,-73.986671,40.74883,1,8\n",
      "7.0,2013-12-12 02:16:40 UTC,-73.985024,40.767537,-73.981273,40.779302,1,9\n",
      "\n",
      "==> data/taxi-train.csv <==\n",
      "11.3,2011-01-28 20:42:59 UTC,-73.999022,40.739146,-73.990369,40.717866,1,0\n",
      "7.7,2011-06-27 04:28:06 UTC,-73.987443,40.729221,-73.979013,40.758641,1,1\n",
      "10.5,2011-04-03 00:54:53 UTC,-73.982539,40.735725,-73.954797,40.778388,1,2\n",
      "16.2,2009-04-10 04:11:56 UTC,-74.001945,40.740505,-73.91385,40.758559,1,3\n",
      "33.5,2014-02-24 18:22:00 UTC,-73.993372,40.753382,-73.8609,40.732897,2,4\n",
      "6.9,2011-12-10 00:25:23 UTC,-73.996237,40.721848,-73.989416,40.718052,1,5\n",
      "6.1,2012-09-01 14:30:19 UTC,-73.977048,40.758461,-73.984899,40.744693,2,6\n",
      "9.5,2012-11-08 13:28:07 UTC,-73.969402,40.757545,-73.950049,40.776079,1,7\n",
      "9.0,2014-07-15 11:37:25 UTC,-73.979318,40.760949,-73.95767,40.773724,1,8\n",
      "3.3,2009-11-09 18:06:58 UTC,-73.955675,40.779154,-73.961172,40.772368,1,9\n",
      "\n",
      "==> data/taxi-valid.csv <==\n",
      "5.3,2012-01-03 19:21:35 UTC,-73.962627,40.763214,-73.973485,40.753353,1,0\n",
      "25.3,2010-09-27 07:30:15 UTC,-73.965799,40.794243,-73.927134,40.852261,3,1\n",
      "27.5,2015-05-19 00:40:02 UTC,-73.86344146728516,40.76899719238281,-73.96058654785156,40.76129913330078,1,2\n",
      "5.7,2010-04-29 12:28:00 UTC,-73.989255,40.738912,-73.97558,40.749172,1,3\n",
      "11.5,2013-06-23 06:08:09 UTC,-73.99731,40.763735,-73.955657,40.768141,1,4\n",
      "18.0,2014-10-14 18:52:03 UTC,-73.997995,40.761638,-74.008985,40.712442,1,5\n",
      "4.9,2010-04-29 12:28:00 UTC,-73.977315,40.766182,-73.970845,40.761462,5,6\n",
      "32.33,2014-02-24 18:22:00 UTC,-73.985358,40.761352,-73.92427,40.699145,1,7\n",
      "17.0,2015-03-26 02:48:58 UTC,-73.93981170654297,40.846473693847656,-73.97361755371094,40.786983489990234,1,8\n",
      "12.5,2013-04-09 09:39:13 UTC,-73.977323,40.753934,-74.00719,40.741472,1,9\n"
=======
      "passenger_count,pickup_longitude,pickup_latitude,dropoff_longitude,dropoff_latitude\n",
      "1,-73.9881286621094,40.7320289611816,-73.9901733398438,40.7566795349121\n",
      "1,-73.9642028808594,40.6799926757813,-73.9598083496094,40.655403137207\n",
      "1,-73.9974365234375,40.7375831604004,-73.9861602783203,40.7295227050781\n",
      "1,-73.9560699462891,40.771900177002,-73.9864273071289,40.73046875\n",
      "1,-73.97021484375,40.761474609375,-73.9615097045899,40.7558898925781\n",
      "1,-73.9913024902344,40.7497978210449,-73.9805145263672,40.786548614502\n",
      "1,-73.9783096313477,40.7415504455566,-73.9520721435547,40.7170028686523\n",
      "2,-74.0127105712891,40.7015266418457,-73.9864807128906,40.7195091247559\n",
      "2,-73.9923324584961,40.7305107116699,-73.875617980957,40.8752136230469\n",
      "\n",
      "==> data/taxi-train.csv <==\n",
      "passenger_count,pickup_longitude,pickup_latitude,dropoff_longitude,dropoff_latitude,trip_duration\n",
      "1,-73.9821548461914,40.767936706543,-73.9646301269531,40.7656021118164,455\n",
      "1,-73.9804153442383,40.7385635375977,-73.9994812011719,40.7311515808105,663\n",
      "1,-73.9790267944336,40.7639389038086,-74.0053329467773,40.7100868225098,2124\n",
      "1,-74.0100402832031,40.719970703125,-74.0122680664063,40.7067184448242,429\n",
      "1,-73.9730529785156,40.7932090759277,-73.9729232788086,40.7825202941895,435\n",
      "6,-73.9828567504883,40.7421951293945,-73.9920806884766,40.7491836547852,443\n",
      "4,-73.9690170288086,40.7578392028809,-73.957405090332,40.7658958435059,341\n",
      "1,-73.9692764282227,40.797779083252,-73.9224700927734,40.7605590820313,1551\n",
      "1,-73.9994812011719,40.7383995056152,-73.9857864379883,40.7328147888184,255\n"
>>>>>>> 4484ec93da72965491ab165b553b7b01b4a9b6a1
     ]
    }
   ],
   "source": [
    "!head data/taxi*"
   ]
  },
  {
   "cell_type": "markdown",
<<<<<<< HEAD
   "id": "received-chase",
=======
   "id": "unknown-revelation",
>>>>>>> 4484ec93da72965491ab165b553b7b01b4a9b6a1
   "metadata": {},
   "source": [
    "## **Use `tf.data` to read the CSV files**"
   ]
  },
  {
   "cell_type": "code",
<<<<<<< HEAD
   "execution_count": 4,
   "id": "multiple-watson",
=======
   "execution_count": 10,
   "id": "scientific-vessel",
>>>>>>> 4484ec93da72965491ab165b553b7b01b4a9b6a1
   "metadata": {},
   "outputs": [],
   "source": [
    "# Defining the feature names into a list `CSV_COLUMNS`\n",
    "\n",
    "CSV_COLUMNS = [\n",
<<<<<<< HEAD
    "    'fare_amount',\n",
    "    'pickup_datetime',\n",
    "    'pickup_longitude',\n",
    "    'pickup_latitude',\n",
    "    'dropoff_longitude',\n",
    "    'dropoff_latitude',\n",
    "    'passenger_count',\n",
    "    'key'\n",
=======
    "    \"trip_duration\",\n",
    "    \"pickup_longitude\",\n",
    "    \"pickup_latitude\",\n",
    "    \"dropoff_longitude\",\n",
    "    \"dropoff_latitude\",\n",
    "    \"passenger_count\"\n",
>>>>>>> 4484ec93da72965491ab165b553b7b01b4a9b6a1
    "]\n",
    "\n",
    "LABEL_COLUMN = 'fare_amount'\n",
    "# Defining the default values into a list `DEFAULTS`\n",
<<<<<<< HEAD
    "DEFAULTS = [[0.0], ['na'], [0.0], [0.0], [0.0], [0.0], [0.0], ['na']]\n",
    "UNWANTED_COLS = ['pickup_datetime', 'key']\n",
=======
    "DEFAULTS = [[0.0], [0.0], [0.0], [0.0], [0.0], [0.0]]\n",
>>>>>>> 4484ec93da72965491ab165b553b7b01b4a9b6a1
    "\n",
    "def features_and_labels(row_data):\n",
    "# The .pop() method will return item and drop from frame. \n",
    "    label = row_data.pop(LABEL_COLUMN)\n",
    "    features = row_data\n",
    "\n",
    "    return features, label\n",
    "\n",
    "def create_dataset(pattern, batch_size=1, mode=\"eval\"):\n",
    "    # The `tf.data.experimental.make_csv_dataset()` method reads CSV files into a data set\n",
    "    dataset = tf.data.experimental.make_csv_dataset(\n",
    "        pattern, batch_size, CSV_COLUMNS, DEFAULTS\n",
    "    )\n",
    "    \n",
    "    # The `.map()` function executes a specified function for each item in the iterable\n",
    "    # The item is sent to the function as a parameter\n",
    "    dataset = dataset.map(features_and_labels)\n",
    "    \n",
    "    if mode == \"train\":\n",
    "    # The `.shuffle()` method takes a sequence (list, string or tuple) and reorganise the order of the items\n",
    "        dataset = dataset.shuffle(buffer_size=1000).repeat()\n",
    "        \n",
    "    # Take advantage of multi-threading; 1=AUTOTUNE\n",
    "    dataset = dataset.prefetch(1)\n",
    "    return dataset"
   ]
  },
  {
   "cell_type": "markdown",
<<<<<<< HEAD
   "id": "sixth-wonder",
=======
   "id": "dramatic-lawsuit",
>>>>>>> 4484ec93da72965491ab165b553b7b01b4a9b6a1
   "metadata": {},
   "source": [
    "## **Build a simple Keras DNN model**\n",
    "\n",
    "We will use feature columns to connect our raw data to our Keras DNN model. **Feature columns make it easy to perform common types of feature engineering on your raw data**. For example, you can one-hot-encode categorical data, create feature crosses, embeddings, and more.\n",
    "\n",
    "In our case we won't do any feature engineering. However, we still need to create a list of feature columns to specify the numeric values which will be passed on to our model. To do this, we use `tf.feature_column.numeric_column()`.\n",
    "\n",
    "We use a Python dictionary comprehension to create the feature columns for our model, which is just an elegant alternative to a `for` loop."
   ]
  },
  {
   "cell_type": "code",
<<<<<<< HEAD
   "execution_count": 5,
   "id": "inappropriate-threshold",
=======
   "execution_count": 11,
   "id": "representative-shaft",
>>>>>>> 4484ec93da72965491ab165b553b7b01b4a9b6a1
   "metadata": {},
   "outputs": [],
   "source": [
    "# Defining the feature names into a list `INPUT_COLS`\n",
    "INPUT_COLS = [\n",
    "    'pickup_longitude',\n",
    "    'pickup_latitude',\n",
    "    'dropoff_longitude',\n",
    "    'dropoff_latitude',\n",
    "    'passenger_count',\n",
    "]\n",
    "\n",
    "# Create input layer of feature columns\n",
    "feature_columns = {\n",
    "    colname: tf.feature_column.numeric_column(colname) for colname in INPUT_COLS\n",
    "}"
   ]
  },
  {
   "cell_type": "markdown",
<<<<<<< HEAD
   "id": "cardiac-cambridge",
=======
   "id": "dried-pharmacy",
>>>>>>> 4484ec93da72965491ab165b553b7b01b4a9b6a1
   "metadata": {},
   "source": [
    "Let's create the DNN model. The Sequential model is a **linear stack of layers** and when building a model using the Sequential API, you configure each layer of the model in turn. Once all the layers have been added, you compile the model."
   ]
  },
  {
   "cell_type": "code",
<<<<<<< HEAD
   "execution_count": 6,
   "id": "alike-century",
=======
   "execution_count": 12,
   "id": "armed-breath",
>>>>>>> 4484ec93da72965491ab165b553b7b01b4a9b6a1
   "metadata": {},
   "outputs": [],
   "source": [
    "# Build a Keras DNN model using Sequential API\n",
    "model = Sequential([\n",
    "    DenseFeatures(feature_columns=feature_columns.values()),\n",
    "    Dense(units=32, activation=\"relu\", name=\"h1\"),\n",
    "    Dense(units=8, activation=\"relu\", name=\"h2\"),\n",
    "    Dense(units=1, activation=\"linear\", name=\"output\")\n",
    "])"
   ]
  },
  {
   "cell_type": "markdown",
<<<<<<< HEAD
   "id": "destroyed-badge",
=======
   "id": "impaired-request",
>>>>>>> 4484ec93da72965491ab165b553b7b01b4a9b6a1
   "metadata": {},
   "source": [
    "To prepare the model for training, you must configure the learning process. This is done using the `.compile()` method. The `.compile()` method takes 3 arguments:\n",
    "- An **optimiser**. This could be the string identifier of an existing optimiser (such as `rmsprop` or `adagrad`), or an instance of the `Optimiser` class\n",
    "- A **loss function**. This is the objective that the model is trying to minimise during training. It can be the string identifier of an existing loss function from the `Loss` class (such as `categorical_crossentropy` or `mse`), or it can be a custom objective function\n",
    "- A **list of metrics**. For any machine learning problem, you will want a set of metrics to evaluate your model. It can be the string identifier of an existing metric or a custom metric function\n",
    "\n",
    "We will add a custom metric called `rmse` to our list of metrics which will return the root mean squared error."
   ]
  },
  {
   "cell_type": "code",
<<<<<<< HEAD
   "execution_count": 7,
   "id": "bearing-casino",
=======
   "execution_count": 13,
   "id": "quick-cement",
>>>>>>> 4484ec93da72965491ab165b553b7b01b4a9b6a1
   "metadata": {},
   "outputs": [],
   "source": [
    "# Create a custom evaluation metric\n",
    "\n",
    "def rmse(y_true, y_hat):\n",
    "    return tf.sqrt(tf.reduce_mean(y_hat - y_true))\n",
    "\n",
    "# Compile the Keras model\n",
    "model.compile(optimizer=\"adam\", loss=\"mse\", metrics=[rmse, \"mse\"])"
   ]
  },
  {
   "cell_type": "markdown",
<<<<<<< HEAD
   "id": "pretty-former",
=======
   "id": "behavioral-printer",
>>>>>>> 4484ec93da72965491ab165b553b7b01b4a9b6a1
   "metadata": {},
   "source": [
    "## **Train the model**\n",
    "\n",
    "To train the model, Keras provides three functions that can be used:\n",
    "1. `.fit()` for training a model for a fixed number of epochs (iterations on a data set)\n",
    "2. `.fit_generator()` for training a model on data yielded batch-by-batch by a generator\n",
    "3. `.train_on_batch()` runs a single gradient update on a single batch of data\n",
    "\n",
    "The `.fit()` function works well for small data sets which can fit entirely in memory. However, for large data sets (or if you need to manipulate the training data on the fly via data augmentation, etc.), you will need to use `.fit_generator()` instead. The `.train_on_batch()` method is for more fine-grained control over training and accepts only a single batch of data.\n",
    "\n",
    "Our taxi data set is small enough to fit in memory, so we could use `.fit()` to train the model. Our `create_dataset()` function above generates batches of training examples, so we could also use `.fit_generator()`. In fact, when calling `.fit()` the method inspects the data, and if it's a generator (as our data set is), it will invoke automatically `.fit_generator()` for training.\n",
    "\n",
    "We start by setting up some parameters for our training job and create the data generators for the training and validation data."
   ]
  },
  {
   "cell_type": "code",
<<<<<<< HEAD
   "execution_count": 8,
   "id": "balanced-session",
=======
   "execution_count": 14,
   "id": "detailed-vertex",
>>>>>>> 4484ec93da72965491ab165b553b7b01b4a9b6a1
   "metadata": {},
   "outputs": [],
   "source": [
    "TRAIN_BATCH_SIZE = 1000\n",
    "NUM_TRAIN_EXAMPLES = 10000 * 5 # Training data set will repeat, wrap around\n",
    "NUM_EVALS = 50 # How many times to evaluate\n",
    "NUM_EVAL_EXAMPLES = 10000 # Enough to get a reasonable sample\n",
    "\n",
    "trainds = create_dataset(\n",
    "    pattern=\"data/taxi-train.csv\",\n",
    "    batch_size=TRAIN_BATCH_SIZE,\n",
    "    mode=\"train\"\n",
    ")\n",
    "\n",
    "evalds = create_dataset(\n",
    "    pattern=\"data/taxi-test.csv\",\n",
    "    batch_size=1000,\n",
    "    mode=\"eval\"\n",
    ").take(NUM_EVAL_EXAMPLES//1000)"
   ]
  },
  {
   "cell_type": "markdown",
<<<<<<< HEAD
   "id": "expanded-holder",
=======
   "id": "egyptian-provincial",
>>>>>>> 4484ec93da72965491ab165b553b7b01b4a9b6a1
   "metadata": {},
   "source": [
    "There are various arguments you can set when calling the `.fit()` method. Here `x` specifies the input data which in our case is a `tf.data.Dataset` returning a tuple `(inputs, targets)`. The `steps_per_epoch` parameter is used to mark the end of training for a single epoch. Here we are training for `NUM_EVALS` epochs. Lastly, for the `callback` argument we specify a Tensorboard callback so we can inspect Tensorboard after training."
   ]
  },
  {
   "cell_type": "code",
<<<<<<< HEAD
   "execution_count": 9,
   "id": "ranging-organizer",
=======
   "execution_count": 15,
   "id": "swedish-biotechnology",
>>>>>>> 4484ec93da72965491ab165b553b7b01b4a9b6a1
   "metadata": {},
   "outputs": [
    {
     "name": "stdout",
     "output_type": "stream",
     "text": [
<<<<<<< HEAD
      "CPU times: user 2 µs, sys: 1 µs, total: 3 µs\n",
      "Wall time: 5.01 µs\n",
      "Epoch 1/50\n",
      "WARNING:tensorflow:Layers in a Sequential model should only have a single input tensor, but we receive a <class 'collections.OrderedDict'> input: OrderedDict([('pickup_datetime', <tf.Tensor 'ExpandDims_4:0' shape=(1000, 1) dtype=string>), ('pickup_longitude', <tf.Tensor 'ExpandDims_6:0' shape=(1000, 1) dtype=float32>), ('pickup_latitude', <tf.Tensor 'ExpandDims_5:0' shape=(1000, 1) dtype=float32>), ('dropoff_longitude', <tf.Tensor 'ExpandDims_1:0' shape=(1000, 1) dtype=float32>), ('dropoff_latitude', <tf.Tensor 'ExpandDims:0' shape=(1000, 1) dtype=float32>), ('passenger_count', <tf.Tensor 'ExpandDims_3:0' shape=(1000, 1) dtype=float32>), ('key', <tf.Tensor 'ExpandDims_2:0' shape=(1000, 1) dtype=string>)])\n",
      "Consider rewriting this model with the Functional API.\n",
      "WARNING:tensorflow:Layers in a Sequential model should only have a single input tensor, but we receive a <class 'collections.OrderedDict'> input: OrderedDict([('pickup_datetime', <tf.Tensor 'ExpandDims_4:0' shape=(1000, 1) dtype=string>), ('pickup_longitude', <tf.Tensor 'ExpandDims_6:0' shape=(1000, 1) dtype=float32>), ('pickup_latitude', <tf.Tensor 'ExpandDims_5:0' shape=(1000, 1) dtype=float32>), ('dropoff_longitude', <tf.Tensor 'ExpandDims_1:0' shape=(1000, 1) dtype=float32>), ('dropoff_latitude', <tf.Tensor 'ExpandDims:0' shape=(1000, 1) dtype=float32>), ('passenger_count', <tf.Tensor 'ExpandDims_3:0' shape=(1000, 1) dtype=float32>), ('key', <tf.Tensor 'ExpandDims_2:0' shape=(1000, 1) dtype=string>)])\n",
      "Consider rewriting this model with the Functional API.\n",
      "1/1 [==============================] - ETA: 0s - loss: 182.9701 - rmse: nan - mse: 182.9701WARNING:tensorflow:Layers in a Sequential model should only have a single input tensor, but we receive a <class 'collections.OrderedDict'> input: OrderedDict([('pickup_datetime', <tf.Tensor 'ExpandDims_4:0' shape=(1000, 1) dtype=string>), ('pickup_longitude', <tf.Tensor 'ExpandDims_6:0' shape=(1000, 1) dtype=float32>), ('pickup_latitude', <tf.Tensor 'ExpandDims_5:0' shape=(1000, 1) dtype=float32>), ('dropoff_longitude', <tf.Tensor 'ExpandDims_1:0' shape=(1000, 1) dtype=float32>), ('dropoff_latitude', <tf.Tensor 'ExpandDims:0' shape=(1000, 1) dtype=float32>), ('passenger_count', <tf.Tensor 'ExpandDims_3:0' shape=(1000, 1) dtype=float32>), ('key', <tf.Tensor 'ExpandDims_2:0' shape=(1000, 1) dtype=string>)])\n",
      "Consider rewriting this model with the Functional API.\n",
      "1/1 [==============================] - 18s 18s/step - loss: 182.9701 - rmse: nan - mse: 182.9701 - val_loss: 182.4653 - val_rmse: nan - val_mse: 182.4653\n",
      "Epoch 2/50\n",
      "1/1 [==============================] - 0s 461ms/step - loss: 197.1845 - rmse: nan - mse: 197.1845 - val_loss: 163.1653 - val_rmse: nan - val_mse: 163.1653\n",
      "Epoch 3/50\n",
      "1/1 [==============================] - 0s 344ms/step - loss: 172.3542 - rmse: nan - mse: 172.3542 - val_loss: 150.7789 - val_rmse: nan - val_mse: 150.7789\n",
      "Epoch 4/50\n",
      "1/1 [==============================] - 0s 319ms/step - loss: 169.9698 - rmse: nan - mse: 169.9698 - val_loss: 134.7020 - val_rmse: nan - val_mse: 134.7020\n",
      "Epoch 5/50\n",
      "1/1 [==============================] - 0s 308ms/step - loss: 145.4055 - rmse: nan - mse: 145.4055 - val_loss: 122.3492 - val_rmse: nan - val_mse: 122.3492\n",
      "Epoch 6/50\n",
      "1/1 [==============================] - 0s 315ms/step - loss: 130.7435 - rmse: nan - mse: 130.7435 - val_loss: 113.9153 - val_rmse: nan - val_mse: 113.9153\n",
      "Epoch 7/50\n",
      "1/1 [==============================] - 0s 320ms/step - loss: 109.0509 - rmse: nan - mse: 109.0509 - val_loss: 107.3591 - val_rmse: nan - val_mse: 107.3591\n",
      "Epoch 8/50\n",
      "1/1 [==============================] - 0s 332ms/step - loss: 99.9385 - rmse: nan - mse: 99.9385 - val_loss: 100.3081 - val_rmse: nan - val_mse: 100.3081\n",
      "Epoch 9/50\n",
      "1/1 [==============================] - 0s 319ms/step - loss: 91.9430 - rmse: nan - mse: 91.9430 - val_loss: 96.8311 - val_rmse: nan - val_mse: 96.8311\n",
      "Epoch 10/50\n",
      "1/1 [==============================] - 0s 352ms/step - loss: 86.1044 - rmse: nan - mse: 86.1044 - val_loss: 94.5961 - val_rmse: nan - val_mse: 94.5961\n",
      "Epoch 11/50\n",
      "1/1 [==============================] - 0s 325ms/step - loss: 79.6977 - rmse: nan - mse: 79.6977 - val_loss: 93.8263 - val_rmse: nan - val_mse: 93.8263\n",
      "Epoch 12/50\n",
      "1/1 [==============================] - 0s 308ms/step - loss: 102.2600 - rmse: nan - mse: 102.2600 - val_loss: 96.9020 - val_rmse: nan - val_mse: 96.9020\n",
      "Epoch 13/50\n",
      "1/1 [==============================] - 0s 296ms/step - loss: 110.9088 - rmse: 0.7937 - mse: 110.9088 - val_loss: 96.5779 - val_rmse: 1.0833 - val_mse: 96.5779\n",
      "Epoch 14/50\n",
      "1/1 [==============================] - 0s 305ms/step - loss: 116.3683 - rmse: 0.8958 - mse: 116.3683 - val_loss: 97.0653 - val_rmse: 1.3090 - val_mse: 97.0653\n",
      "Epoch 15/50\n",
      "1/1 [==============================] - 0s 495ms/step - loss: 86.3921 - rmse: 1.1702 - mse: 86.3921 - val_loss: 99.0416 - val_rmse: 1.4604 - val_mse: 99.0416\n",
      "Epoch 16/50\n",
      "1/1 [==============================] - 0s 408ms/step - loss: 148.6353 - rmse: 1.1237 - mse: 148.6353 - val_loss: 100.0074 - val_rmse: 1.5862 - val_mse: 100.0074\n",
      "Epoch 17/50\n",
      "1/1 [==============================] - 0s 317ms/step - loss: 95.6033 - rmse: 1.5351 - mse: 95.6033 - val_loss: 103.6251 - val_rmse: 1.6464 - val_mse: 103.6251\n",
      "Epoch 18/50\n",
      "1/1 [==============================] - 0s 305ms/step - loss: 90.5592 - rmse: 1.7329 - mse: 90.5592 - val_loss: 104.3142 - val_rmse: 1.7058 - val_mse: 104.3142\n",
      "Epoch 19/50\n",
      "1/1 [==============================] - 0s 306ms/step - loss: 99.2858 - rmse: 1.6961 - mse: 99.2858 - val_loss: 102.5141 - val_rmse: 1.7359 - val_mse: 102.5141\n",
      "Epoch 20/50\n",
      "1/1 [==============================] - 0s 292ms/step - loss: 96.6557 - rmse: 1.7887 - mse: 96.6557 - val_loss: 102.7601 - val_rmse: 1.7240 - val_mse: 102.7601\n",
      "Epoch 21/50\n",
      "1/1 [==============================] - 0s 404ms/step - loss: 93.7442 - rmse: 1.8154 - mse: 93.7442 - val_loss: 101.7498 - val_rmse: 1.7003 - val_mse: 101.7498\n",
      "Epoch 22/50\n",
      "1/1 [==============================] - 0s 328ms/step - loss: 102.4508 - rmse: 1.6302 - mse: 102.4508 - val_loss: 100.7715 - val_rmse: 1.6560 - val_mse: 100.7715\n",
      "Epoch 23/50\n",
      "1/1 [==============================] - 0s 343ms/step - loss: 116.5217 - rmse: 1.6514 - mse: 116.5217 - val_loss: 101.7672 - val_rmse: 1.5846 - val_mse: 101.7672\n",
      "Epoch 24/50\n",
      "1/1 [==============================] - 0s 381ms/step - loss: 99.4532 - rmse: 1.5439 - mse: 99.4532 - val_loss: 99.3099 - val_rmse: 1.5048 - val_mse: 99.3099\n",
      "Epoch 25/50\n",
      "1/1 [==============================] - 0s 451ms/step - loss: 119.7183 - rmse: 1.3908 - mse: 119.7183 - val_loss: 100.5094 - val_rmse: 1.4000 - val_mse: 100.5094\n",
      "Epoch 26/50\n",
      "1/1 [==============================] - 0s 429ms/step - loss: 101.3997 - rmse: 1.3300 - mse: 101.3997 - val_loss: 97.6150 - val_rmse: 1.3120 - val_mse: 97.6150\n",
      "Epoch 27/50\n",
      "1/1 [==============================] - 0s 400ms/step - loss: 96.7146 - rmse: 1.3306 - mse: 96.7146 - val_loss: 95.6676 - val_rmse: 1.1831 - val_mse: 95.6676\n",
      "Epoch 28/50\n",
      "1/1 [==============================] - 0s 462ms/step - loss: 112.7634 - rmse: 0.6915 - mse: 112.7634 - val_loss: 96.7378 - val_rmse: 1.0474 - val_mse: 96.7378\n",
      "Epoch 29/50\n",
      "1/1 [==============================] - 0s 482ms/step - loss: 112.5120 - rmse: 1.0685 - mse: 112.5120 - val_loss: 95.0214 - val_rmse: 0.8903 - val_mse: 95.0214\n",
      "Epoch 30/50\n",
      "1/1 [==============================] - 0s 342ms/step - loss: 88.6230 - rmse: 0.7894 - mse: 88.6230 - val_loss: 96.1428 - val_rmse: 0.7146 - val_mse: 96.1428\n",
      "Epoch 31/50\n",
      "1/1 [==============================] - 0s 298ms/step - loss: 90.6157 - rmse: 0.8552 - mse: 90.6157 - val_loss: 93.0476 - val_rmse: 0.5206 - val_mse: 93.0476\n",
      "Epoch 32/50\n",
      "1/1 [==============================] - 0s 327ms/step - loss: 132.9896 - rmse: nan - mse: 132.9896 - val_loss: 93.8987 - val_rmse: nan - val_mse: 93.8987\n",
      "Epoch 33/50\n",
      "1/1 [==============================] - 0s 373ms/step - loss: 80.7297 - rmse: 0.4108 - mse: 80.7297 - val_loss: 93.3743 - val_rmse: nan - val_mse: 93.3743\n",
      "Epoch 34/50\n",
      "1/1 [==============================] - 0s 383ms/step - loss: 109.5791 - rmse: nan - mse: 109.5791 - val_loss: 94.1996 - val_rmse: nan - val_mse: 94.1996\n",
      "Epoch 35/50\n",
      "1/1 [==============================] - 0s 318ms/step - loss: 106.2058 - rmse: nan - mse: 106.2058 - val_loss: 95.0162 - val_rmse: nan - val_mse: 95.0162\n",
      "Epoch 36/50\n",
      "1/1 [==============================] - 0s 307ms/step - loss: 83.1975 - rmse: nan - mse: 83.1975 - val_loss: 94.7241 - val_rmse: nan - val_mse: 94.7241\n",
      "Epoch 37/50\n",
      "1/1 [==============================] - 0s 324ms/step - loss: 83.0248 - rmse: nan - mse: 83.0248 - val_loss: 97.1508 - val_rmse: nan - val_mse: 97.1508\n",
      "Epoch 38/50\n",
      "1/1 [==============================] - 0s 320ms/step - loss: 100.5120 - rmse: nan - mse: 100.5120 - val_loss: 95.0719 - val_rmse: nan - val_mse: 95.0719\n",
      "Epoch 39/50\n",
      "1/1 [==============================] - 0s 310ms/step - loss: 93.0857 - rmse: nan - mse: 93.0857 - val_loss: 96.9313 - val_rmse: nan - val_mse: 96.9313\n",
      "Epoch 40/50\n",
      "1/1 [==============================] - 0s 329ms/step - loss: 78.4101 - rmse: nan - mse: 78.4101 - val_loss: 94.8278 - val_rmse: nan - val_mse: 94.8278\n",
      "Epoch 41/50\n",
      "1/1 [==============================] - 0s 313ms/step - loss: 119.6814 - rmse: nan - mse: 119.6814 - val_loss: 93.3084 - val_rmse: nan - val_mse: 93.3084\n",
      "Epoch 42/50\n",
      "1/1 [==============================] - 0s 312ms/step - loss: 89.6748 - rmse: nan - mse: 89.6748 - val_loss: 97.3788 - val_rmse: nan - val_mse: 97.3788\n",
      "Epoch 43/50\n",
      "1/1 [==============================] - 0s 331ms/step - loss: 98.9895 - rmse: nan - mse: 98.9895 - val_loss: 96.4668 - val_rmse: nan - val_mse: 96.4668\n",
      "Epoch 44/50\n",
      "1/1 [==============================] - 0s 338ms/step - loss: 124.9394 - rmse: nan - mse: 124.9394 - val_loss: 95.9979 - val_rmse: nan - val_mse: 95.9979\n",
      "Epoch 45/50\n",
      "1/1 [==============================] - 0s 334ms/step - loss: 100.4271 - rmse: nan - mse: 100.4271 - val_loss: 95.6353 - val_rmse: nan - val_mse: 95.6353\n",
      "Epoch 46/50\n",
      "1/1 [==============================] - 0s 319ms/step - loss: 80.4400 - rmse: nan - mse: 80.4400 - val_loss: 96.0764 - val_rmse: nan - val_mse: 96.0764\n",
      "Epoch 47/50\n",
      "1/1 [==============================] - 0s 306ms/step - loss: 79.6449 - rmse: nan - mse: 79.6449 - val_loss: 97.0631 - val_rmse: nan - val_mse: 97.0631\n",
      "Epoch 48/50\n",
      "1/1 [==============================] - 0s 359ms/step - loss: 90.7204 - rmse: nan - mse: 90.7204 - val_loss: 93.7986 - val_rmse: nan - val_mse: 93.7986\n",
      "Epoch 49/50\n",
      "1/1 [==============================] - 0s 317ms/step - loss: 72.2394 - rmse: 0.2745 - mse: 72.2394 - val_loss: 93.4183 - val_rmse: nan - val_mse: 93.4183\n",
      "Epoch 50/50\n",
      "1/1 [==============================] - 0s 314ms/step - loss: 126.3748 - rmse: nan - mse: 126.3748 - val_loss: 93.8854 - val_rmse: nan - val_mse: 93.8854\n"
=======
      "CPU times: user 2 µs, sys: 0 ns, total: 2 µs\n",
      "Wall time: 5.48 µs\n",
      "Epoch 1/50\n",
      "WARNING:tensorflow:Layers in a Sequential model should only have a single input tensor, but we receive a <class 'collections.OrderedDict'> input: OrderedDict([('pickup_longitude', <tf.Tensor 'ExpandDims_4:0' shape=(1000, 1) dtype=float32>), ('pickup_latitude', <tf.Tensor 'ExpandDims_3:0' shape=(1000, 1) dtype=float32>), ('dropoff_longitude', <tf.Tensor 'ExpandDims_1:0' shape=(1000, 1) dtype=float32>), ('dropoff_latitude', <tf.Tensor 'ExpandDims:0' shape=(1000, 1) dtype=float32>), ('passenger_count', <tf.Tensor 'ExpandDims_2:0' shape=(1000, 1) dtype=float32>)])\n",
      "Consider rewriting this model with the Functional API.\n",
      "WARNING:tensorflow:Layers in a Sequential model should only have a single input tensor, but we receive a <class 'collections.OrderedDict'> input: OrderedDict([('pickup_longitude', <tf.Tensor 'ExpandDims_4:0' shape=(1000, 1) dtype=float32>), ('pickup_latitude', <tf.Tensor 'ExpandDims_3:0' shape=(1000, 1) dtype=float32>), ('dropoff_longitude', <tf.Tensor 'ExpandDims_1:0' shape=(1000, 1) dtype=float32>), ('dropoff_latitude', <tf.Tensor 'ExpandDims:0' shape=(1000, 1) dtype=float32>), ('passenger_count', <tf.Tensor 'ExpandDims_2:0' shape=(1000, 1) dtype=float32>)])\n",
      "Consider rewriting this model with the Functional API.\n",
      "1/1 [==============================] - ETA: 0s - loss: 20643.4434 - rmse: 6.2075 - mse: 20643.4434WARNING:tensorflow:Layers in a Sequential model should only have a single input tensor, but we receive a <class 'collections.OrderedDict'> input: OrderedDict([('pickup_longitude', <tf.Tensor 'ExpandDims_4:0' shape=(1000, 1) dtype=float32>), ('pickup_latitude', <tf.Tensor 'ExpandDims_3:0' shape=(1000, 1) dtype=float32>), ('dropoff_longitude', <tf.Tensor 'ExpandDims_1:0' shape=(1000, 1) dtype=float32>), ('dropoff_latitude', <tf.Tensor 'ExpandDims:0' shape=(1000, 1) dtype=float32>), ('passenger_count', <tf.Tensor 'ExpandDims_2:0' shape=(1000, 1) dtype=float32>)])\n",
      "Consider rewriting this model with the Functional API.\n"
     ]
    },
    {
     "ename": "InvalidArgumentError",
     "evalue": " Expect 6 fields but have 5 in record\n\t [[node IteratorGetNext (defined at <ipython-input-15-49f8458fecb4>:6) ]] [Op:__inference_test_function_1297]\n\nFunction call stack:\ntest_function\n",
     "output_type": "error",
     "traceback": [
      "\u001b[0;31m---------------------------------------------------------------------------\u001b[0m",
      "\u001b[0;31mInvalidArgumentError\u001b[0m                      Traceback (most recent call last)",
      "\u001b[0;32m<ipython-input-15-49f8458fecb4>\u001b[0m in \u001b[0;36m<module>\u001b[0;34m\u001b[0m\n\u001b[1;32m      4\u001b[0m \u001b[0mLOGDIR\u001b[0m \u001b[0;34m=\u001b[0m \u001b[0;34m\"./taxi_trained\"\u001b[0m\u001b[0;34m\u001b[0m\u001b[0;34m\u001b[0m\u001b[0m\n\u001b[1;32m      5\u001b[0m \u001b[0;31m# Train the sequential model\u001b[0m\u001b[0;34m\u001b[0m\u001b[0;34m\u001b[0m\u001b[0;34m\u001b[0m\u001b[0m\n\u001b[0;32m----> 6\u001b[0;31m history = model.fit(x=trainds,\n\u001b[0m\u001b[1;32m      7\u001b[0m                     \u001b[0msteps_per_epoch\u001b[0m\u001b[0;34m=\u001b[0m\u001b[0msteps_per_epoch\u001b[0m\u001b[0;34m,\u001b[0m\u001b[0;34m\u001b[0m\u001b[0;34m\u001b[0m\u001b[0m\n\u001b[1;32m      8\u001b[0m                     \u001b[0mepochs\u001b[0m\u001b[0;34m=\u001b[0m\u001b[0mNUM_EVALS\u001b[0m\u001b[0;34m,\u001b[0m\u001b[0;34m\u001b[0m\u001b[0;34m\u001b[0m\u001b[0m\n",
      "\u001b[0;32m~/.local/lib/python3.8/site-packages/tensorflow/python/keras/engine/training.py\u001b[0m in \u001b[0;36mfit\u001b[0;34m(self, x, y, batch_size, epochs, verbose, callbacks, validation_split, validation_data, shuffle, class_weight, sample_weight, initial_epoch, steps_per_epoch, validation_steps, validation_batch_size, validation_freq, max_queue_size, workers, use_multiprocessing)\u001b[0m\n\u001b[1;32m   1129\u001b[0m                 \u001b[0mmodel\u001b[0m\u001b[0;34m=\u001b[0m\u001b[0mself\u001b[0m\u001b[0;34m,\u001b[0m\u001b[0;34m\u001b[0m\u001b[0;34m\u001b[0m\u001b[0m\n\u001b[1;32m   1130\u001b[0m                 steps_per_execution=self._steps_per_execution)\n\u001b[0;32m-> 1131\u001b[0;31m           val_logs = self.evaluate(\n\u001b[0m\u001b[1;32m   1132\u001b[0m               \u001b[0mx\u001b[0m\u001b[0;34m=\u001b[0m\u001b[0mval_x\u001b[0m\u001b[0;34m,\u001b[0m\u001b[0;34m\u001b[0m\u001b[0;34m\u001b[0m\u001b[0m\n\u001b[1;32m   1133\u001b[0m               \u001b[0my\u001b[0m\u001b[0;34m=\u001b[0m\u001b[0mval_y\u001b[0m\u001b[0;34m,\u001b[0m\u001b[0;34m\u001b[0m\u001b[0;34m\u001b[0m\u001b[0m\n",
      "\u001b[0;32m~/.local/lib/python3.8/site-packages/tensorflow/python/keras/engine/training.py\u001b[0m in \u001b[0;36mevaluate\u001b[0;34m(self, x, y, batch_size, verbose, sample_weight, steps, callbacks, max_queue_size, workers, use_multiprocessing, return_dict)\u001b[0m\n\u001b[1;32m   1387\u001b[0m             \u001b[0;32mwith\u001b[0m \u001b[0mtrace\u001b[0m\u001b[0;34m.\u001b[0m\u001b[0mTrace\u001b[0m\u001b[0;34m(\u001b[0m\u001b[0;34m'test'\u001b[0m\u001b[0;34m,\u001b[0m \u001b[0mstep_num\u001b[0m\u001b[0;34m=\u001b[0m\u001b[0mstep\u001b[0m\u001b[0;34m,\u001b[0m \u001b[0m_r\u001b[0m\u001b[0;34m=\u001b[0m\u001b[0;36m1\u001b[0m\u001b[0;34m)\u001b[0m\u001b[0;34m:\u001b[0m\u001b[0;34m\u001b[0m\u001b[0;34m\u001b[0m\u001b[0m\n\u001b[1;32m   1388\u001b[0m               \u001b[0mcallbacks\u001b[0m\u001b[0;34m.\u001b[0m\u001b[0mon_test_batch_begin\u001b[0m\u001b[0;34m(\u001b[0m\u001b[0mstep\u001b[0m\u001b[0;34m)\u001b[0m\u001b[0;34m\u001b[0m\u001b[0;34m\u001b[0m\u001b[0m\n\u001b[0;32m-> 1389\u001b[0;31m               \u001b[0mtmp_logs\u001b[0m \u001b[0;34m=\u001b[0m \u001b[0mself\u001b[0m\u001b[0;34m.\u001b[0m\u001b[0mtest_function\u001b[0m\u001b[0;34m(\u001b[0m\u001b[0miterator\u001b[0m\u001b[0;34m)\u001b[0m\u001b[0;34m\u001b[0m\u001b[0;34m\u001b[0m\u001b[0m\n\u001b[0m\u001b[1;32m   1390\u001b[0m               \u001b[0;32mif\u001b[0m \u001b[0mdata_handler\u001b[0m\u001b[0;34m.\u001b[0m\u001b[0mshould_sync\u001b[0m\u001b[0;34m:\u001b[0m\u001b[0;34m\u001b[0m\u001b[0;34m\u001b[0m\u001b[0m\n\u001b[1;32m   1391\u001b[0m                 \u001b[0mcontext\u001b[0m\u001b[0;34m.\u001b[0m\u001b[0masync_wait\u001b[0m\u001b[0;34m(\u001b[0m\u001b[0;34m)\u001b[0m\u001b[0;34m\u001b[0m\u001b[0;34m\u001b[0m\u001b[0m\n",
      "\u001b[0;32m~/.local/lib/python3.8/site-packages/tensorflow/python/eager/def_function.py\u001b[0m in \u001b[0;36m__call__\u001b[0;34m(self, *args, **kwds)\u001b[0m\n\u001b[1;32m    826\u001b[0m     \u001b[0mtracing_count\u001b[0m \u001b[0;34m=\u001b[0m \u001b[0mself\u001b[0m\u001b[0;34m.\u001b[0m\u001b[0mexperimental_get_tracing_count\u001b[0m\u001b[0;34m(\u001b[0m\u001b[0;34m)\u001b[0m\u001b[0;34m\u001b[0m\u001b[0;34m\u001b[0m\u001b[0m\n\u001b[1;32m    827\u001b[0m     \u001b[0;32mwith\u001b[0m \u001b[0mtrace\u001b[0m\u001b[0;34m.\u001b[0m\u001b[0mTrace\u001b[0m\u001b[0;34m(\u001b[0m\u001b[0mself\u001b[0m\u001b[0;34m.\u001b[0m\u001b[0m_name\u001b[0m\u001b[0;34m)\u001b[0m \u001b[0;32mas\u001b[0m \u001b[0mtm\u001b[0m\u001b[0;34m:\u001b[0m\u001b[0;34m\u001b[0m\u001b[0;34m\u001b[0m\u001b[0m\n\u001b[0;32m--> 828\u001b[0;31m       \u001b[0mresult\u001b[0m \u001b[0;34m=\u001b[0m \u001b[0mself\u001b[0m\u001b[0;34m.\u001b[0m\u001b[0m_call\u001b[0m\u001b[0;34m(\u001b[0m\u001b[0;34m*\u001b[0m\u001b[0margs\u001b[0m\u001b[0;34m,\u001b[0m \u001b[0;34m**\u001b[0m\u001b[0mkwds\u001b[0m\u001b[0;34m)\u001b[0m\u001b[0;34m\u001b[0m\u001b[0;34m\u001b[0m\u001b[0m\n\u001b[0m\u001b[1;32m    829\u001b[0m       \u001b[0mcompiler\u001b[0m \u001b[0;34m=\u001b[0m \u001b[0;34m\"xla\"\u001b[0m \u001b[0;32mif\u001b[0m \u001b[0mself\u001b[0m\u001b[0;34m.\u001b[0m\u001b[0m_experimental_compile\u001b[0m \u001b[0;32melse\u001b[0m \u001b[0;34m\"nonXla\"\u001b[0m\u001b[0;34m\u001b[0m\u001b[0;34m\u001b[0m\u001b[0m\n\u001b[1;32m    830\u001b[0m       \u001b[0mnew_tracing_count\u001b[0m \u001b[0;34m=\u001b[0m \u001b[0mself\u001b[0m\u001b[0;34m.\u001b[0m\u001b[0mexperimental_get_tracing_count\u001b[0m\u001b[0;34m(\u001b[0m\u001b[0;34m)\u001b[0m\u001b[0;34m\u001b[0m\u001b[0;34m\u001b[0m\u001b[0m\n",
      "\u001b[0;32m~/.local/lib/python3.8/site-packages/tensorflow/python/eager/def_function.py\u001b[0m in \u001b[0;36m_call\u001b[0;34m(self, *args, **kwds)\u001b[0m\n\u001b[1;32m    892\u001b[0m               *args, **kwds)\n\u001b[1;32m    893\u001b[0m       \u001b[0;31m# If we did not create any variables the trace we have is good enough.\u001b[0m\u001b[0;34m\u001b[0m\u001b[0;34m\u001b[0m\u001b[0;34m\u001b[0m\u001b[0m\n\u001b[0;32m--> 894\u001b[0;31m       return self._concrete_stateful_fn._call_flat(\n\u001b[0m\u001b[1;32m    895\u001b[0m           filtered_flat_args, self._concrete_stateful_fn.captured_inputs)  # pylint: disable=protected-access\n\u001b[1;32m    896\u001b[0m \u001b[0;34m\u001b[0m\u001b[0m\n",
      "\u001b[0;32m~/.local/lib/python3.8/site-packages/tensorflow/python/eager/function.py\u001b[0m in \u001b[0;36m_call_flat\u001b[0;34m(self, args, captured_inputs, cancellation_manager)\u001b[0m\n\u001b[1;32m   1916\u001b[0m         and executing_eagerly):\n\u001b[1;32m   1917\u001b[0m       \u001b[0;31m# No tape is watching; skip to running the function.\u001b[0m\u001b[0;34m\u001b[0m\u001b[0;34m\u001b[0m\u001b[0;34m\u001b[0m\u001b[0m\n\u001b[0;32m-> 1918\u001b[0;31m       return self._build_call_outputs(self._inference_function.call(\n\u001b[0m\u001b[1;32m   1919\u001b[0m           ctx, args, cancellation_manager=cancellation_manager))\n\u001b[1;32m   1920\u001b[0m     forward_backward = self._select_forward_and_backward_functions(\n",
      "\u001b[0;32m~/.local/lib/python3.8/site-packages/tensorflow/python/eager/function.py\u001b[0m in \u001b[0;36mcall\u001b[0;34m(self, ctx, args, cancellation_manager)\u001b[0m\n\u001b[1;32m    553\u001b[0m       \u001b[0;32mwith\u001b[0m \u001b[0m_InterpolateFunctionError\u001b[0m\u001b[0;34m(\u001b[0m\u001b[0mself\u001b[0m\u001b[0;34m)\u001b[0m\u001b[0;34m:\u001b[0m\u001b[0;34m\u001b[0m\u001b[0;34m\u001b[0m\u001b[0m\n\u001b[1;32m    554\u001b[0m         \u001b[0;32mif\u001b[0m \u001b[0mcancellation_manager\u001b[0m \u001b[0;32mis\u001b[0m \u001b[0;32mNone\u001b[0m\u001b[0;34m:\u001b[0m\u001b[0;34m\u001b[0m\u001b[0;34m\u001b[0m\u001b[0m\n\u001b[0;32m--> 555\u001b[0;31m           outputs = execute.execute(\n\u001b[0m\u001b[1;32m    556\u001b[0m               \u001b[0mstr\u001b[0m\u001b[0;34m(\u001b[0m\u001b[0mself\u001b[0m\u001b[0;34m.\u001b[0m\u001b[0msignature\u001b[0m\u001b[0;34m.\u001b[0m\u001b[0mname\u001b[0m\u001b[0;34m)\u001b[0m\u001b[0;34m,\u001b[0m\u001b[0;34m\u001b[0m\u001b[0;34m\u001b[0m\u001b[0m\n\u001b[1;32m    557\u001b[0m               \u001b[0mnum_outputs\u001b[0m\u001b[0;34m=\u001b[0m\u001b[0mself\u001b[0m\u001b[0;34m.\u001b[0m\u001b[0m_num_outputs\u001b[0m\u001b[0;34m,\u001b[0m\u001b[0;34m\u001b[0m\u001b[0;34m\u001b[0m\u001b[0m\n",
      "\u001b[0;32m~/.local/lib/python3.8/site-packages/tensorflow/python/eager/execute.py\u001b[0m in \u001b[0;36mquick_execute\u001b[0;34m(op_name, num_outputs, inputs, attrs, ctx, name)\u001b[0m\n\u001b[1;32m     57\u001b[0m   \u001b[0;32mtry\u001b[0m\u001b[0;34m:\u001b[0m\u001b[0;34m\u001b[0m\u001b[0;34m\u001b[0m\u001b[0m\n\u001b[1;32m     58\u001b[0m     \u001b[0mctx\u001b[0m\u001b[0;34m.\u001b[0m\u001b[0mensure_initialized\u001b[0m\u001b[0;34m(\u001b[0m\u001b[0;34m)\u001b[0m\u001b[0;34m\u001b[0m\u001b[0;34m\u001b[0m\u001b[0m\n\u001b[0;32m---> 59\u001b[0;31m     tensors = pywrap_tfe.TFE_Py_Execute(ctx._handle, device_name, op_name,\n\u001b[0m\u001b[1;32m     60\u001b[0m                                         inputs, attrs, num_outputs)\n\u001b[1;32m     61\u001b[0m   \u001b[0;32mexcept\u001b[0m \u001b[0mcore\u001b[0m\u001b[0;34m.\u001b[0m\u001b[0m_NotOkStatusException\u001b[0m \u001b[0;32mas\u001b[0m \u001b[0me\u001b[0m\u001b[0;34m:\u001b[0m\u001b[0;34m\u001b[0m\u001b[0;34m\u001b[0m\u001b[0m\n",
      "\u001b[0;31mInvalidArgumentError\u001b[0m:  Expect 6 fields but have 5 in record\n\t [[node IteratorGetNext (defined at <ipython-input-15-49f8458fecb4>:6) ]] [Op:__inference_test_function_1297]\n\nFunction call stack:\ntest_function\n"
>>>>>>> 4484ec93da72965491ab165b553b7b01b4a9b6a1
     ]
    }
   ],
   "source": [
    "%time \n",
    "steps_per_epoch = NUM_TRAIN_EXAMPLES // (TRAIN_BATCH_SIZE * NUM_EVALS)\n",
    "\n",
    "LOGDIR = \"./taxi_trained\"\n",
    "# Train the sequential model\n",
    "history = model.fit(x=trainds,\n",
    "                    steps_per_epoch=steps_per_epoch,\n",
    "                    epochs=NUM_EVALS,\n",
    "                    validation_data=evalds,\n",
    "                    callbacks=[TensorBoard(LOGDIR)])"
   ]
  },
  {
<<<<<<< HEAD
   "cell_type": "markdown",
   "id": "super-antigua",
   "metadata": {},
   "source": [
    "## **High-level model evaluation**\n",
    "\n",
    "Once we've run data through the model, we can call `.summary()` on the model to get a high-level summary of our network. We can also plot the training and evaluation curves for the metrics we computed above"
   ]
  },
  {
   "cell_type": "code",
   "execution_count": 10,
   "id": "comparable-interest",
   "metadata": {},
   "outputs": [
    {
     "name": "stdout",
     "output_type": "stream",
     "text": [
      "Model: \"sequential\"\n",
      "_________________________________________________________________\n",
      "Layer (type)                 Output Shape              Param #   \n",
      "=================================================================\n",
      "dense_features (DenseFeature multiple                  0         \n",
      "_________________________________________________________________\n",
      "h1 (Dense)                   multiple                  192       \n",
      "_________________________________________________________________\n",
      "h2 (Dense)                   multiple                  264       \n",
      "_________________________________________________________________\n",
      "output (Dense)               multiple                  9         \n",
      "=================================================================\n",
      "Total params: 465\n",
      "Trainable params: 465\n",
      "Non-trainable params: 0\n",
      "_________________________________________________________________\n"
     ]
    }
   ],
   "source": [
    "# The `.summary()` method is a generic function used to produce result summaries of the results of various model fitting functions\n",
    "model.summary()"
   ]
  },
  {
   "cell_type": "markdown",
   "id": "ahead-manufacturer",
   "metadata": {},
   "source": [
    "Running `.fit()` (or `.fit_generator()`) returns a History object which collects all the events recorded during training. Similar to Tensorboard, we can plot the training and validation curves for the model loss and rmse by accessing these elements of the History object."
   ]
  },
  {
   "cell_type": "code",
   "execution_count": 12,
   "id": "bronze-proposition",
   "metadata": {},
   "outputs": [
    {
     "data": {
      "image/png": "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\n",
      "text/plain": [
       "<Figure size 432x288 with 1 Axes>"
      ]
     },
     "metadata": {
      "needs_background": "light"
     },
     "output_type": "display_data"
    }
   ],
   "source": [
    "RMSE_COLS = [\"rmse\", \"val_rmse\"]\n",
    "\n",
    "# The history object is returned from calls to the `.fit()` function used to train the model\n",
    "# Metrics are stored in a dictionary in the history member of the object returned\n",
    "pd.DataFrame(history.history)[RMSE_COLS].plot();"
   ]
  },
  {
   "cell_type": "code",
   "execution_count": 14,
   "id": "electric-investor",
   "metadata": {},
   "outputs": [
    {
     "data": {
      "image/png": "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\n",
      "text/plain": [
       "<Figure size 432x288 with 1 Axes>"
      ]
     },
     "metadata": {
      "needs_background": "light"
     },
     "output_type": "display_data"
    }
   ],
   "source": [
    "LOSS_COLS = [\"loss\", \"val_loss\"]\n",
    "\n",
    "# The history object is returned from calls to the `.fit()` function used to train the model\n",
    "# Metrics are stored in a dictionary in the history member of the object returned\n",
    "pd.DataFrame(history.history)[LOSS_COLS].plot();"
   ]
  },
  {
   "cell_type": "markdown",
   "id": "specific-robert",
   "metadata": {},
   "source": [
    "## **Export and deploy our model**\n",
    "\n",
    "Of course, making individual predictions is not realistic, because we can't expect client code to have a model object in memory. For others to use the trained model, we'll have to export our model to a file, and expect client code to instantiate the model from that exported file.\n",
    "\n",
    "We'll export the model to a TensorFlow SavedModel format. Once we have a model in this format, we have lots of ways to \"serve\" the model, from a web application, from JavaScript, from mobile applications, etc."
   ]
  },
  {
   "cell_type": "code",
   "execution_count": 15,
   "id": "promotional-sterling",
   "metadata": {},
   "outputs": [
    {
     "name": "stdout",
     "output_type": "stream",
     "text": [
      "WARNING:tensorflow:Layers in a Sequential model should only have a single input tensor, but we receive a <class 'collections.OrderedDict'> input: OrderedDict([('pickup_datetime', <tf.Tensor 'pickup_datetime:0' shape=(None, 1) dtype=string>), ('pickup_longitude', <tf.Tensor 'pickup_longitude:0' shape=(None, 1) dtype=float32>), ('pickup_latitude', <tf.Tensor 'pickup_latitude:0' shape=(None, 1) dtype=float32>), ('dropoff_longitude', <tf.Tensor 'dropoff_longitude:0' shape=(None, 1) dtype=float32>), ('dropoff_latitude', <tf.Tensor 'dropoff_latitude:0' shape=(None, 1) dtype=float32>), ('passenger_count', <tf.Tensor 'passenger_count:0' shape=(None, 1) dtype=float32>), ('key', <tf.Tensor 'key:0' shape=(None, 1) dtype=string>)])\n",
      "Consider rewriting this model with the Functional API.\n",
      "WARNING:tensorflow:Layers in a Sequential model should only have a single input tensor, but we receive a <class 'collections.OrderedDict'> input: OrderedDict([('pickup_datetime', <tf.Tensor 'pickup_datetime:0' shape=(None, 1) dtype=string>), ('pickup_longitude', <tf.Tensor 'pickup_longitude:0' shape=(None, 1) dtype=float32>), ('pickup_latitude', <tf.Tensor 'pickup_latitude:0' shape=(None, 1) dtype=float32>), ('dropoff_longitude', <tf.Tensor 'dropoff_longitude:0' shape=(None, 1) dtype=float32>), ('dropoff_latitude', <tf.Tensor 'dropoff_latitude:0' shape=(None, 1) dtype=float32>), ('passenger_count', <tf.Tensor 'passenger_count:0' shape=(None, 1) dtype=float32>), ('key', <tf.Tensor 'key:0' shape=(None, 1) dtype=string>)])\n",
      "Consider rewriting this model with the Functional API.\n",
      "WARNING:tensorflow:Layers in a Sequential model should only have a single input tensor, but we receive a <class 'collections.OrderedDict'> input: OrderedDict([('pickup_datetime', <tf.Tensor 'pickup_datetime:0' shape=(None, 1) dtype=string>), ('pickup_longitude', <tf.Tensor 'pickup_longitude:0' shape=(None, 1) dtype=float32>), ('pickup_latitude', <tf.Tensor 'pickup_latitude:0' shape=(None, 1) dtype=float32>), ('dropoff_longitude', <tf.Tensor 'dropoff_longitude:0' shape=(None, 1) dtype=float32>), ('dropoff_latitude', <tf.Tensor 'dropoff_latitude:0' shape=(None, 1) dtype=float32>), ('passenger_count', <tf.Tensor 'passenger_count:0' shape=(None, 1) dtype=float32>), ('key', <tf.Tensor 'key:0' shape=(None, 1) dtype=string>)])\n",
      "Consider rewriting this model with the Functional API.\n",
      "WARNING:tensorflow:Layers in a Sequential model should only have a single input tensor, but we receive a <class 'collections.OrderedDict'> input: OrderedDict([('pickup_datetime', <tf.Tensor 'inputs_4:0' shape=(None, 1) dtype=string>), ('pickup_longitude', <tf.Tensor 'inputs_6:0' shape=(None, 1) dtype=float32>), ('pickup_latitude', <tf.Tensor 'inputs_5:0' shape=(None, 1) dtype=float32>), ('dropoff_longitude', <tf.Tensor 'inputs_1:0' shape=(None, 1) dtype=float32>), ('dropoff_latitude', <tf.Tensor 'inputs:0' shape=(None, 1) dtype=float32>), ('passenger_count', <tf.Tensor 'inputs_3:0' shape=(None, 1) dtype=float32>), ('key', <tf.Tensor 'inputs_2:0' shape=(None, 1) dtype=string>)])\n",
      "Consider rewriting this model with the Functional API.\n",
      "WARNING:tensorflow:Layers in a Sequential model should only have a single input tensor, but we receive a <class 'collections.OrderedDict'> input: OrderedDict([('pickup_datetime', <tf.Tensor 'inputs_4:0' shape=(None, 1) dtype=string>), ('pickup_longitude', <tf.Tensor 'inputs_6:0' shape=(None, 1) dtype=float32>), ('pickup_latitude', <tf.Tensor 'inputs_5:0' shape=(None, 1) dtype=float32>), ('dropoff_longitude', <tf.Tensor 'inputs_1:0' shape=(None, 1) dtype=float32>), ('dropoff_latitude', <tf.Tensor 'inputs:0' shape=(None, 1) dtype=float32>), ('passenger_count', <tf.Tensor 'inputs_3:0' shape=(None, 1) dtype=float32>), ('key', <tf.Tensor 'inputs_2:0' shape=(None, 1) dtype=string>)])\n",
      "Consider rewriting this model with the Functional API.\n",
      "WARNING:tensorflow:Layers in a Sequential model should only have a single input tensor, but we receive a <class 'collections.OrderedDict'> input: OrderedDict([('pickup_datetime', <tf.Tensor 'pickup_datetime:0' shape=(None, 1) dtype=string>), ('pickup_longitude', <tf.Tensor 'pickup_longitude:0' shape=(None, 1) dtype=float32>), ('pickup_latitude', <tf.Tensor 'pickup_latitude:0' shape=(None, 1) dtype=float32>), ('dropoff_longitude', <tf.Tensor 'dropoff_longitude:0' shape=(None, 1) dtype=float32>), ('dropoff_latitude', <tf.Tensor 'dropoff_latitude:0' shape=(None, 1) dtype=float32>), ('passenger_count', <tf.Tensor 'passenger_count:0' shape=(None, 1) dtype=float32>), ('key', <tf.Tensor 'key:0' shape=(None, 1) dtype=string>)])\n",
      "Consider rewriting this model with the Functional API.\n",
      "WARNING:tensorflow:Layers in a Sequential model should only have a single input tensor, but we receive a <class 'collections.OrderedDict'> input: OrderedDict([('pickup_datetime', <tf.Tensor 'pickup_datetime:0' shape=(None, 1) dtype=string>), ('pickup_longitude', <tf.Tensor 'pickup_longitude:0' shape=(None, 1) dtype=float32>), ('pickup_latitude', <tf.Tensor 'pickup_latitude:0' shape=(None, 1) dtype=float32>), ('dropoff_longitude', <tf.Tensor 'dropoff_longitude:0' shape=(None, 1) dtype=float32>), ('dropoff_latitude', <tf.Tensor 'dropoff_latitude:0' shape=(None, 1) dtype=float32>), ('passenger_count', <tf.Tensor 'passenger_count:0' shape=(None, 1) dtype=float32>), ('key', <tf.Tensor 'key:0' shape=(None, 1) dtype=string>)])\n",
      "Consider rewriting this model with the Functional API.\n",
      "WARNING:tensorflow:Layers in a Sequential model should only have a single input tensor, but we receive a <class 'collections.OrderedDict'> input: OrderedDict([('pickup_datetime', <tf.Tensor 'inputs/pickup_datetime:0' shape=(None, 1) dtype=string>), ('pickup_longitude', <tf.Tensor 'inputs/pickup_longitude:0' shape=(None, 1) dtype=float32>), ('pickup_latitude', <tf.Tensor 'inputs/pickup_latitude:0' shape=(None, 1) dtype=float32>), ('dropoff_longitude', <tf.Tensor 'inputs/dropoff_longitude:0' shape=(None, 1) dtype=float32>), ('dropoff_latitude', <tf.Tensor 'inputs/dropoff_latitude:0' shape=(None, 1) dtype=float32>), ('passenger_count', <tf.Tensor 'inputs/passenger_count:0' shape=(None, 1) dtype=float32>), ('key', <tf.Tensor 'inputs/key:0' shape=(None, 1) dtype=string>)])\n",
      "Consider rewriting this model with the Functional API.\n",
      "WARNING:tensorflow:Layers in a Sequential model should only have a single input tensor, but we receive a <class 'collections.OrderedDict'> input: OrderedDict([('pickup_datetime', <tf.Tensor 'inputs/pickup_datetime:0' shape=(None, 1) dtype=string>), ('pickup_longitude', <tf.Tensor 'inputs/pickup_longitude:0' shape=(None, 1) dtype=float32>), ('pickup_latitude', <tf.Tensor 'inputs/pickup_latitude:0' shape=(None, 1) dtype=float32>), ('dropoff_longitude', <tf.Tensor 'inputs/dropoff_longitude:0' shape=(None, 1) dtype=float32>), ('dropoff_latitude', <tf.Tensor 'inputs/dropoff_latitude:0' shape=(None, 1) dtype=float32>), ('passenger_count', <tf.Tensor 'inputs/passenger_count:0' shape=(None, 1) dtype=float32>), ('key', <tf.Tensor 'inputs/key:0' shape=(None, 1) dtype=string>)])\n",
      "Consider rewriting this model with the Functional API.\n",
      "INFO:tensorflow:Assets written to: models/savedmodel/20210316192609/assets\n"
     ]
    }
   ],
   "source": [
    "OUTPUT_DIR = \"models/savedmodel\"\n",
    "shutil.rmtree(OUTPUT_DIR, ignore_errors=True)\n",
    "# The `.join()` method takes all items in an iterable and joins them into one string\n",
    "EXPORT_PATH = os.path.join(\n",
    "    OUTPUT_DIR,\n",
    "    datetime.datetime.now().strftime(\"%Y%m%d%H%M%S\")\n",
    ")\n",
    "tf.saved_model.save(model, EXPORT_PATH)"
   ]
  },
  {
   "cell_type": "code",
   "execution_count": 16,
   "id": "weekly-gabriel",
   "metadata": {},
   "outputs": [
    {
     "name": "stdout",
     "output_type": "stream",
     "text": [
      "2021-03-16 19:27:18.201328: W tensorflow/stream_executor/platform/default/dso_loader.cc:60] Could not load dynamic library 'libcudart.so.11.0'; dlerror: libcudart.so.11.0: cannot open shared object file: No such file or directory\n",
      "2021-03-16 19:27:18.201353: I tensorflow/stream_executor/cuda/cudart_stub.cc:29] Ignore above cudart dlerror if you do not have a GPU set up on your machine.\n",
      "The given SavedModel SignatureDef contains the following input(s):\n",
      "  inputs['dropoff_latitude'] tensor_info:\n",
      "      dtype: DT_FLOAT\n",
      "      shape: (-1, 1)\n",
      "      name: serving_default_dropoff_latitude:0\n",
      "  inputs['dropoff_longitude'] tensor_info:\n",
      "      dtype: DT_FLOAT\n",
      "      shape: (-1, 1)\n",
      "      name: serving_default_dropoff_longitude:0\n",
      "  inputs['key'] tensor_info:\n",
      "      dtype: DT_STRING\n",
      "      shape: (-1, 1)\n",
      "      name: serving_default_key:0\n",
      "  inputs['passenger_count'] tensor_info:\n",
      "      dtype: DT_FLOAT\n",
      "      shape: (-1, 1)\n",
      "      name: serving_default_passenger_count:0\n",
      "  inputs['pickup_datetime'] tensor_info:\n",
      "      dtype: DT_STRING\n",
      "      shape: (-1, 1)\n",
      "      name: serving_default_pickup_datetime:0\n",
      "  inputs['pickup_latitude'] tensor_info:\n",
      "      dtype: DT_FLOAT\n",
      "      shape: (-1, 1)\n",
      "      name: serving_default_pickup_latitude:0\n",
      "  inputs['pickup_longitude'] tensor_info:\n",
      "      dtype: DT_FLOAT\n",
      "      shape: (-1, 1)\n",
      "      name: serving_default_pickup_longitude:0\n",
      "The given SavedModel SignatureDef contains the following output(s):\n",
      "  outputs['output_1'] tensor_info:\n",
      "      dtype: DT_FLOAT\n",
      "      shape: (-1, 1)\n",
      "      name: StatefulPartitionedCall:0\n",
      "Method name is: tensorflow/serving/predict\n",
      "models/savedmodel/20210316192609\n",
      "models/savedmodel/20210316192609/variables\n",
      "models/savedmodel/20210316192609/variables/variables.data-00000-of-00001\n",
      "models/savedmodel/20210316192609/variables/variables.index\n",
      "models/savedmodel/20210316192609/saved_model.pb\n",
      "models/savedmodel/20210316192609/assets\n"
     ]
    }
   ],
   "source": [
    "# Export the model to a TensorFlow SavedModel format\n",
    "!saved_model_cli show --tag_set serve --signature_def serving_default --dir {EXPORT_PATH}\n",
    "!find {EXPORT_PATH}\n",
    "os.environ[\"EXPORT_PATH\"] = EXPORT_PATH"
   ]
  },
  {
   "cell_type": "code",
   "execution_count": null,
   "id": "narrative-symphony",
=======
   "cell_type": "code",
   "execution_count": null,
   "id": "occupied-carolina",
>>>>>>> 4484ec93da72965491ab165b553b7b01b4a9b6a1
   "metadata": {},
   "outputs": [],
   "source": []
  }
 ],
 "metadata": {
  "kernelspec": {
   "display_name": "Python 3",
   "language": "python",
   "name": "python3"
  },
  "language_info": {
   "codemirror_mode": {
    "name": "ipython",
    "version": 3
   },
   "file_extension": ".py",
   "mimetype": "text/x-python",
   "name": "python",
   "nbconvert_exporter": "python",
   "pygments_lexer": "ipython3",
   "version": "3.8.5"
  }
 },
 "nbformat": 4,
 "nbformat_minor": 5
}
