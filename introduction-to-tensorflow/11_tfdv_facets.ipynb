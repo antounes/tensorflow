{
 "cells": [
  {
   "cell_type": "markdown",
   "id": "unlike-compensation",
   "metadata": {},
   "source": [
    "# **Feature Analysis Using TensorFlow Data Validation and Facets**"
   ]
  },
  {
   "cell_type": "markdown",
   "id": "informational-building",
   "metadata": {},
   "source": [
    "## **Learning Objectives**"
   ]
  },
  {
   "cell_type": "markdown",
   "id": "processed-raleigh",
   "metadata": {},
   "source": [
    "1. Use TFRecords to load record-oriented binary format data\n",
    "2. Use TFDV to generate statistics and Facets to visualise the data\n",
    "3. Use the TFDV widget to answer questions\n",
    "4. Analyse label distribution for subset groups"
   ]
  },
  {
   "cell_type": "markdown",
   "id": "major-purpose",
   "metadata": {},
   "source": [
    "## **Introduction**"
   ]
  },
  {
   "cell_type": "markdown",
   "id": "armed-harvest",
   "metadata": {},
   "source": [
    "Bias can manifest in any part of a typical ML pipeline, from an unrepresentative data set, to learned model representations, to the way in which the results are presented to the user. Errors that result from this bias can disproportionately impact some users more that others."
   ]
  },
  {
   "cell_type": "markdown",
   "id": "tutorial-regard",
   "metadata": {},
   "source": [
    "TensorFlow Data Validation (TFDV) is one tool you can use to analyse your data to find potential problems in your data, such as missing values and data imbalaces $-$ that can lead to Fairness disparities. The TFDV tool analysis training and serving data to compute descriptive statistics, infer a schema, and detect data anomalies. Facets Overview provides a succint visualisation of these statistics for easy browsing. Both the TFDV and Facets are tools that are part of the Fairness Indicators."
   ]
  },
  {
   "cell_type": "markdown",
   "id": "frozen-second",
   "metadata": {},
   "source": [
    "In this notebook, we use TFDV to compute descriptive statistics that provide a quick overview of the data in terms of the features that are present and the shapes of their value distributions. We use Facets Overview to visualise these statistics using the Civil Comments data set."
   ]
  },
  {
   "cell_type": "code",
   "execution_count": null,
   "id": "behind-yacht",
   "metadata": {},
   "outputs": [],
   "source": []
  }
 ],
 "metadata": {
  "kernelspec": {
   "display_name": "Python 3",
   "language": "python",
   "name": "python3"
  },
  "language_info": {
   "codemirror_mode": {
    "name": "ipython",
    "version": 3
   },
   "file_extension": ".py",
   "mimetype": "text/x-python",
   "name": "python",
   "nbconvert_exporter": "python",
   "pygments_lexer": "ipython3",
   "version": "3.8.5"
  }
 },
 "nbformat": 4,
 "nbformat_minor": 5
}
