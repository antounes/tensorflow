{
 "cells": [
  {
   "cell_type": "markdown",
   "id": "lovely-clock",
   "metadata": {},
   "source": [
    "# **Broadcasting**\n",
    "\n",
    "In NumPy, broadcasting is a mean of **vectorising ops** and thereby removing slow Python loops. Broadcasting is simply a set of rules for applying binary `ufuncs` (e.g. addition, subtraction, multiplication, etc.) **on arrays of different sizes**."
   ]
  },
  {
   "cell_type": "markdown",
   "id": "occupied-payroll",
   "metadata": {},
   "source": [
    "## **Introducing broadcasting**\n",
    "\n",
    "For arrays of the same size, binary ops are performed on an element-by-element basis"
   ]
  },
  {
   "cell_type": "code",
   "execution_count": 2,
   "id": "southeast-parks",
   "metadata": {},
   "outputs": [],
   "source": [
    "import numpy as np"
   ]
  },
  {
   "cell_type": "code",
   "execution_count": 3,
   "id": "married-fight",
   "metadata": {},
   "outputs": [
    {
     "data": {
      "text/plain": [
       "array([5, 6, 7])"
      ]
     },
     "execution_count": 3,
     "metadata": {},
     "output_type": "execute_result"
    }
   ],
   "source": [
    "a = np.array([0, 1, 2])\n",
    "b = np.array([5, 5, 5])\n",
    "a + b"
   ]
  },
  {
   "cell_type": "markdown",
   "id": "packed-allen",
   "metadata": {},
   "source": [
    "Broadcasting allows these types of binary operations to be performed on arrays of different sizes - for example adding a scalar (a 0-dimensional array) to an array"
   ]
  },
  {
   "cell_type": "code",
   "execution_count": 4,
   "id": "outside-lesbian",
   "metadata": {},
   "outputs": [
    {
     "data": {
      "text/plain": [
       "array([5, 6, 7])"
      ]
     },
     "execution_count": 4,
     "metadata": {},
     "output_type": "execute_result"
    }
   ],
   "source": [
    "a + 5"
   ]
  },
  {
   "cell_type": "markdown",
   "id": "creative-minute",
   "metadata": {},
   "source": [
    "We can think of this as an operation that stretches or duplicates the value `5` into the array `[5, 5, 5]` and adds the results. The advantage of NumPy broadcasting is that this duplication of values does not actually take place, but it is a useful mental model as we think about broadcasting.\n",
    "\n",
    "We can similarly extend this to arrays of higher dimension. Observe the result when we add a one-dimensional array to a two-dimensional array."
   ]
  },
  {
   "cell_type": "code",
   "execution_count": 8,
   "id": "eligible-tradition",
   "metadata": {},
   "outputs": [
    {
     "data": {
      "text/plain": [
       "array([[1., 1., 1.],\n",
       "       [1., 1., 1.],\n",
       "       [1., 1., 1.]])"
      ]
     },
     "execution_count": 8,
     "metadata": {},
     "output_type": "execute_result"
    }
   ],
   "source": [
    "M = np.ones((3, 3))\n",
    "M"
   ]
  },
  {
   "cell_type": "code",
   "execution_count": 9,
   "id": "physical-norwegian",
   "metadata": {},
   "outputs": [
    {
     "data": {
      "text/plain": [
       "array([[1., 2., 3.],\n",
       "       [1., 2., 3.],\n",
       "       [1., 2., 3.]])"
      ]
     },
     "execution_count": 9,
     "metadata": {},
     "output_type": "execute_result"
    }
   ],
   "source": [
    "M + a"
   ]
  },
  {
   "cell_type": "markdown",
   "id": "accepting-parent",
   "metadata": {},
   "source": [
    "Here the one dimensional array `a` is stretched, or broadcast across the second dimension in order to match the shape of `M`. While these examples are relatively easy to understand, more complicated cases can involve broadcasting of both arrays. Consider the following example:"
   ]
  },
  {
   "cell_type": "code",
   "execution_count": 31,
   "id": "rolled-carry",
   "metadata": {},
   "outputs": [],
   "source": [
    "a = np.arange(3)\n",
    "b = np.arange(3).reshape((3, 1))"
   ]
  },
  {
   "cell_type": "code",
   "execution_count": 32,
   "id": "adjacent-proposal",
   "metadata": {},
   "outputs": [
    {
     "data": {
      "text/plain": [
       "array([0, 1, 2])"
      ]
     },
     "execution_count": 32,
     "metadata": {},
     "output_type": "execute_result"
    }
   ],
   "source": [
    "a"
   ]
  },
  {
   "cell_type": "code",
   "execution_count": 33,
   "id": "colonial-photography",
   "metadata": {},
   "outputs": [
    {
     "data": {
      "text/plain": [
       "array([[0],\n",
       "       [1],\n",
       "       [2]])"
      ]
     },
     "execution_count": 33,
     "metadata": {},
     "output_type": "execute_result"
    }
   ],
   "source": [
    "b"
   ]
  },
  {
   "cell_type": "code",
   "execution_count": 20,
   "id": "assisted-iraqi",
   "metadata": {},
   "outputs": [
    {
     "data": {
      "text/plain": [
       "array([[0, 1, 2],\n",
       "       [1, 2, 3],\n",
       "       [2, 3, 4]])"
      ]
     },
     "execution_count": 20,
     "metadata": {},
     "output_type": "execute_result"
    }
   ],
   "source": [
    "a + b"
   ]
  },
  {
   "cell_type": "markdown",
   "id": "tight-storm",
   "metadata": {},
   "source": [
    "Just as before, we stretched or broadcasted one value to match the shape of the other. Here we've stretched *both* `a` and `b` to match a common shape, and the result is a two-dimensional array!\n",
    "\n",
    "<img src=\"img/broadcast-array.png\" style=\"width:500px;height:400px;\">\n",
    "    \n",
    "\n",
    "The light boxes represent the broadcast values: again, this extra memory is not actually allocated in the course of the operation, but it can be useful conceptually to imagine that it is."
   ]
  },
  {
   "cell_type": "markdown",
   "id": "blank-proceeding",
   "metadata": {},
   "source": [
    "## **Rules of broadcasting**\n",
    "\n",
    "Broadcasting in NumPy follows a strict set of rules to determine the interaction between the two arrays:\n",
    "- Rule 1: If the two arrays differ in their number of dimensions, the shape of the one with the fewer dimensions is *padded* with ones on its leading (left) side.\n",
    "- Rule 2: If the shape of the two arrays does not match in any dimension, the array with shape equal to 1 in that dimension is stretched to match the other shape.\n",
    "- Rule 3: If in any dimension the sizes disagree and neither is equal to 1, an error is raised.\n",
    "\n",
    "### **Broadcasting example 1**\n",
    "\n",
    "Let's look at adding a two-dimensional array to a one-dimensional array:"
   ]
  },
  {
   "cell_type": "code",
   "execution_count": 27,
   "id": "chinese-police",
   "metadata": {},
   "outputs": [],
   "source": [
    "M = np.ones((2, 3))\n",
    "a = np.arange(3)"
   ]
  },
  {
   "cell_type": "code",
   "execution_count": 28,
   "id": "naval-rolling",
   "metadata": {},
   "outputs": [
    {
     "data": {
      "text/plain": [
       "array([[1., 1., 1.],\n",
       "       [1., 1., 1.]])"
      ]
     },
     "execution_count": 28,
     "metadata": {},
     "output_type": "execute_result"
    }
   ],
   "source": [
    "M"
   ]
  },
  {
   "cell_type": "code",
   "execution_count": 29,
   "id": "still-cooling",
   "metadata": {},
   "outputs": [
    {
     "data": {
      "text/plain": [
       "array([0, 1, 2])"
      ]
     },
     "execution_count": 29,
     "metadata": {},
     "output_type": "execute_result"
    }
   ],
   "source": [
    "a"
   ]
  },
  {
   "cell_type": "markdown",
   "id": "sticky-craft",
   "metadata": {},
   "source": [
    "Let's consider an op on these two arrays. The shapes of the arrays are\n",
    "- M.shape = (2, 3)\n",
    "- a.shape = (3,)\n",
    "\n",
    "We see by rule 1 that `a` has fewer dimensions, so we pad **its shape** on the left with ones:\n",
    "- M.shape -> (2, 3)\n",
    "- a.shape -> (1,3)\n",
    "\n",
    "By rule 2, we now see that the first dimension disagrees, so we **stretch this dimension** to match:\n",
    "- M.shape -> (2, 3)\n",
    "- a.shape -> (2, 3)\n",
    "\n",
    "The shapes match then, and we see that the final shape will be (2, 3):"
   ]
  },
  {
   "cell_type": "code",
   "execution_count": 30,
   "id": "boolean-hammer",
   "metadata": {},
   "outputs": [
    {
     "data": {
      "text/plain": [
       "array([[1., 2., 3.],\n",
       "       [1., 2., 3.]])"
      ]
     },
     "execution_count": 30,
     "metadata": {},
     "output_type": "execute_result"
    }
   ],
   "source": [
    "M + a"
   ]
  },
  {
   "cell_type": "markdown",
   "id": "weird-retail",
   "metadata": {},
   "source": [
    "### **Broadcasting example 2**\n",
    "\n",
    "Let's take a look at an example where both arrays need to be broadcast:"
   ]
  },
  {
   "cell_type": "code",
   "execution_count": 34,
   "id": "persistent-honolulu",
   "metadata": {},
   "outputs": [],
   "source": [
    "a = np.arange(3).reshape((3, 1))\n",
    "b = np.arange(3)"
   ]
  },
  {
   "cell_type": "code",
   "execution_count": 35,
   "id": "available-italy",
   "metadata": {},
   "outputs": [
    {
     "data": {
      "text/plain": [
       "array([[0],\n",
       "       [1],\n",
       "       [2]])"
      ]
     },
     "execution_count": 35,
     "metadata": {},
     "output_type": "execute_result"
    }
   ],
   "source": [
    "a"
   ]
  },
  {
   "cell_type": "code",
   "execution_count": 36,
   "id": "approved-catering",
   "metadata": {},
   "outputs": [
    {
     "data": {
      "text/plain": [
       "array([0, 1, 2])"
      ]
     },
     "execution_count": 36,
     "metadata": {},
     "output_type": "execute_result"
    }
   ],
   "source": [
    "b"
   ]
  },
  {
   "cell_type": "markdown",
   "id": "tutorial-dominant",
   "metadata": {},
   "source": [
    "Again, we'll start by writing out the shapes of the arrays:\n",
    "- a.shape = (3, 1)\n",
    "- b.shape = (3,)\n",
    "\n",
    "Rule 1 says that we must **pad the shape of `b`** with `1`:\n",
    "- a.shape -> (3, 1)\n",
    "- b.shape -> (1, 3)\n",
    "\n",
    "Rule 2 says that we must **upgrade each of the `1`** of both arrays to match the corresponding size of the other array:\n",
    "- a.shape -> (3, 3)\n",
    "- b.shape -> (3, 3)\n",
    "\n",
    "Because the result matches, these shapes are compatible. We can see this here:"
   ]
  },
  {
   "cell_type": "code",
   "execution_count": 37,
   "id": "downtown-texture",
   "metadata": {},
   "outputs": [
    {
     "data": {
      "text/plain": [
       "array([[0, 1, 2],\n",
       "       [1, 2, 3],\n",
       "       [2, 3, 4]])"
      ]
     },
     "execution_count": 37,
     "metadata": {},
     "output_type": "execute_result"
    }
   ],
   "source": [
    "a + b"
   ]
  },
  {
   "cell_type": "markdown",
   "id": "african-theta",
   "metadata": {},
   "source": [
    "### **Broadcasting example 3**\n",
    "\n",
    "Now let's take a look at an example in which the two arrays are not compatible:"
   ]
  },
  {
   "cell_type": "code",
   "execution_count": 38,
   "id": "descending-noise",
   "metadata": {},
   "outputs": [],
   "source": [
    "M = np.ones((3, 2))\n",
    "a = np.arange(3)"
   ]
  },
  {
   "cell_type": "code",
   "execution_count": 39,
   "id": "numerous-headquarters",
   "metadata": {},
   "outputs": [
    {
     "data": {
      "text/plain": [
       "array([[1., 1.],\n",
       "       [1., 1.],\n",
       "       [1., 1.]])"
      ]
     },
     "execution_count": 39,
     "metadata": {},
     "output_type": "execute_result"
    }
   ],
   "source": [
    "M"
   ]
  },
  {
   "cell_type": "code",
   "execution_count": 40,
   "id": "included-syndicate",
   "metadata": {},
   "outputs": [
    {
     "data": {
      "text/plain": [
       "array([0, 1, 2])"
      ]
     },
     "execution_count": 40,
     "metadata": {},
     "output_type": "execute_result"
    }
   ],
   "source": [
    "a"
   ]
  },
  {
   "cell_type": "markdown",
   "id": "valid-birthday",
   "metadata": {},
   "source": [
    "This is just a slightly different situation than in the first example: the matrix `M` is transposed. How does this affect the calculation ? The shape of the arrays are \n",
    "- M.shape = (3, 2)\n",
    "- a.shape = (3,)\n",
    "\n",
    "Again, rule 1 tells us that we must **pad the shape of `a`** with ones:\n",
    "- M.shape -> (3, 2)\n",
    "- a.shape -> (1, 3)\n",
    "\n",
    "By rule 2, the first dimension of `a` is stretched to match that of `M`:\n",
    "- M.shape -> (3, 2)\n",
    "- a.shape -> (3, 3)\n",
    "\n",
    "Now we hit rule 3 - the final shapes do not match, so these arrays are incompatible, as we can observe by attempting this operation:"
   ]
  },
  {
   "cell_type": "code",
   "execution_count": 41,
   "id": "social-timeline",
   "metadata": {},
   "outputs": [
    {
     "ename": "ValueError",
     "evalue": "operands could not be broadcast together with shapes (3,2) (3,) ",
     "output_type": "error",
     "traceback": [
      "\u001b[0;31m---------------------------------------------------------------------------\u001b[0m",
      "\u001b[0;31mValueError\u001b[0m                                Traceback (most recent call last)",
      "\u001b[0;32m<ipython-input-41-8cac1d547906>\u001b[0m in \u001b[0;36m<module>\u001b[0;34m\u001b[0m\n\u001b[0;32m----> 1\u001b[0;31m \u001b[0mM\u001b[0m \u001b[0;34m+\u001b[0m \u001b[0ma\u001b[0m\u001b[0;34m\u001b[0m\u001b[0;34m\u001b[0m\u001b[0m\n\u001b[0m",
      "\u001b[0;31mValueError\u001b[0m: operands could not be broadcast together with shapes (3,2) (3,) "
     ]
    }
   ],
   "source": [
    "M + a"
   ]
  },
  {
   "cell_type": "markdown",
   "id": "silver-miracle",
   "metadata": {},
   "source": [
    "Note the potential confusion here: you could imagine `a` and `M` compatible by padding `a` shape with ones on the right rather than on the left. But this is not how broadcasting rules work! That sort of flexibility might be useful in some cases, but it would lead to potential areas of ambiguity. If right-side padding is what you'd like, you can do this explicitly by reshaping the array (using `np.newaxis`)."
   ]
  },
  {
   "cell_type": "code",
   "execution_count": 42,
   "id": "empirical-hudson",
   "metadata": {},
   "outputs": [
    {
     "data": {
      "text/plain": [
       "(3, 1)"
      ]
     },
     "execution_count": 42,
     "metadata": {},
     "output_type": "execute_result"
    }
   ],
   "source": [
    "a[:, np.newaxis].shape"
   ]
  },
  {
   "cell_type": "code",
   "execution_count": 43,
   "id": "musical-theorem",
   "metadata": {},
   "outputs": [
    {
     "data": {
      "text/plain": [
       "array([[1., 1.],\n",
       "       [2., 2.],\n",
       "       [3., 3.]])"
      ]
     },
     "execution_count": 43,
     "metadata": {},
     "output_type": "execute_result"
    }
   ],
   "source": [
    "M + a[:, np.newaxis]"
   ]
  },
  {
   "cell_type": "markdown",
   "id": "exact-persian",
   "metadata": {},
   "source": [
    "Also note that while we've been focusing on the `+` operator here, these broadcasting rules apply to *any* binary `ufunc`. For example, here is the `logaddexp(a, b)` function, which computes `log(exp(a) + exp(b))` with more precision than the naive approach:"
   ]
  },
  {
   "cell_type": "code",
   "execution_count": 44,
   "id": "hundred-tutorial",
   "metadata": {},
   "outputs": [
    {
     "data": {
      "text/plain": [
       "array([[1.31326169, 1.31326169],\n",
       "       [1.69314718, 1.69314718],\n",
       "       [2.31326169, 2.31326169]])"
      ]
     },
     "execution_count": 44,
     "metadata": {},
     "output_type": "execute_result"
    }
   ],
   "source": [
    "np.logaddexp(M, a[:, np.newaxis])"
   ]
  },
  {
   "cell_type": "markdown",
   "id": "exciting-algeria",
   "metadata": {},
   "source": [
    "## **Broadcasting in practice**\n",
    "\n",
    "We'll now take a look at examples where broadcasting ops may be useful.\n",
    "\n",
    "### **Centering an array**\n",
    "\n",
    "`ufunc`s allow a NumPy user to remove the need to write slow Python loops. Broadcasting extends this ability. One common example is centering an array of data. Imagine that you have an array of 10 observations, each of which consists of 3 values. Using the standard convention, we'll store this in a `10*3` array:"
   ]
  },
  {
   "cell_type": "code",
   "execution_count": 48,
   "id": "certified-pathology",
   "metadata": {},
   "outputs": [
    {
     "data": {
      "text/plain": [
       "array([[0.29847431, 0.03397045, 0.1675035 ],\n",
       "       [0.55778792, 0.28011893, 0.93670019],\n",
       "       [0.09351166, 0.78491466, 0.33911991],\n",
       "       [0.72387173, 0.52905176, 0.89376664],\n",
       "       [0.94759584, 0.99138359, 0.36769007],\n",
       "       [0.25523003, 0.09133683, 0.63431371],\n",
       "       [0.68741668, 0.18864808, 0.4190478 ],\n",
       "       [0.85831013, 0.32986121, 0.25730015],\n",
       "       [0.98010224, 0.45538433, 0.57782314],\n",
       "       [0.44456841, 0.24191815, 0.65161778]])"
      ]
     },
     "execution_count": 48,
     "metadata": {},
     "output_type": "execute_result"
    }
   ],
   "source": [
    "X = np.random.random((10,3))\n",
    "X"
   ]
  },
  {
   "cell_type": "markdown",
   "id": "embedded-berry",
   "metadata": {},
   "source": [
    "We can compute the mean of each feature using the mean aggregate across the first dimension:"
   ]
  },
  {
   "cell_type": "code",
   "execution_count": 50,
   "id": "informational-ground",
   "metadata": {},
   "outputs": [
    {
     "data": {
      "text/plain": [
       "array([0.58468689, 0.3926588 , 0.52448829])"
      ]
     },
     "execution_count": 50,
     "metadata": {},
     "output_type": "execute_result"
    }
   ],
   "source": [
    "X_mean = X.mean(0)\n",
    "X_mean"
   ]
  },
  {
   "cell_type": "markdown",
   "id": "impaired-filter",
   "metadata": {},
   "source": [
    "And now we can center `X` by subtracting its mean (this is a broadcasting op):"
   ]
  },
  {
   "cell_type": "code",
   "execution_count": 68,
   "id": "efficient-choice",
   "metadata": {},
   "outputs": [],
   "source": [
    "X_centered = X - X_mean\n",
    "X_centered"
   ]
  },
  {
   "cell_type": "markdown",
   "id": "demonstrated-fireplace",
   "metadata": {},
   "source": [
    "To double-check that we've done this correctly, we can check that the centered array has near-`0` mean:"
   ]
  },
  {
   "cell_type": "code",
   "execution_count": 70,
   "id": "outer-culture",
   "metadata": {},
   "outputs": [
    {
     "data": {
      "text/plain": [
       "array([ 0.00000000e+00, -2.22044605e-17,  5.55111512e-17])"
      ]
     },
     "execution_count": 70,
     "metadata": {},
     "output_type": "execute_result"
    }
   ],
   "source": [
    "X_centered.mean(0)"
   ]
  },
  {
   "cell_type": "markdown",
   "id": "perceived-aquarium",
   "metadata": {},
   "source": [
    "To within machine precision, the mean is now `0`\n",
    "\n",
    "### **Plotting a two-dimensional function**\n",
    "\n",
    "One place that broadcasting is very useful is in displaying images based on two-dimensional functions. If we want to define a function $z=f(x,y)$, broadcasting can be used to compute the functino across the grid:"
   ]
  },
  {
   "cell_type": "code",
   "execution_count": 79,
   "id": "operational-child",
   "metadata": {},
   "outputs": [],
   "source": [
    "# x and y have 50 steps from 0 to 5\n",
    "x = np.linspace(0, 5, 50)\n",
    "y = np.linspace(0, 5, 50)[:, np.newaxis]\n",
    "\n",
    "z = np.sin(x) ** 10 + np.cos(10 + y * x) * np.cos(x)"
   ]
  },
  {
   "cell_type": "markdown",
   "id": "relative-throat",
   "metadata": {},
   "source": [
    "We'll use Matplotlib to plot this two-dimensional array"
   ]
  },
  {
   "cell_type": "code",
   "execution_count": 80,
   "id": "constant-albania",
   "metadata": {},
   "outputs": [],
   "source": [
    "%matplotlib inline\n",
    "import matplotlib.pyplot as plt"
   ]
  },
  {
   "cell_type": "code",
   "execution_count": 81,
   "id": "unlikely-behavior",
   "metadata": {},
   "outputs": [
    {
     "data": {
      "image/png": "[encoded data removed]",
      "text/plain": [
       "<Figure size 432x288 with 2 Axes>"
      ]
     },
     "metadata": {
      "needs_background": "light"
     },
     "output_type": "display_data"
    }
   ],
   "source": [
    "plt.imshow(z, origin=\"lower\", extent=[0, 5, 0, 5], cmap=\"viridis\")\n",
    "plt.colorbar();"
   ]
  },
  {
   "cell_type": "markdown",
   "id": "faced-blues",
   "metadata": {},
   "source": [
    "The result is a compelling visualisation of the two-dimensional function."
   ]
  }
 ],
 "metadata": {
  "kernelspec": {
   "display_name": "Python 3",
   "language": "python",
   "name": "python3"
  },
  "language_info": {
   "codemirror_mode": {
    "name": "ipython",
    "version": 3
   },
   "file_extension": ".py",
   "mimetype": "text/x-python",
   "name": "python",
   "nbconvert_exporter": "python",
   "pygments_lexer": "ipython3",
   "version": "3.8.5"
  }
 },
 "nbformat": 4,
 "nbformat_minor": 5
}
