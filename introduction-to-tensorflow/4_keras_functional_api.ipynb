{
 "cells": [
  {
   "cell_type": "markdown",
   "id": "planned-beauty",
   "metadata": {},
   "source": [
    "# Introducing the Keras Functional API"
   ]
  },
  {
   "cell_type": "markdown",
   "id": "resistant-strain",
   "metadata": {},
   "source": [
    "**Learning objectives**"
   ]
  },
  {
   "cell_type": "markdown",
   "id": "driving-incident",
   "metadata": {},
   "source": [
    "1. Understand embeddings and how to create them with the `feature_column` API\n",
    "2. Understand deep and wide models and when to use them\n",
    "3. Understand the Keras functional API and how to build a deep and wide model with it"
   ]
  },
  {
   "cell_type": "markdown",
   "id": "unexpected-instrumentation",
   "metadata": {},
   "source": [
    "## Introduction"
   ]
  },
  {
   "cell_type": "markdown",
   "id": "hearing-despite",
   "metadata": {},
   "source": [
    "The [Keras Functional API](https://www.tensorflow.org/guide/keras/sequential_model#functional_api) provides an alternate way of building models which is more flexible. With the Functional API, we can build models with more complex topologies, multiple input or output layers, shared layers or non-sequential data flows (e.g. residual layers)."
   ]
  },
  {
   "cell_type": "markdown",
   "id": "thorough-structure",
   "metadata": {},
   "source": [
    "In this notebook we'll use what we learned about feature columns to build a Wide & Deep model. Recall, that the idea behind Wide & Deep models is to join the two methods of learning through memorisation and generalisation by baking a wide linear model and a deep learning model to accommodate both. You can have a look at the original research paper here: [Wide & Deep Learning for Recommender Systems](https://arxiv.org/abs/1606.07792)."
   ]
  },
  {
   "cell_type": "markdown",
   "id": "micro-calibration",
   "metadata": {},
   "source": [
    "<img src=\"img/wide_deep.png\" style=\"width:600px;height:150px;\">"
   ]
  },
  {
   "cell_type": "markdown",
   "id": "challenging-munich",
   "metadata": {},
   "source": [
    "The Wide part of the model is associated with the memory element. In this case, we train a linear model with a wide set of crossed features and learn the correlation of this related data with the assigned label. The Deep part of the model is associated with the generalisation element where we use embedding vectors for features. The best embeddings are then learned through the training process. While both of these methods can work well alone, Wide & Deep models excel by combining these techniques together."
   ]
  },
  {
   "cell_type": "code",
   "execution_count": 2,
   "id": "accompanied-henry",
   "metadata": {},
   "outputs": [
    {
     "name": "stdout",
     "output_type": "stream",
     "text": [
      "2.4.1\n"
     ]
    }
   ],
   "source": [
    "# Importing necessary modules/libraries such as NumPy, Pandas and datetime\n",
    "import datetime\n",
    "import os\n",
    "import shutil\n",
    "\n",
    "import numpy as np\n",
    "import pandas as pd\n",
    "import tensorflow as tf\n",
    "\n",
    "from matplotlib import pyplot as plt\n",
    "%matplotlib inline\n",
    "from tensorflow import keras\n",
    "\n",
    "from tensorflow import feature_column as fc\n",
    "\n",
    "from tensorflow.keras import Model\n",
    "from tensorflow.keras.layers import Input, Dense, DenseFeatures, concatenate\n",
    "from tensorflow.keras.callbacks import TensorBoard\n",
    "\n",
    "print(tf.__version__)"
   ]
  },
  {
   "cell_type": "markdown",
   "id": "environmental-automation",
   "metadata": {},
   "source": [
    "## Load raw data"
   ]
  },
  {
   "cell_type": "markdown",
   "id": "waiting-given",
   "metadata": {},
   "source": [
    "We will use the taxifare data set."
   ]
  },
  {
   "cell_type": "code",
   "execution_count": 7,
   "id": "traditional-watts",
   "metadata": {},
   "outputs": [
    {
     "name": "stdout",
     "output_type": "stream",
     "text": [
      "-rw-r--r-- 1 antounes antounes 123589 mars  16 18:20 data/taxi-test.csv\r\n",
      "-rw-r--r-- 1 antounes antounes 579054 mars  16 18:21 data/taxi-train.csv\r\n",
      "-rw-rw-r-- 1 antounes antounes 123113 mars  16 18:21 data/taxi-valid.csv\r\n"
     ]
    }
   ],
   "source": [
    "!ls -l data/taxi*"
   ]
  },
  {
   "cell_type": "markdown",
   "id": "absent-leadership",
   "metadata": {},
   "source": [
    "## Use `tf.data` to read the CSV files"
   ]
  },
  {
   "cell_type": "markdown",
   "id": "insured-lodge",
   "metadata": {},
   "source": [
    "For this lab, we will include some engineered features in our model. In particular, we will compute the difference in latitude and longitude, as well as the Euclidean distance between the pick-up and drop-off locations. We can accomplish this by adding these new features to the features dictionary with the function `add_engineered_features` below."
   ]
  },
  {
   "cell_type": "markdown",
   "id": "capable-plumbing",
   "metadata": {},
   "source": [
    "Note that we include a call to this function when collecting our features and labels `dict` in the `features_and_labels` function below as well."
   ]
  },
  {
   "cell_type": "code",
   "execution_count": 17,
   "id": "pleased-security",
   "metadata": {},
   "outputs": [],
   "source": [
    "# Selecting specific CSV_COLUMNS, LABEL_COLUMN, DEFAULTS, UNWANTED_COLS\n",
    "CSV_COLUMNS = [\n",
    "    \"fare_amount\",\n",
    "    \"pickup_datetime\",\n",
    "    \"pickup_longitude\",\n",
    "    \"pickup_latitude\",\n",
    "    \"dropoff_longitude\",\n",
    "    \"dropoff_latitude\",\n",
    "    \"passenger_count\",\n",
    "    \"key\"\n",
    "]\n",
    "LABEL_COLUMN = \"fare_amount\"\n",
    "DEFAULTS = [[0.0], \"na\", [0.0], [0.0], [0.0], [0.0], [0.0], [\"na\"]]\n",
    "UNWANTED_COLS = [\"pickup_datetime\", \"key\"]\n",
    "\n",
    "# Create an input function reading a file using the `tf.data.Dataset` API\n",
    "def features_and_labels(row_data):\n",
    "    label = row_data.pop(LABEL_COLUMN)\n",
    "    features = row_data\n",
    "    \n",
    "    for unwanted_col in UNWANTED_COLS:\n",
    "        features.pop(unwanted_col)\n",
    "    \n",
    "    return features, label\n",
    "\n",
    "# Reading CSV files into a `tf.data.Dataset`\n",
    "def create_dataset(pattern, batch_size=1, mode=\"eval\"):\n",
    "    dataset = tf.data.experimental.make_csv_dataset(\n",
    "        pattern, batch_size, CSV_COLUMNS, DEFAULTS)\n",
    "    \n",
    "    dataset = dataset.map(features_and_labels)\n",
    "    \n",
    "    if mode == \"train\":\n",
    "        dataset = dataset.shuffle(buffer_size=1000).repeat()\n",
    "    \n",
    "    # Take advantage of multi-threading; 1=AUTOTUNE\n",
    "    dataset = dataset.prefetch(1)\n",
    "    return dataset"
   ]
  },
  {
   "cell_type": "markdown",
   "id": "consecutive-charter",
   "metadata": {},
   "source": [
    "## Feature columns for Wide and Deep model"
   ]
  },
  {
   "cell_type": "markdown",
   "id": "played-costs",
   "metadata": {},
   "source": [
    "For the Wide columns, we will create feature columns of crossed features. To do this we'll create a collection of TensorFlow feature columns to pass to the `tf.feature_column.crossed_column` constructor. The Deep columns will consist of numeric columns and the embedding columns we want to create"
   ]
  },
  {
   "cell_type": "code",
   "execution_count": 9,
   "id": "fewer-slovakia",
   "metadata": {},
   "outputs": [],
   "source": [
    "# Bucketise latitudes and longitudes\n",
    "NBUCKETS = 16\n",
    "latbuckets = np.linspace(start=38.0, stop=42.0, num=NBUCKETS).tolist()\n",
    "lonbuckets = np.linspace(start=-76.0, stop=-72.0, num=NBUCKETS).tolist()\n",
    "\n",
    "fc_bucketized_plat = tf.feature_column.bucketized_column(\n",
    "    source_column=tf.feature_column.numeric_column(\"pickup_latitude\"), boundaries=latbuckets)\n",
    "fc_bucketized_plon = tf.feature_column.bucketized_column(\n",
    "    source_column=tf.feature_column.numeric_column(\"pickup_longitude\"), boundaries=lonbuckets)\n",
    "fc_bucketized_dlat = tf.feature_column.bucketized_column(\n",
    "    source_column=tf.feature_column.numeric_column(\"dropoff_latitude\"), boundaries=latbuckets)\n",
    "fc_bucketized_dlon = tf.feature_column.bucketized_column(\n",
    "    source_column=tf.feature_column.numeric_column(\"dropoff_longitude\"), boundaries=lonbuckets)\n",
    "\n",
    "# Cross features for locations\n",
    "fc_crossed_dloc = tf.feature_column.crossed_column(\n",
    "    [fc_bucketized_dlat, fc_bucketized_dlon],\n",
    "    hash_bucket_size=NBUCKETS*NBUCKETS)\n",
    "fc_crossed_ploc = tf.feature_column.crossed_column(\n",
    "    [fc_bucketized_plat, fc_bucketized_plon],\n",
    "    hash_bucket_size=NBUCKETS*NBUCKETS)\n",
    "fc_crossed_pd_pair = tf.feature_column.crossed_column(\n",
    "    [fc_crossed_dloc, fc_crossed_ploc],\n",
    "    hash_bucket_size=NBUCKETS**4)\n",
    "\n",
    "# Create embedding columns for the crossed columns\n",
    "fc_pd_pair = tf.feature_column.embedding_column(categorical_column=fc_crossed_pd_pair, dimension=3)\n",
    "fc_dloc = tf.feature_column.embedding_column(categorical_column=fc_crossed_dloc, dimension=3)\n",
    "fc_ploc = tf.feature_column.embedding_column(categorical_column=fc_crossed_ploc, dimension=3)"
   ]
  },
  {
   "cell_type": "markdown",
   "id": "derived-scratch",
   "metadata": {},
   "source": [
    "## Gather list of feature columns"
   ]
  },
  {
   "cell_type": "markdown",
   "id": "harmful-samba",
   "metadata": {},
   "source": [
    "Next we gather the list of wide and deep feature columns we'll pass to our Wide & Deep model in TensorFlow. Recall, wide columns are sparse, have linear relationship with the output while deep columns are dense and have a complex relationship with the output. We will use our previously bucketised columns to collect crossed feature columns and sparse feature columns for our wide columns, and embedding feature columns and numeric feature columns for the deep columns."
   ]
  },
  {
   "cell_type": "code",
   "execution_count": 10,
   "id": "continued-evolution",
   "metadata": {},
   "outputs": [],
   "source": [
    "wide_columns = [\n",
    "    # One-hot encoded feature crosses\n",
    "    tf.feature_column.indicator_column(fc_crossed_dloc),\n",
    "    tf.feature_column.indicator_column(fc_crossed_ploc),\n",
    "    tf.feature_column.indicator_column(fc_crossed_pd_pair)\n",
    "]\n",
    "\n",
    "deep_columns = [\n",
    "    # Embedding column to \"group\" together\n",
    "    tf.feature_column.embedding_column(fc_crossed_pd_pair, dimension=10),\n",
    "    # Numeric columns\n",
    "    tf.feature_column.numeric_column(\"pickup_latitude\"),\n",
    "    tf.feature_column.numeric_column(\"pickup_longitude\"),\n",
    "    tf.feature_column.numeric_column(\"dropoff_longitude\"),\n",
    "    tf.feature_column.numeric_column(\"dropoff_latitude\")\n",
    "]"
   ]
  },
  {
   "cell_type": "markdown",
   "id": "accessory-silence",
   "metadata": {},
   "source": [
    "## Build a Wide & Deep model in Keras"
   ]
  },
  {
   "cell_type": "markdown",
   "id": "geographic-conservation",
   "metadata": {},
   "source": [
    "To build a Wide & Deep network, we connect the sparse (i.e. wide) features directly to the output node, but pass the dense (i.e. deep) features through a set of fully connected layers. Here's what the model architecture looks like using the Functional API."
   ]
  },
  {
   "cell_type": "markdown",
   "id": "deluxe-contrast",
   "metadata": {},
   "source": [
    "First, we'll create our input columns using `tf.keras.layers.Input`"
   ]
  },
  {
   "cell_type": "code",
   "execution_count": 11,
   "id": "literary-brooklyn",
   "metadata": {},
   "outputs": [],
   "source": [
    "INPUT_COLS = [\n",
    "    \"pickup_longitude\",\n",
    "    \"pickup_latitude\",\n",
    "    \"dropoff_longitude\",\n",
    "    \"dropoff_latitude\",\n",
    "    \"passenger_count\"\n",
    "]\n",
    "\n",
    "inputs = {\n",
    "    colname: tf.keras.layers.Input(name=colname, shape=(), dtype=\"float32\")\n",
    "    for colname in INPUT_COLS\n",
    "}"
   ]
  },
  {
   "cell_type": "markdown",
   "id": "geological-selling",
   "metadata": {},
   "source": [
    "Then, we'll define our custom RMSE evaluation metric and build our Wide & Deep model."
   ]
  },
  {
   "cell_type": "code",
   "execution_count": 14,
   "id": "commercial-funds",
   "metadata": {},
   "outputs": [],
   "source": [
    "# Here, `tf.reduce_mean` computes the mean of the elements across the dimensions of a tensor\n",
    "# `tf.sqrt` computes element-wise square root of the input tensor\n",
    "# `tf.square` computes element-wise square of input tensor\n",
    "def rmse(y_true, y_pred):\n",
    "    return tf.sqrt(tf.reduce_mean(tf.square(y_pred - y_true)))\n",
    "\n",
    "def build_model(dnn_hidden_units):\n",
    "    # Create the Deep part of the model\n",
    "    deep = tf.keras.layers.DenseFeatures(deep_columns, name=\"deep_inputs\")(inputs)\n",
    "    for num_nodes in dnn_hidden_units:\n",
    "        deep = tf.keras.layers.Dense(num_nodes, activation=\"relu\")(deep)\n",
    "    \n",
    "    # Create the Wide part of the model\n",
    "    wide = tf.keras.layers.DenseFeatures(wide_columns, name=\"wide_inputs\")(inputs)\n",
    "    \n",
    "    # Combine deep and wide parts of the model\n",
    "    combined = tf.keras.layers.concatenate(inputs=[deep, wide], name=\"combined\")\n",
    "    \n",
    "    # Map the combined outputs into a single prediction value\n",
    "    output = tf.keras.layers.Dense(units=1, activation=None, name=\"prediction\")(combined)\n",
    "    \n",
    "    # Finalise the model\n",
    "    model = tf.keras.Model(inputs=list(inputs.values()), outputs=output)\n",
    "    \n",
    "    # Compile the keras model\n",
    "    model.compile(optimizer=\"adam\", loss=\"mse\", metrics=[rmse, \"mse\"])\n",
    "    \n",
    "    return model"
   ]
  },
  {
   "cell_type": "markdown",
   "id": "interior-honey",
   "metadata": {},
   "source": [
    "Next, we can call the `build_model` to create the model. Here we'll have two hidden layers, each with $10$ neurons, for the deep part of our model. We can also use `plot_model` to see a diagram of the model we've created."
   ]
  },
  {
   "cell_type": "code",
   "execution_count": 15,
   "id": "formal-element",
   "metadata": {},
   "outputs": [
    {
     "data": {
      "image/png": "[encoded data removed]",
      "text/plain": [
       "<IPython.core.display.Image object>"
      ]
     },
     "execution_count": 15,
     "metadata": {},
     "output_type": "execute_result"
    }
   ],
   "source": [
    "HIDDEN_UNITS = [10, 10]\n",
    "\n",
    "# Calling the `build_model`\n",
    "model = build_model(dnn_hidden_units=HIDDEN_UNITS)\n",
    "\n",
    "# Converts a Keras `plot_model` to see a diagram of the model that we have created\n",
    "tf.keras.utils.plot_model(model, show_shapes=False, rankdir=\"LR\")"
   ]
  },
  {
   "cell_type": "markdown",
   "id": "floral-sunday",
   "metadata": {},
   "source": [
    "Next, we'll set up our training variables, create our data sets for training and validation, and train our model. "
   ]
  },
  {
   "cell_type": "markdown",
   "id": "happy-violin",
   "metadata": {},
   "source": [
    "(We could refer to the blog post [ML Design Pattern #3: Virtual Epochs](https://medium.com/google-cloud/ml-design-pattern-3-virtual-epochs-f842296de730) for futher details on why express the training in terms of `NUM_TRAIN_EXAMPLES` and `NUM_EVALS` and why, in this training code, the number of epochs is really equal to the number of evaluations we perform.)"
   ]
  },
  {
   "cell_type": "code",
   "execution_count": 18,
   "id": "excessive-quantum",
   "metadata": {},
   "outputs": [],
   "source": [
    "BATCH_SIZE = 1000\n",
    "NUM_TRAIN_EXAMPLES = 10000 * 5 # Training data set will repeat, wrap around\n",
    "NUM_EVALS = 50 # How many times to evaluate\n",
    "NUM_EVAL_EXAMPLES = 10000 # Enough to get a reasonable sample\n",
    "\n",
    "trainds = create_dataset(\n",
    "    pattern=\"data/taxi-train*\",\n",
    "    batch_size=BATCH_SIZE,\n",
    "    mode=\"train\")\n",
    "\n",
    "evalds = create_dataset(\n",
    "    pattern=\"data/taxi-valid*\",\n",
    "    batch_size=BATCH_SIZE,\n",
    "    mode=\"eval\").take(NUM_EVAL_EXAMPLES//1000)"
   ]
  },
  {
   "cell_type": "code",
   "execution_count": 19,
   "id": "fundamental-vertical",
   "metadata": {},
   "outputs": [
    {
     "name": "stdout",
     "output_type": "stream",
     "text": [
      "Epoch 1/50\n",
      "1/1 [==============================] - 34s 34s/step - loss: 228.6106 - rmse: 15.1199 - mse: 228.6106 - val_loss: 248.9886 - val_rmse: 15.7705 - val_mse: 248.9886\n",
      "Epoch 2/50\n",
      "1/1 [==============================] - 3s 3s/step - loss: 232.6816 - rmse: 15.2539 - mse: 232.6816 - val_loss: 247.2655 - val_rmse: 15.7133 - val_mse: 247.2655\n",
      "Epoch 3/50\n",
      "1/1 [==============================] - 3s 3s/step - loss: 280.0049 - rmse: 16.7333 - mse: 280.0049 - val_loss: 245.4750 - val_rmse: 15.6553 - val_mse: 245.4750\n",
      "Epoch 4/50\n",
      "1/1 [==============================] - 3s 3s/step - loss: 231.5777 - rmse: 15.2177 - mse: 231.5777 - val_loss: 243.4854 - val_rmse: 15.5961 - val_mse: 243.4854\n",
      "Epoch 5/50\n",
      "1/1 [==============================] - 3s 3s/step - loss: 232.0846 - rmse: 15.2343 - mse: 232.0846 - val_loss: 237.5916 - val_rmse: 15.3992 - val_mse: 237.5916\n",
      "Epoch 6/50\n",
      "1/1 [==============================] - 4s 4s/step - loss: 239.7457 - rmse: 15.4837 - mse: 239.7457 - val_loss: 239.6061 - val_rmse: 15.4683 - val_mse: 239.6061\n",
      "Epoch 7/50\n",
      "1/1 [==============================] - 4s 4s/step - loss: 193.0262 - rmse: 13.8934 - mse: 193.0262 - val_loss: 238.5419 - val_rmse: 15.4408 - val_mse: 238.5419\n",
      "Epoch 8/50\n",
      "1/1 [==============================] - 4s 4s/step - loss: 199.7598 - rmse: 14.1336 - mse: 199.7598 - val_loss: 236.0289 - val_rmse: 15.3559 - val_mse: 236.0289\n",
      "Epoch 9/50\n",
      "1/1 [==============================] - 4s 4s/step - loss: 207.6029 - rmse: 14.4084 - mse: 207.6029 - val_loss: 232.9050 - val_rmse: 15.2425 - val_mse: 232.9050\n",
      "Epoch 10/50\n",
      "1/1 [==============================] - 3s 3s/step - loss: 191.8377 - rmse: 13.8505 - mse: 191.8377 - val_loss: 233.5426 - val_rmse: 15.2737 - val_mse: 233.5426\n",
      "Epoch 11/50\n",
      "1/1 [==============================] - 6s 6s/step - loss: 213.8938 - rmse: 14.6251 - mse: 213.8938 - val_loss: 231.5296 - val_rmse: 15.1991 - val_mse: 231.5296\n",
      "Epoch 12/50\n",
      "1/1 [==============================] - 4s 4s/step - loss: 200.4107 - rmse: 14.1566 - mse: 200.4107 - val_loss: 227.8922 - val_rmse: 15.0910 - val_mse: 227.8922\n",
      "Epoch 13/50\n",
      "1/1 [==============================] - 4s 4s/step - loss: 212.5004 - rmse: 14.5774 - mse: 212.5004 - val_loss: 228.3564 - val_rmse: 15.1019 - val_mse: 228.3564\n",
      "Epoch 14/50\n",
      "1/1 [==============================] - 4s 4s/step - loss: 210.7267 - rmse: 14.5164 - mse: 210.7267 - val_loss: 224.2286 - val_rmse: 14.9508 - val_mse: 224.2286\n",
      "Epoch 15/50\n",
      "1/1 [==============================] - 3s 3s/step - loss: 202.1300 - rmse: 14.2172 - mse: 202.1300 - val_loss: 223.1351 - val_rmse: 14.9255 - val_mse: 223.1351\n",
      "Epoch 16/50\n",
      "1/1 [==============================] - 3s 3s/step - loss: 191.6317 - rmse: 13.8431 - mse: 191.6317 - val_loss: 221.1243 - val_rmse: 14.8651 - val_mse: 221.1243\n",
      "Epoch 17/50\n",
      "1/1 [==============================] - 4s 4s/step - loss: 185.1701 - rmse: 13.6077 - mse: 185.1701 - val_loss: 218.0089 - val_rmse: 14.7551 - val_mse: 218.0089\n",
      "Epoch 18/50\n",
      "1/1 [==============================] - 3s 3s/step - loss: 183.9871 - rmse: 13.5642 - mse: 183.9871 - val_loss: 216.7458 - val_rmse: 14.7136 - val_mse: 216.7458\n",
      "Epoch 19/50\n",
      "1/1 [==============================] - 3s 3s/step - loss: 249.4810 - rmse: 15.7950 - mse: 249.4810 - val_loss: 213.3055 - val_rmse: 14.5892 - val_mse: 213.3055\n",
      "Epoch 20/50\n",
      "1/1 [==============================] - 3s 3s/step - loss: 188.9320 - rmse: 13.7453 - mse: 188.9320 - val_loss: 211.8374 - val_rmse: 14.5431 - val_mse: 211.8374\n",
      "Epoch 21/50\n",
      "1/1 [==============================] - 3s 3s/step - loss: 221.4345 - rmse: 14.8807 - mse: 221.4345 - val_loss: 210.2723 - val_rmse: 14.4882 - val_mse: 210.2723\n",
      "Epoch 22/50\n",
      "1/1 [==============================] - 3s 3s/step - loss: 176.2185 - rmse: 13.2747 - mse: 176.2185 - val_loss: 206.0757 - val_rmse: 14.3459 - val_mse: 206.0757\n",
      "Epoch 23/50\n",
      "1/1 [==============================] - 3s 3s/step - loss: 187.9774 - rmse: 13.7105 - mse: 187.9774 - val_loss: 204.6543 - val_rmse: 14.2684 - val_mse: 204.6543\n",
      "Epoch 24/50\n",
      "1/1 [==============================] - 3s 3s/step - loss: 186.9501 - rmse: 13.6730 - mse: 186.9501 - val_loss: 202.5303 - val_rmse: 14.2145 - val_mse: 202.5303\n",
      "Epoch 25/50\n",
      "1/1 [==============================] - 4s 4s/step - loss: 182.3353 - rmse: 13.5032 - mse: 182.3353 - val_loss: 200.8699 - val_rmse: 14.1656 - val_mse: 200.8699\n",
      "Epoch 26/50\n",
      "1/1 [==============================] - 4s 4s/step - loss: 180.7441 - rmse: 13.4441 - mse: 180.7441 - val_loss: 197.8677 - val_rmse: 14.0655 - val_mse: 197.8677\n",
      "Epoch 27/50\n",
      "1/1 [==============================] - 4s 4s/step - loss: 179.7175 - rmse: 13.4059 - mse: 179.7175 - val_loss: 195.2258 - val_rmse: 13.9651 - val_mse: 195.2258\n",
      "Epoch 28/50\n",
      "1/1 [==============================] - 3s 3s/step - loss: 154.6573 - rmse: 12.4361 - mse: 154.6573 - val_loss: 192.7969 - val_rmse: 13.8676 - val_mse: 192.7969\n",
      "Epoch 29/50\n",
      "1/1 [==============================] - 3s 3s/step - loss: 192.3823 - rmse: 13.8702 - mse: 192.3823 - val_loss: 189.1369 - val_rmse: 13.7480 - val_mse: 189.1369\n",
      "Epoch 30/50\n",
      "1/1 [==============================] - 3s 3s/step - loss: 162.0558 - rmse: 12.7301 - mse: 162.0558 - val_loss: 187.1612 - val_rmse: 13.6656 - val_mse: 187.1612\n",
      "Epoch 31/50\n",
      "1/1 [==============================] - 3s 3s/step - loss: 178.6849 - rmse: 13.3673 - mse: 178.6849 - val_loss: 184.6805 - val_rmse: 13.5842 - val_mse: 184.6805\n",
      "Epoch 32/50\n",
      "1/1 [==============================] - 3s 3s/step - loss: 137.7555 - rmse: 11.7369 - mse: 137.7555 - val_loss: 182.0379 - val_rmse: 13.4822 - val_mse: 182.0379\n",
      "Epoch 33/50\n",
      "1/1 [==============================] - 4s 4s/step - loss: 177.9684 - rmse: 13.3405 - mse: 177.9684 - val_loss: 177.1310 - val_rmse: 13.3029 - val_mse: 177.1310\n",
      "Epoch 34/50\n",
      "1/1 [==============================] - 4s 4s/step - loss: 143.0663 - rmse: 11.9610 - mse: 143.0663 - val_loss: 176.7285 - val_rmse: 13.2840 - val_mse: 176.7285\n",
      "Epoch 35/50\n",
      "1/1 [==============================] - 3s 3s/step - loss: 140.0983 - rmse: 11.8363 - mse: 140.0983 - val_loss: 172.5294 - val_rmse: 13.1207 - val_mse: 172.5294\n",
      "Epoch 36/50\n",
      "1/1 [==============================] - 3s 3s/step - loss: 171.0524 - rmse: 13.0787 - mse: 171.0524 - val_loss: 169.5455 - val_rmse: 13.0046 - val_mse: 169.5455\n",
      "Epoch 37/50\n",
      "1/1 [==============================] - 3s 3s/step - loss: 157.3762 - rmse: 12.5450 - mse: 157.3762 - val_loss: 167.5802 - val_rmse: 12.9235 - val_mse: 167.5802\n",
      "Epoch 38/50\n",
      "1/1 [==============================] - 3s 3s/step - loss: 144.2000 - rmse: 12.0083 - mse: 144.2000 - val_loss: 167.1472 - val_rmse: 12.9230 - val_mse: 167.1472\n",
      "Epoch 39/50\n",
      "1/1 [==============================] - 3s 3s/step - loss: 152.9439 - rmse: 12.3670 - mse: 152.9439 - val_loss: 162.9622 - val_rmse: 12.7590 - val_mse: 162.9622\n",
      "Epoch 40/50\n",
      "1/1 [==============================] - 4s 4s/step - loss: 136.6541 - rmse: 11.6899 - mse: 136.6541 - val_loss: 160.8427 - val_rmse: 12.6713 - val_mse: 160.8427\n",
      "Epoch 41/50\n",
      "1/1 [==============================] - 3s 3s/step - loss: 144.7526 - rmse: 12.0313 - mse: 144.7526 - val_loss: 157.3461 - val_rmse: 12.5248 - val_mse: 157.3461\n",
      "Epoch 42/50\n",
      "1/1 [==============================] - 3s 3s/step - loss: 207.7461 - rmse: 14.4134 - mse: 207.7461 - val_loss: 156.3065 - val_rmse: 12.4930 - val_mse: 156.3065\n",
      "Epoch 43/50\n",
      "1/1 [==============================] - 3s 3s/step - loss: 123.4708 - rmse: 11.1117 - mse: 123.4708 - val_loss: 152.8298 - val_rmse: 12.3560 - val_mse: 152.8298\n",
      "Epoch 44/50\n",
      "1/1 [==============================] - 3s 3s/step - loss: 117.1188 - rmse: 10.8221 - mse: 117.1188 - val_loss: 149.6715 - val_rmse: 12.2281 - val_mse: 149.6715\n",
      "Epoch 45/50\n",
      "1/1 [==============================] - 3s 3s/step - loss: 127.6743 - rmse: 11.2993 - mse: 127.6743 - val_loss: 149.9955 - val_rmse: 12.2262 - val_mse: 149.9955\n",
      "Epoch 46/50\n",
      "1/1 [==============================] - 3s 3s/step - loss: 118.5501 - rmse: 10.8881 - mse: 118.5501 - val_loss: 146.3920 - val_rmse: 12.0925 - val_mse: 146.3920\n",
      "Epoch 47/50\n",
      "1/1 [==============================] - 3s 3s/step - loss: 103.6861 - rmse: 10.1826 - mse: 103.6861 - val_loss: 143.2569 - val_rmse: 11.9461 - val_mse: 143.2569\n",
      "Epoch 48/50\n",
      "1/1 [==============================] - 3s 3s/step - loss: 91.2915 - rmse: 9.5547 - mse: 91.2915 - val_loss: 141.3286 - val_rmse: 11.8739 - val_mse: 141.3286\n"
     ]
    },
    {
     "name": "stdout",
     "output_type": "stream",
     "text": [
      "Epoch 49/50\n",
      "1/1 [==============================] - 4s 4s/step - loss: 138.3538 - rmse: 11.7624 - mse: 138.3538 - val_loss: 140.0558 - val_rmse: 11.8233 - val_mse: 140.0558\n",
      "Epoch 50/50\n",
      "1/1 [==============================] - 4s 4s/step - loss: 119.9777 - rmse: 10.9534 - mse: 119.9777 - val_loss: 138.0844 - val_rmse: 11.7314 - val_mse: 138.0844\n",
      "CPU times: user 4min 15s, sys: 3min 58s, total: 8min 13s\n",
      "Wall time: 3min 23s\n"
     ]
    }
   ],
   "source": [
    "%%time\n",
    "# Here, %%time prints the wall time for the entire cell\n",
    "steps_per_epoch = NUM_TRAIN_EXAMPLES // (BATCH_SIZE * NUM_EVALS)\n",
    "\n",
    "OUTDIR = \"data/taxi_trained\"\n",
    "shutil.rmtree(path=OUTDIR, ignore_errors=True) # Start fresh each time\n",
    "\n",
    "history = model.fit(x=trainds,\n",
    "                   steps_per_epoch=steps_per_epoch,\n",
    "                   epochs=NUM_EVALS,\n",
    "                   validation_data=evalds,\n",
    "                   callbacks=[TensorBoard(OUTDIR)])"
   ]
  },
  {
   "cell_type": "markdown",
   "id": "remarkable-caribbean",
   "metadata": {},
   "source": [
    "We can examine the history to see how the RMSE changes through training on the train set and validation set."
   ]
  },
  {
   "cell_type": "code",
   "execution_count": 20,
   "id": "successful-quarter",
   "metadata": {},
   "outputs": [
    {
     "data": {
      "text/plain": [
       "<AxesSubplot:>"
      ]
     },
     "execution_count": 20,
     "metadata": {},
     "output_type": "execute_result"
    },
    {
     "data": {
      "image/png": "[encoded data removed]",
      "text/plain": [
       "<Figure size 432x288 with 1 Axes>"
      ]
     },
     "metadata": {
      "needs_background": "light"
     },
     "output_type": "display_data"
    }
   ],
   "source": [
    "RMSE_COLS = [\"rmse\", \"val_rmse\"]\n",
    "\n",
    "# Pandas DataFrame is a two-dimensional size-mutable, potentially heterogeneous tabular data structure \n",
    "# with labeled axes (rows and columns)\n",
    "pd.DataFrame(history.history)[RMSE_COLS].plot()"
   ]
  }
 ],
 "metadata": {
  "kernelspec": {
   "display_name": "Python 3",
   "language": "python",
   "name": "python3"
  },
  "language_info": {
   "codemirror_mode": {
    "name": "ipython",
    "version": 3
   },
   "file_extension": ".py",
   "mimetype": "text/x-python",
   "name": "python",
   "nbconvert_exporter": "python",
   "pygments_lexer": "ipython3",
   "version": "3.8.5"
  }
 },
 "nbformat": 4,
 "nbformat_minor": 5
}
