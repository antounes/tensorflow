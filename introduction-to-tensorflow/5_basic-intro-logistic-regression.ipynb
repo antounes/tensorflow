{
 "cells": [
  {
   "cell_type": "markdown",
   "id": "plastic-california",
   "metadata": {},
   "source": [
    "# **Basic introduction to Logistic Regression in TensorFlow 2.0**\n",
    "\n",
    "## **Learning Objectives**\n",
    "\n",
    "1. Build a logistic regression model\n",
    "2. Train the model on example data\n",
    "3. Use the model to make predictions about unknown data\n",
    "\n",
    "## **Introduction**\n",
    "\n",
    "This notebook walks through a classification problem. The goal is to *categorise* Iris flowers by species. TensorFlow is used for:\n",
    "- getting familiar with default eager execution environment\n",
    "- importing data with the Datasets API\n",
    "- building models and layers with the Keras API\n",
    "\n",
    "### **Configure imports**\n",
    "\n",
    "Import TensorFlow and the other required Python modules. By default, TensorFlow uses eager execution to evaluate operations immediately, returning concrete values instead of creating a computational graph to be executed (which would be lazy evaluation)."
   ]
  },
  {
   "cell_type": "code",
   "execution_count": 1,
   "id": "incorporate-princess",
   "metadata": {},
   "outputs": [
    {
     "name": "stdout",
     "output_type": "stream",
     "text": [
      "TensorFlow version: 2.4.1\n",
      "Eager execution mode: True\n"
     ]
    }
   ],
   "source": [
    "import os\n",
    "import matplotlib.pyplot as plt\n",
    "import tensorflow as tf\n",
    "print(\"TensorFlow version: {}\".format(tf.__version__))\n",
    "print(\"Eager execution mode: {}\".format(tf.executing_eagerly()))"
   ]
  },
  {
   "cell_type": "markdown",
   "id": "eleven-engagement",
   "metadata": {},
   "source": [
    "## **The Iris classification problem**\n",
    "\n",
    "Imagine you are a botanist seeking an automated way to categorise each Iris flower you find. ML provides many algorithms to classify flowers statistically. For instance, a sophisticated ML program could classify flowers based on photographs. Our ambitions are more modest here -- we are going to classify Iris flowers based on the length and width measurements of their sepals and petals.\n",
    "\n",
    "The Iris genus entails about 300 species, but our program will only classify the following three:\n",
    "- Iris setosa\n",
    "- Iris virginica\n",
    "- Iris versicolor\n",
    "Fortunately, someone has already created a data set of 120 Iris flowers with the sepal and petal measurements. This is a classic data set that is popular for basic ML classification problems."
   ]
  },
  {
   "cell_type": "markdown",
   "id": "delayed-communications",
   "metadata": {},
   "source": [
    "### **Import and parse the training data set**\n",
    "Download the data set file and convert it into a structure to be fed into TensorFlow."
   ]
  },
  {
   "cell_type": "markdown",
   "id": "cross-suspect",
   "metadata": {},
   "source": [
    "#### **Download the data set**"
   ]
  },
  {
   "cell_type": "code",
   "execution_count": 2,
   "id": "dress-rwanda",
   "metadata": {},
   "outputs": [
    {
     "name": "stdout",
     "output_type": "stream",
     "text": [
      "Local copy of the data set file: /home/antounes/.keras/datasets/iris_training.csv\n"
     ]
    }
   ],
   "source": [
    "train_url = \"https://storage.googleapis.com/download.tensorflow.org/data/iris_training.csv\"\n",
    "\n",
    "# tf.keras.utils.get_file returns an object file path named fname of the downloaded file from origin\n",
    "train_dataset_fp = tf.keras.utils.get_file(fname=os.path.basename(train_url),\n",
    "                                           origin=train_url)\n",
    "print(\"Local copy of the data set file: {}\".format(train_dataset_fp))"
   ]
  },
  {
   "cell_type": "markdown",
   "id": "speaking-witness",
   "metadata": {},
   "source": [
    "#### **Inspect the data**\n",
    "This data set, `iris_training.csv` is a plain text file that stores tabular data formatted as comma-separated values (CSV). Let's take a peek at the first five entries"
   ]
  },
  {
   "cell_type": "code",
   "execution_count": 3,
   "id": "binary-patch",
   "metadata": {},
   "outputs": [
    {
     "name": "stdout",
     "output_type": "stream",
     "text": [
      "120,4,setosa,versicolor,virginica\n",
      "6.4,2.8,5.6,2.2,2\n",
      "5.0,2.3,3.3,1.0,1\n",
      "4.9,2.5,4.5,1.7,2\n",
      "4.9,3.1,1.5,0.1,0\n"
     ]
    }
   ],
   "source": [
    "!head -n5 {train_dataset_fp}"
   ]
  },
  {
   "cell_type": "markdown",
   "id": "banned-sweden",
   "metadata": {},
   "source": [
    "Note the following:\n",
    "1. The first line is a header containing information about the data set:\n",
    "- there are 120 total examples. Each example has four *features* and one of three possible *label names*\n",
    "2. Subsequent rows are data records, one example per line:\n",
    "- the first 4 fields are the *features*: here float numbers representing flower measurements\n",
    "- the last columnis the *label*: here an integer value corresponding to a flower name\n",
    "    "
   ]
  },
  {
   "cell_type": "code",
   "execution_count": 4,
   "id": "contemporary-violation",
   "metadata": {},
   "outputs": [
    {
     "name": "stdout",
     "output_type": "stream",
     "text": [
      "Features: ['sepal_length', 'sepal_width', 'petal_length', 'petal_width']\n",
      "Label: species\n"
     ]
    }
   ],
   "source": [
    "column_names = [\"sepal_length\", \"sepal_width\", \"petal_length\", \"petal_width\", \"species\"]\n",
    "\n",
    "feature_names = column_names[:-1]\n",
    "label_name = column_names[-1]\n",
    "\n",
    "print(\"Features: {}\".format(feature_names))\n",
    "print(\"Label: {}\".format(label_name))"
   ]
  },
  {
   "cell_type": "markdown",
   "id": "random-vitamin",
   "metadata": {},
   "source": [
    "Each label is associated with a string name (e.g. `setosa`), but ML typically relies on *numeric values*. The label numbers are mapped to a named representation, such as:\n",
    "- `0`: Iris setosa\n",
    "- `1`: Iris versicolor\n",
    "- `2`: Iris virginica"
   ]
  },
  {
   "cell_type": "code",
   "execution_count": 5,
   "id": "thirty-roberts",
   "metadata": {},
   "outputs": [],
   "source": [
    "class_names = [\"Iris setosa\", \"Iris versicolor\", \"Iris virginica\"]"
   ]
  },
  {
   "cell_type": "markdown",
   "id": "russian-miami",
   "metadata": {},
   "source": [
    "#### **Create a tf.data.Dataset**\n",
    "\n",
    "TensorFlow Dataset API handles many common cases for loading data into a model. This is a high-level API for reading data and transforming it into a form used for training.\n",
    "\n",
    "Since the dataset is a CSV-formatted text file, we'll use `tf.data.experimental.make_csv_dataset` to parse the data into a suitable format. This function generates new data for training models, the default behaviour is to shuffle the data `(shuffle=True, shuffle_buffer_size=10000)` and repeat the dataset forever `(num_epochs=None)`; the `batch_size` parameter is also set."
   ]
  },
  {
   "cell_type": "code",
   "execution_count": 6,
   "id": "excited-producer",
   "metadata": {},
   "outputs": [],
   "source": [
    "batch_size = 32\n",
    "\n",
    "train_dataset = tf.data.experimental.make_csv_dataset(\n",
    "    train_dataset_fp,\n",
    "    batch_size,\n",
    "    column_names=column_names,\n",
    "    label_name=label_name,\n",
    "    num_epochs=1\n",
    ")"
   ]
  },
  {
   "cell_type": "markdown",
   "id": "twelve-victory",
   "metadata": {},
   "source": [
    "The `make_csv_dataset` function returs a `tf.data.Dataset` of `(features, label)` pairs, where `features` is a `dict`: `{\"feature_name\": value}`.\n",
    "The `tf.data.Dataset` objects are iterable."
   ]
  },
  {
   "cell_type": "code",
   "execution_count": 14,
   "id": "exempt-spotlight",
   "metadata": {},
   "outputs": [
    {
     "name": "stdout",
     "output_type": "stream",
     "text": [
      "OrderedDict([('sepal_length', <tf.Tensor: shape=(32,), dtype=float32, numpy=\n",
      "array([5.4, 4.8, 6.3, 4.9, 5.1, 6.5, 7.2, 6.3, 6.9, 6.1, 6. , 4.9, 5.4,\n",
      "       5.6, 5.1, 4.6, 4.4, 4.9, 6.4, 5.4, 6.3, 6.7, 5.8, 6.9, 4.9, 4.8,\n",
      "       5.3, 4.8, 6.9, 4.4, 5.2, 6.1], dtype=float32)>), ('sepal_width', <tf.Tensor: shape=(32,), dtype=float32, numpy=\n",
      "array([3. , 3. , 2.5, 3.1, 3.8, 3.2, 3.6, 3.3, 3.2, 3. , 2.9, 3.1, 3.9,\n",
      "       2.7, 3.7, 3.6, 3. , 3. , 2.8, 3.4, 2.3, 3.3, 4. , 3.1, 3.1, 3.4,\n",
      "       3.7, 3. , 3.1, 2.9, 2.7, 2.9], dtype=float32)>), ('petal_length', <tf.Tensor: shape=(32,), dtype=float32, numpy=\n",
      "array([4.5, 1.4, 5. , 1.5, 1.9, 5.1, 6.1, 6. , 5.7, 4.9, 4.5, 1.5, 1.3,\n",
      "       4.2, 1.5, 1. , 1.3, 1.4, 5.6, 1.5, 4.4, 5.7, 1.2, 4.9, 1.5, 1.6,\n",
      "       1.5, 1.4, 5.1, 1.4, 3.9, 4.7], dtype=float32)>), ('petal_width', <tf.Tensor: shape=(32,), dtype=float32, numpy=\n",
      "array([1.5, 0.3, 1.9, 0.1, 0.4, 2. , 2.5, 2.5, 2.3, 1.8, 1.5, 0.1, 0.4,\n",
      "       1.3, 0.4, 0.2, 0.2, 0.2, 2.1, 0.4, 1.3, 2.1, 0.2, 1.5, 0.1, 0.2,\n",
      "       0.2, 0.1, 2.3, 0.2, 1.4, 1.4], dtype=float32)>)])\n"
     ]
    }
   ],
   "source": [
    "features, labels = next(iter(train_dataset))\n",
    "print(features)"
   ]
  },
  {
   "cell_type": "markdown",
   "id": "african-atmosphere",
   "metadata": {},
   "source": [
    "Like-features are grouped together, or *batched*. Each example row's fields are appended to the corresponding feature array. The `batch_size` parameter controls the number of examples stored in the feature arrays. Let's have a look at some plots."
   ]
  },
  {
   "cell_type": "code",
   "execution_count": 15,
   "id": "running-robertson",
   "metadata": {},
   "outputs": [
    {
     "data": {
      "image/png": "[encoded data removed]",
      "text/plain": [
       "<Figure size 432x288 with 1 Axes>"
      ]
     },
     "metadata": {
      "needs_background": "light"
     },
     "output_type": "display_data"
    }
   ],
   "source": [
    "plt.scatter(\n",
    "    features[\"petal_length\"],\n",
    "    features[\"sepal_length\"],\n",
    "    c=labels,\n",
    "    cmap=\"viridis\"\n",
    ")\n",
    "\n",
    "plt.xlabel(\"Petal length\")\n",
    "plt.ylabel(\"Sepal length\")\n",
    "plt.show()"
   ]
  },
  {
   "cell_type": "markdown",
   "id": "suffering-clinic",
   "metadata": {},
   "source": [
    "To simplify the model building step, create a function to repackage the features `dict` into a single array with shape: `(batch_size, num_features)`. This function uses the `tf.stack` method which takes values from a list of tensors and creates a combined tensor at the specified dimension."
   ]
  },
  {
   "cell_type": "code",
   "execution_count": 16,
   "id": "cheap-isaac",
   "metadata": {},
   "outputs": [],
   "source": [
    "def pack_features_vector(features, labels):\n",
    "    \"\"\"Pack the features into a single array\"\"\"\n",
    "    features = tf.stack(list(features.values()), axis=1)\n",
    "    return features, labels"
   ]
  },
  {
   "cell_type": "markdown",
   "id": "recovered-kingston",
   "metadata": {},
   "source": [
    "Then use the `tf.data.Dataset` `map` method to pack the `features` of each `(features, label)` pair into the training dataset."
   ]
  },
  {
   "cell_type": "code",
   "execution_count": 17,
   "id": "violent-illustration",
   "metadata": {},
   "outputs": [],
   "source": [
    "train_dataset = train_dataset.map(pack_features_vector)"
   ]
  },
  {
   "cell_type": "markdown",
   "id": "flying-majority",
   "metadata": {},
   "source": [
    "The features element of the `tf.data.Dataset` are now arrays with shape `(batch_size, num_features)`. Let's have a look at a few examples."
   ]
  },
  {
   "cell_type": "code",
   "execution_count": 21,
   "id": "personalized-anime",
   "metadata": {},
   "outputs": [
    {
     "name": "stdout",
     "output_type": "stream",
     "text": [
      "tf.Tensor(\n",
      "[[6.4 3.2 4.5 1.5]\n",
      " [6.3 2.7 4.9 1.8]\n",
      " [5.8 2.7 5.1 1.9]\n",
      " [6.  3.  4.8 1.8]\n",
      " [7.2 3.  5.8 1.6]], shape=(5, 4), dtype=float32) tf.Tensor([1 2 2 2 2], shape=(5,), dtype=int32)\n"
     ]
    }
   ],
   "source": [
    "features, labels = next(iter(train_dataset))\n",
    "print(features[:5], labels[:5])"
   ]
  },
  {
   "cell_type": "markdown",
   "id": "simple-conjunction",
   "metadata": {},
   "source": []
  },
  {
   "cell_type": "markdown",
   "id": "foster-throw",
   "metadata": {},
   "source": [
    "### **Select the type of model**\n",
    "\n",
    "#### **Why model ?**\n",
    "\n",
    "A *model* is a relationship between the `features` and the `label`. For the Iris classification problem, the model defines the relationship between the sepal and petal measurements and the predicted Iris species. Some simple models can be described with a few lines of algebra, but complex machine learning models have a large number of parameters that are difficult to summarize.\n",
    "\n",
    "Could you determine the relationship between the four features and the Iris species *without* using machine learning ? That is, could you use traditional programming techniques (e.g. a lot of conditional statements) to create a model ? Perhaps - if you analysed the dataset long enough to determine the relationships between petal and sepal measurement to a particular species. And this becomes difficult - maybe impossible - on more complicated datasets. A good machine learning approach *determines the model for you*. If you feed enough representative examples into the right ML model type, it will figure out the relationships for you."
   ]
  },
  {
   "cell_type": "markdown",
   "id": "eleven-revolution",
   "metadata": {},
   "source": [
    "#### **Select the model**\n",
    "\n",
    "We need to select the kind of model to train. There are many types of models and picking a good one takes experience. This tutorial uses a neural network to solve the Iris classification problem. *Neural networks* can find complex relationships between the features and the label. \n",
    "\n",
    "It's a highly-structured graph, organised into one or more *hidden layers*. Each hidden layer consists of one or more *neurons*. There are several categories of neural networks and this program uses a *dense*, or *fully-connected* neural network: neurons in one layer receive input connections from *every* neuron in the previous layer. Below example of a dense neural network consisting of an input layer, two hidden layers and an output layer.\n",
    "\n",
    "<img src=\"img/fully-connected-net.png\" style=\"width:600px;height:250px;\">\n",
    "\n",
    "When this model is trained and fed an unlabeled example, it yields three predictions: the likelihood that this flower is the given Iris species. This prediction is called *inference*. For this example, the sum of the output prediction is `1.0`. Here, the model predicts that the fed unlabeled example flower is an *Iris versicolor* with $95~\\%$ probability."
   ]
  },
  {
   "cell_type": "markdown",
   "id": "pharmaceutical-delicious",
   "metadata": {},
   "source": [
    "#### **Create a model using `tf.keras.Sequential`**\n",
    "\n",
    "The TensorFlow `tf.keras` API is the preferred way to created models and layers. This makes it easy to build models and experiment while `Keras` handles the complexity of connecting everything together.\n",
    "\n",
    "The `tf.keras.Sequential` model is a linear stack of layers. Its constructor takes a list of layers instances and an output layer. Here we'll use 2 `tf.keras.layers.Dense` layers with 10 nodes each and an output layer with 3 nodes representing our label predictions. \n",
    "\n",
    "The first layer's `input_shape` parameter corresponds to the number of features from the dataset, and is required. The `activation` parameter decides which *activation function* to use and determines the output shape of each node in the layer. These non-linearities are important - without them the model would be equivalent to a single layer. There are many `tf.keras.activations`, but `ReLU` is common for hidden layers.\n",
    "\n",
    "The ideal number of hidden layers and neurons depends on the problem and the dataset. Like many aspects of ML, picking the best shape of a neural network requires a mixture of knowledge and experimentation. As a rule of thumb, **increasing the number of hidden layers and neurons typically creates a more powerful model, thus requiring mode data to train efficiently** "
   ]
  },
  {
   "cell_type": "markdown",
   "id": "impaired-workstation",
   "metadata": {},
   "source": []
  },
  {
   "cell_type": "code",
   "execution_count": 23,
   "id": "alone-cattle",
   "metadata": {},
   "outputs": [],
   "source": [
    "model = tf.keras.Sequential([\n",
    "    tf.keras.layers.Dense(10, activation=tf.nn.relu, input_shape=(4,)),\n",
    "    tf.keras.layers.Dense(10, activation=tf.nn.relu),\n",
    "    tf.keras.layers.Dense(3)\n",
    "])"
   ]
  },
  {
   "cell_type": "markdown",
   "id": "gross-spoke",
   "metadata": {},
   "source": [
    "#### **Using the model**\n",
    "\n",
    "Let's have a quick look at what this model does with a batch of `features`"
   ]
  },
  {
   "cell_type": "code",
   "execution_count": 28,
   "id": "southwest-seventh",
   "metadata": {},
   "outputs": [
    {
     "data": {
      "text/plain": [
       "<tf.Tensor: shape=(5, 3), dtype=float32, numpy=\n",
       "array([[-1.2545208 ,  1.8786243 ,  0.25325692],\n",
       "       [-1.2109331 ,  1.8507948 ,  0.08853996],\n",
       "       [-1.1591718 ,  1.7769098 ,  0.02409589],\n",
       "       [-1.225023  ,  1.7955794 ,  0.10662377],\n",
       "       [-1.2517062 ,  2.2210875 ,  0.234689  ]], dtype=float32)>"
      ]
     },
     "execution_count": 28,
     "metadata": {},
     "output_type": "execute_result"
    }
   ],
   "source": [
    "predictions = model(features)\n",
    "predictions[:5]"
   ]
  },
  {
   "cell_type": "markdown",
   "id": "french-chester",
   "metadata": {},
   "source": [
    "Here each example returns a `logit` for each class. A **logit** is a vector of raw predictions generated by a classification model, and is generally passed on to a normalised function. If the model is solving a multi-class classification problem, logits are generally fed into the `softmax` function. **softmax** generates a vector of normalised probabilities with one value for each possible class.\n",
    "\n",
    "In addition, logit sometimes refers to the element-wise inverse of the *sigmoid function*.\n",
    "\n",
    "Logits must then be converted into probabilities for each class by using the `softmax` output function"
   ]
  },
  {
   "cell_type": "code",
   "execution_count": 29,
   "id": "covered-orange",
   "metadata": {},
   "outputs": [
    {
     "data": {
      "text/plain": [
       "<tf.Tensor: shape=(5, 3), dtype=float32, numpy=\n",
       "array([[0.03513368, 0.8061786 , 0.15868768],\n",
       "       [0.03841455, 0.8207054 , 0.14088014],\n",
       "       [0.04327712, 0.815422  , 0.14130093],\n",
       "       [0.03953989, 0.8107117 , 0.14974843],\n",
       "       [0.026562  , 0.856004  , 0.11743402]], dtype=float32)>"
      ]
     },
     "execution_count": 29,
     "metadata": {},
     "output_type": "execute_result"
    }
   ],
   "source": [
    "tf.nn.softmax(predictions[:5])"
   ]
  },
  {
   "cell_type": "markdown",
   "id": "double-native",
   "metadata": {},
   "source": [
    "And taking the `tf.argmax` across classes gives us the predicted class index. "
   ]
  },
  {
   "cell_type": "code",
   "execution_count": 30,
   "id": "terminal-nickname",
   "metadata": {},
   "outputs": [
    {
     "name": "stdout",
     "output_type": "stream",
     "text": [
      "Prediction: [1 1 1 1 1 1 1 1 1 1 1 1 1 1 1 1 1 1 1 1 1 1 1 1 1 1 1 1 1 1 1 1]\n",
      "    Labels: [1 2 2 2 2 0 2 1 0 1 2 0 1 1 0 2 2 2 2 1 1 2 1 2 1 0 0 1 2 0 2 0]\n"
     ]
    }
   ],
   "source": [
    "print(\"Prediction: {}\".format(tf.argmax(predictions, axis=1)))\n",
    "print(\"    Labels: {}\".format(labels))"
   ]
  },
  {
   "cell_type": "markdown",
   "id": "tracked-nomination",
   "metadata": {},
   "source": [
    "But the model hasn't been trained yet, so these aren't good predictions. Indeed, the model here predicts that all species are *Iris versicolor*..."
   ]
  },
  {
   "cell_type": "markdown",
   "id": "critical-inspector",
   "metadata": {},
   "source": [
    "### **Train the model**\n",
    "\n",
    "*Training* is the stage of ML when the model is gradually optimised, or the model *learns* the dataset. The goal is to learn enough about the structure of training dataset to make predictions about unseen data (i.e. to **generalise**). If the model learns *too much* about the training data set, then the predictions only work for the data it has seen and will not be generalisable. This problem is called **overfitting** - it's like memorising answers instead of learning how to solve a problem.\n",
    "\n",
    "The Iris classification problem is an example of *supervised machine learning*: the model is trained from examples that contain labels. In *unsupervised machine learning*, examples don't contain labels. Instead, the model typically finds patterns among the features.\n",
    "\n",
    "#### **Define the loss and gradient functions**\n",
    "\n",
    "Both training and evaluation stages need to calculate the model **loss**. This measures how off predictions of a model are from the true label. In other words, it accounts for how bad a model performs. The goal is to minimise this value, this being an optimisation problem.\n",
    "\n",
    "Loss is calculated using the `tf.keras.losses.SparseCategoricalCrossentropy` function which takes the model class probability predictions and the true label as inputs, and returns the average loss across the examples."
   ]
  },
  {
   "cell_type": "code",
   "execution_count": 32,
   "id": "disabled-tongue",
   "metadata": {},
   "outputs": [
    {
     "name": "stdout",
     "output_type": "stream",
     "text": [
      "Loss test: 1.8248038291931152\n"
     ]
    }
   ],
   "source": [
    "loss_object = tf.keras.losses.SparseCategoricalCrossentropy(from_logits=True)\n",
    "\n",
    "def loss(model, x, y, training):\n",
    "    #training is required only if layers behave differently between training and inference (e.g. Dropout)\n",
    "    y_hat = model(x, training=training)\n",
    "    \n",
    "    return loss_object(y_true=y, y_pred=y_hat)\n",
    "\n",
    "l = loss(model,features, labels, training=False)\n",
    "print(\"Loss test: {}\".format(l))"
   ]
  },
  {
   "cell_type": "markdown",
   "id": "assured-interpretation",
   "metadata": {},
   "source": [
    "Gradients are calculated as vectors of partial derivatives of the model function. The gradient points in the direction of steepest ascent. They're stored within a *context*, using `tf.GradientTape`."
   ]
  },
  {
   "cell_type": "code",
   "execution_count": 33,
   "id": "loved-therapy",
   "metadata": {},
   "outputs": [],
   "source": [
    "def grad(model, inputs, targets):\n",
    "    with tf.GradientTape() as tape:\n",
    "        loss_value = loss(model, inputs, targets, training=True)\n",
    "    return loss_value, tape.gradient(loss_value, model.trainable_variables)"
   ]
  },
  {
   "cell_type": "markdown",
   "id": "bronze-understanding",
   "metadata": {},
   "source": [
    "#### **Create an optimiser**\n",
    "\n",
    "An **optimiser** applies the computed gradients to the model variables to minimise the `loss` function. You can think of the loss function as a curved surface and the goal is to find its lowest point by walking around. The gradient points in the direction of the steepest ascent - so we'll travel to the opposite way and move down the hill. **By iteratively calculating the loss and gradient for each batch, we'll adjust the model during training**. Gradually, the best combination of weights and bias will be found to minimise loss. And the lower the loss, the better the model predictions. \n",
    "\n",
    "**Gradient descent** is an algorithm used for finding the optimal model configuration (i.e. parameters values) by minimising the model loss thanks to the computation of the gradients of loss with respect to the model parameters, conditioned on training data. Informally, gradient descent iteratively adjusts parameters gradually finding the best combination of weights and bias to minimise loss.\n",
    "\n",
    "<img src=\"img/gradients.gif\" style=\"width:350px;height:250px;\">\n",
    "\n",
    "TensorFlow has many optimisation algorithms available for training. Here we'll use `tf.keras.optimizers.SGD` that implements the *stochastic gradient descent* (SGD) algorithm. **Stochastic gradient descent** is a gradient descent algorithm in which the batch size is equal to $1$, relying on a single example chosen uniformly at random from a data set. The `learning_rate` sets the step size to take for each iteration down the hill. This is a **hyperparameter** that controls the training process itslef and is commonly adjusted to achieve better results.\n",
    "\n",
    "Let's build the optimiser."
   ]
  },
  {
   "cell_type": "code",
   "execution_count": 43,
   "id": "lesbian-authentication",
   "metadata": {},
   "outputs": [],
   "source": [
    "optimizer = tf.keras.optimizers.SGD(learning_rate=0.01)"
   ]
  },
  {
   "cell_type": "markdown",
   "id": "described-childhood",
   "metadata": {},
   "source": [
    "Now let's use the optimiser to compute a single optimisation step and see what happens"
   ]
  },
  {
   "cell_type": "code",
   "execution_count": 44,
   "id": "facial-pennsylvania",
   "metadata": {},
   "outputs": [
    {
     "name": "stdout",
     "output_type": "stream",
     "text": [
      "Step: 0, Initial Loss: 1.8248038291931152\n",
      "Step: 0,         Loss: 1.5501675605773926\n"
     ]
    }
   ],
   "source": [
    "loss_value, grads = grad(model, features, labels)\n",
    "\n",
    "print(\"Step: {}, Initial Loss: {}\".format(\n",
    "    optimizer.iterations.numpy(),\n",
    "    loss_value.numpy()))\n",
    "\n",
    "optimiser.apply_gradients(zip(grads, model.trainable_variables))\n",
    "\n",
    "print(\"Step: {},         Loss: {}\".format(\n",
    "    optimizer.iterations.numpy(),\n",
    "    loss(model, features, labels, training=True).numpy()))"
   ]
  },
  {
   "cell_type": "markdown",
   "id": "beautiful-surveillance",
   "metadata": {},
   "source": [
    "#### **Training loop**\n",
    "\n",
    "A training loop feeds data set examples into the model to help it learn from data and make better predictions. Training is carried out through following steps:\n",
    "\n",
    "1. Iterate each *epoch*. An **epoch** is one pass through the batch of data\n",
    "2. Within an epoch, iterate over each example in the batch training `Dataset` grabbing its `features` (`x`) and `label` (`y`)\n",
    "3. Using the example `features`, the model makes a prediction to be compared with the actual `label` of the example. Inaccuracy of the prediction is used for computing model loss and gradients\n",
    "4. Use an `optimizer` to update the model variables\n",
    "5. Keep track of some stats for visualisation\n",
    "6. Repeat for each epoch\n",
    "\n",
    "The `num_epochs` variable is the number of times to loop over the batch. Counter-intuitively, training a model longer does not guarantee a better model. `num_epochs` is a hyperparameter that can be tuned. Choosing the right number usually requires experience and experimentation."
   ]
  },
  {
   "cell_type": "code",
   "execution_count": 51,
   "id": "welcome-faith",
   "metadata": {},
   "outputs": [
    {
     "name": "stdout",
     "output_type": "stream",
     "text": [
      "Epoch 000: Loss: 1.567, Accuracy: 30.000%\n",
      "Epoch 050: Loss: 0.809, Accuracy: 70.000%\n",
      "Epoch 100: Loss: 0.423, Accuracy: 91.667%\n",
      "Epoch 150: Loss: 0.260, Accuracy: 97.500%\n",
      "Epoch 200: Loss: 0.183, Accuracy: 96.667%\n"
     ]
    }
   ],
   "source": [
    "# Keep results for plotting\n",
    "train_loss_results = []\n",
    "train_accuracy_results = []\n",
    "\n",
    "num_epochs = 201\n",
    "\n",
    "for epoch in range(num_epochs):\n",
    "    epoch_loss_avg = tf.keras.metrics.Mean()\n",
    "    epoch_accuracy = tf.keras.metrics.SparseCategoricalAccuracy()\n",
    "    \n",
    "    # Training loop - using 32 examples-sized batches\n",
    "    for x, y in train_dataset:\n",
    "        # Optimise model\n",
    "        loss_value, grads = grad(model, x, y)\n",
    "        optimizer.apply_gradients(zip(grads, model.trainable_variables))\n",
    "        \n",
    "        # Track progress\n",
    "        epoch_loss_avg.update_state(loss_value) # Add current batch loss\n",
    "        # Compare predicted label to actual true label\n",
    "        # training=True is required only if some layers behave differently \n",
    "        # between training and inference (e.g. Dropout)\n",
    "        epoch_accuracy.update_state(y, model(x, training=True))\n",
    "        \n",
    "    # End epoch\n",
    "    train_loss_results.append(epoch_loss_avg.result())\n",
    "    train_accuracy_results.append(epoch_accuracy.result())\n",
    "    \n",
    "    if epoch % 50 == 0:\n",
    "        print(\"Epoch {:03d}: Loss: {:.3f}, Accuracy: {:.3%}\".format(epoch,\n",
    "                                                                    epoch_loss_avg.result(),\n",
    "                                                                    epoch_accuracy.result()))"
   ]
  },
  {
   "cell_type": "markdown",
   "id": "revised-proxy",
   "metadata": {},
   "source": [
    "#### **Visualise the loss function over time**\n",
    "\n",
    "While it's helpful to print out the model training progress, it's often *more* helpful to visualise this progress. **TensorBoard** is a visualisation tool that is packaged with TensorFlow, but we can create basic charts using the `matplotlib` module. Interpreting these charts requires some experience, but you really want to see the loss go down and the accuracy go up !"
   ]
  },
  {
   "cell_type": "code",
   "execution_count": 52,
   "id": "modular-agriculture",
   "metadata": {},
   "outputs": [
    {
     "data": {
      "image/png": "[encoded data removed]",
      "text/plain": [
       "<Figure size 864x576 with 2 Axes>"
      ]
     },
     "metadata": {
      "needs_background": "light"
     },
     "output_type": "display_data"
    }
   ],
   "source": [
    "fig, axes = plt.subplots(2, sharex=True, figsize=(12, 8))\n",
    "fig.suptitle(\"Training metrics\")\n",
    "\n",
    "axes[0].set_ylabel(\"Loss\", fontsize=14)\n",
    "axes[0].plot(train_loss_results)\n",
    "\n",
    "axes[1].set_ylabel(\"Accuracy\", fontsize=14)\n",
    "axes[1].set_xlabel(\"Epoch\", fontsize=14)\n",
    "axes[1].plot(train_accuracy_results)\n",
    "plt.show();"
   ]
  },
  {
   "cell_type": "markdown",
   "id": "hollow-lyric",
   "metadata": {},
   "source": [
    "### **Evaluate the model effectiveness**\n",
    "\n",
    "*Evaluation* is the step of determining how effectively the model makes predictions. To determine the model effectiveness at Iris classification, one can try to pass some sepal and petal measurements (`features`) to the model and ask it for a prediction about the Iris species they might refer to (`label`). Comparing the prediction against the true `label` gives an idea of accuracy. For example, a model that picked the correct species on half the input examples has an accuracy of $0.5$."
   ]
  },
  {
   "cell_type": "markdown",
   "id": "complete-reaction",
   "metadata": {},
   "source": [
    "#### **Set up the test data set**\n",
    "\n",
    "Evaluating the model is similar to training the model. The biggest difference is that examples come from a separate *test set* rather than the training set. To fairly assess a model's effectiveness, the examples used to evaluate a model must be different from the examples used to train the model.\n",
    "\n",
    "The setup for the test `Dataset` is similar to the setup for the training `Dataset`. Download the CSV text file and parse values, then give it a little shuffle"
   ]
  },
  {
   "cell_type": "code",
   "execution_count": 53,
   "id": "casual-greene",
   "metadata": {},
   "outputs": [
    {
     "name": "stdout",
     "output_type": "stream",
     "text": [
      "Downloading data from https://storage.googleapis.com/download.tensorflow.org/data/iris_test.csv\n",
      "8192/573 [============================================================================================================================================================================================================================================================================================================================================================================================================================================] - 0s 0us/step\n"
     ]
    }
   ],
   "source": [
    "test_url = \"https://storage.googleapis.com/download.tensorflow.org/data/iris_test.csv\"\n",
    "\n",
    "test_fp = tf.keras.utils.get_file(fname=os.path.basename(test_url),\n",
    "                                  origin=test_url)"
   ]
  },
  {
   "cell_type": "code",
   "execution_count": 54,
   "id": "african-cartridge",
   "metadata": {},
   "outputs": [],
   "source": [
    "test_dataset = tf.data.experimental.make_csv_dataset(\n",
    "    test_fp,\n",
    "    batch_size,\n",
    "    column_names=column_names,\n",
    "    label_name=\"species\",\n",
    "    num_epochs=1,\n",
    "    shuffle=False)\n",
    "\n",
    "test_dataset = test_dataset.map(pack_features_vector)"
   ]
  },
  {
   "cell_type": "markdown",
   "id": "floral-smile",
   "metadata": {},
   "source": [
    "#### **Evaluate the model on the test set**\n",
    "\n",
    "Unlike the training stage, **the model only evaluates a single epoch of the test data**. Here we iterate over each example in the test set and compare the model's prediction against the actual label. This is used to measure the model's accuracy across the entire test set."
   ]
  },
  {
   "cell_type": "code",
   "execution_count": 57,
   "id": "expired-meeting",
   "metadata": {},
   "outputs": [
    {
     "name": "stdout",
     "output_type": "stream",
     "text": [
      "Test set accuracy: 93.333%\n"
     ]
    }
   ],
   "source": [
    "test_accuracy = tf.keras.metrics.Accuracy()\n",
    "\n",
    "for (x, y) in test_dataset:\n",
    "    # training=False is needed only if some layers behave differently \n",
    "    # between training and inference (e.g. Dropout)\n",
    "    logits = model(x, training=False)\n",
    "    prediction = tf.argmax(logits, axis=1, output_type=tf.int32)\n",
    "    test_accuracy(prediction, y)\n",
    "\n",
    "print(\"Test set accuracy: {:.3%}\".format(test_accuracy.result()))"
   ]
  },
  {
   "cell_type": "markdown",
   "id": "approved-delaware",
   "metadata": {},
   "source": [
    "Let's have a look at the last batch"
   ]
  },
  {
   "cell_type": "code",
   "execution_count": 58,
   "id": "fatal-limitation",
   "metadata": {},
   "outputs": [
    {
     "data": {
      "text/plain": [
       "<tf.Tensor: shape=(30, 2), dtype=int32, numpy=\n",
       "array([[1, 1],\n",
       "       [2, 2],\n",
       "       [0, 0],\n",
       "       [1, 1],\n",
       "       [1, 1],\n",
       "       [1, 1],\n",
       "       [0, 0],\n",
       "       [2, 2],\n",
       "       [1, 1],\n",
       "       [2, 2],\n",
       "       [2, 2],\n",
       "       [0, 0],\n",
       "       [2, 2],\n",
       "       [1, 1],\n",
       "       [1, 1],\n",
       "       [0, 0],\n",
       "       [1, 1],\n",
       "       [0, 0],\n",
       "       [0, 0],\n",
       "       [2, 2],\n",
       "       [0, 0],\n",
       "       [1, 2],\n",
       "       [2, 2],\n",
       "       [1, 2],\n",
       "       [1, 1],\n",
       "       [1, 1],\n",
       "       [0, 0],\n",
       "       [1, 1],\n",
       "       [2, 2],\n",
       "       [1, 1]], dtype=int32)>"
      ]
     },
     "execution_count": 58,
     "metadata": {},
     "output_type": "execute_result"
    }
   ],
   "source": [
    "tf.stack([y, prediction], axis=1)"
   ]
  },
  {
   "cell_type": "markdown",
   "id": "ordered-actor",
   "metadata": {},
   "source": [
    "### **Use the trained model to make predictions**\n",
    "\n",
    "The model is trained and proven that it's not that bad - but not perfect - at classifying Iris species. Now let's use the trained model to make some prediction on unlabeled examples; that is, on examples that contain `features` but no `label`.\n",
    "\n",
    "In real-life, unlabeled examples could come from lots of different sources including apps, CSV files, data feeds, etc. For now, we're going to manually provide three unlabeled examples to predict their labels. Recal, the label numbers are mapped to a named representation as:\n",
    "\n",
    "- `0`: Iris setosa\n",
    "- `1`: Iris versicolor\n",
    "- `2`: Iris virginica"
   ]
  },
  {
   "cell_type": "code",
   "execution_count": 59,
   "id": "growing-speed",
   "metadata": {},
   "outputs": [
    {
     "name": "stdout",
     "output_type": "stream",
     "text": [
      "Example 0 prediction: Iris setosa (95.3%)\n",
      "Example 1 prediction: Iris versicolor (75.6%)\n",
      "Example 2 prediction: Iris virginica (76.3%)\n"
     ]
    }
   ],
   "source": [
    "predict_dataset = tf.convert_to_tensor([\n",
    "    [5.1, 3.3, 1.7, 0.5,],\n",
    "    [5.9, 3.0, 4.2, 1.5,],\n",
    "    [6.9, 3.1, 5.4, 2.1]\n",
    "])\n",
    "\n",
    "# training=False is needed only if there are layers with different\n",
    "# behavior during training versus inference (e.g. Dropout).\n",
    "predictions = model(predict_dataset, training=False)\n",
    "\n",
    "for i, logits in enumerate(predictions):\n",
    "    class_idx = tf.argmax(logits).numpy()\n",
    "    p = tf.nn.softmax(logits)[class_idx]\n",
    "    name = class_names[class_idx]\n",
    "    print(\"Example {} prediction: {} ({:4.1f}%)\".format(i, name, 100*p))"
   ]
  }
 ],
 "metadata": {
  "kernelspec": {
   "display_name": "Python 3",
   "language": "python",
   "name": "python3"
  },
  "language_info": {
   "codemirror_mode": {
    "name": "ipython",
    "version": 3
   },
   "file_extension": ".py",
   "mimetype": "text/x-python",
   "name": "python",
   "nbconvert_exporter": "python",
   "pygments_lexer": "ipython3",
   "version": "3.8.5"
  }
 },
 "nbformat": 4,
 "nbformat_minor": 5
}
