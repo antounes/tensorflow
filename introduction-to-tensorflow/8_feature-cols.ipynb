{
 "cells": [
  {
   "cell_type": "markdown",
   "id": "incredible-approval",
   "metadata": {},
   "source": [
    "# **Introduction to Feature Columns**\n",
    "\n",
    "**Learning objective**\n",
    "\n",
    "1. Load a CSV file using `Pandas`\n",
    "2. Create an input pipeline using `tf.data`\n",
    "3. Create multiple types of feature columns\n",
    "\n",
    "## **Introduction**\n",
    "\n",
    "In this notebook, you classify structured data (e.g. tabular data in a CSV file) using feature columns. Feature columns serve as **a bridge to map from columns in a CSV file to features used to train an ML model**. \n",
    "\n",
    "## **The data set**\n",
    "\n",
    "We will use a small data set provided by the Cleveland Clinic Foundation for Heart Disease. There are several hundred rows in the CSV. Each row describes a patient, and each column describes an attribute. We will use this information to predict whether a patient has heart disease, which in this data set is a binary classification task.\n",
    "\n",
    "## **Import TensorFlow and other libraries**"
   ]
  },
  {
   "cell_type": "code",
   "execution_count": null,
   "id": "boxed-norway",
   "metadata": {},
   "outputs": [],
   "source": []
  }
 ],
 "metadata": {
  "kernelspec": {
   "display_name": "Python 3",
   "language": "python",
   "name": "python3"
  },
  "language_info": {
   "codemirror_mode": {
    "name": "ipython",
    "version": 3
   },
   "file_extension": ".py",
   "mimetype": "text/x-python",
   "name": "python",
   "nbconvert_exporter": "python",
   "pygments_lexer": "ipython3",
   "version": "3.8.5"
  }
 },
 "nbformat": 4,
 "nbformat_minor": 5
}
