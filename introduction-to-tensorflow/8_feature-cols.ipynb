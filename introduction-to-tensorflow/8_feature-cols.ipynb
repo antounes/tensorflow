{
 "cells": [
  {
   "cell_type": "markdown",
   "id": "addressed-houston",
   "metadata": {},
   "source": [
    "# **Introduction to Feature Columns**\n",
    "\n",
    "**Learning objective**\n",
    "\n",
    "1. Load a CSV file using `Pandas`\n",
    "2. Create an input pipeline using `tf.data`\n",
    "3. Create multiple types of feature columns\n",
    "\n",
    "## **Introduction**\n",
    "\n",
    "In this notebook, you classify structured data (e.g. tabular data in a CSV file) using feature columns. Feature columns serve as **a bridge to map from columns in a CSV file to features used to train an ML model**. \n",
    "\n",
    "## **The data set**\n",
    "\n",
    "We will use a small data set provided by the Cleveland Clinic Foundation for Heart Disease. There are several hundred rows in the CSV. Each row describes a patient, and each column describes an attribute. We will use this information to predict whether a patient has heart disease, which in this data set is a binary classification task.\n",
    "\n",
    "## **Import TensorFlow and other libraries**"
   ]
  },
  {
   "cell_type": "code",
   "execution_count": 4,
   "id": "northern-sister",
   "metadata": {},
   "outputs": [
    {
     "name": "stdout",
     "output_type": "stream",
     "text": [
      "2.4.1\n"
     ]
    }
   ],
   "source": [
    "import numpy as np\n",
    "import pandas as pd\n",
    "import matplotlib.pyplot as plt\n",
    "import seaborn as sns\n",
    "%matplotlib inline\n",
    "\n",
    "import tensorflow as tf\n",
    "\n",
    "from tensorflow.keras import layers\n",
    "from sklearn.model_selection import train_test_split\n",
    "\n",
    "print(tf.__version__)"
   ]
  },
  {
   "cell_type": "markdown",
   "id": "simple-bathroom",
   "metadata": {},
   "source": [
    "## **Use Pandas to create a DataFrame**\n",
    "\n",
    "Pandas is a Python library with many helpful utilities for loading and working with structured data. We will use Pandas to download the data set from a URL, and load it into a DataFrame."
   ]
  },
  {
   "cell_type": "code",
   "execution_count": 7,
   "id": "nuclear-margin",
   "metadata": {},
   "outputs": [
    {
     "data": {
      "text/html": [
       "<div>\n",
       "<style scoped>\n",
       "    .dataframe tbody tr th:only-of-type {\n",
       "        vertical-align: middle;\n",
       "    }\n",
       "\n",
       "    .dataframe tbody tr th {\n",
       "        vertical-align: top;\n",
       "    }\n",
       "\n",
       "    .dataframe thead th {\n",
       "        text-align: right;\n",
       "    }\n",
       "</style>\n",
       "<table border=\"1\" class=\"dataframe\">\n",
       "  <thead>\n",
       "    <tr style=\"text-align: right;\">\n",
       "      <th></th>\n",
       "      <th>age</th>\n",
       "      <th>sex</th>\n",
       "      <th>cp</th>\n",
       "      <th>trestbps</th>\n",
       "      <th>chol</th>\n",
       "      <th>fbs</th>\n",
       "      <th>restecg</th>\n",
       "      <th>thalach</th>\n",
       "      <th>exang</th>\n",
       "      <th>oldpeak</th>\n",
       "      <th>slope</th>\n",
       "      <th>ca</th>\n",
       "      <th>thal</th>\n",
       "      <th>target</th>\n",
       "    </tr>\n",
       "  </thead>\n",
       "  <tbody>\n",
       "    <tr>\n",
       "      <th>0</th>\n",
       "      <td>63</td>\n",
       "      <td>1</td>\n",
       "      <td>1</td>\n",
       "      <td>145</td>\n",
       "      <td>233</td>\n",
       "      <td>1</td>\n",
       "      <td>2</td>\n",
       "      <td>150</td>\n",
       "      <td>0</td>\n",
       "      <td>2.3</td>\n",
       "      <td>3</td>\n",
       "      <td>0</td>\n",
       "      <td>fixed</td>\n",
       "      <td>0</td>\n",
       "    </tr>\n",
       "    <tr>\n",
       "      <th>1</th>\n",
       "      <td>67</td>\n",
       "      <td>1</td>\n",
       "      <td>4</td>\n",
       "      <td>160</td>\n",
       "      <td>286</td>\n",
       "      <td>0</td>\n",
       "      <td>2</td>\n",
       "      <td>108</td>\n",
       "      <td>1</td>\n",
       "      <td>1.5</td>\n",
       "      <td>2</td>\n",
       "      <td>3</td>\n",
       "      <td>normal</td>\n",
       "      <td>1</td>\n",
       "    </tr>\n",
       "    <tr>\n",
       "      <th>2</th>\n",
       "      <td>67</td>\n",
       "      <td>1</td>\n",
       "      <td>4</td>\n",
       "      <td>120</td>\n",
       "      <td>229</td>\n",
       "      <td>0</td>\n",
       "      <td>2</td>\n",
       "      <td>129</td>\n",
       "      <td>1</td>\n",
       "      <td>2.6</td>\n",
       "      <td>2</td>\n",
       "      <td>2</td>\n",
       "      <td>reversible</td>\n",
       "      <td>0</td>\n",
       "    </tr>\n",
       "    <tr>\n",
       "      <th>3</th>\n",
       "      <td>37</td>\n",
       "      <td>1</td>\n",
       "      <td>3</td>\n",
       "      <td>130</td>\n",
       "      <td>250</td>\n",
       "      <td>0</td>\n",
       "      <td>0</td>\n",
       "      <td>187</td>\n",
       "      <td>0</td>\n",
       "      <td>3.5</td>\n",
       "      <td>3</td>\n",
       "      <td>0</td>\n",
       "      <td>normal</td>\n",
       "      <td>0</td>\n",
       "    </tr>\n",
       "    <tr>\n",
       "      <th>4</th>\n",
       "      <td>41</td>\n",
       "      <td>0</td>\n",
       "      <td>2</td>\n",
       "      <td>130</td>\n",
       "      <td>204</td>\n",
       "      <td>0</td>\n",
       "      <td>2</td>\n",
       "      <td>172</td>\n",
       "      <td>0</td>\n",
       "      <td>1.4</td>\n",
       "      <td>1</td>\n",
       "      <td>0</td>\n",
       "      <td>normal</td>\n",
       "      <td>0</td>\n",
       "    </tr>\n",
       "  </tbody>\n",
       "</table>\n",
       "</div>"
      ],
      "text/plain": [
       "   age  sex  cp  trestbps  chol  fbs  restecg  thalach  exang  oldpeak  slope  \\\n",
       "0   63    1   1       145   233    1        2      150      0      2.3      3   \n",
       "1   67    1   4       160   286    0        2      108      1      1.5      2   \n",
       "2   67    1   4       120   229    0        2      129      1      2.6      2   \n",
       "3   37    1   3       130   250    0        0      187      0      3.5      3   \n",
       "4   41    0   2       130   204    0        2      172      0      1.4      1   \n",
       "\n",
       "   ca        thal  target  \n",
       "0   0       fixed       0  \n",
       "1   3      normal       1  \n",
       "2   2  reversible       0  \n",
       "3   0      normal       0  \n",
       "4   0      normal       0  "
      ]
     },
     "execution_count": 7,
     "metadata": {},
     "output_type": "execute_result"
    }
   ],
   "source": [
    "URL = 'https://storage.googleapis.com/download.tensorflow.org/data/heart.csv'\n",
    "# Read a comma-separated values (csv) file into a DataFrame using the `read_csv()` function\n",
    "dataframe = pd.read_csv(URL)\n",
    "# Get the first five rows using the `head()` function\n",
    "dataframe.head()"
   ]
  },
  {
   "cell_type": "code",
   "execution_count": 8,
   "id": "bulgarian-algorithm",
   "metadata": {},
   "outputs": [
    {
     "name": "stdout",
     "output_type": "stream",
     "text": [
      "<class 'pandas.core.frame.DataFrame'>\n",
      "RangeIndex: 303 entries, 0 to 302\n",
      "Data columns (total 14 columns):\n",
      " #   Column    Non-Null Count  Dtype  \n",
      "---  ------    --------------  -----  \n",
      " 0   age       303 non-null    int64  \n",
      " 1   sex       303 non-null    int64  \n",
      " 2   cp        303 non-null    int64  \n",
      " 3   trestbps  303 non-null    int64  \n",
      " 4   chol      303 non-null    int64  \n",
      " 5   fbs       303 non-null    int64  \n",
      " 6   restecg   303 non-null    int64  \n",
      " 7   thalach   303 non-null    int64  \n",
      " 8   exang     303 non-null    int64  \n",
      " 9   oldpeak   303 non-null    float64\n",
      " 10  slope     303 non-null    int64  \n",
      " 11  ca        303 non-null    int64  \n",
      " 12  thal      303 non-null    object \n",
      " 13  target    303 non-null    int64  \n",
      "dtypes: float64(1), int64(12), object(1)\n",
      "memory usage: 33.3+ KB\n"
     ]
    }
   ],
   "source": [
    "# Get a concise summary of a DataFrame\n",
    "dataframe.info()"
   ]
  },
  {
   "cell_type": "markdown",
   "id": "chicken-province",
   "metadata": {},
   "source": [
    "## **Split the DataFrame into train, validation, and test sets**\n",
    "\n",
    "The data set we downloaded was a single CSV file. As a best practice, we will split this into train, validation and test sets."
   ]
  },
  {
   "cell_type": "code",
   "execution_count": 9,
   "id": "realistic-bunch",
   "metadata": {},
   "outputs": [
    {
     "name": "stdout",
     "output_type": "stream",
     "text": [
      "193 train examples\n",
      "49 validation examples\n",
      "61 test examples\n"
     ]
    }
   ],
   "source": [
    "# Create test, validation and train samples from one DataFrame with Pandas\n",
    "train, test = train_test_split(dataframe, test_size=.2)\n",
    "train, val = train_test_split(train, test_size=.2)\n",
    "print(len(train), \"train examples\")\n",
    "print(len(val), \"validation examples\")\n",
    "print(len(test), \"test examples\")"
   ]
  },
  {
   "cell_type": "markdown",
   "id": "applied-interstate",
   "metadata": {},
   "source": [
    "## **Create an input pipeline using `tf.data`**\n",
    "\n",
    "Next, we will wrap the DataFrames with `tf.data`. This will enable us to use feature columns as a bridge to map from the columns in the Pandas DataFrame to features used to train a model. If we were working with a very large CSV file (which would not fit in memory), we would use `tf.data` to read it from disk directly."
   ]
  },
  {
   "cell_type": "code",
   "execution_count": 13,
   "id": "abandoned-browse",
   "metadata": {},
   "outputs": [],
   "source": [
    "# A utility method to create a `tf.data.Dataset` from a `pd.DataFrame`\n",
    "def df_to_dataset(dataframe, shuffle=True, batch_size=32):\n",
    "    dataframe = dataframe.copy()\n",
    "    labels = dataframe.pop(\"target\")\n",
    "    ds = tf.data.Dataset.from_tensor_slices((dict(dataframe), labels))\n",
    "    if shuffle:\n",
    "        ds = ds.shuffle(buffer_size=len(dataframe))\n",
    "    ds = ds.batch(batch_size)\n",
    "    return ds"
   ]
  },
  {
   "cell_type": "code",
   "execution_count": 14,
   "id": "offensive-beaver",
   "metadata": {},
   "outputs": [],
   "source": [
    "# A small batch size is used for demonstration purposes\n",
    "batch_size = 5"
   ]
  },
  {
   "cell_type": "code",
   "execution_count": 15,
   "id": "committed-bench",
   "metadata": {},
   "outputs": [],
   "source": [
    "train_ds = df_to_dataset(train, batch_size=batch_size)\n",
    "val_ds = df_to_dataset(val, shuffle=False, batch_size=batch_size)\n",
    "test_ds = df_to_dataset(test, shuffle=False, batch_size=batch_size)"
   ]
  },
  {
   "cell_type": "markdown",
   "id": "opposed-estate",
   "metadata": {},
   "source": [
    "## **Understand the input pipeline**\n",
    "\n",
    "Now that we have created the input pipeline, let's call it to see the format of the data it returns. We have used a small batch size to keep the output readable"
   ]
  },
  {
   "cell_type": "code",
   "execution_count": 19,
   "id": "unlikely-employment",
   "metadata": {},
   "outputs": [
    {
     "name": "stdout",
     "output_type": "stream",
     "text": [
      "Every feature: ['age', 'sex', 'cp', 'trestbps', 'chol', 'fbs', 'restecg', 'thalach', 'exang', 'oldpeak', 'slope', 'ca', 'thal']\n",
      "A batch of ages: tf.Tensor([57 54 51 44 60], shape=(5,), dtype=int64)\n",
      "A batch of targets: tf.Tensor([1 0 0 0 0], shape=(5,), dtype=int64)\n"
     ]
    }
   ],
   "source": [
    "# If you don't use `.take(1)`, all elements will eventually be fetched\n",
    "for feature_batch, label_batch in train_ds.take(1):\n",
    "    print(\"Every feature:\", list(feature_batch.keys()))\n",
    "    print(\"A batch of ages:\", feature_batch[\"age\"])\n",
    "    print(\"A batch of targets:\", label_batch)"
   ]
  },
  {
   "cell_type": "markdown",
   "id": "lovely-toddler",
   "metadata": {},
   "source": [
    "## **Demonstrate several types of feature columns**\n",
    "\n",
    "TensorFlow provides any types of feature columns. In this section, we will create several types of them, and demonstrate how they transform a column from the DataFrame."
   ]
  },
  {
   "cell_type": "code",
   "execution_count": 21,
   "id": "insured-campus",
   "metadata": {},
   "outputs": [],
   "source": [
    "# We will use this batch to demonstrate several types of feature columns\n",
    "example_batch = next(iter(train_ds))[0]"
   ]
  },
  {
   "cell_type": "code",
   "execution_count": 33,
   "id": "beginning-messenger",
   "metadata": {},
   "outputs": [],
   "source": [
    "# A utility method to create a feature column\n",
    "# and transform a batch of data\n",
    "def demo(feat_col):\n",
    "    feature_layer = layers.DenseFeatures(feat_col)\n",
    "    print(feature_layer(example_batch).numpy())"
   ]
  },
  {
   "cell_type": "markdown",
   "id": "neural-trademark",
   "metadata": {},
   "source": [
    "### **Numeric feature columns**\n",
    "\n",
    "The output of a feature column becomes the input to the model. A *numeric column* is the simplest type of feature column. It is used to represent real-valued features. When using this column, your model will receive the column value from the DataFrame unchanged."
   ]
  },
  {
   "cell_type": "code",
   "execution_count": 52,
   "id": "demonstrated-yield",
   "metadata": {},
   "outputs": [
    {
     "name": "stdout",
     "output_type": "stream",
     "text": [
      "NumericColumn(key='age', shape=(1,), default_value=None, dtype=tf.float32, normalizer_fn=None)\n"
     ]
    }
   ],
   "source": [
    "# Create a numeric feature column out of `age`\n",
    "age = tf.feature_column.numeric_column(\"age\")\n",
    "print(age)"
   ]
  },
  {
   "cell_type": "markdown",
   "id": "constant-nickel",
   "metadata": {},
   "source": [
    "#### **Let's have a look at the output**\n",
    "\n",
    "**`key=age`**\n",
    "\n",
    "A unique `str` identifying the input feature. It is used as the column name and the dictionary key for feature parsing configs, feature Tensor objects, and feature columns.\n",
    "\n",
    "**`shape=(1,)`**\n",
    "\n",
    "In the heart disease data set, most columns from the DataFrame are numeric. Recall that tensors have a rank. \"Age\" is a *vector*, or *rank-1* tensor, which is like a list of values. A vector has 1-axis, thus the shape will always look like this: `shape = (3,)` where `3` is a *scalar* and with 1-axis.\n",
    "\n",
    "**`default_value=None`**\n",
    "\n",
    "A single value compatible with `dtype` or an iterable of values compatible with `dtype` which the column takes on during `tf.Example` parsing if data is missing. A default value of `None` will cause `tf.io.parse_example` to fail if an example does not contain this column. If a single value is provided, the same value will be applied as the default value for every item. If an iterable of values is provided, the shape of the `default_value` should be equal to the given shape.\n",
    "\n",
    "**`dtype=tf.float32`**\n",
    "\n",
    "Defines the type of values. Default value is `tf.float32`. Must be a non-quantised, real integer or floating point type.\n",
    "\n",
    "**`normalizer_fn=None`**\n",
    "\n",
    "If not `None`, a function that can be used to normalise the value of the tensor after `default_value` is applied for parsing. `normalizer_fn` takes the input `tf.Tensor` as its argument, and returns a normalised output `tf.Tensor` (e.g. `lambda x: (x-3.0)/4.2`). Please note that even though the most common use case of this function is normalisation, it can be used for any kind of TensorFlow transformations."
   ]
  },
  {
   "cell_type": "code",
   "execution_count": 32,
   "id": "former-indicator",
   "metadata": {},
   "outputs": [
    {
     "name": "stdout",
     "output_type": "stream",
     "text": [
      "[[54.]\n",
      " [45.]\n",
      " [67.]\n",
      " [67.]\n",
      " [55.]]\n"
     ]
    }
   ],
   "source": [
    "# Demo of a numeric feature column out of \"age\"\n",
    "demo(age)"
   ]
  },
  {
   "cell_type": "markdown",
   "id": "employed-briefing",
   "metadata": {},
   "source": [
    "### **Bucketised feature columns**\n",
    "\n",
    "Often, you don't want to feed a number directly into the model, but instead split its value into different categories based on numerical ranges. Consider raw data that represents a person's age. Instead of representing age as a numeric column, we could split the age into several buckets using a *bucketised column*. Notics that one-hot values below describe which age range each row matches."
   ]
  },
  {
   "cell_type": "code",
   "execution_count": 34,
   "id": "precise-rwanda",
   "metadata": {},
   "outputs": [
    {
     "name": "stdout",
     "output_type": "stream",
     "text": [
      "[[0. 0. 0. 0. 0. 0. 0. 1. 0. 0. 0.]\n",
      " [0. 0. 0. 0. 0. 0. 1. 0. 0. 0. 0.]\n",
      " [0. 0. 0. 0. 0. 0. 0. 0. 0. 0. 1.]\n",
      " [0. 0. 0. 0. 0. 0. 0. 0. 0. 0. 1.]\n",
      " [0. 0. 0. 0. 0. 0. 0. 0. 1. 0. 0.]]\n"
     ]
    }
   ],
   "source": [
    "# Create bucketised feature column out of \"age\" with the following boundaries and demo it\n",
    "age_buckets = tf.feature_column.bucketized_column(age, boundaries=[18, 25, 30, 35, 40, 45, 50, 55, 60, 65])\n",
    "demo(age_buckets)"
   ]
  },
  {
   "cell_type": "markdown",
   "id": "destroyed-clarity",
   "metadata": {},
   "source": [
    "### **Categorical feature columns**\n",
    "\n",
    "In this data set, `thal` is represented as a `str` (e.g. `fixed`, `normal`, or `reversible`). We cannot feed strings directly to a model. Instead, we must first map them to numeric values. The *categorical vocabulary* columns provide a way to represent `str` as a one-hot vector (much like we've seen above with the `age` buckets). The vocabulary can be passed as a `list` using `categorical_column_with_vocabulary_list`, or loaded from a file using `categorical_column_with_vocabulary_file`."
   ]
  },
  {
   "cell_type": "code",
   "execution_count": 51,
   "id": "initial-summit",
   "metadata": {},
   "outputs": [
    {
     "name": "stdout",
     "output_type": "stream",
     "text": [
      "[[0. 1. 0.]\n",
      " [0. 1. 0.]\n",
      " [0. 0. 1.]\n",
      " [0. 1. 0.]\n",
      " [0. 0. 1.]]\n"
     ]
    }
   ],
   "source": [
    "# Create a categorical vocabulary column out of the above mentioned categories with the key specified as `thal`\n",
    "thal = tf.feature_column.categorical_column_with_vocabulary_list(\n",
    "    \"thal\", [\"fixed\", \"normal\", \"reversible\"]\n",
    ")\n",
    "\n",
    "# Create an indicator column out of the created categorical column\n",
    "demo(tf.feature_column.indicator_column(thal))"
   ]
  },
  {
   "cell_type": "markdown",
   "id": "committed-contemporary",
   "metadata": {},
   "source": [
    "In a more complex data set, many columns would be categorical (e.g. `str`). **Feature columns are most valuable when working with categorical data**. "
   ]
  },
  {
   "cell_type": "markdown",
   "id": "falling-candle",
   "metadata": {},
   "source": [
    "### **Embedding feature columns**\n",
    "\n",
    "Suppose instead of having just a few possible `str`, we have thousands (or more) values per category. For a number of reasons, **as the number of categories grows large, it becomes infeasible to train a neural network using one-hot encoding**. We can use an *embedding column* to overcome this limitation. Instead of representing the data as a one-hot vector of many dimensions, **an embedding column represents that data as a lower-dimensional, dense vector in which each cell can contain any number, not just `0` or `1`**. The size of the embedding (8, in the example below) is a parameter that must be tuned.\n",
    "\n",
    "**Key note**: using an embedding column is the best when dealing with categorical columns that can take multiple values. "
   ]
  },
  {
   "cell_type": "code",
   "execution_count": 36,
   "id": "raised-killer",
   "metadata": {},
   "outputs": [
    {
     "name": "stdout",
     "output_type": "stream",
     "text": [
      "[[-0.2752284   0.31184846 -0.45378727  0.18335919  0.14393225 -0.5538308\n",
      "  -0.5176286   0.23161277]\n",
      " [-0.2752284   0.31184846 -0.45378727  0.18335919  0.14393225 -0.5538308\n",
      "  -0.5176286   0.23161277]\n",
      " [-0.1991416  -0.16040753 -0.5557503   0.18354835 -0.03064946 -0.12696762\n",
      "  -0.6028906   0.01041704]\n",
      " [-0.2752284   0.31184846 -0.45378727  0.18335919  0.14393225 -0.5538308\n",
      "  -0.5176286   0.23161277]\n",
      " [-0.1991416  -0.16040753 -0.5557503   0.18354835 -0.03064946 -0.12696762\n",
      "  -0.6028906   0.01041704]]\n"
     ]
    }
   ],
   "source": [
    "# Notice the input to the embedding column is the categorical column we previously created\n",
    "# Set the size of the embedding to 8, by using the dimension parameter\n",
    "thal_embedding = tf.feature_column.embedding_column(thal, dimension=8)\n",
    "demo(thal_embedding)"
   ]
  },
  {
   "cell_type": "markdown",
   "id": "fifty-nylon",
   "metadata": {},
   "source": [
    "### **Hashed feature columns**\n",
    "\n",
    "Another way to represent a categorical column with a large number of values is to use a *categorical column with hash bucket*. This feature column calculates a hash value of the input, then selects one of the `hash_bucket_size` buckets to encode a string. When using this column, you do not need to provide the vocabulary, and you can choose to make the number of `hash_buckets` significantly smaller than the actual number of categories to save space.\n",
    "\n",
    "**Key note**: an important downside of this technique is that there may be collisions in which different strings are mapped to the same bucket. In practice, this can work well for some data sets regardless."
   ]
  },
  {
   "cell_type": "code",
   "execution_count": 49,
   "id": "sapphire-cigarette",
   "metadata": {},
   "outputs": [
    {
     "name": "stdout",
     "output_type": "stream",
     "text": [
      "[[0. 0. 0. ... 0. 0. 0.]\n",
      " [0. 0. 0. ... 0. 0. 0.]\n",
      " [0. 0. 0. ... 0. 0. 0.]\n",
      " [0. 0. 0. ... 0. 0. 0.]\n",
      " [0. 0. 0. ... 0. 0. 0.]]\n"
     ]
    }
   ],
   "source": [
    "# Create a hashed feature column with `thal` as the key and 1000 hash buckets\n",
    "thal_hashed = tf.feature_column.categorical_column_with_hash_bucket(\n",
    "    \"thal\", hash_bucket_size=1000\n",
    ")\n",
    "demo(tf.feature_column.indicator_column(thal_hashed))"
   ]
  },
  {
   "cell_type": "markdown",
   "id": "threaded-royal",
   "metadata": {},
   "source": [
    "### **Crossed feature columns**\n",
    "\n",
    "Combining features into a single feature, better known as *feature crosses*, enables a model to learn separate weights for each combination of features. Here, we will create a new feature that is the cross of `age` and `thal`. Note that `crossed_column` does not build the full table of all possible combinations (which could be very large). Instead, it is backed by a `hashed_column`, so you can choose how large the table is."
   ]
  },
  {
   "cell_type": "code",
   "execution_count": 47,
   "id": "greatest-steering",
   "metadata": {},
   "outputs": [
    {
     "name": "stdout",
     "output_type": "stream",
     "text": [
      "[[0. 0. 0. ... 0. 0. 0.]\n",
      " [0. 0. 0. ... 0. 0. 0.]\n",
      " [0. 0. 0. ... 0. 0. 0.]\n",
      " [0. 0. 0. ... 0. 0. 0.]\n",
      " [0. 0. 0. ... 0. 0. 0.]]\n"
     ]
    }
   ],
   "source": [
    "# Create a crossed column using the bucketised column (age_buckets)\n",
    "# the categorical vocabulary column (thal), and 1000 hash buckets\n",
    "crossed_feature = tf.feature_column.crossed_column(\n",
    "    [age_buckets, thal], hash_bucket_size=1000\n",
    ")\n",
    "demo(tf.feature_column.indicator_column(crossed_feature))"
   ]
  },
  {
   "cell_type": "markdown",
   "id": "embedded-parameter",
   "metadata": {},
   "source": [
    "## **Choose which columns to use**\n",
    "\n",
    "We have seen how to create several types of feature columns. Now we will use them to train a model. The goal of this section is to show you the complete code (e.g. mechanics) needed to work with feature columns. We have selected a few columns to train our model below arbitrarily.\n",
    "\n",
    "**Key note**: if your aim is to build an accurate model, try a larger data set of your own, and think carefully about which features are the most meaningful to include, and how they should be represented."
   ]
  },
  {
   "cell_type": "code",
   "execution_count": 55,
   "id": "interim-calgary",
   "metadata": {},
   "outputs": [],
   "source": [
    "feature_columns = []\n",
    "\n",
    "# numeric cols\n",
    "# Create a numeric feature column out of the header\n",
    "for header in [\"age\", \"trestbps\", \"chol\", \"thalach\", \"oldpeak\", \"slope\", \"ca\"]:\n",
    "    feature_columns.append(tf.feature_column.numeric_column(header))\n",
    "    \n",
    "# bucketised cols\n",
    "# Create a bucketised feature column out of the age column using the following boundaries\n",
    "age_buckets = tf.feature_column.bucketized_column(\n",
    "    tf.feature_column.numeric_column(\"age\"),\n",
    "    boundaries=[18, 25, 30, 35, 40, 45, 50, 55, 60, 65]\n",
    ")\n",
    "feature_columns.append(age_buckets)\n",
    "\n",
    "# indicator cols\n",
    "# Create a categorical vocabulary feature column out of the below categories with the key specified as `thal`\n",
    "thal = tf.feature_column.categorical_column_with_vocabulary_list(\n",
    "    \"thal\", [\"fixed\", \"normal\", \"reversible\"]\n",
    ")\n",
    "feature_columns.append(tf.feature_column.indicator_column(thal))\n",
    "\n",
    "# embedding cols\n",
    "# Create an embedding feature column out of the categorical vocabulary feature column `thal`\n",
    "thal_embedding = tf.feature_column.embedding_column(thal, dimension=8)\n",
    "feature_columns.append(thal_embedding)\n",
    "\n",
    "# crossed cols\n",
    "# Create a crossed feature column using the bucketised column (age_buckets),\n",
    "# the categorical vocabulary column (thal) and 1000 hash buckets\n",
    "crossed_feature = tf.feature_column.crossed_column([age_buckets, thal], hash_bucket_size=1000)\n",
    "feature_columns.append(tf.feature_column.indicator_column(crossed_feature))"
   ]
  },
  {
   "cell_type": "markdown",
   "id": "appreciated-bunny",
   "metadata": {},
   "source": [
    "## **Input feature columns to a Keras model**\n",
    "\n",
    "Now that we have defined our feature columns, we use a `DenseFeatures` layer to input them to a Keras model."
   ]
  },
  {
   "cell_type": "code",
   "execution_count": 58,
   "id": "handled-pitch",
   "metadata": {},
   "outputs": [],
   "source": [
    "# Create a Keras `DenseFeatures` layer and pass the features columns\n",
    "feature_layer = tf.keras.layers.DenseFeatures(feature_columns)\n"
   ]
  },
  {
   "cell_type": "markdown",
   "id": "adequate-bridal",
   "metadata": {},
   "source": [
    "Earlier, we used a small batch size to demonstrate how feature columns worked. We create a new input pipeline with a larger batch size."
   ]
  },
  {
   "cell_type": "code",
   "execution_count": 59,
   "id": "cellular-possession",
   "metadata": {},
   "outputs": [],
   "source": [
    "batch_size = 32\n",
    "train_ds = df_to_dataset(train, batch_size=batch_size)\n",
    "val_ds = df_to_dataset(val, shuffle=False, batch_size=batch_size)\n",
    "test_ds = df_to_dataset(test, shuffle=False, batch_size=batch_size)"
   ]
  },
  {
   "cell_type": "markdown",
   "id": "detected-contract",
   "metadata": {},
   "source": [
    "## **Create, compile, and train the model**"
   ]
  },
  {
   "cell_type": "code",
   "execution_count": 60,
   "id": "improving-reference",
   "metadata": {},
   "outputs": [
    {
     "name": "stdout",
     "output_type": "stream",
     "text": [
      "Epoch 1/5\n",
      "WARNING:tensorflow:Layers in a Sequential model should only have a single input tensor, but we receive a <class 'dict'> input: {'age': <tf.Tensor 'ExpandDims:0' shape=(None, 1) dtype=int64>, 'sex': <tf.Tensor 'ExpandDims_8:0' shape=(None, 1) dtype=int64>, 'cp': <tf.Tensor 'ExpandDims_3:0' shape=(None, 1) dtype=int64>, 'trestbps': <tf.Tensor 'ExpandDims_12:0' shape=(None, 1) dtype=int64>, 'chol': <tf.Tensor 'ExpandDims_2:0' shape=(None, 1) dtype=int64>, 'fbs': <tf.Tensor 'ExpandDims_5:0' shape=(None, 1) dtype=int64>, 'restecg': <tf.Tensor 'ExpandDims_7:0' shape=(None, 1) dtype=int64>, 'thalach': <tf.Tensor 'ExpandDims_11:0' shape=(None, 1) dtype=int64>, 'exang': <tf.Tensor 'ExpandDims_4:0' shape=(None, 1) dtype=int64>, 'oldpeak': <tf.Tensor 'ExpandDims_6:0' shape=(None, 1) dtype=float64>, 'slope': <tf.Tensor 'ExpandDims_9:0' shape=(None, 1) dtype=int64>, 'ca': <tf.Tensor 'ExpandDims_1:0' shape=(None, 1) dtype=int64>, 'thal': <tf.Tensor 'ExpandDims_10:0' shape=(None, 1) dtype=string>}\n",
      "Consider rewriting this model with the Functional API.\n",
      "WARNING:tensorflow:Layers in a Sequential model should only have a single input tensor, but we receive a <class 'dict'> input: {'age': <tf.Tensor 'ExpandDims:0' shape=(None, 1) dtype=int64>, 'sex': <tf.Tensor 'ExpandDims_8:0' shape=(None, 1) dtype=int64>, 'cp': <tf.Tensor 'ExpandDims_3:0' shape=(None, 1) dtype=int64>, 'trestbps': <tf.Tensor 'ExpandDims_12:0' shape=(None, 1) dtype=int64>, 'chol': <tf.Tensor 'ExpandDims_2:0' shape=(None, 1) dtype=int64>, 'fbs': <tf.Tensor 'ExpandDims_5:0' shape=(None, 1) dtype=int64>, 'restecg': <tf.Tensor 'ExpandDims_7:0' shape=(None, 1) dtype=int64>, 'thalach': <tf.Tensor 'ExpandDims_11:0' shape=(None, 1) dtype=int64>, 'exang': <tf.Tensor 'ExpandDims_4:0' shape=(None, 1) dtype=int64>, 'oldpeak': <tf.Tensor 'ExpandDims_6:0' shape=(None, 1) dtype=float64>, 'slope': <tf.Tensor 'ExpandDims_9:0' shape=(None, 1) dtype=int64>, 'ca': <tf.Tensor 'ExpandDims_1:0' shape=(None, 1) dtype=int64>, 'thal': <tf.Tensor 'ExpandDims_10:0' shape=(None, 1) dtype=string>}\n",
      "Consider rewriting this model with the Functional API.\n",
      "1/7 [===>..........................] - ETA: 7s - loss: 1.4833 - accuracy: 0.4375WARNING:tensorflow:Layers in a Sequential model should only have a single input tensor, but we receive a <class 'dict'> input: {'age': <tf.Tensor 'ExpandDims:0' shape=(None, 1) dtype=int64>, 'sex': <tf.Tensor 'ExpandDims_8:0' shape=(None, 1) dtype=int64>, 'cp': <tf.Tensor 'ExpandDims_3:0' shape=(None, 1) dtype=int64>, 'trestbps': <tf.Tensor 'ExpandDims_12:0' shape=(None, 1) dtype=int64>, 'chol': <tf.Tensor 'ExpandDims_2:0' shape=(None, 1) dtype=int64>, 'fbs': <tf.Tensor 'ExpandDims_5:0' shape=(None, 1) dtype=int64>, 'restecg': <tf.Tensor 'ExpandDims_7:0' shape=(None, 1) dtype=int64>, 'thalach': <tf.Tensor 'ExpandDims_11:0' shape=(None, 1) dtype=int64>, 'exang': <tf.Tensor 'ExpandDims_4:0' shape=(None, 1) dtype=int64>, 'oldpeak': <tf.Tensor 'ExpandDims_6:0' shape=(None, 1) dtype=float64>, 'slope': <tf.Tensor 'ExpandDims_9:0' shape=(None, 1) dtype=int64>, 'ca': <tf.Tensor 'ExpandDims_1:0' shape=(None, 1) dtype=int64>, 'thal': <tf.Tensor 'ExpandDims_10:0' shape=(None, 1) dtype=string>}\n",
      "Consider rewriting this model with the Functional API.\n",
      "7/7 [==============================] - 2s 67ms/step - loss: 1.4440 - accuracy: 0.5904 - val_loss: 0.5331 - val_accuracy: 0.7959\n",
      "Epoch 2/5\n",
      "7/7 [==============================] - 0s 16ms/step - loss: 0.8602 - accuracy: 0.7278 - val_loss: 2.1753 - val_accuracy: 0.2245\n",
      "Epoch 3/5\n",
      "7/7 [==============================] - 0s 16ms/step - loss: 1.3923 - accuracy: 0.4906 - val_loss: 1.0136 - val_accuracy: 0.7959\n",
      "Epoch 4/5\n",
      "7/7 [==============================] - 0s 13ms/step - loss: 1.3927 - accuracy: 0.7050 - val_loss: 1.3303 - val_accuracy: 0.5510\n",
      "Epoch 5/5\n",
      "7/7 [==============================] - 0s 13ms/step - loss: 1.0353 - accuracy: 0.6022 - val_loss: 0.5775 - val_accuracy: 0.7755\n"
     ]
    }
   ],
   "source": [
    "# `Sequential()` provides training and inference features on this model\n",
    "model = tf.keras.Sequential([\n",
    "    feature_layer,\n",
    "    layers.Dense(128, activation=\"relu\"),\n",
    "    layers.Dense(128, activation=\"relu\"),\n",
    "    layers.Dense(1)\n",
    "])\n",
    "\n",
    "# `.compile()` configures the model for training\n",
    "model.compile(\n",
    "    optimizer=\"adam\",\n",
    "    loss=tf.keras.losses.BinaryCrossentropy(from_logits=True),\n",
    "    metrics=[\"accuracy\"]\n",
    ")\n",
    "\n",
    "# `.fit()` trains the model for a fixed number of epochs\n",
    "history = model.fit(\n",
    "    train_ds,\n",
    "    validation_data=val_ds,\n",
    "    epochs=5\n",
    ")"
   ]
  },
  {
   "cell_type": "code",
   "execution_count": 61,
   "id": "urban-mentor",
   "metadata": {},
   "outputs": [
    {
     "name": "stdout",
     "output_type": "stream",
     "text": [
      "2/2 [==============================] - 0s 4ms/step - loss: 0.9701 - accuracy: 0.7049\n",
      "Accuracy 0.7049180269241333\n"
     ]
    }
   ],
   "source": [
    "# `evaluate()` returns the loss value and metrics values for the model in test mode\n",
    "loss, accuracy = model.evaluate(test_ds)\n",
    "print(\"Accuracy\", accuracy)"
   ]
  },
  {
   "cell_type": "markdown",
   "id": "expanded-upset",
   "metadata": {},
   "source": [
    "## **Visualise the model loss curve**\n",
    "\n",
    "Next, we will use `matplotlib` to draw the model's loss curves for training and validation. A line plot is also created showing the accuracy over the training epochs for both the train (blue) and test (orange) sets."
   ]
  },
  {
   "cell_type": "code",
   "execution_count": 62,
   "id": "standing-globe",
   "metadata": {},
   "outputs": [
    {
     "data": {
      "image/png": "[encoded data removed]",
      "text/plain": [
       "<Figure size 720x360 with 2 Axes>"
      ]
     },
     "metadata": {
      "needs_background": "light"
     },
     "output_type": "display_data"
    }
   ],
   "source": [
    "def plot_curves(history, metrics):\n",
    "    nrows = 1\n",
    "    ncols = 2\n",
    "    fig = plt.figure(figsize=(10, 5))\n",
    "    \n",
    "    for idx, key in enumerate(metrics):\n",
    "        ax = fig.add_subplot(nrows, ncols, idx+1)\n",
    "        plt.plot(history.history[key])\n",
    "        plt.plot(history.history[\"val_{}\".format(key)])\n",
    "        plt.title(\"model {}\".format(key))\n",
    "        plt.ylabel(key)\n",
    "        plt.xlabel(\"epoch\")\n",
    "        plt.legend([\"train\", \"validation\"], loc=\"upper left\");\n",
    "\n",
    "plot_curves(history, [\"loss\", \"accuracy\"])"
   ]
  },
  {
   "cell_type": "markdown",
   "id": "tribal-novel",
   "metadata": {},
   "source": [
    "**Key note**: you will typically see best results with deep learning with much larger and more complex data sets. "
   ]
  }
 ],
 "metadata": {
  "kernelspec": {
   "display_name": "Python 3",
   "language": "python",
   "name": "python3"
  },
  "language_info": {
   "codemirror_mode": {
    "name": "ipython",
    "version": 3
   },
   "file_extension": ".py",
   "mimetype": "text/x-python",
   "name": "python",
   "nbconvert_exporter": "python",
   "pygments_lexer": "ipython3",
   "version": "3.8.5"
  }
 },
 "nbformat": 4,
 "nbformat_minor": 5
}
