{
 "cells": [
  {
   "cell_type": "markdown",
   "id": "thousand-forestry",
   "metadata": {},
   "source": [
    "# **Loading Images Using `tf.data.Dataset`**"
   ]
  },
  {
   "cell_type": "markdown",
   "id": "committed-breast",
   "metadata": {},
   "source": [
    "**Learning objectives**\n",
    "1. Retrieve images using `tf.keras.utils.get_file`\n",
    "2. Load images using Keras Pre-Processing\n",
    "3. Load images using `tf.data.Dataset`\n",
    "4. Understand basic methods for training"
   ]
  },
  {
   "cell_type": "markdown",
   "id": "bizarre-oriental",
   "metadata": {},
   "source": [
    "## **Introduction**"
   ]
  },
  {
   "cell_type": "markdown",
   "id": "dimensional-tribute",
   "metadata": {},
   "source": [
    "In this notebook, we load an image data set using `tf.data`. The data set used in this example is distributed as directories of images, with one class of image per directory."
   ]
  },
  {
   "cell_type": "markdown",
   "id": "developing-probe",
   "metadata": {},
   "source": [
    "### **Setup**\n"
   ]
  },
  {
   "cell_type": "markdown",
   "id": "divine-signal",
   "metadata": {},
   "source": [
    "### **Load necessary libraries**"
   ]
  },
  {
   "cell_type": "code",
   "execution_count": null,
   "id": "accessible-essay",
   "metadata": {},
   "outputs": [],
   "source": []
  }
 ],
 "metadata": {
  "kernelspec": {
   "display_name": "Python 3",
   "language": "python",
   "name": "python3"
  },
  "language_info": {
   "codemirror_mode": {
    "name": "ipython",
    "version": 3
   },
   "file_extension": ".py",
   "mimetype": "text/x-python",
   "name": "python",
   "nbconvert_exporter": "python",
   "pygments_lexer": "ipython3",
   "version": "3.8.5"
  }
 },
 "nbformat": 4,
 "nbformat_minor": 5
}
