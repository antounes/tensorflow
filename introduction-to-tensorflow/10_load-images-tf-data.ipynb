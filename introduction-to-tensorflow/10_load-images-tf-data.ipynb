{
 "cells": [
  {
   "cell_type": "markdown",
   "id": "intellectual-subsection",
   "metadata": {},
   "source": [
    "# **Loading Images Using `tf.data.Dataset`**"
   ]
  },
  {
   "cell_type": "markdown",
   "id": "medical-membership",
   "metadata": {},
   "source": [
    "**Learning objectives**\n",
    "1. Retrieve images using `tf.keras.utils.get_file`\n",
    "2. Load images using Keras Pre-Processing\n",
    "3. Load images using `tf.data.Dataset`\n",
    "4. Understand basic methods for training"
   ]
  },
  {
   "cell_type": "markdown",
   "id": "afraid-disease",
   "metadata": {},
   "source": [
    "## **Introduction**"
   ]
  },
  {
   "cell_type": "code",
   "execution_count": null,
   "id": "stock-merchant",
   "metadata": {},
   "outputs": [],
   "source": []
  }
 ],
 "metadata": {
  "kernelspec": {
   "display_name": "Python 3",
   "language": "python",
   "name": "python3"
  },
  "language_info": {
   "codemirror_mode": {
    "name": "ipython",
    "version": 3
   },
   "file_extension": ".py",
   "mimetype": "text/x-python",
   "name": "python",
   "nbconvert_exporter": "python",
   "pygments_lexer": "ipython3",
   "version": "3.8.5"
  }
 },
 "nbformat": 4,
 "nbformat_minor": 5
}
