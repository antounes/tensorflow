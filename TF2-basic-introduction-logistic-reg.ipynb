{
 "cells": [
  {
   "cell_type": "markdown",
   "id": "wrong-analyst",
   "metadata": {},
   "source": [
    "# **Basic introduction to Logistic Regression in TensorFlow 2.0**\n",
    "\n",
    "## **Learning Objectives**\n",
    "\n",
    "1. Build a logistic regression model\n",
    "2. Train the model on example data\n",
    "3. Use the model to make predictions about unknown data\n",
    "\n",
    "## **Introduction**\n",
    "\n",
    "This notebook walks through a classification problem. The goal is to *categorise* Iris flowers by species. TensorFlow is used for:\n",
    "- getting familiar with default eager execution environment\n",
    "- importing data with the Datasets API\n",
    "- building models and layers with the Keras API\n",
    "\n",
    "### **Configure imports**\n",
    "\n",
    "Import TensorFlow and the other required Python modules. By default, TensorFlow uses eager execution to evaluate operations immediately, returning concrete values instead of creating a computational graph to be executed (which would be lazy evaluation)."
   ]
  },
  {
   "cell_type": "code",
   "execution_count": 1,
   "id": "advised-collins",
   "metadata": {},
   "outputs": [
    {
     "name": "stdout",
     "output_type": "stream",
     "text": [
      "TensorFlow version: 2.4.1\n",
      "Eager execution mode: True\n"
     ]
    }
   ],
   "source": [
    "import os\n",
    "import matplotlib.pyplot as plt\n",
    "import tensorflow as tf\n",
    "print(\"TensorFlow version: {}\".format(tf.__version__))\n",
    "print(\"Eager execution mode: {}\".format(tf.executing_eagerly()))"
   ]
  },
  {
   "cell_type": "markdown",
   "id": "rational-certification",
   "metadata": {},
   "source": [
    "## **The Iris classification problem**\n",
    "\n",
    "Imagine you are a botanist seeking an automated way to categorise each Iris flower you find. ML provides many algorithms to classify flowers statistically. For instance, a sophisticated ML program could classify flowers based on photographs. Our ambitions are more modest here -- we are going to classify Iris flowers based on the length and width measurements of their sepals and petals.\n",
    "\n",
    "The Iris genus entails about 300 species, but our program will only classify the following three:\n",
    "- Iris setosa\n",
    "- Iris virginica\n",
    "- Iris versicolor\n",
    "Fortunately, someone has already created a data set of 120 Iris flowers with the sepal and petal measurements. This is a classic data set that is popular for basic ML classification problems."
   ]
  },
  {
   "cell_type": "markdown",
   "id": "loving-liberal",
   "metadata": {},
   "source": [
    "### **Import and parse the training data set**\n",
    "Download the data set file and convert it into a structure to be fed into TensorFlow."
   ]
  },
  {
   "cell_type": "markdown",
   "id": "awful-canadian",
   "metadata": {},
   "source": [
    "#### **Download the dataset**"
   ]
  },
  {
   "cell_type": "code",
   "execution_count": 2,
   "id": "commercial-overall",
   "metadata": {},
   "outputs": [
    {
     "name": "stdout",
     "output_type": "stream",
     "text": [
      "Local copy of the data set file: /home/antounes/.keras/datasets/iris_training.csv\n"
     ]
    }
   ],
   "source": [
    "train_url = \"https://storage.googleapis.com/download.tensorflow.org/data/iris_training.csv\"\n",
    "\n",
    "# tf.keras.utils.get_file returns an object file path named fname of the downloaded file from origin\n",
    "train_dataset_fp = tf.keras.utils.get_file(fname=os.path.basename(train_url),\n",
    "                                           origin=train_url)\n",
    "print(\"Local copy of the data set file: {}\".format(train_dataset_fp))"
   ]
  },
  {
   "cell_type": "markdown",
   "id": "approximate-corrections",
   "metadata": {},
   "source": [
    "#### **Inspect the data**\n",
    "This data set, `iris_training.csv` is a plain text file that stores tabular data formatted as comma-separated values (CSV). Let's take a peek at the first five entries"
   ]
  },
  {
   "cell_type": "code",
   "execution_count": 3,
   "id": "gentle-parking",
   "metadata": {},
   "outputs": [
    {
     "name": "stdout",
     "output_type": "stream",
     "text": [
      "120,4,setosa,versicolor,virginica\n",
      "6.4,2.8,5.6,2.2,2\n",
      "5.0,2.3,3.3,1.0,1\n",
      "4.9,2.5,4.5,1.7,2\n",
      "4.9,3.1,1.5,0.1,0\n"
     ]
    }
   ],
   "source": [
    "!head -n5 {train_dataset_fp}"
   ]
  },
  {
   "cell_type": "markdown",
   "id": "grand-interference",
   "metadata": {},
   "source": [
    "Note the following:\n",
    "1. The first line is a header containing information about the data set:\n",
    "- there are 120 total examples. Each example has four *features* and one of three possible *label names*\n",
    "2. Subsequent rows are data records, one example per line:\n",
    "- the first 4 fields are the *features*: here float numbers representing flower measurements\n",
    "- the last columnis the *label*: here an integer value corresponding to a flower name\n",
    "    "
   ]
  },
  {
   "cell_type": "code",
   "execution_count": 4,
   "id": "ruled-employer",
   "metadata": {},
   "outputs": [
    {
     "name": "stdout",
     "output_type": "stream",
     "text": [
      "Features: ['sepal_length', 'sepal_width', 'petal_length', 'petal_width']\n",
      "Label: species\n"
     ]
    }
   ],
   "source": [
    "column_names = [\"sepal_length\", \"sepal_width\", \"petal_length\", \"petal_width\", \"species\"]\n",
    "\n",
    "feature_names = column_names[:-1]\n",
    "label_name = column_names[-1]\n",
    "\n",
    "print(\"Features: {}\".format(feature_names))\n",
    "print(\"Label: {}\".format(label_name))"
   ]
  },
  {
   "cell_type": "markdown",
   "id": "southeast-binding",
   "metadata": {},
   "source": [
    "Each label is associated with a string name (e.g. `setosa`), but ML typically relies on *numeric values*. The label numbers are mapped to a named representation, such as:\n",
    "\n",
    "-`0`: Iris setosa\n",
    "-`1`: Iris versicolor\n",
    "-`2`: Iris virginica"
   ]
  },
  {
   "cell_type": "code",
   "execution_count": 5,
   "id": "soviet-exclusion",
   "metadata": {},
   "outputs": [],
   "source": [
    "class_names = [\"Iris setosa\", \"Iris versicolor\", \"Iris virginica\"]"
   ]
  },
  {
   "cell_type": "markdown",
   "id": "closed-duplicate",
   "metadata": {},
   "source": [
    "#### **Create a tf.data.Dataset**\n",
    "\n",
    "TensorFlow Dataset API handles many common cases for loading data into a model. This is a high-level API for reading data and transforming it into a form used for training.\n",
    "\n",
    "Since the dataset is a CSV-formatted text file, we'll use `tf.data.experimental.make_csv_dataset` to parse the data into a suitable format. This function generates new data for training models, the default behaviour is to shuffle the data `(shuffle=True, shuffle_buffer_size=10000)` and repeat the dataset forever `(num_epochs=None)`; the `batch_size` parameter is also set."
   ]
  },
  {
   "cell_type": "code",
   "execution_count": 6,
   "id": "global-market",
   "metadata": {},
   "outputs": [],
   "source": [
    "batch_size = 32\n",
    "\n",
    "train_dataset = tf.data.experimental.make_csv_dataset(\n",
    "    train_dataset_fp,\n",
    "    batch_size,\n",
    "    column_names=column_names,\n",
    "    label_name=label_name,\n",
    "    num_epochs=1\n",
    ")"
   ]
  },
  {
   "cell_type": "markdown",
   "id": "thick-platinum",
   "metadata": {},
   "source": [
    "The `make_csv_dataset` function returs a `tf.data.Dataset` of `(features, label)` pairs, where `features` is a `dict`: `{\"feature_name\": value}`.\n",
    "The `tf.data.Dataset` objects are iterable."
   ]
  },
  {
   "cell_type": "code",
   "execution_count": 14,
   "id": "determined-airline",
   "metadata": {},
   "outputs": [
    {
     "name": "stdout",
     "output_type": "stream",
     "text": [
      "OrderedDict([('sepal_length', <tf.Tensor: shape=(32,), dtype=float32, numpy=\n",
      "array([5.4, 4.8, 6.3, 4.9, 5.1, 6.5, 7.2, 6.3, 6.9, 6.1, 6. , 4.9, 5.4,\n",
      "       5.6, 5.1, 4.6, 4.4, 4.9, 6.4, 5.4, 6.3, 6.7, 5.8, 6.9, 4.9, 4.8,\n",
      "       5.3, 4.8, 6.9, 4.4, 5.2, 6.1], dtype=float32)>), ('sepal_width', <tf.Tensor: shape=(32,), dtype=float32, numpy=\n",
      "array([3. , 3. , 2.5, 3.1, 3.8, 3.2, 3.6, 3.3, 3.2, 3. , 2.9, 3.1, 3.9,\n",
      "       2.7, 3.7, 3.6, 3. , 3. , 2.8, 3.4, 2.3, 3.3, 4. , 3.1, 3.1, 3.4,\n",
      "       3.7, 3. , 3.1, 2.9, 2.7, 2.9], dtype=float32)>), ('petal_length', <tf.Tensor: shape=(32,), dtype=float32, numpy=\n",
      "array([4.5, 1.4, 5. , 1.5, 1.9, 5.1, 6.1, 6. , 5.7, 4.9, 4.5, 1.5, 1.3,\n",
      "       4.2, 1.5, 1. , 1.3, 1.4, 5.6, 1.5, 4.4, 5.7, 1.2, 4.9, 1.5, 1.6,\n",
      "       1.5, 1.4, 5.1, 1.4, 3.9, 4.7], dtype=float32)>), ('petal_width', <tf.Tensor: shape=(32,), dtype=float32, numpy=\n",
      "array([1.5, 0.3, 1.9, 0.1, 0.4, 2. , 2.5, 2.5, 2.3, 1.8, 1.5, 0.1, 0.4,\n",
      "       1.3, 0.4, 0.2, 0.2, 0.2, 2.1, 0.4, 1.3, 2.1, 0.2, 1.5, 0.1, 0.2,\n",
      "       0.2, 0.1, 2.3, 0.2, 1.4, 1.4], dtype=float32)>)])\n"
     ]
    }
   ],
   "source": [
    "features, labels = next(iter(train_dataset))\n",
    "print(features)"
   ]
  },
  {
   "cell_type": "markdown",
   "id": "automatic-batch",
   "metadata": {},
   "source": [
    "Like-features are grouped together, or *batched*. Each example row's fields are appended to the corresponding feature array. The `batch_size` parameter controls the number of examples stored in the feature arrays. Let's have a look at some plots."
   ]
  },
  {
   "cell_type": "code",
   "execution_count": 15,
   "id": "employed-michigan",
   "metadata": {},
   "outputs": [
    {
     "data": {
      "image/png": "[encoded data removed]",
      "text/plain": [
       "<Figure size 432x288 with 1 Axes>"
      ]
     },
     "metadata": {
      "needs_background": "light"
     },
     "output_type": "display_data"
    }
   ],
   "source": [
    "plt.scatter(\n",
    "    features[\"petal_length\"],\n",
    "    features[\"sepal_length\"],\n",
    "    c=labels,\n",
    "    cmap=\"viridis\"\n",
    ")\n",
    "\n",
    "plt.xlabel(\"Petal length\")\n",
    "plt.ylabel(\"Sepal length\")\n",
    "plt.show()"
   ]
  },
  {
   "cell_type": "markdown",
   "id": "twelve-planning",
   "metadata": {},
   "source": [
    "To simplify the model building step, create a function to repackage the features `dict` into a single array with shape: `(batch_size, num_features)`. This function uses the `tf.stack` method which takes values from a list of tensors and creates a combined tensor at the specified dimension."
   ]
  },
  {
   "cell_type": "code",
   "execution_count": 16,
   "id": "continuing-hospital",
   "metadata": {},
   "outputs": [],
   "source": [
    "def pack_features_vector(features, labels):\n",
    "    \"\"\"Pack the features into a single array\"\"\"\n",
    "    features = tf.stack(list(features.values()), axis=1)\n",
    "    return features, labels"
   ]
  },
  {
   "cell_type": "markdown",
   "id": "alert-sperm",
   "metadata": {},
   "source": [
    "Then use the `tf.data.Dataset` `map` method to pack the `features` of each `(features, label)` pair into the training dataset."
   ]
  },
  {
   "cell_type": "code",
   "execution_count": 17,
   "id": "satisfactory-segment",
   "metadata": {},
   "outputs": [],
   "source": [
    "train_dataset = train_dataset.map(pack_features_vector)"
   ]
  },
  {
   "cell_type": "markdown",
   "id": "isolated-tongue",
   "metadata": {},
   "source": [
    "The features element of the `tf.data.Dataset` are now arrays with shape `(batch_size, num_features)`. Let's have a look at a few examples."
   ]
  },
  {
   "cell_type": "code",
   "execution_count": 21,
   "id": "clean-membership",
   "metadata": {},
   "outputs": [
    {
     "name": "stdout",
     "output_type": "stream",
     "text": [
      "tf.Tensor(\n",
      "[[6.4 3.2 4.5 1.5]\n",
      " [6.3 2.7 4.9 1.8]\n",
      " [5.8 2.7 5.1 1.9]\n",
      " [6.  3.  4.8 1.8]\n",
      " [7.2 3.  5.8 1.6]], shape=(5, 4), dtype=float32) tf.Tensor([1 2 2 2 2], shape=(5,), dtype=int32)\n"
     ]
    }
   ],
   "source": [
    "features, labels = next(iter(train_dataset))\n",
    "print(features[:5], labels[:5])"
   ]
  },
  {
   "cell_type": "markdown",
   "id": "likely-apparatus",
   "metadata": {},
   "source": [
    "### **Select the type of model**"
   ]
  },
  {
   "cell_type": "markdown",
   "id": "threaded-magnitude",
   "metadata": {},
   "source": [
    "#### **Why model ?**\n",
    "\n",
    "A *model* is a relationship between the `features` and the `label`. For the Iris classification problem, the model defines the relationship between the sepal and petal measurements and the predicted Iris species. Some simple models can be described with a few lines of algebra, but complex machine learning models have a large number of parameters that are difficult to summarize.\n",
    "\n",
    "Could you determine the relationship between the four features and the Iris species *without* using machine learning ? That is, could you use traditional programming techniques (e.g. a lot of conditional statements) to create a model ? Perhaps - if you analysed the dataset long enough to determine the relationships between petal and sepal measurement to a particular species. And this becomes difficult - maybe impossible - on more complicated datasets. A good machine learning approach *determines the model for you*. If you feed enough representative examples into the right ML model type, it will figure out the relationships for you."
   ]
  },
  {
   "cell_type": "markdown",
   "id": "obvious-pepper",
   "metadata": {},
   "source": [
    "#### **Select the model**\n",
    "\n",
    "We need to select the kind of model to train. There are many types of models and picking a good one takes experience. This tutorial uses a neural network to solve the Iris classification problem. *Neural networks* can find complex relationships between the features and the label. \n",
    "\n",
    "It's a highly-structured graph, organised into one or more *hidden layers*. Each hidden layer consists of one or more *neurons*. There are several categories of neural networks and this program uses a *dense*, or *fully-connected* neural network: neurons in one layer receive input connections from *every* neuron in the previous layer. Below example of a dense neural network consisting of an input layer, two hidden layers and an output layer.\n",
    "\n",
    "<img src=\"fully-connected-net.png\"> \n",
    "\n",
    "When this model is trained and fed an unlabeled example, it yields three predictions: the likelihood that this flower is the given Iris species. This prediction is called *inference*. For this example, the sum of the output prediction is `1.0`. Here, the model predicts that the fed unlabeled example flower is an *Iris versicolor* with $95~\\%$ probability."
   ]
  },
  {
   "cell_type": "markdown",
   "id": "searching-aluminum",
   "metadata": {},
   "source": [
    "#### **Create a model using `tf.keras.Sequential`**"
   ]
  },
  {
   "cell_type": "markdown",
   "id": "abandoned-science",
   "metadata": {},
   "source": [
    "The TensorFlow `tf.keras` API is the preferred way to created models and layers. This makes it easy to build models and experiment while `Keras` handles the complexity of connecting everything together.\n",
    "\n",
    "The `tf.keras.Sequential` model is a linear stack of layers. Its constructor takes a list of layers instances and an output layer. Here we'll use 2 `tf.keras.layers.Dense` layers with 10 nodes each and an output layer with 3 nodes representing our label predictions. \n",
    "\n",
    "The first layer's `input_shape` parameter corresponds to the number of features from the dataset, and is required. The `activation` parameter decides which *activation function* to use and determines the output shape of each node in the layer. These non-linearities are important - without them the model would be equivalent to a single layer. There are many `tf.keras.activations`, but `ReLU` is common for hidden layers.\n",
    "\n",
    "The ideal number of hidden layers and neurons depends on the problem and the dataset. Like many aspects of ML, picking the best shape of a neural network requires a mixture of knowledge and experimentation. As a rule of thumb, **increasing the number of hidden layers and neurons typically creates a more powerful model, thus requiring mode data to train efficiently** "
   ]
  },
  {
   "cell_type": "code",
   "execution_count": 23,
   "id": "critical-edgar",
   "metadata": {},
   "outputs": [],
   "source": [
    "model = tf.keras.Sequential([\n",
    "    tf.keras.layers.Dense(10, activation=tf.nn.relu, input_shape=(4,)),\n",
    "    tf.keras.layers.Dense(10, activation=tf.nn.relu),\n",
    "    tf.keras.layers.Dense(3)\n",
    "])"
   ]
  },
  {
   "cell_type": "markdown",
   "id": "capable-bedroom",
   "metadata": {},
   "source": [
    "#### **Using the model**"
   ]
  },
  {
   "cell_type": "markdown",
   "id": "corporate-truth",
   "metadata": {},
   "source": [
    "Let's have a quick look at what this model does with a batch of `features`"
   ]
  },
  {
   "cell_type": "code",
   "execution_count": 28,
   "id": "outside-verse",
   "metadata": {},
   "outputs": [
    {
     "data": {
      "text/plain": [
       "<tf.Tensor: shape=(5, 3), dtype=float32, numpy=\n",
       "array([[-1.2545208 ,  1.8786243 ,  0.25325692],\n",
       "       [-1.2109331 ,  1.8507948 ,  0.08853996],\n",
       "       [-1.1591718 ,  1.7769098 ,  0.02409589],\n",
       "       [-1.225023  ,  1.7955794 ,  0.10662377],\n",
       "       [-1.2517062 ,  2.2210875 ,  0.234689  ]], dtype=float32)>"
      ]
     },
     "execution_count": 28,
     "metadata": {},
     "output_type": "execute_result"
    }
   ],
   "source": [
    "predictions = model(features)\n",
    "predictions[:5]"
   ]
  },
  {
   "cell_type": "markdown",
   "id": "defensive-nursing",
   "metadata": {},
   "source": [
    "Here each example returns a `logit` for each class. A **logit** is a vector of raw predictions generated by a classification model, and is generally passed on to a normalised function. If the model is solving a multi-class classification problem, logits are generally fed into the `softmax` function. **softmax** generates a vector of normalised probabilities with one value for each possible class.\n",
    "\n",
    "In addition, logit sometimes refers to the element-wise inverse of the *sigmoid function*.\n",
    "\n",
    "Logits must then be converted into probabilities for each class by using the `softmax` output function"
   ]
  },
  {
   "cell_type": "code",
   "execution_count": 29,
   "id": "emerging-engineer",
   "metadata": {},
   "outputs": [
    {
     "data": {
      "text/plain": [
       "<tf.Tensor: shape=(5, 3), dtype=float32, numpy=\n",
       "array([[0.03513368, 0.8061786 , 0.15868768],\n",
       "       [0.03841455, 0.8207054 , 0.14088014],\n",
       "       [0.04327712, 0.815422  , 0.14130093],\n",
       "       [0.03953989, 0.8107117 , 0.14974843],\n",
       "       [0.026562  , 0.856004  , 0.11743402]], dtype=float32)>"
      ]
     },
     "execution_count": 29,
     "metadata": {},
     "output_type": "execute_result"
    }
   ],
   "source": [
    "tf.nn.softmax(predictions[:5])"
   ]
  },
  {
   "cell_type": "markdown",
   "id": "sticky-kansas",
   "metadata": {},
   "source": [
    "And taking the `tf.argmax` across classes gives us the predicted class index. "
   ]
  },
  {
   "cell_type": "code",
   "execution_count": 30,
   "id": "hazardous-ballet",
   "metadata": {},
   "outputs": [
    {
     "name": "stdout",
     "output_type": "stream",
     "text": [
      "Prediction: [1 1 1 1 1 1 1 1 1 1 1 1 1 1 1 1 1 1 1 1 1 1 1 1 1 1 1 1 1 1 1 1]\n",
      "    Labels: [1 2 2 2 2 0 2 1 0 1 2 0 1 1 0 2 2 2 2 1 1 2 1 2 1 0 0 1 2 0 2 0]\n"
     ]
    }
   ],
   "source": [
    "print(\"Prediction: {}\".format(tf.argmax(predictions, axis=1)))\n",
    "print(\"    Labels: {}\".format(labels))"
   ]
  },
  {
   "cell_type": "markdown",
   "id": "owned-spice",
   "metadata": {},
   "source": [
    "But the model hasn't been trained yet, so these aren't good predictions. Indeed, the model here predicts that all species are *Iris versicolor*..."
   ]
  },
  {
   "cell_type": "markdown",
   "id": "metallic-indian",
   "metadata": {},
   "source": [
    "### **Train the model**\n",
    "\n",
    "*Training* is the stage of ML when the model is gradually optimised, or the model *learns* the dataset. The goal is to learn enough about the structure of training dataset to make predictions about unseen data (i.e. to **generalise**). If the model learns *too much* about the training data set, then the predictions only work for the data it has seen and will not be generalisable. This problem is called **overfitting** - it's like memorising answers instead of learning how to solve a problem.\n",
    "\n",
    "The Iris classification problem is an example of *supervised machine learning*: the model is trained from examples that contain labels. In *unsupervised machine learning*, examples don't contain labels. Instead, the model typically finds patterns among the features.\n",
    "\n",
    "#### **Define the loss and gradient functions**\n",
    "\n",
    "Both training and evaluation stages need to calculate the model **loss**. This measures how off predictions of a model are from the true label. In other words, it accounts for how bad a model performs. The goal is to minimise this value, this being an optimisation problem.\n",
    "\n",
    "Loss is calculated using the `tf.keras.losses.SparseCategoricalCrossentropy` function which takes the model class probability predictions and the true label as inputs, and returns the average loss across the examples."
   ]
  },
  {
   "cell_type": "code",
   "execution_count": 32,
   "id": "norman-glenn",
   "metadata": {},
   "outputs": [
    {
     "name": "stdout",
     "output_type": "stream",
     "text": [
      "Loss test: 1.8248038291931152\n"
     ]
    }
   ],
   "source": [
    "loss_object = tf.keras.losses.SparseCategoricalCrossentropy(from_logits=True)\n",
    "\n",
    "def loss(model, x, y, training):\n",
    "    #training is required only if layers behave differently between training and inference (e.g. Dropout)\n",
    "    y_hat = model(x, training=training)\n",
    "    \n",
    "    return loss_object(y_true=y, y_pred=y_hat)\n",
    "\n",
    "l = loss(model,features, labels, training=False)\n",
    "print(\"Loss test: {}\".format(l))"
   ]
  },
  {
   "cell_type": "markdown",
   "id": "gorgeous-masters",
   "metadata": {},
   "source": [
    "Gradients are calculated as vectors of partial derivatives of the model function. The gradient points in the direction of steepest ascent. They're stored within a *context*, using `tf.GradientTape`."
   ]
  },
  {
   "cell_type": "code",
   "execution_count": 33,
   "id": "uniform-attention",
   "metadata": {},
   "outputs": [],
   "source": [
    "def grad(model, inputs, targets):\n",
    "    with tf.GradientTape() as tape:\n",
    "        loss_value = loss(model, inputs, targets, training=True)\n",
    "    return loss_value, tape.gradient(loss_value, model.trainable_variables)"
   ]
  },
  {
   "cell_type": "markdown",
   "id": "amazing-reunion",
   "metadata": {},
   "source": [
    "#### **Create an optimiser**"
   ]
  },
  {
   "cell_type": "markdown",
   "id": "tested-protest",
   "metadata": {},
   "source": [
    "An **optimiser** applies the computed gradients to the model variables to minimise the `loss` function. You can think of the loss function as a curved surface and the goal is to find its lowest point by walking around. The gradient points in the direction of the steepest ascent - so we'll travel to the opposite way and move down the hill. **By iteratively calculating the loss and gradient for each batch, we'll adjust the model during training**. Gradually, the best combination of weights and bias will be found to minimise loss. And the lower the loss, the better the model predictions. \n",
    "\n",
    "**Gradient descent** is an algorithm used for finding the optimal model configuration (i.e. parameters values) by minimising the model loss thanks to the computation of the gradients of loss with respect to the model parameters, conditioned on training data. Informally, gradient descent iteratively adjusts parameters gradually finding the best combination of weights and bias to minimise loss.\n",
    "\n",
    "<img src=\"gradients.gif\" width=500 height=500> \n",
    "\n",
    "TensorFlow has many optimisation algorithms available for training. Here we'll use `tf.keras.optimizers.SGD` that implements the *stochastic gradient descent* (SGD) algorithm. **Stochastic gradient descent** is a gradient descent algorithm in which the batch size is equal to $1$, relying on a single example chosen uniformly at random from a data set. The `learning_rate` sets the step size to take for each iteration down the hill. This is a *hyperparameter* that controls the training process itslef and is commonly adjusted to achieve better results.\n",
    "\n",
    "Let's build the optimiser."
   ]
  },
  {
   "cell_type": "code",
   "execution_count": 43,
   "id": "marine-shirt",
   "metadata": {},
   "outputs": [],
   "source": [
    "optimizer = tf.keras.optimizers.SGD(learning_rate=0.01)"
   ]
  },
  {
   "cell_type": "markdown",
   "id": "experimental-cisco",
   "metadata": {},
   "source": [
    "Now let's use the optimiser to compute a single optimisation step and see what happens"
   ]
  },
  {
   "cell_type": "code",
   "execution_count": 44,
   "id": "caroline-teacher",
   "metadata": {},
   "outputs": [
    {
     "name": "stdout",
     "output_type": "stream",
     "text": [
      "Step: 0, Initial Loss: 1.8248038291931152\n",
      "Step: 0,         Loss: 1.5501675605773926\n"
     ]
    }
   ],
   "source": [
    "loss_value, grads = grad(model, features, labels)\n",
    "\n",
    "print(\"Step: {}, Initial Loss: {}\".format(\n",
    "    optimizer.iterations.numpy(),\n",
    "    loss_value.numpy()))\n",
    "\n",
    "optimiser.apply_gradients(zip(grads, model.trainable_variables))\n",
    "\n",
    "print(\"Step: {},         Loss: {}\".format(\n",
    "    optimizer.iterations.numpy(),\n",
    "    loss(model, features, labels, training=True).numpy()))"
   ]
  },
  {
   "cell_type": "markdown",
   "id": "australian-shareware",
   "metadata": {},
   "source": [
    "#### **Training loop**"
   ]
  },
  {
   "cell_type": "markdown",
   "id": "solid-clarity",
   "metadata": {},
   "source": []
  }
 ],
 "metadata": {
  "kernelspec": {
   "display_name": "Python 3",
   "language": "python",
   "name": "python3"
  },
  "language_info": {
   "codemirror_mode": {
    "name": "ipython",
    "version": 3
   },
   "file_extension": ".py",
   "mimetype": "text/x-python",
   "name": "python",
   "nbconvert_exporter": "python",
   "pygments_lexer": "ipython3",
   "version": "3.8.5"
  }
 },
 "nbformat": 4,
 "nbformat_minor": 5
}
