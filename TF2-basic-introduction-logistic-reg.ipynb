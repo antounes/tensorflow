{
 "cells": [
  {
   "cell_type": "markdown",
   "id": "coastal-basin",
   "metadata": {},
   "source": [
    "# **Basic introduction to Logistic Regression in TensorFlow 2.0**\n",
    "\n",
    "## **Learning Objectives**\n",
    "\n",
    "1. Build a logistic regression model\n",
    "2. Train the model on example data\n",
    "3. Use the model to make predictions about unknown data\n",
    "\n",
    "## **Introduction**\n",
    "\n",
    "This notebook walks through a classification problem. The goal is to *categorise* Iris flowers by species. TensorFlow is used for:\n",
    "- getting familiar with default eager execution environment\n",
    "- importing data with the Datasets API\n",
    "- building models and layers with the Keras API\n",
    "\n",
    "### **Configure imports**\n",
    "\n",
    "Import TensorFlow and the other required Python modules. By default, TensorFlow uses eager execution to evaluate operations immediately, returning concrete values instead of creating a computational graph to be executed (which would be lazy evaluation)."
   ]
  },
  {
   "cell_type": "code",
   "execution_count": 4,
   "id": "victorian-trinity",
   "metadata": {},
   "outputs": [
    {
     "name": "stdout",
     "output_type": "stream",
     "text": [
      "TensorFlow version: 2.4.1\n",
      "Eager execution mode: True\n"
     ]
    }
   ],
   "source": [
    "import os\n",
    "import matplotlib.pyplot as plt\n",
    "import tensorflow as tf\n",
    "print(\"TensorFlow version: {}\".format(tf.__version__))\n",
    "print(\"Eager execution mode: {}\".format(tf.executing_eagerly()))"
   ]
  },
  {
   "cell_type": "markdown",
   "id": "mounted-lighting",
   "metadata": {},
   "source": [
    "## **The Iris classification problem**\n",
    "\n",
    "Imagine you are a botanist seeking an automated way to categorise each Iris flower you find. ML provides many algorithms to classify flowers statistically. For instance, a sophisticated ML program could classify flowers based on photographs. Our ambitions are more modest here -- we are going to classify Iris flowers based on the length and width measurements of their sepals and petals.\n",
    "\n",
    "The Iris genus entails about 300 species, but our program will only classify the following three:\n",
    "- Iris setosa\n",
    "- Iris virginica\n",
    "- Iris versicolor\n",
    "Fortunately, someone has already created a data set of 120 Iris flowers with the sepal and petal measurements. This is a classic data set that is popular for basic ML classification problems."
   ]
  },
  {
   "cell_type": "markdown",
   "id": "statewide-technique",
   "metadata": {},
   "source": [
    "### **Import and parse the training data set**\n",
    "Download the data set file and convert it into a structure to be fed into TensorFlow."
   ]
  },
  {
   "cell_type": "markdown",
   "id": "standard-telling",
   "metadata": {},
   "source": [
    "#### **Download the dataset**"
   ]
  },
  {
   "cell_type": "code",
   "execution_count": 5,
   "id": "single-investing",
   "metadata": {},
   "outputs": [
    {
     "name": "stdout",
     "output_type": "stream",
     "text": [
      "Downloading data from https://storage.googleapis.com/download.tensorflow.org/data/iris_training.csv\n",
      "8192/2194 [================================================================================================================] - 0s 0us/step\n",
      "Local copy of the data set file: /home/antounes/.keras/datasets/iris_training.csv\n"
     ]
    }
   ],
   "source": [
    "train_url = \"https://storage.googleapis.com/download.tensorflow.org/data/iris_training.csv\"\n",
    "\n",
    "# tf.keras.utils.get_file returns an object file path named fname of the downloaded file from origin\n",
    "train_dataset_fp = tf.keras.utils.get_file(fname=os.path.basename(train_url),\n",
    "                                           origin=train_url)\n",
    "print(\"Local copy of the data set file: {}\".format(train_dataset_fp))"
   ]
  },
  {
   "cell_type": "markdown",
   "id": "published-danger",
   "metadata": {},
   "source": [
    "#### **Inspect the data**\n",
    "This data set, `iris_training.csv` is a plain text file that stores tabular data formatted as comma-separated values (CSV). Let's take a peek at the first five entries"
   ]
  },
  {
   "cell_type": "code",
   "execution_count": 6,
   "id": "cardiovascular-transmission",
   "metadata": {},
   "outputs": [
    {
     "name": "stdout",
     "output_type": "stream",
     "text": [
      "120,4,setosa,versicolor,virginica\n",
      "6.4,2.8,5.6,2.2,2\n",
      "5.0,2.3,3.3,1.0,1\n",
      "4.9,2.5,4.5,1.7,2\n",
      "4.9,3.1,1.5,0.1,0\n"
     ]
    }
   ],
   "source": [
    "!head -n5 {train_dataset_fp}"
   ]
  },
  {
   "cell_type": "markdown",
   "id": "injured-alarm",
   "metadata": {},
   "source": [
    "Note the following:\n",
    "1. The first line is a header containing information about the data set:\n",
    "- there are 120 total examples. Each example has four *features* and one of three possible *label names*\n",
    "2. Subsequent rows are data records, one example per line:\n",
    "- the first 4 fields are the *features*: here float numbers representing flower measurements\n",
    "- the last columnis the *label*: here an integer value corresponding to a flower name\n",
    "    "
   ]
  },
  {
   "cell_type": "code",
   "execution_count": 9,
   "id": "stable-evidence",
   "metadata": {},
   "outputs": [
    {
     "name": "stdout",
     "output_type": "stream",
     "text": [
      "Features: ['sepal_length', 'sepal_width', 'petal_length', 'petal_width']\n",
      "Label: species\n"
     ]
    }
   ],
   "source": [
    "column_names = [\"sepal_length\", \"sepal_width\", \"petal_length\", \"petal_width\", \"species\"]\n",
    "\n",
    "feature_names = column_names[:-1]\n",
    "label_name = column_names[-1]\n",
    "\n",
    "print(\"Features: {}\".format(feature_names))\n",
    "print(\"Label: {}\".format(label_name))"
   ]
  },
  {
   "cell_type": "markdown",
   "id": "virtual-denmark",
   "metadata": {},
   "source": [
    "Each label is associated with a string name (e.g. `setosa`), but ML typically relies on *numeric values*. The label numbers are mapped to a named representation, such as:\n",
    "\n",
    "-`0`: Iris setosa\n",
    "-`1`: Iris versicolor\n",
    "-`2`: Iris virginica"
   ]
  },
  {
   "cell_type": "code",
   "execution_count": 10,
   "id": "fabulous-overview",
   "metadata": {},
   "outputs": [],
   "source": [
    "class_names = [\"Iris setosa\", \"Iris versicolor\", \"Iris virginica\"]"
   ]
  },
  {
   "cell_type": "code",
   "execution_count": null,
   "id": "spanish-authorization",
   "metadata": {},
   "outputs": [],
   "source": [
    "####"
   ]
  }
 ],
 "metadata": {
  "kernelspec": {
   "display_name": "Python 3",
   "language": "python",
   "name": "python3"
  },
  "language_info": {
   "codemirror_mode": {
    "name": "ipython",
    "version": 3
   },
   "file_extension": ".py",
   "mimetype": "text/x-python",
   "name": "python",
   "nbconvert_exporter": "python",
   "pygments_lexer": "ipython3",
   "version": "3.8.5"
  }
 },
 "nbformat": 4,
 "nbformat_minor": 5
}
