{
 "cells": [
  {
   "cell_type": "markdown",
   "id": "quantitative-incident",
   "metadata": {},
   "source": [
    "# **TFRecord and `tf.Example`**\n",
    "\n",
    "**Learning objectives**\n",
    "\n",
    "1. Understand the TFRecord format for storing data\n",
    "2. Understand the `tf.Example` message type\n",
    "3. Read and write a `TFRecord` file\n",
    "\n",
    "## **Introduction**\n",
    "\n",
    "In this notebook, you create, parse and use the `tf.Example` message, and then serialise, write, and read `tf.Example` messages to and from `.tfrecord` files. To read data efficiently it can be helpful to serialise your data and store it in a set of files (100-200MB each) that can each be read linearly. This is especially true if the data is being streamed over a network. This can also be useful for caching any data-preprocessing.\n",
    "\n",
    "### **The TFRecord format**\n",
    "\n",
    "The TFRecord format is a simple format for storing a sequence of binary records. *Protocol buffers* are a cross-platform, cross-language library for efficient seralisation of structured data. Protocol messages are defined by `.proto` files, these are often the easiest way to understand a message type.\n",
    "\n",
    "The `tf.Example` message (or protobuf) is a flexible message type that represents a `{\"string\": value}` mapping. It is designed for use with TensorFlow and is used throughout the higher-level APIs such as TFX. \n",
    "\n",
    "Note: while useful, these structures are optional. There is no need to convert existing code to use TFRecords, unless you are using `tf.data` and reading data is still the bottleneck to training.\n",
    "\n",
    "## **Load necessary libraries**\n",
    "\n",
    "We will start by importing the necessary libraries for this lab."
   ]
  },
  {
   "cell_type": "code",
   "execution_count": 3,
   "id": "inside-panama",
   "metadata": {},
   "outputs": [
    {
     "name": "stdout",
     "output_type": "stream",
     "text": [
      "TensorFlow version: 2.4.1\n"
     ]
    }
   ],
   "source": [
    "import tensorflow as tf\n",
    "import numpy as np\n",
    "import IPython.display as display\n",
    "\n",
    "print(\"TensorFlow version:\", tf.__version__)"
   ]
  },
  {
   "cell_type": "markdown",
   "id": "curious-prize",
   "metadata": {},
   "source": [
    "## **`tf.Example`**\n",
    "\n",
    "### **Data types for `tf.Example`**\n",
    "\n",
    "Fundamentally, a `tf.Example` is a `{\"string\": tf.train.Feature}` mapping.\n",
    "\n",
    "The `tf.train.Feature` message type can accept one of the following three types. Most other generic types can be coerced into one of these:\n",
    "1. `tf.train.BytesList` (the following types can be coerced)\n",
    "- `string`\n",
    "- `byte`\n",
    "2. `tf.train.FloatList` (the following types can be coerced)\n",
    "- `float` (`float32`)\n",
    "- `double` (`float64`)\n",
    "3. `tf.train.Int64List` (the following types can be coerced)\n",
    "- `bool`\n",
    "- `enum`\n",
    "- `int32`\n",
    "- `uint32`\n",
    "- `int64`\n",
    "- `uint64`\n",
    "\n",
    "In order to convert a standard TensorFlow type to a `tf.Example`-compatible `tf.train.Feature`, you can use the shortcut functions below. Note that each function takes a scalar input value and returns a `tf.train.Feature` containing one of the three `list` types above."
   ]
  },
  {
   "cell_type": "code",
   "execution_count": 4,
   "id": "serial-remedy",
   "metadata": {},
   "outputs": [],
   "source": [
    "# The following functions can be used to convert a value to a type compatible with `tf.Example`\n",
    "\n",
    "def _bytes_feature(value):\n",
    "    \"\"\"Returns a bytes_list from a string / byte\"\"\"\n",
    "    if isinstance(value, type(tf.constant(0))):\n",
    "        value = value.numpy() # BytesList won't unpack a string from an EagerTensor\n",
    "    return tf.train.Feature(bytes_list=tf.train.BytesList(value=[value]))\n",
    "\n",
    "def _float_feature(value):\n",
    "    \"\"\"Returns a float_list from a float / double\"\"\"\n",
    "    return tf.train.Feature(float_list=tf.train.FloatList(value=[value]))\n",
    "\n",
    "def _int64_feature(value):\n",
    "    \"\"\"Returns an int64_list from a bool / enum / int / uint\"\"\"\n",
    "    return tf.train.Feature(int64_list=tf.train.Int64List(value=[value]))"
   ]
  },
  {
   "cell_type": "markdown",
   "id": "italian-nursery",
   "metadata": {},
   "source": [
    "Note: to stay simple, this example only uses scalar inputs. The simplest way to handle non-scalar features is to use `tf.serialize_tensor` to convert tensors to binary-strings. Strings are scalars in TensorFlow. Use `tf.parse_tensor` to convert the binary-string back to a tensor.\n",
    "\n",
    "Below are some examples of how these functions work. Note the varying input types and the standardised output types. If the input type for a function does not match one of the coercible types stated above, the function will raise an exception (e.g. `_int64_feature(1.0)` will error out, since `1.0` is a float, so should be used with the `_float_feature` function instead)"
   ]
  },
  {
   "cell_type": "code",
   "execution_count": 5,
   "id": "eleven-champagne",
   "metadata": {},
   "outputs": [
    {
     "name": "stdout",
     "output_type": "stream",
     "text": [
      "bytes_list {\n",
      "  value: \"test_string\"\n",
      "}\n",
      "\n",
      "bytes_list {\n",
      "  value: \"test_bytes\"\n",
      "}\n",
      "\n"
     ]
    }
   ],
   "source": [
    "print(_bytes_feature(b\"test_string\"))\n",
    "print(_bytes_feature(u\"test_bytes\".encode(\"utf8\")))\n",
    "\n",
    "print(_float)"
   ]
  },
  {
   "cell_type": "code",
   "execution_count": null,
   "id": "missing-hostel",
   "metadata": {},
   "outputs": [],
   "source": []
  }
 ],
 "metadata": {
  "kernelspec": {
   "display_name": "Python 3",
   "language": "python",
   "name": "python3"
  },
  "language_info": {
   "codemirror_mode": {
    "name": "ipython",
    "version": 3
   },
   "file_extension": ".py",
   "mimetype": "text/x-python",
   "name": "python",
   "nbconvert_exporter": "python",
   "pygments_lexer": "ipython3",
   "version": "3.8.5"
  }
 },
 "nbformat": 4,
 "nbformat_minor": 5
}
