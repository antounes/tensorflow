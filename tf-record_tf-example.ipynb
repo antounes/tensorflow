{
 "cells": [
  {
   "cell_type": "markdown",
   "id": "ranging-priority",
   "metadata": {},
   "source": [
    "# **TFRecord and `tf.Example`**\n",
    "\n",
    "**Learning objectives**\n",
    "\n",
    "1. Understand the TFRecord format for storing data\n",
    "2. Understand the `tf.Example` message type\n",
    "3. Read and write a `TFRecord` file\n",
    "\n",
    "## **Introduction**\n",
    "\n",
    "In this notebook, you create, parse and use the `tf.Example` message, and then serialise, write, and read `tf.Example` messages to and from `.tfrecord` files. To read data efficiently it can be helpful to serialise your data and store it in a set of files (100-200MB each) that can each be read linearly. This is especially true if the data is being streamed over a network. This can also be useful for caching any data-preprocessing."
   ]
  },
  {
   "cell_type": "code",
   "execution_count": null,
   "id": "insured-transaction",
   "metadata": {},
   "outputs": [],
   "source": []
  }
 ],
 "metadata": {
  "kernelspec": {
   "display_name": "Python 3",
   "language": "python",
   "name": "python3"
  },
  "language_info": {
   "codemirror_mode": {
    "name": "ipython",
    "version": 3
   },
   "file_extension": ".py",
   "mimetype": "text/x-python",
   "name": "python",
   "nbconvert_exporter": "python",
   "pygments_lexer": "ipython3",
   "version": "3.8.5"
  }
 },
 "nbformat": 4,
 "nbformat_minor": 5
}
