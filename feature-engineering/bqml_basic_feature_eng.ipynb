{
 "cells": [
  {
   "cell_type": "markdown",
   "id": "structured-london",
   "metadata": {},
   "source": [
    "# **Basic Feature Engineering in BQML**"
   ]
  },
  {
   "cell_type": "markdown",
   "id": "indie-publicity",
   "metadata": {},
   "source": [
    "**Learning Objectives**"
   ]
  },
  {
   "cell_type": "markdown",
   "id": "controlled-address",
   "metadata": {},
   "source": [
    "1. Create SQL statements to evaluate the model\n",
    "2. Extract temporal features\n",
    "3. Perform a feature cross on temporal features"
   ]
  },
  {
   "cell_type": "markdown",
   "id": "funded-clearance",
   "metadata": {},
   "source": [
    "## **Introduction**"
   ]
  },
  {
   "cell_type": "markdown",
   "id": "impaired-marina",
   "metadata": {},
   "source": [
    "In this lab, we utilise feature engineering to improve the prediction of the fare amount for a taxi ride in New York City. We will use BigQuery ML to build a taxifare prediction model, using feature engineering to improve and create a final model."
   ]
  },
  {
   "cell_type": "markdown",
   "id": "mexican-sponsorship",
   "metadata": {},
   "source": [
    "In this notebook, we set up the environment, create the project data set, create a feature engineering table, create and evaluate a baseline model, extract temporal features, perform a feature cross on temporal features, and evaluate model performance throughout the process."
   ]
  },
  {
   "cell_type": "markdown",
   "id": "ready-effect",
   "metadata": {},
   "source": [
    "### **Set up environment variables and load necessary libraries**"
   ]
  },
  {
   "cell_type": "code",
   "execution_count": null,
   "id": "marine-complaint",
   "metadata": {},
   "outputs": [],
   "source": [
    "# Installing the latest version of the package\n",
    "!pip install --user google-cloud-bigquery==1.25.0"
   ]
  },
  {
   "cell_type": "code",
   "execution_count": null,
   "id": "differential-agency",
   "metadata": {},
   "outputs": [],
   "source": [
    "%%bash\n",
    "# Exporting the project\n",
    "export PROJECT=$(gcloud config list project --format \"value(core.project)\")\n",
    "echo \"Your current GCP Project Name is: \" $PROJECT"
   ]
  },
  {
   "cell_type": "markdown",
   "id": "according-brazilian",
   "metadata": {},
   "source": [
    "### **The source data set**"
   ]
  },
  {
   "cell_type": "markdown",
   "id": "closed-ridge",
   "metadata": {},
   "source": [
    "Our data set is in BigQuery. The taxi fare data is a publically available data set, meaning anyone with a GCP account has access."
   ]
  },
  {
   "cell_type": "markdown",
   "id": "minimal-escape",
   "metadata": {},
   "source": [
    "The Taxi Fare data set is relatively large at 55 million training rows, but simple to understand, with only six features. The `fare_amount` is the target, the continuous value we'll train a model to predict."
   ]
  },
  {
   "cell_type": "markdown",
   "id": "funded-boost",
   "metadata": {},
   "source": [
    "## **Create a BigQuery Data Set**"
   ]
  },
  {
   "cell_type": "markdown",
   "id": "equipped-annotation",
   "metadata": {},
   "source": [
    "A BigQuery data set is a container for tables, views, and models built with BigQuery ML. Let's create one called `feat_eng`. We'll do the same for a GCS bucket for our project too."
   ]
  },
  {
   "cell_type": "code",
   "execution_count": null,
   "id": "accepting-relief",
   "metadata": {},
   "outputs": [],
   "source": [
    "%%bash\n",
    "\n",
    "# Create a BigQuery data set for feat_eng if it doesn't exist\n",
    "datasetexists=$(bq ls -d | grep -w feat_eng)\n",
    "\n",
    "if [ -n \"$datasetexists\"]; then\n",
    "    echo -e \"BigQuery data set already exists, let's not recreate it.\"\n",
    "\n",
    "else\n",
    "    echo \"Creating BigQuery data set titled: feat_eng\"\n",
    "    \n",
    "    bq --location=US mk --dataset \\\n",
    "        --description \"Taxi Fare\"\\\n",
    "        $PROJECT:feat_eng\n",
    "    echo \"\\nHere are your current data set:\"\n",
    "    bq ls\n",
    "fi"
   ]
  },
  {
   "cell_type": "markdown",
   "id": "centered-grove",
   "metadata": {},
   "source": [
    "## **Create the training data table**"
   ]
  },
  {
   "cell_type": "markdown",
   "id": "japanese-pittsburgh",
   "metadata": {},
   "source": [
    "Since there is already a publicly available data set, we can simply create the training data table using this raw input data. Note the `WHERE` clause in the below query: This clause allows us to TRAIN a portion of the data (e.g. one hundred thousand versus one million rows), which keeps your query costs down."
   ]
  },
  {
   "cell_type": "code",
   "execution_count": null,
   "id": "horizontal-venture",
   "metadata": {},
   "outputs": [],
   "source": [
    "%%bigquery\n",
    "\n",
    "CREATE OR REPLACE TABLE\n",
    "  feat_eng.feateng_training_data AS\n",
    "SELECT\n",
    "    (tolls_amount + fare_amout) AS fare_amount,\n",
    "    passenger_count * 1.0 AS passengers,\n",
    "    pickup_datetime,\n",
    "    pickup_longitude AS pickuplon,\n",
    "    pickup_latitude AS pickuplat,\n",
    "    dropoff_longitude AS dropofflon,\n",
    "    dropoff_latitude AS dropofflat\n",
    "FROM\n",
    "    `nyc-tlc.yellow.trips`\n",
    "WHERE\n",
    "    MOD(ABS(FARM_FINGERPRINT(CAST(pickup_datetime AS STRING))), 1000) = 1\n",
    "    AND fare_amount >= 2.5\n",
    "    AND passenger_count > 0\n",
    "    AND pickup_longitude > -78\n",
    "    AND pickup_longitude < -70\n",
    "    AND dropoff_longitude > -78\n",
    "    AND dropoff_longitude < -70\n",
    "    AND pickup_latitude > 37\n",
    "    AND pickup_latitude < 45\n",
    "    AND dropoff_latitude > 37\n",
    "    AND dropoff_latitude < 45"
   ]
  },
  {
   "cell_type": "markdown",
   "id": "supposed-extra",
   "metadata": {},
   "source": [
    "## **Verify table creation**"
   ]
  },
  {
   "cell_type": "markdown",
   "id": "boring-garden",
   "metadata": {},
   "source": [
    "Verify that you created the data set."
   ]
  },
  {
   "cell_type": "code",
   "execution_count": null,
   "id": "expanded-motion",
   "metadata": {},
   "outputs": [],
   "source": [
    "%bigquery\n",
    "\n",
    "# LIMIT 0 a free query; this allows us to check that the table exists\n",
    "SELECT\n",
    "    *\n",
    "FROM \n",
    "    feat_eng.feateng_training_data\n",
    "LIMIT\n",
    "    0"
   ]
  },
  {
   "cell_type": "markdown",
   "id": "destroyed-orbit",
   "metadata": {},
   "source": [
    "## **Baseline Model**"
   ]
  },
  {
   "cell_type": "markdown",
   "id": "empirical-coral",
   "metadata": {},
   "source": [
    "### **Create the baseline model**"
   ]
  },
  {
   "cell_type": "markdown",
   "id": "stylish-hostel",
   "metadata": {},
   "source": [
    "Next, you create a linear regression baseline model with no feature engineering. Recall that a model in BigQuery ML represents what an ML system has learned from the training data. A baseline model is a solution to a problem without applying any ML techniques."
   ]
  },
  {
   "cell_type": "markdown",
   "id": "elementary-reference",
   "metadata": {},
   "source": [
    "When creating a BQML model, you must specify the model type (in our case linear regression) and the input label (`fare_amount`). Note also that we are using the training data table as the data source."
   ]
  },
  {
   "cell_type": "markdown",
   "id": "cardiac-chester",
   "metadata": {},
   "source": [
    "Now we create the SQL statement to create the baseline model."
   ]
  },
  {
   "cell_type": "code",
   "execution_count": null,
   "id": "minus-contamination",
   "metadata": {},
   "outputs": [],
   "source": [
    "%%bigquery\n",
    "\n",
    "CREATE OR REPLACE MODEL\n",
    "    feat_eng.baseline_model OPTIONS (model_type=\"linear_reg\",\n",
    "                                     input_label_cols=[\"fare_amount\"]) AS\n",
    "SELECT\n",
    "    fare_amount,\n",
    "    passengers,\n",
    "    pickup_datetime,\n",
    "    pickuplon,\n",
    "    pickuplat,\n",
    "    dropofflon,\n",
    "    dropofflat\n",
    "FROM\n",
    "    feat_eng.feateng_training_data"
   ]
  },
  {
   "cell_type": "markdown",
   "id": "significant-specialist",
   "metadata": {},
   "source": [
    "Note, the query takes several minutes to complete. After the first iteration is complete, your model (`baseline_model`) appears in the navigation panel of the BigQuery web UI. Because the query uses a `CREATE_MODEL` statement to create a model, you do not see query results."
   ]
  },
  {
   "cell_type": "markdown",
   "id": "persistent-irish",
   "metadata": {},
   "source": [
    "You can observe the model as it's being trained by viewing the Model stats tab in the BigQuery web UI. As soon as the first iteration completes, the tab is updated. The stats continue to update as each iteration completes."
   ]
  },
  {
   "cell_type": "markdown",
   "id": "restricted-watts",
   "metadata": {},
   "source": [
    "### **Evaluate the baseline model**"
   ]
  },
  {
   "cell_type": "markdown",
   "id": "alternate-greeting",
   "metadata": {},
   "source": [
    "Note that BigQuery automatically split the data we gave it, and trained on only a part of the data and used the rest for evaluation. After creating your model, you evaluate the performance of the regressor using the `ML.EVALUATE` function. The `ML.EVALUATE` function evaluates the predicted values against the actual data."
   ]
  },
  {
   "cell_type": "markdown",
   "id": "revolutionary-pioneer",
   "metadata": {},
   "source": [
    "Review the learning and eval statistics for the `baseline_model`."
   ]
  },
  {
   "cell_type": "code",
   "execution_count": null,
   "id": "threatened-cookbook",
   "metadata": {},
   "outputs": [],
   "source": [
    "%%bigquery\n",
    "\n",
    "# Eval statistics on the held out data.\n",
    "# Here, `ML.EVALUATE` function is used to evaluate model metrics\n",
    "SELECT\n",
    "    *,\n",
    "    SQRT(loss) AS rmse\n",
    "FROM\n",
    "    ML.TRAINING_INFO(MODEL feat_eng.baseline_model)"
   ]
  },
  {
   "cell_type": "markdown",
   "id": "center-steam",
   "metadata": {},
   "source": [
    "**NOTE**: Because you performed a linear regression, the results include the following columns:\n",
    "- `mean_absolute_error`\n",
    "- `mean_squared_error`\n",
    "- `mean_squared_log_error`\n",
    "- `median_absolute_error`\n",
    "- `r2_score`\n",
    "- `explained_variance`"
   ]
  },
  {
   "cell_type": "markdown",
   "id": "enclosed-joint",
   "metadata": {},
   "source": [
    "**Mean squared error (MSE)** $-$ Measures the difference between the values our model predicted using the test set and the actual values. You can also think of it as the distance between your regression (best fit) line and the predicted values."
   ]
  },
  {
   "cell_type": "markdown",
   "id": "familiar-broad",
   "metadata": {},
   "source": [
    "**Root mean squared error (RMSE)** $-$ The primary evaluation metric for this ML problem is the root mean-squared error. RMSE measures the difference between the predictions of a model, and the observed values. A large RMSE is equivalent to a large average error, so smaller values of RMSE are better. One nice property of RMSE is that the error is given in the units being measured, so you can tell very directly how incorrect the model might be on unseen data."
   ]
  },
  {
   "cell_type": "markdown",
   "id": "distributed-wyoming",
   "metadata": {},
   "source": [
    "**R2** $-$ An important metric in the evaluation results is the R2 score. The R2 score is a statistical measure that determines if the linear regression predictions approximate the actual data. $0$ indicates that the model explains none of the variability of the response data around the mean. $1$ indicates that the model explains all the variability of the response data around the mean."
   ]
  },
  {
   "cell_type": "markdown",
   "id": "secret-leather",
   "metadata": {},
   "source": [
    "Next, we write a SQL query to take the `SQRT()` of the mean squared error as your loss metric for evaluation for the `benchmark_model`."
   ]
  },
  {
   "cell_type": "code",
   "execution_count": null,
   "id": "round-republican",
   "metadata": {},
   "outputs": [],
   "source": [
    "%%bigquery\n",
    "\n",
    "# Here, `ML.EVALUATE` function is used to evaluate model metrics\n",
    "SELECT\n",
    "    SQRT(mean_squared_error) AS rmse\n",
    "FROM\n",
    "    ML.EVALUATE(MODEL feat_eng.baseline_model)"
   ]
  },
  {
   "cell_type": "markdown",
   "id": "stuffed-child",
   "metadata": {},
   "source": [
    "## **Model 1 $-$ EXTRACT `dayofweek` from the `pickup_datetime` feature**"
   ]
  },
  {
   "cell_type": "markdown",
   "id": "following-cross",
   "metadata": {},
   "source": [
    "- As you recall, `dayofweek` is an `enum` representing the 7 days of the week. This factory allows the `enum` to be obtained from the `int` value. The `int` value follows the ISO-8601 standard, from `1` (Monday) to `7` (Sunday).\n",
    "- If you were to extract the `dayofweek` from `pickup_datetime` using BigQuery SQL, the data type returned would be `int`"
   ]
  },
  {
   "cell_type": "markdown",
   "id": "sonic-fountain",
   "metadata": {},
   "source": [
    "Next, we create a model titled `model_1` from the benchmark model and extract out the `dayofweek`"
   ]
  },
  {
   "cell_type": "code",
   "execution_count": null,
   "id": "driven-holly",
   "metadata": {},
   "outputs": [],
   "source": [
    "%%bigquery\n",
    "\n",
    "CREATE OR REPLACE MODEL\n",
    "    feat_eng.model_1 OPTIONS (model_type=\"linear_reg\",\n",
    "                              input_label_cols=[\"fare_amount\"])\n",
    "    AS\n",
    "SELECT\n",
    "    fare_amount,\n",
    "    passengers,\n",
    "    pickup_datetime,\n",
    "    EXTRACT(DAYOFWEEK FROM pickup_datetime) AS dayofweek,\n",
    "    pickuplon,\n",
    "    pickuplat,\n",
    "    dropofflon,\n",
    "    dropofflat\n",
    "FROM\n",
    "    `feat_eng.feateng_training_data`"
   ]
  },
  {
   "cell_type": "markdown",
   "id": "popular-allen",
   "metadata": {},
   "source": [
    "Next, two distinct SQL statements show the TRAINING and EVALUATION metrics of `model_1`."
   ]
  },
  {
   "cell_type": "code",
   "execution_count": null,
   "id": "blank-london",
   "metadata": {},
   "outputs": [],
   "source": [
    "%%bigquery\n",
    "\n",
    "# Here, `ML.TRAINING_INFO` function is used to see information about the training iterations of a model\n",
    "SELECT\n",
    "    *,\n",
    "    SQRT(loss) AS rmse\n",
    "FROM\n",
    "    ML.TRAINING_INFO(MODEL feat_eng.model_1)"
   ]
  },
  {
   "cell_type": "code",
   "execution_count": null,
   "id": "correct-flashing",
   "metadata": {},
   "outputs": [],
   "source": [
    "%%\n",
    "\n",
    "# Here, `ML.EVALUATE` function is used to evaluate model metrics\n",
    "SELECT\n",
    "    *\n",
    "FROM\n",
    "    ML.EVALUATE(MODEL feat_eng.model_1)"
   ]
  },
  {
   "cell_type": "markdown",
   "id": "genetic-render",
   "metadata": {},
   "source": [
    "Here we run a SQL query to take the `SQRT()` of the mean squared error as your loss metric for evaluation for the `benchmark_model`"
   ]
  },
  {
   "cell_type": "code",
   "execution_count": null,
   "id": "strong-seminar",
   "metadata": {},
   "outputs": [],
   "source": [
    "%%bigquery\n",
    "\n",
    "# Here, `ML.EVALUATE` function is used to evaluate model metrics\n",
    "SELECT\n",
    "    SQRT(mean_squared_error) AS rmse\n",
    "FROM\n",
    "    ML.EVALUATE(MODEL feat_eng.model_1)"
   ]
  },
  {
   "cell_type": "markdown",
   "id": "overhead-poster",
   "metadata": {},
   "source": [
    "## **Model 2 $-$ EXTRACT `hourofday` from the `pickup_datetime` feature**"
   ]
  },
  {
   "cell_type": "markdown",
   "id": "silent-tooth",
   "metadata": {},
   "source": [
    "As you recall, `pickup_datetime` is stored as a `TIMESTAMP`, where the Timestamp format is retrieved in the standard output format $-$ `year-mont-day hour:minute:second`. Hourofday returns the integer number representing the hour number of the given date."
   ]
  },
  {
   "cell_type": "markdown",
   "id": "radical-carpet",
   "metadata": {},
   "source": [
    "Hourof day is best thought of as a discrete ordinal variable (and not a categorical feature), as the hours can be ranked (e.g there is a natural ordering of the values). Hourofday has an added characteristic of being cyclic, since 12am follows 11pm and precedes 1am."
   ]
  },
  {
   "cell_type": "markdown",
   "id": "average-retreat",
   "metadata": {},
   "source": [
    "Next, we create a model titled `model_2` and EXTRACT the `hourofday` from the `pickup_datetime` feature to improve our model's rmse."
   ]
  },
  {
   "cell_type": "code",
   "execution_count": null,
   "id": "satisfactory-consciousness",
   "metadata": {},
   "outputs": [],
   "source": [
    "%%bigquery\n",
    "\n",
    "CREATE OR REPLACE MODEL\n",
    "    feat_eng.model_2 OPTIONS(model_type=\"linear_reg\",\n",
    "                             input_label_cols=[\"fare_amount\"])\n",
    "    AS\n",
    "SELECT\n",
    "    fare_amount,\n",
    "    passengers,\n",
    "    EXTRACT(DAYOFWEEK FROM pickup_datetime) AS dayofweek,\n",
    "    EXTRACT(HOUR FROM pickup_datetime) AS hourofday,\n",
    "    pickuplon,\n",
    "    pickuplat,\n",
    "    dropofflon,\n",
    "    dropofflat\n",
    "FROM\n",
    "    `feat_eng.feateng_training_data`"
   ]
  },
  {
   "cell_type": "code",
   "execution_count": null,
   "id": "falling-mouse",
   "metadata": {},
   "outputs": [],
   "source": [
    "%%bigquery\n",
    "\n",
    "# Here, `ML.EVALUATE` function is used to evaluate model metrics\n",
    "SELECT\n",
    "    *\n",
    "FROM\n",
    "    ML.EVALUATE(MODEL feat_eng.model_2)"
   ]
  },
  {
   "cell_type": "code",
   "execution_count": null,
   "id": "seventh-musical",
   "metadata": {},
   "outputs": [],
   "source": [
    "%%bigquery\n",
    "\n",
    "# Here, `ML.EVALUATE` function is used to evaluate model metrics\n",
    "SELECT\n",
    "    SQRT(mean_squared_error) AS rmse\n",
    "FROM\n",
    "    ML.EVALUATE(MODEL feat_eng.model_2)"
   ]
  },
  {
   "cell_type": "markdown",
   "id": "least-snake",
   "metadata": {},
   "source": [
    "### **Model 3 $-$ Feature cross `dayofweek` and `hourofday` using `CONCAT`**"
   ]
  },
  {
   "cell_type": "markdown",
   "id": "recorded-settle",
   "metadata": {},
   "source": [
    "First, let's allow the model to learn traffic patterns by creating a new feature that combines the time of day and day of week. This is called a *feature cross*"
   ]
  },
  {
   "cell_type": "markdown",
   "id": "published-jewel",
   "metadata": {},
   "source": [
    "Note: BQML by default assumes that numbers are numeric features, and strings are categorical features. We need to convert both the `dayofweek` and `hourofday` features to strings because the model (Neural Network) will automatically treat any integer as a numerical value rather than a categorical value. Thus, if not cast as string, the `dayofweek` feature will be interpreted as numeric values (e.g. $1, 2, 3, 4, 5, 6, 7$) and `hourofday` will also be interpreted as numeric values (e.g. the day begins at midnight, `00:00`, and the last minute of the day begins at `23:59` and ends at `24:00`). As such, there is no way to distinguish the *feature cross* of `hourofday` and `dayofweek` *numerically*. Casting the `dayofweek` and `hourofday` as strings ensures that each element will be treated like a label and will ge its own coefficient associated with it."
   ]
  },
  {
   "cell_type": "markdown",
   "id": "lasting-thermal",
   "metadata": {},
   "source": [
    "Create the SQL statement to feature cross the `dayofweek` and `hourofday` using the `CONCAT` function. Name the model `model_3`."
   ]
  },
  {
   "cell_type": "code",
   "execution_count": null,
   "id": "attended-neutral",
   "metadata": {},
   "outputs": [],
   "source": [
    "%%bigquery\n",
    "\n",
    "CREATE OR REPLACE MODEL \n",
    "    feat_eng.model_3 OPTIONS(model_type=\"linear_reg\",\n",
    "                             input_label_cols=[\"fare_amount\"])\n",
    "    AS\n",
    "SELECT\n",
    "    fare_amount,\n",
    "    passengers,\n",
    "    CONCAT(CAST(EXTRACT(DAYOFWEEK FROM pickup_datetime) AS STRING),\n",
    "           CAST(EXTRACT(HOUR FROM pickup_datetime) AS STRING)) AS hourofday,\n",
    "    pickuplon,\n",
    "    pickuplat,\n",
    "    dropofflon,\n",
    "    dropofflat\n",
    "FROM\n",
    "    `feat_eng.feategn_training_data`"
   ]
  },
  {
   "cell_type": "code",
   "execution_count": null,
   "id": "focused-measure",
   "metadata": {},
   "outputs": [],
   "source": [
    "%%bigquery\n",
    "\n",
    "# Here, `ML.EVALUATE` function is used to evaluate model metrics\n",
    "SELECT\n",
    "    SQRT(mean_squared_error) AS rmse\n",
    "FROM\n",
    "    ML.EVALUATE(MODEL feat_eng.model_3)"
   ]
  }
 ],
 "metadata": {
  "kernelspec": {
   "display_name": "Python 3",
   "language": "python",
   "name": "python3"
  },
  "language_info": {
   "codemirror_mode": {
    "name": "ipython",
    "version": 3
   },
   "file_extension": ".py",
   "mimetype": "text/x-python",
   "name": "python",
   "nbconvert_exporter": "python",
   "pygments_lexer": "ipython3",
   "version": "3.8.5"
  }
 },
 "nbformat": 4,
 "nbformat_minor": 5
}
