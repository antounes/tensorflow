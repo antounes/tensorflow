{
 "cells": [
  {
   "cell_type": "markdown",
   "id": "inclusive-sustainability",
   "metadata": {},
   "source": [
    "# **Basic Feature Engineering in Keras**"
   ]
  },
  {
   "cell_type": "markdown",
   "id": "suited-external",
   "metadata": {},
   "source": [
    "**Learning Objectives**\n",
    "1. Create an input pipeline using `tf.data`\n",
    "2. Engineer features to create categorical, crossed, and numerical feature columns"
   ]
  },
  {
   "cell_type": "markdown",
   "id": "relevant-measurement",
   "metadata": {},
   "source": [
    "## **Introduction**"
   ]
  },
  {
   "cell_type": "markdown",
   "id": "seasonal-private",
   "metadata": {},
   "source": [
    "In this lab, we utilise feature engineering to improve the prediction of housing prices using a Keras sequential model."
   ]
  },
  {
   "cell_type": "markdown",
   "id": "drawn-concentration",
   "metadata": {},
   "source": [
    "Start by importing the necessary libraries for this lab"
   ]
  },
  {
   "cell_type": "code",
   "execution_count": 1,
   "id": "illegal-ancient",
   "metadata": {},
   "outputs": [
    {
     "name": "stdout",
     "output_type": "stream",
     "text": [
      "TensorFlow version 2.4.1\n"
     ]
    }
   ],
   "source": [
    "import os\n",
    "import tensorflow.keras\n",
    "\n",
    "import matplotlib.pyplot as plt\n",
    "import pandas as pd\n",
    "import tensorflow as tf\n",
    "\n",
    "from tensorflow import feature_column\n",
    "from tensorflow.keras import layers\n",
    "from sklearn.model_selection import train_test_split\n",
    "from keras.utils import plot_model\n",
    "\n",
    "print(\"TensorFlow version\", tf.__version__)"
   ]
  },
  {
   "cell_type": "markdown",
   "id": "recorded-bride",
   "metadata": {},
   "source": [
    "Many of the Google ML courses programming exercises use the [California Housing data set](https://developers.google.com/machine-learning/crash-course/california-housing-data-description), which contains data drawn from the 1990 U.S. Census."
   ]
  },
  {
   "cell_type": "markdown",
   "id": "ordered-haiti",
   "metadata": {},
   "source": [
    "Let's read in the data set and create a Pandas DataFrame."
   ]
  },
  {
   "cell_type": "code",
   "execution_count": 2,
   "id": "phantom-contrary",
   "metadata": {},
   "outputs": [
    {
     "data": {
      "text/html": [
       "<div>\n",
       "<style scoped>\n",
       "    .dataframe tbody tr th:only-of-type {\n",
       "        vertical-align: middle;\n",
       "    }\n",
       "\n",
       "    .dataframe tbody tr th {\n",
       "        vertical-align: top;\n",
       "    }\n",
       "\n",
       "    .dataframe thead th {\n",
       "        text-align: right;\n",
       "    }\n",
       "</style>\n",
       "<table border=\"1\" class=\"dataframe\">\n",
       "  <thead>\n",
       "    <tr style=\"text-align: right;\">\n",
       "      <th></th>\n",
       "      <th>longitude</th>\n",
       "      <th>latitude</th>\n",
       "      <th>housing_median_age</th>\n",
       "      <th>total_rooms</th>\n",
       "      <th>total_bedrooms</th>\n",
       "      <th>population</th>\n",
       "      <th>households</th>\n",
       "      <th>median_income</th>\n",
       "      <th>median_house_value</th>\n",
       "      <th>ocean_proximity</th>\n",
       "    </tr>\n",
       "  </thead>\n",
       "  <tbody>\n",
       "    <tr>\n",
       "      <th>0</th>\n",
       "      <td>-122.23</td>\n",
       "      <td>37.88</td>\n",
       "      <td>41.0</td>\n",
       "      <td>880.0</td>\n",
       "      <td>129.0</td>\n",
       "      <td>322.0</td>\n",
       "      <td>126.0</td>\n",
       "      <td>8.3252</td>\n",
       "      <td>452600.0</td>\n",
       "      <td>NEAR BAY</td>\n",
       "    </tr>\n",
       "    <tr>\n",
       "      <th>1</th>\n",
       "      <td>-122.22</td>\n",
       "      <td>37.86</td>\n",
       "      <td>21.0</td>\n",
       "      <td>7099.0</td>\n",
       "      <td>1106.0</td>\n",
       "      <td>2401.0</td>\n",
       "      <td>1138.0</td>\n",
       "      <td>8.3014</td>\n",
       "      <td>358500.0</td>\n",
       "      <td>NEAR BAY</td>\n",
       "    </tr>\n",
       "    <tr>\n",
       "      <th>2</th>\n",
       "      <td>-122.24</td>\n",
       "      <td>37.85</td>\n",
       "      <td>52.0</td>\n",
       "      <td>1467.0</td>\n",
       "      <td>190.0</td>\n",
       "      <td>496.0</td>\n",
       "      <td>177.0</td>\n",
       "      <td>7.2574</td>\n",
       "      <td>352100.0</td>\n",
       "      <td>NEAR BAY</td>\n",
       "    </tr>\n",
       "    <tr>\n",
       "      <th>3</th>\n",
       "      <td>-122.25</td>\n",
       "      <td>37.85</td>\n",
       "      <td>52.0</td>\n",
       "      <td>1274.0</td>\n",
       "      <td>235.0</td>\n",
       "      <td>558.0</td>\n",
       "      <td>219.0</td>\n",
       "      <td>5.6431</td>\n",
       "      <td>341300.0</td>\n",
       "      <td>NEAR BAY</td>\n",
       "    </tr>\n",
       "    <tr>\n",
       "      <th>4</th>\n",
       "      <td>-122.25</td>\n",
       "      <td>37.85</td>\n",
       "      <td>52.0</td>\n",
       "      <td>1627.0</td>\n",
       "      <td>280.0</td>\n",
       "      <td>565.0</td>\n",
       "      <td>259.0</td>\n",
       "      <td>3.8462</td>\n",
       "      <td>342200.0</td>\n",
       "      <td>NEAR BAY</td>\n",
       "    </tr>\n",
       "  </tbody>\n",
       "</table>\n",
       "</div>"
      ],
      "text/plain": [
       "   longitude  latitude  housing_median_age  total_rooms  total_bedrooms  \\\n",
       "0    -122.23     37.88                41.0        880.0           129.0   \n",
       "1    -122.22     37.86                21.0       7099.0          1106.0   \n",
       "2    -122.24     37.85                52.0       1467.0           190.0   \n",
       "3    -122.25     37.85                52.0       1274.0           235.0   \n",
       "4    -122.25     37.85                52.0       1627.0           280.0   \n",
       "\n",
       "   population  households  median_income  median_house_value ocean_proximity  \n",
       "0       322.0       126.0         8.3252            452600.0        NEAR BAY  \n",
       "1      2401.0      1138.0         8.3014            358500.0        NEAR BAY  \n",
       "2       496.0       177.0         7.2574            352100.0        NEAR BAY  \n",
       "3       558.0       219.0         5.6431            341300.0        NEAR BAY  \n",
       "4       565.0       259.0         3.8462            342200.0        NEAR BAY  "
      ]
     },
     "execution_count": 2,
     "metadata": {},
     "output_type": "execute_result"
    }
   ],
   "source": [
    "# `head()` function is used to get the first n rows of the DataFrame\n",
    "housing_df = pd.read_csv(\"data/housing.csv\", error_bad_lines=False)\n",
    "housing_df = housing_df.loc[~housing_df[\"total_bedrooms\"].isnull(),:]\n",
    "housing_df.head()"
   ]
  },
  {
   "cell_type": "markdown",
   "id": "chief-roman",
   "metadata": {},
   "source": [
    "We can use `.describe()` to see some summary statistics for the numeric fields in our dataframe. Note, for example, the count rown and corresponding columns. The count shows 204033.000000 for all feature clumns. Thus, there are no missing values."
   ]
  },
  {
   "cell_type": "code",
   "execution_count": 3,
   "id": "homeless-manitoba",
   "metadata": {},
   "outputs": [
    {
     "data": {
      "text/html": [
       "<div>\n",
       "<style scoped>\n",
       "    .dataframe tbody tr th:only-of-type {\n",
       "        vertical-align: middle;\n",
       "    }\n",
       "\n",
       "    .dataframe tbody tr th {\n",
       "        vertical-align: top;\n",
       "    }\n",
       "\n",
       "    .dataframe thead th {\n",
       "        text-align: right;\n",
       "    }\n",
       "</style>\n",
       "<table border=\"1\" class=\"dataframe\">\n",
       "  <thead>\n",
       "    <tr style=\"text-align: right;\">\n",
       "      <th></th>\n",
       "      <th>longitude</th>\n",
       "      <th>latitude</th>\n",
       "      <th>housing_median_age</th>\n",
       "      <th>total_rooms</th>\n",
       "      <th>total_bedrooms</th>\n",
       "      <th>population</th>\n",
       "      <th>households</th>\n",
       "      <th>median_income</th>\n",
       "      <th>median_house_value</th>\n",
       "    </tr>\n",
       "  </thead>\n",
       "  <tbody>\n",
       "    <tr>\n",
       "      <th>count</th>\n",
       "      <td>20433.000000</td>\n",
       "      <td>20433.000000</td>\n",
       "      <td>20433.000000</td>\n",
       "      <td>20433.000000</td>\n",
       "      <td>20433.000000</td>\n",
       "      <td>20433.000000</td>\n",
       "      <td>20433.000000</td>\n",
       "      <td>20433.000000</td>\n",
       "      <td>20433.000000</td>\n",
       "    </tr>\n",
       "    <tr>\n",
       "      <th>mean</th>\n",
       "      <td>-119.570689</td>\n",
       "      <td>35.633221</td>\n",
       "      <td>28.633094</td>\n",
       "      <td>2636.504233</td>\n",
       "      <td>537.870553</td>\n",
       "      <td>1424.946949</td>\n",
       "      <td>499.433465</td>\n",
       "      <td>3.871162</td>\n",
       "      <td>206864.413155</td>\n",
       "    </tr>\n",
       "    <tr>\n",
       "      <th>std</th>\n",
       "      <td>2.003578</td>\n",
       "      <td>2.136348</td>\n",
       "      <td>12.591805</td>\n",
       "      <td>2185.269567</td>\n",
       "      <td>421.385070</td>\n",
       "      <td>1133.208490</td>\n",
       "      <td>382.299226</td>\n",
       "      <td>1.899291</td>\n",
       "      <td>115435.667099</td>\n",
       "    </tr>\n",
       "    <tr>\n",
       "      <th>min</th>\n",
       "      <td>-124.350000</td>\n",
       "      <td>32.540000</td>\n",
       "      <td>1.000000</td>\n",
       "      <td>2.000000</td>\n",
       "      <td>1.000000</td>\n",
       "      <td>3.000000</td>\n",
       "      <td>1.000000</td>\n",
       "      <td>0.499900</td>\n",
       "      <td>14999.000000</td>\n",
       "    </tr>\n",
       "    <tr>\n",
       "      <th>25%</th>\n",
       "      <td>-121.800000</td>\n",
       "      <td>33.930000</td>\n",
       "      <td>18.000000</td>\n",
       "      <td>1450.000000</td>\n",
       "      <td>296.000000</td>\n",
       "      <td>787.000000</td>\n",
       "      <td>280.000000</td>\n",
       "      <td>2.563700</td>\n",
       "      <td>119500.000000</td>\n",
       "    </tr>\n",
       "    <tr>\n",
       "      <th>50%</th>\n",
       "      <td>-118.490000</td>\n",
       "      <td>34.260000</td>\n",
       "      <td>29.000000</td>\n",
       "      <td>2127.000000</td>\n",
       "      <td>435.000000</td>\n",
       "      <td>1166.000000</td>\n",
       "      <td>409.000000</td>\n",
       "      <td>3.536500</td>\n",
       "      <td>179700.000000</td>\n",
       "    </tr>\n",
       "    <tr>\n",
       "      <th>75%</th>\n",
       "      <td>-118.010000</td>\n",
       "      <td>37.720000</td>\n",
       "      <td>37.000000</td>\n",
       "      <td>3143.000000</td>\n",
       "      <td>647.000000</td>\n",
       "      <td>1722.000000</td>\n",
       "      <td>604.000000</td>\n",
       "      <td>4.744000</td>\n",
       "      <td>264700.000000</td>\n",
       "    </tr>\n",
       "    <tr>\n",
       "      <th>max</th>\n",
       "      <td>-114.310000</td>\n",
       "      <td>41.950000</td>\n",
       "      <td>52.000000</td>\n",
       "      <td>39320.000000</td>\n",
       "      <td>6445.000000</td>\n",
       "      <td>35682.000000</td>\n",
       "      <td>6082.000000</td>\n",
       "      <td>15.000100</td>\n",
       "      <td>500001.000000</td>\n",
       "    </tr>\n",
       "  </tbody>\n",
       "</table>\n",
       "</div>"
      ],
      "text/plain": [
       "          longitude      latitude  housing_median_age   total_rooms  \\\n",
       "count  20433.000000  20433.000000        20433.000000  20433.000000   \n",
       "mean    -119.570689     35.633221           28.633094   2636.504233   \n",
       "std        2.003578      2.136348           12.591805   2185.269567   \n",
       "min     -124.350000     32.540000            1.000000      2.000000   \n",
       "25%     -121.800000     33.930000           18.000000   1450.000000   \n",
       "50%     -118.490000     34.260000           29.000000   2127.000000   \n",
       "75%     -118.010000     37.720000           37.000000   3143.000000   \n",
       "max     -114.310000     41.950000           52.000000  39320.000000   \n",
       "\n",
       "       total_bedrooms    population    households  median_income  \\\n",
       "count    20433.000000  20433.000000  20433.000000   20433.000000   \n",
       "mean       537.870553   1424.946949    499.433465       3.871162   \n",
       "std        421.385070   1133.208490    382.299226       1.899291   \n",
       "min          1.000000      3.000000      1.000000       0.499900   \n",
       "25%        296.000000    787.000000    280.000000       2.563700   \n",
       "50%        435.000000   1166.000000    409.000000       3.536500   \n",
       "75%        647.000000   1722.000000    604.000000       4.744000   \n",
       "max       6445.000000  35682.000000   6082.000000      15.000100   \n",
       "\n",
       "       median_house_value  \n",
       "count        20433.000000  \n",
       "mean        206864.413155  \n",
       "std         115435.667099  \n",
       "min          14999.000000  \n",
       "25%         119500.000000  \n",
       "50%         179700.000000  \n",
       "75%         264700.000000  \n",
       "max         500001.000000  "
      ]
     },
     "execution_count": 3,
     "metadata": {},
     "output_type": "execute_result"
    }
   ],
   "source": [
    "# `describe()` is used to get the statistical summary of the DataFrame\n",
    "housing_df.describe()"
   ]
  },
  {
   "cell_type": "markdown",
   "id": "blank-engine",
   "metadata": {},
   "source": [
    "## **Split the data set for ML**"
   ]
  },
  {
   "cell_type": "markdown",
   "id": "regular-health",
   "metadata": {},
   "source": [
    "The data set we loaded was a single CSV file. We will split this into train, validation and test sets."
   ]
  },
  {
   "cell_type": "code",
   "execution_count": 4,
   "id": "specialized-criticism",
   "metadata": {},
   "outputs": [
    {
     "name": "stdout",
     "output_type": "stream",
     "text": [
      "13076 train examples\n",
      "3270 validation examples\n",
      "4087 test examples\n"
     ]
    }
   ],
   "source": [
    "# Let's split the data set into train, validation, and test sets\n",
    "train, test = train_test_split(housing_df, test_size=0.2)\n",
    "train, val = train_test_split(train, test_size=0.2)\n",
    "\n",
    "print(len(train), \"train examples\")\n",
    "print(len(val), \"validation examples\")\n",
    "print(len(test), \"test examples\")"
   ]
  },
  {
   "cell_type": "markdown",
   "id": "trained-south",
   "metadata": {},
   "source": [
    "Now, we need to output the split files. We will specifically need the `test.csv` later for testing."
   ]
  },
  {
   "cell_type": "code",
   "execution_count": 5,
   "id": "dietary-geology",
   "metadata": {},
   "outputs": [],
   "source": [
    "train.to_csv(\"data/housing-train.csv\", encoding=\"utf8\", index=False)"
   ]
  },
  {
   "cell_type": "code",
   "execution_count": 6,
   "id": "surface-starter",
   "metadata": {},
   "outputs": [],
   "source": [
    "val.to_csv(\"data/housing-val.csv\", encoding=\"utf8\", index=False)"
   ]
  },
  {
   "cell_type": "code",
   "execution_count": 7,
   "id": "hawaiian-interpretation",
   "metadata": {},
   "outputs": [],
   "source": [
    "test.to_csv(\"data/housing-test.csv\", encoding=\"utf8\", index=False)"
   ]
  },
  {
   "cell_type": "code",
   "execution_count": 8,
   "id": "behavioral-affair",
   "metadata": {},
   "outputs": [
    {
     "name": "stdout",
     "output_type": "stream",
     "text": [
      "==> data/housing.csv <==\n",
      "longitude,latitude,housing_median_age,total_rooms,total_bedrooms,population,households,median_income,median_house_value,ocean_proximity\n",
      "-122.23,37.88,41.0,880.0,129.0,322.0,126.0,8.3252,452600.0,NEAR BAY\n",
      "-122.22,37.86,21.0,7099.0,1106.0,2401.0,1138.0,8.3014,358500.0,NEAR BAY\n",
      "-122.24,37.85,52.0,1467.0,190.0,496.0,177.0,7.2574,352100.0,NEAR BAY\n",
      "-122.25,37.85,52.0,1274.0,235.0,558.0,219.0,5.6431,341300.0,NEAR BAY\n",
      "-122.25,37.85,52.0,1627.0,280.0,565.0,259.0,3.8462,342200.0,NEAR BAY\n",
      "-122.25,37.85,52.0,919.0,213.0,413.0,193.0,4.0368,269700.0,NEAR BAY\n",
      "-122.25,37.84,52.0,2535.0,489.0,1094.0,514.0,3.6591,299200.0,NEAR BAY\n",
      "-122.25,37.84,52.0,3104.0,687.0,1157.0,647.0,3.12,241400.0,NEAR BAY\n",
      "-122.26,37.84,42.0,2555.0,665.0,1206.0,595.0,2.0804,226700.0,NEAR BAY\n",
      "\n",
      "==> data/housing-test.csv <==\n",
      "longitude,latitude,housing_median_age,total_rooms,total_bedrooms,population,households,median_income,median_house_value,ocean_proximity\n",
      "-121.45,38.37,32.0,1441.0,261.0,629.0,249.0,4.4519,137500.0,INLAND\n",
      "-117.69,34.06,25.0,1881.0,433.0,1337.0,417.0,2.5536,144000.0,INLAND\n",
      "-117.86,34.09,26.0,3408.0,542.0,1664.0,543.0,6.1498,239100.0,<1H OCEAN\n",
      "-118.47,34.01,43.0,1160.0,304.0,393.0,250.0,2.9167,461100.0,<1H OCEAN\n",
      "-122.23,37.76,52.0,1705.0,246.0,658.0,253.0,5.75,306300.0,NEAR BAY\n",
      "-121.35,38.6,27.0,4314.0,611.0,1662.0,575.0,5.0997,170100.0,INLAND\n",
      "-117.19,34.06,21.0,6107.0,1559.0,2805.0,1444.0,2.5643,102700.0,INLAND\n",
      "-117.97,33.93,31.0,1975.0,373.0,918.0,347.0,4.4107,202000.0,<1H OCEAN\n",
      "-122.55,38.1,26.0,5188.0,892.0,2341.0,906.0,5.0029,255600.0,NEAR BAY\n",
      "\n",
      "==> data/housing-train.csv <==\n",
      "longitude,latitude,housing_median_age,total_rooms,total_bedrooms,population,households,median_income,median_house_value,ocean_proximity\n",
      "-118.2,33.77,24.0,2404.0,819.0,1566.0,753.0,1.5076,145800.0,NEAR OCEAN\n",
      "-118.31,34.05,40.0,1667.0,365.0,1161.0,384.0,3.1406,417600.0,<1H OCEAN\n",
      "-118.32,33.94,37.0,2740.0,504.0,1468.0,479.0,4.5368,168800.0,<1H OCEAN\n",
      "-118.25,33.92,36.0,949.0,164.0,502.0,163.0,4.1042,124400.0,<1H OCEAN\n",
      "-120.88,38.16,8.0,2029.0,387.0,1000.0,364.0,4.0109,125900.0,INLAND\n",
      "-119.32,36.19,11.0,1281.0,291.0,861.0,313.0,1.0962,72300.0,INLAND\n",
      "-118.15,33.77,52.0,2204.0,498.0,899.0,445.0,4.1765,393900.0,NEAR OCEAN\n",
      "-121.95,37.35,48.0,1246.0,294.0,697.0,284.0,3.6118,235500.0,<1H OCEAN\n",
      "-118.43,34.0,37.0,1340.0,358.0,1008.0,340.0,3.7614,314300.0,<1H OCEAN\n",
      "\n",
      "==> data/housing-val.csv <==\n",
      "longitude,latitude,housing_median_age,total_rooms,total_bedrooms,population,households,median_income,median_house_value,ocean_proximity\n",
      "-118.19,33.81,21.0,1835.0,427.0,1038.0,384.0,4.4559,198500.0,NEAR OCEAN\n",
      "-121.95,37.21,20.0,2345.0,322.0,890.0,276.0,10.0187,500001.0,<1H OCEAN\n",
      "-115.54,32.97,41.0,2429.0,454.0,1188.0,430.0,3.0091,70800.0,INLAND\n",
      "-117.05,34.04,23.0,3967.0,766.0,1518.0,698.0,2.29,111800.0,INLAND\n",
      "-119.69,36.82,15.0,3303.0,512.0,1687.0,505.0,4.81,93600.0,INLAND\n",
      "-117.1,32.76,30.0,1835.0,474.0,934.0,415.0,2.875,139600.0,NEAR OCEAN\n",
      "-117.6,33.42,23.0,2482.0,461.0,1048.0,425.0,4.665,280600.0,NEAR OCEAN\n",
      "-122.23,37.75,50.0,1542.0,289.0,654.0,268.0,3.9632,240000.0,NEAR BAY\n",
      "-121.94,37.53,33.0,2095.0,342.0,941.0,304.0,5.761,259600.0,<1H OCEAN\n"
     ]
    }
   ],
   "source": [
    "!head data/housing*.csv"
   ]
  },
  {
   "cell_type": "markdown",
   "id": "golden-result",
   "metadata": {},
   "source": [
    "## **Create an input pipeline using `tf.data`**"
   ]
  },
  {
   "cell_type": "markdown",
   "id": "molecular-index",
   "metadata": {},
   "source": [
    "Next, we will wrap the DataFrames with `tf.data`. This will enable us to use feature columns as bridge to map from the columns in the Pandas DataFrame to features used to train the model."
   ]
  },
  {
   "cell_type": "code",
   "execution_count": 9,
   "id": "reliable-communications",
   "metadata": {},
   "outputs": [],
   "source": [
    "# Here, we create an input pipeline using `tf.data`\n",
    "def df_to_dataset(dataframe, shuffle=True, batch_size=32):\n",
    "    dataframe = dataframe.copy()\n",
    "    labels = dataframe.pop(\"median_house_value\")\n",
    "    ds = tf.data.Dataset.from_tensor_slices((dict(dataframe), labels))\n",
    "    if shuffle:\n",
    "        ds = ds.shuffle(buffer_size=len(dataframe))\n",
    "    ds = ds.batch(batch_size)\n",
    "    return ds"
   ]
  },
  {
   "cell_type": "markdown",
   "id": "reflected-happiness",
   "metadata": {},
   "source": [
    "Next we initialise the training and validation Datasets."
   ]
  },
  {
   "cell_type": "code",
   "execution_count": 10,
   "id": "terminal-garage",
   "metadata": {},
   "outputs": [],
   "source": [
    "batch_size = 32\n",
    "train_ds = df_to_dataset(train)\n",
    "val_ds = df_to_dataset(val, shuffle=False, batch_size=batch_size)"
   ]
  },
  {
   "cell_type": "code",
   "execution_count": 11,
   "id": "fossil-desert",
   "metadata": {},
   "outputs": [
    {
     "data": {
      "text/plain": [
       "<BatchDataset shapes: ({longitude: (None,), latitude: (None,), housing_median_age: (None,), total_rooms: (None,), total_bedrooms: (None,), population: (None,), households: (None,), median_income: (None,), ocean_proximity: (None,)}, (None,)), types: ({longitude: tf.float64, latitude: tf.float64, housing_median_age: tf.float64, total_rooms: tf.float64, total_bedrooms: tf.float64, population: tf.float64, households: tf.float64, median_income: tf.float64, ocean_proximity: tf.string}, tf.float64)>"
      ]
     },
     "execution_count": 11,
     "metadata": {},
     "output_type": "execute_result"
    }
   ],
   "source": [
    "train_ds"
   ]
  },
  {
   "cell_type": "markdown",
   "id": "isolated-assignment",
   "metadata": {},
   "source": [
    "Now that we have created the input pipeline, let's call it to see the format of the data it returns. We have used a small batch size to keep the output readable."
   ]
  },
  {
   "cell_type": "code",
   "execution_count": 12,
   "id": "steady-israel",
   "metadata": {},
   "outputs": [
    {
     "name": "stdout",
     "output_type": "stream",
     "text": [
      "Every feature: ['longitude', 'latitude', 'housing_median_age', 'total_rooms', 'total_bedrooms', 'population', 'households', 'median_income', 'ocean_proximity']\n",
      "A batch of households: tf.Tensor(\n",
      "[ 302.  226.  137.  440.  577.  380.  819.  270.  901.  338.  408.  379.\n",
      "  311.  276.  922.  422.  412.  516.  281.   68.  532.  260. 1117.  280.\n",
      "  517.  352.  391.  214.  607.  316.  554.  428.], shape=(32,), dtype=float64)\n",
      "A batch of ocean_proximity: tf.Tensor(\n",
      "[b'<1H OCEAN' b'INLAND' b'INLAND' b'<1H OCEAN' b'<1H OCEAN' b'INLAND'\n",
      " b'<1H OCEAN' b'<1H OCEAN' b'NEAR OCEAN' b'NEAR BAY' b'INLAND' b'INLAND'\n",
      " b'<1H OCEAN' b'INLAND' b'<1H OCEAN' b'<1H OCEAN' b'INLAND' b'<1H OCEAN'\n",
      " b'INLAND' b'<1H OCEAN' b'INLAND' b'<1H OCEAN' b'<1H OCEAN' b'INLAND'\n",
      " b'INLAND' b'NEAR OCEAN' b'INLAND' b'<1H OCEAN' b'INLAND' b'NEAR BAY'\n",
      " b'INLAND' b'<1H OCEAN'], shape=(32,), dtype=string)\n",
      "A batch of targets: tf.Tensor(\n",
      "[113600. 309100.  88500. 162800. 355300.  59400. 383800. 192400. 144200.\n",
      " 186000.  90500.  90300. 500000.  93800. 183200. 413000. 145600. 171200.\n",
      " 145200. 100000. 277800. 500001. 204400.  64400.  86100. 240000.  67900.\n",
      " 181000.  81500. 151500.  94400. 159200.], shape=(32,), dtype=float64)\n"
     ]
    }
   ],
   "source": [
    "for feature_batch, label_batch in train_ds.take(1):\n",
    "    print(\"Every feature:\", list(feature_batch.keys()))\n",
    "    print(\"A batch of households:\", feature_batch[\"households\"])\n",
    "    print(\"A batch of ocean_proximity:\", feature_batch[\"ocean_proximity\"])\n",
    "    print(\"A batch of targets:\", label_batch)"
   ]
  },
  {
   "cell_type": "markdown",
   "id": "quantitative-action",
   "metadata": {},
   "source": [
    "We can see that the Dataset returns a dictionary of column names (from the DataFrame) that map to column values from rows in the DataFrame."
   ]
  },
  {
   "cell_type": "markdown",
   "id": "manufactured-screen",
   "metadata": {},
   "source": [
    "### **Numeric columns**"
   ]
  },
  {
   "cell_type": "markdown",
   "id": "killing-partner",
   "metadata": {},
   "source": [
    "The output of a `tf.feature_column` becomes the input to the model. A numeric is the simplest type of column. It is used to represent real valued features. When using this column, your model will receive the column value from the DataFrame unchanged."
   ]
  },
  {
   "cell_type": "markdown",
   "id": "posted-cisco",
   "metadata": {},
   "source": [
    "In the California Housing Prices data set, most columns are numeric. Let's create a variable called `numeric_cols` to hold only the numerical feature columns."
   ]
  },
  {
   "cell_type": "code",
   "execution_count": 13,
   "id": "visible-material",
   "metadata": {},
   "outputs": [],
   "source": [
    "# Let's create a variable called `numeric_cols` to hold only the numerical feature columns\n",
    "numeric_cols = [\"longitude\", \"latitude\", \"housing_median_age\", \"total_rooms\", \n",
    "                \"total_bedrooms\", \"population\", \"households\", \"median_income\"]"
   ]
  },
  {
   "cell_type": "markdown",
   "id": "imperial-marriage",
   "metadata": {},
   "source": [
    "### **Scaler function**"
   ]
  },
  {
   "cell_type": "markdown",
   "id": "electric-moisture",
   "metadata": {},
   "source": [
    "It is very important for numerical variables to get scaled before they are *fed* into the neural network. Here we use *min-max scaling*. Here we are creating a function named `get_scal` which takes a list of numerical features and returns a `minmax` function, which will be used in `tf.feature_column.numeric_column()` as the `normalizer_fn` parameter. `minmax` function itself takes a *numerical* number from a particular feature and returns scaled value of that number."
   ]
  },
  {
   "cell_type": "markdown",
   "id": "ecological-footage",
   "metadata": {},
   "source": [
    "Next, we scale the numerical feature columns that we assigned to the variable `numeric_cols`."
   ]
  },
  {
   "cell_type": "code",
   "execution_count": 14,
   "id": "golden-zimbabwe",
   "metadata": {},
   "outputs": [],
   "source": [
    "# `get_scal` function takes a list of numerical features and returns a `minmax` function\n",
    "# `minmax` function itself takes a `numerical` number from a particular feature and returns scaled value of that number\n",
    "def get_scal(feature):\n",
    "    def minmax(x):\n",
    "        mini = train[feature].min()\n",
    "        maxi = train[feature].max()\n",
    "        return (x - mini)/(maxi - mini)\n",
    "        return(minmax)"
   ]
  },
  {
   "cell_type": "code",
   "execution_count": 15,
   "id": "contemporary-renewal",
   "metadata": {},
   "outputs": [],
   "source": [
    "feature_columns = []\n",
    "for header in numeric_cols:\n",
    "    scal_input_fn = get_scal(header)\n",
    "    feature_columns.append(tf.feature_column.numeric_column(header,\n",
    "                                                            normalizer_fn=scal_input_fn))"
   ]
  },
  {
   "cell_type": "code",
   "execution_count": 16,
   "id": "expensive-beatles",
   "metadata": {},
   "outputs": [
    {
     "data": {
      "text/plain": [
       "[NumericColumn(key='longitude', shape=(1,), default_value=None, dtype=tf.float32, normalizer_fn=None),\n",
       " NumericColumn(key='latitude', shape=(1,), default_value=None, dtype=tf.float32, normalizer_fn=None),\n",
       " NumericColumn(key='housing_median_age', shape=(1,), default_value=None, dtype=tf.float32, normalizer_fn=None),\n",
       " NumericColumn(key='total_rooms', shape=(1,), default_value=None, dtype=tf.float32, normalizer_fn=None),\n",
       " NumericColumn(key='total_bedrooms', shape=(1,), default_value=None, dtype=tf.float32, normalizer_fn=None),\n",
       " NumericColumn(key='population', shape=(1,), default_value=None, dtype=tf.float32, normalizer_fn=None),\n",
       " NumericColumn(key='households', shape=(1,), default_value=None, dtype=tf.float32, normalizer_fn=None),\n",
       " NumericColumn(key='median_income', shape=(1,), default_value=None, dtype=tf.float32, normalizer_fn=None)]"
      ]
     },
     "execution_count": 16,
     "metadata": {},
     "output_type": "execute_result"
    }
   ],
   "source": [
    "feature_columns"
   ]
  },
  {
   "cell_type": "markdown",
   "id": "boxed-toddler",
   "metadata": {},
   "source": [
    "Next, we should validate the total number of feature columns. Compare this number to the number of numeric features you input earlier"
   ]
  },
  {
   "cell_type": "code",
   "execution_count": 17,
   "id": "joined-tunisia",
   "metadata": {},
   "outputs": [
    {
     "name": "stdout",
     "output_type": "stream",
     "text": [
      "Total number of feature columns: 8\n"
     ]
    }
   ],
   "source": [
    "print(\"Total number of feature columns:\", len(feature_columns))"
   ]
  },
  {
   "cell_type": "markdown",
   "id": "respected-roommate",
   "metadata": {},
   "source": [
    "### **Using the Keras sequential model**"
   ]
  },
  {
   "cell_type": "markdown",
   "id": "focused-surname",
   "metadata": {},
   "source": [
    "Next, we will compile and fit a Keras sequential model."
   ]
  },
  {
   "cell_type": "code",
   "execution_count": 18,
   "id": "silent-opportunity",
   "metadata": {},
   "outputs": [
    {
     "name": "stdout",
     "output_type": "stream",
     "text": [
      "Epoch 1/32\n",
      "WARNING:tensorflow:Layers in a Sequential model should only have a single input tensor, but we receive a <class 'dict'> input: {'longitude': <tf.Tensor 'ExpandDims_3:0' shape=(None, 1) dtype=float64>, 'latitude': <tf.Tensor 'ExpandDims_2:0' shape=(None, 1) dtype=float64>, 'housing_median_age': <tf.Tensor 'ExpandDims_1:0' shape=(None, 1) dtype=float64>, 'total_rooms': <tf.Tensor 'ExpandDims_8:0' shape=(None, 1) dtype=float64>, 'total_bedrooms': <tf.Tensor 'ExpandDims_7:0' shape=(None, 1) dtype=float64>, 'population': <tf.Tensor 'ExpandDims_6:0' shape=(None, 1) dtype=float64>, 'households': <tf.Tensor 'ExpandDims:0' shape=(None, 1) dtype=float64>, 'median_income': <tf.Tensor 'ExpandDims_4:0' shape=(None, 1) dtype=float64>, 'ocean_proximity': <tf.Tensor 'ExpandDims_5:0' shape=(None, 1) dtype=string>}\n",
      "Consider rewriting this model with the Functional API.\n",
      "WARNING:tensorflow:Layers in a Sequential model should only have a single input tensor, but we receive a <class 'dict'> input: {'longitude': <tf.Tensor 'ExpandDims_3:0' shape=(None, 1) dtype=float64>, 'latitude': <tf.Tensor 'ExpandDims_2:0' shape=(None, 1) dtype=float64>, 'housing_median_age': <tf.Tensor 'ExpandDims_1:0' shape=(None, 1) dtype=float64>, 'total_rooms': <tf.Tensor 'ExpandDims_8:0' shape=(None, 1) dtype=float64>, 'total_bedrooms': <tf.Tensor 'ExpandDims_7:0' shape=(None, 1) dtype=float64>, 'population': <tf.Tensor 'ExpandDims_6:0' shape=(None, 1) dtype=float64>, 'households': <tf.Tensor 'ExpandDims:0' shape=(None, 1) dtype=float64>, 'median_income': <tf.Tensor 'ExpandDims_4:0' shape=(None, 1) dtype=float64>, 'ocean_proximity': <tf.Tensor 'ExpandDims_5:0' shape=(None, 1) dtype=string>}\n",
      "Consider rewriting this model with the Functional API.\n",
      "400/409 [============================>.] - ETA: 0s - loss: 54789961308.1600 - mse: 54789961308.1600WARNING:tensorflow:Layers in a Sequential model should only have a single input tensor, but we receive a <class 'dict'> input: {'longitude': <tf.Tensor 'ExpandDims_3:0' shape=(None, 1) dtype=float64>, 'latitude': <tf.Tensor 'ExpandDims_2:0' shape=(None, 1) dtype=float64>, 'housing_median_age': <tf.Tensor 'ExpandDims_1:0' shape=(None, 1) dtype=float64>, 'total_rooms': <tf.Tensor 'ExpandDims_8:0' shape=(None, 1) dtype=float64>, 'total_bedrooms': <tf.Tensor 'ExpandDims_7:0' shape=(None, 1) dtype=float64>, 'population': <tf.Tensor 'ExpandDims_6:0' shape=(None, 1) dtype=float64>, 'households': <tf.Tensor 'ExpandDims:0' shape=(None, 1) dtype=float64>, 'median_income': <tf.Tensor 'ExpandDims_4:0' shape=(None, 1) dtype=float64>, 'ocean_proximity': <tf.Tensor 'ExpandDims_5:0' shape=(None, 1) dtype=string>}\n",
      "Consider rewriting this model with the Functional API.\n",
      "409/409 [==============================] - 2s 4ms/step - loss: 54727831292.2537 - mse: 54727831292.2537 - val_loss: 42739802112.0000 - val_mse: 42739802112.0000\n",
      "Epoch 2/32\n",
      "409/409 [==============================] - 1s 2ms/step - loss: 35063935695.2976 - mse: 35063935695.2976 - val_loss: 27257896960.0000 - val_mse: 27257896960.0000\n",
      "Epoch 3/32\n",
      "409/409 [==============================] - 1s 2ms/step - loss: 25848951028.7610 - mse: 25848951028.7610 - val_loss: 26706606080.0000 - val_mse: 26706606080.0000\n",
      "Epoch 4/32\n",
      "409/409 [==============================] - 1s 2ms/step - loss: 25642626639.9220 - mse: 25642626639.9220 - val_loss: 26168082432.0000 - val_mse: 26168082432.0000\n",
      "Epoch 5/32\n",
      "409/409 [==============================] - 1s 2ms/step - loss: 25446449666.4976 - mse: 25446449666.4976 - val_loss: 25322962944.0000 - val_mse: 25322962944.0000\n",
      "Epoch 6/32\n",
      "409/409 [==============================] - 1s 2ms/step - loss: 24285210414.2049 - mse: 24285210414.2049 - val_loss: 24360988672.0000 - val_mse: 24360988672.0000\n",
      "Epoch 7/32\n",
      "409/409 [==============================] - 1s 2ms/step - loss: 24239256396.1756 - mse: 24239256396.1756 - val_loss: 23308734464.0000 - val_mse: 23308734464.0000\n",
      "Epoch 8/32\n",
      "409/409 [==============================] - 1s 2ms/step - loss: 22020517378.4976 - mse: 22020517378.4976 - val_loss: 21801363456.0000 - val_mse: 21801363456.0000\n",
      "Epoch 9/32\n",
      "409/409 [==============================] - 1s 2ms/step - loss: 21047998558.9073 - mse: 21047998558.9073 - val_loss: 20239024128.0000 - val_mse: 20239024128.0000\n",
      "Epoch 10/32\n",
      "409/409 [==============================] - 1s 2ms/step - loss: 19359278924.1756 - mse: 19359278924.1756 - val_loss: 18525020160.0000 - val_mse: 18525020160.0000\n",
      "Epoch 11/32\n",
      "409/409 [==============================] - 2s 4ms/step - loss: 17734412033.2488 - mse: 17734412033.2488 - val_loss: 16835022848.0000 - val_mse: 16835022848.0000\n",
      "Epoch 12/32\n",
      "409/409 [==============================] - 2s 4ms/step - loss: 15467632667.4732 - mse: 15467632667.4732 - val_loss: 15190408192.0000 - val_mse: 15190408192.0000\n",
      "Epoch 13/32\n",
      "409/409 [==============================] - 1s 2ms/step - loss: 14423049068.6439 - mse: 14423049068.6439 - val_loss: 13862641664.0000 - val_mse: 13862641664.0000\n",
      "Epoch 14/32\n",
      "409/409 [==============================] - 1s 2ms/step - loss: 13019628012.0195 - mse: 13019628012.0195 - val_loss: 12848441344.0000 - val_mse: 12848441344.0000\n",
      "Epoch 15/32\n",
      "409/409 [==============================] - 1s 2ms/step - loss: 12331130863.7659 - mse: 12331130863.7659 - val_loss: 12203701248.0000 - val_mse: 12203701248.0000\n",
      "Epoch 16/32\n",
      "409/409 [==============================] - 1s 2ms/step - loss: 11825500204.9561 - mse: 11825500204.9561 - val_loss: 11854823424.0000 - val_mse: 11854823424.0000\n",
      "Epoch 17/32\n",
      "409/409 [==============================] - 1s 2ms/step - loss: 11567753056.1561 - mse: 11567753056.1561 - val_loss: 11678861312.0000 - val_mse: 11678861312.0000\n",
      "Epoch 18/32\n",
      "409/409 [==============================] - 1s 2ms/step - loss: 10910264080.2341 - mse: 10910264080.2341 - val_loss: 11604806656.0000 - val_mse: 11604806656.0000\n",
      "Epoch 19/32\n",
      "409/409 [==============================] - 1s 2ms/step - loss: 11349367648.1561 - mse: 11349367648.1561 - val_loss: 11545295872.0000 - val_mse: 11545295872.0000\n",
      "Epoch 20/32\n",
      "409/409 [==============================] - 1s 2ms/step - loss: 11195673609.9902 - mse: 11195673609.9902 - val_loss: 11520261120.0000 - val_mse: 11520261120.0000\n",
      "Epoch 21/32\n",
      "409/409 [==============================] - 1s 2ms/step - loss: 11134072293.7756 - mse: 11134072293.7756 - val_loss: 11482624000.0000 - val_mse: 11482624000.0000\n",
      "Epoch 22/32\n",
      "409/409 [==============================] - 1s 2ms/step - loss: 11288189202.7317 - mse: 11288189202.7317 - val_loss: 11453009920.0000 - val_mse: 11453009920.0000\n",
      "Epoch 23/32\n",
      "409/409 [==============================] - 1s 2ms/step - loss: 11022749948.2537 - mse: 11022749948.2537 - val_loss: 11442053120.0000 - val_mse: 11442053120.0000\n",
      "Epoch 24/32\n",
      "409/409 [==============================] - 1s 2ms/step - loss: 11076687472.3902 - mse: 11076687472.3902 - val_loss: 11394447360.0000 - val_mse: 11394447360.0000\n",
      "Epoch 25/32\n",
      "409/409 [==============================] - 1s 2ms/step - loss: 11080647073.0927 - mse: 11080647073.0927 - val_loss: 11365050368.0000 - val_mse: 11365050368.0000\n",
      "Epoch 26/32\n",
      "409/409 [==============================] - 1s 2ms/step - loss: 11241418207.5317 - mse: 11241418207.5317 - val_loss: 11339212800.0000 - val_mse: 11339212800.0000\n",
      "Epoch 27/32\n",
      "409/409 [==============================] - 1s 2ms/step - loss: 10893157515.8634 - mse: 10893157515.8634 - val_loss: 11318165504.0000 - val_mse: 11318165504.0000\n",
      "Epoch 28/32\n",
      "409/409 [==============================] - 1s 3ms/step - loss: 10769873502.9073 - mse: 10769873502.9073 - val_loss: 11287259136.0000 - val_mse: 11287259136.0000\n",
      "Epoch 29/32\n",
      "409/409 [==============================] - 1s 2ms/step - loss: 11009973380.3707 - mse: 11009973380.3707 - val_loss: 11271523328.0000 - val_mse: 11271523328.0000\n",
      "Epoch 30/32\n",
      "409/409 [==============================] - 1s 2ms/step - loss: 10961804869.9317 - mse: 10961804869.9317 - val_loss: 11226289152.0000 - val_mse: 11226289152.0000\n",
      "Epoch 31/32\n",
      "409/409 [==============================] - 1s 2ms/step - loss: 11168755649.5610 - mse: 11168755649.5610 - val_loss: 11206679552.0000 - val_mse: 11206679552.0000\n",
      "Epoch 32/32\n",
      "409/409 [==============================] - 1s 2ms/step - loss: 10914166361.9122 - mse: 10914166361.9122 - val_loss: 11190616064.0000 - val_mse: 11190616064.0000\n"
     ]
    }
   ],
   "source": [
    "# Model creation\n",
    "# `tf.keras.layers.DenseFeatures()` is a layer that produces a dense Tensor based on given `feature_columns`\n",
    "feature_layer = tf.keras.layers.DenseFeatures(feature_columns, dtype=\"float64\")\n",
    "\n",
    "# `tf.keras.Sequential()` groups a linear stack of layers into a `tf.keras` model\n",
    "model = tf.keras.Sequential([\n",
    "    feature_layer,\n",
    "    layers.Dense(12, input_dim=8, activation=\"relu\"),\n",
    "    layers.Dense(8, activation=\"relu\"),\n",
    "    layers.Dense(1, activation=\"linear\", name=\"median_house_value\")\n",
    "])\n",
    "\n",
    "# Model compilation\n",
    "model.compile(optimizer=\"adam\",\n",
    "              loss=\"mse\",\n",
    "              metrics=[\"mse\"])\n",
    "\n",
    "# Model fit\n",
    "history = model.fit(train_ds,\n",
    "                    validation_data=val_ds,\n",
    "                    epochs=32)"
   ]
  },
  {
   "cell_type": "code",
   "execution_count": 19,
   "id": "solar-permit",
   "metadata": {},
   "outputs": [
    {
     "name": "stdout",
     "output_type": "stream",
     "text": [
      "409/409 [==============================] - 1s 2ms/step - loss: 10850928640.0000 - mse: 10850928640.0000\n",
      "Mean Squared Error 10850928640.0\n"
     ]
    }
   ],
   "source": [
    "# Let's show loss as Mean Squared Error (MSE)\n",
    "loss, mse = model.evaluate(train_ds)\n",
    "print(\"Mean Squared Error\", mse)"
   ]
  },
  {
   "cell_type": "markdown",
   "id": "inappropriate-connectivity",
   "metadata": {},
   "source": [
    "### **Visualise the model loss curve**"
   ]
  },
  {
   "cell_type": "markdown",
   "id": "further-wheat",
   "metadata": {},
   "source": [
    "Next, we will use matplotlib to draw the model's loss curves for training and validation. A line plot is also created showing the mean squared error loss over the training epochs for both the training (blue) and validation (orange) sets."
   ]
  },
  {
   "cell_type": "code",
   "execution_count": 20,
   "id": "paperback-portable",
   "metadata": {},
   "outputs": [],
   "source": [
    "# Use matplotlib to draw the model's loss curves for training and validation\n",
    "def plot_curves(history, metrics):\n",
    "    nrows = 1\n",
    "    ncols = 2\n",
    "    fig = plt.figure(figsize=(10, 5))\n",
    "    \n",
    "    for idx, key in enumerate(metrics):\n",
    "        ax = fig.add_subplot(nrows, ncols, idx+1)\n",
    "        plt.plot(history.history[key])\n",
    "        plt.plot(history.history[\"val_{}\".format(key)])\n",
    "        plt.title(\"model {}\".format(key))\n",
    "        plt.ylabel(key)\n",
    "        plt.xlabel(\"epoch\")\n",
    "        plt.legend([\"train\", \"validation\"], loc=\"upper left\");"
   ]
  },
  {
   "cell_type": "code",
   "execution_count": 21,
   "id": "historic-process",
   "metadata": {},
   "outputs": [
    {
     "data": {
      "image/png": "[encoded data removed]",
      "text/plain": [
       "<Figure size 720x360 with 2 Axes>"
      ]
     },
     "metadata": {
      "needs_background": "light"
     },
     "output_type": "display_data"
    }
   ],
   "source": [
    "plot_curves(history, [\"loss\", \"mse\"])"
   ]
  },
  {
   "cell_type": "markdown",
   "id": "electoral-afternoon",
   "metadata": {},
   "source": [
    "### **Load test data**"
   ]
  },
  {
   "cell_type": "markdown",
   "id": "fantastic-storage",
   "metadata": {},
   "source": [
    "Next, we read in the `test.csv` file and validate that there are no null_values."
   ]
  },
  {
   "cell_type": "markdown",
   "id": "single-jersey",
   "metadata": {},
   "source": [
    "Again, we can use `.describe()` to see some summary statistics for the numeric fields in our DataFrame. The count shows 4087.000000 for all feature columns. Thus, there are no missing values."
   ]
  },
  {
   "cell_type": "code",
   "execution_count": 22,
   "id": "friendly-spanking",
   "metadata": {},
   "outputs": [
    {
     "data": {
      "text/html": [
       "<div>\n",
       "<style scoped>\n",
       "    .dataframe tbody tr th:only-of-type {\n",
       "        vertical-align: middle;\n",
       "    }\n",
       "\n",
       "    .dataframe tbody tr th {\n",
       "        vertical-align: top;\n",
       "    }\n",
       "\n",
       "    .dataframe thead th {\n",
       "        text-align: right;\n",
       "    }\n",
       "</style>\n",
       "<table border=\"1\" class=\"dataframe\">\n",
       "  <thead>\n",
       "    <tr style=\"text-align: right;\">\n",
       "      <th></th>\n",
       "      <th>longitude</th>\n",
       "      <th>latitude</th>\n",
       "      <th>housing_median_age</th>\n",
       "      <th>total_rooms</th>\n",
       "      <th>total_bedrooms</th>\n",
       "      <th>population</th>\n",
       "      <th>households</th>\n",
       "      <th>median_income</th>\n",
       "      <th>median_house_value</th>\n",
       "    </tr>\n",
       "  </thead>\n",
       "  <tbody>\n",
       "    <tr>\n",
       "      <th>count</th>\n",
       "      <td>4087.000000</td>\n",
       "      <td>4087.000000</td>\n",
       "      <td>4087.000000</td>\n",
       "      <td>4087.000000</td>\n",
       "      <td>4087.000000</td>\n",
       "      <td>4087.000000</td>\n",
       "      <td>4087.000000</td>\n",
       "      <td>4087.000000</td>\n",
       "      <td>4087.000000</td>\n",
       "    </tr>\n",
       "    <tr>\n",
       "      <th>mean</th>\n",
       "      <td>-119.599090</td>\n",
       "      <td>35.655821</td>\n",
       "      <td>28.756056</td>\n",
       "      <td>2626.910692</td>\n",
       "      <td>536.308784</td>\n",
       "      <td>1419.136041</td>\n",
       "      <td>497.932713</td>\n",
       "      <td>3.859357</td>\n",
       "      <td>205400.682652</td>\n",
       "    </tr>\n",
       "    <tr>\n",
       "      <th>std</th>\n",
       "      <td>1.992921</td>\n",
       "      <td>2.130715</td>\n",
       "      <td>12.621488</td>\n",
       "      <td>2180.832129</td>\n",
       "      <td>418.464597</td>\n",
       "      <td>1084.833255</td>\n",
       "      <td>374.725975</td>\n",
       "      <td>1.880610</td>\n",
       "      <td>114404.529872</td>\n",
       "    </tr>\n",
       "    <tr>\n",
       "      <th>min</th>\n",
       "      <td>-124.300000</td>\n",
       "      <td>32.560000</td>\n",
       "      <td>1.000000</td>\n",
       "      <td>18.000000</td>\n",
       "      <td>3.000000</td>\n",
       "      <td>5.000000</td>\n",
       "      <td>3.000000</td>\n",
       "      <td>0.499900</td>\n",
       "      <td>14999.000000</td>\n",
       "    </tr>\n",
       "    <tr>\n",
       "      <th>25%</th>\n",
       "      <td>-121.810000</td>\n",
       "      <td>33.930000</td>\n",
       "      <td>18.000000</td>\n",
       "      <td>1462.000000</td>\n",
       "      <td>297.000000</td>\n",
       "      <td>779.000000</td>\n",
       "      <td>281.000000</td>\n",
       "      <td>2.545950</td>\n",
       "      <td>118700.000000</td>\n",
       "    </tr>\n",
       "    <tr>\n",
       "      <th>50%</th>\n",
       "      <td>-118.520000</td>\n",
       "      <td>34.260000</td>\n",
       "      <td>29.000000</td>\n",
       "      <td>2126.000000</td>\n",
       "      <td>431.000000</td>\n",
       "      <td>1161.000000</td>\n",
       "      <td>407.000000</td>\n",
       "      <td>3.542900</td>\n",
       "      <td>179100.000000</td>\n",
       "    </tr>\n",
       "    <tr>\n",
       "      <th>75%</th>\n",
       "      <td>-118.030000</td>\n",
       "      <td>37.730000</td>\n",
       "      <td>37.000000</td>\n",
       "      <td>3104.000000</td>\n",
       "      <td>641.500000</td>\n",
       "      <td>1730.000000</td>\n",
       "      <td>601.000000</td>\n",
       "      <td>4.734050</td>\n",
       "      <td>263350.000000</td>\n",
       "    </tr>\n",
       "    <tr>\n",
       "      <th>max</th>\n",
       "      <td>-114.570000</td>\n",
       "      <td>41.800000</td>\n",
       "      <td>52.000000</td>\n",
       "      <td>30450.000000</td>\n",
       "      <td>5033.000000</td>\n",
       "      <td>12873.000000</td>\n",
       "      <td>4490.000000</td>\n",
       "      <td>15.000100</td>\n",
       "      <td>500001.000000</td>\n",
       "    </tr>\n",
       "  </tbody>\n",
       "</table>\n",
       "</div>"
      ],
      "text/plain": [
       "         longitude     latitude  housing_median_age   total_rooms  \\\n",
       "count  4087.000000  4087.000000         4087.000000   4087.000000   \n",
       "mean   -119.599090    35.655821           28.756056   2626.910692   \n",
       "std       1.992921     2.130715           12.621488   2180.832129   \n",
       "min    -124.300000    32.560000            1.000000     18.000000   \n",
       "25%    -121.810000    33.930000           18.000000   1462.000000   \n",
       "50%    -118.520000    34.260000           29.000000   2126.000000   \n",
       "75%    -118.030000    37.730000           37.000000   3104.000000   \n",
       "max    -114.570000    41.800000           52.000000  30450.000000   \n",
       "\n",
       "       total_bedrooms    population   households  median_income  \\\n",
       "count     4087.000000   4087.000000  4087.000000    4087.000000   \n",
       "mean       536.308784   1419.136041   497.932713       3.859357   \n",
       "std        418.464597   1084.833255   374.725975       1.880610   \n",
       "min          3.000000      5.000000     3.000000       0.499900   \n",
       "25%        297.000000    779.000000   281.000000       2.545950   \n",
       "50%        431.000000   1161.000000   407.000000       3.542900   \n",
       "75%        641.500000   1730.000000   601.000000       4.734050   \n",
       "max       5033.000000  12873.000000  4490.000000      15.000100   \n",
       "\n",
       "       median_house_value  \n",
       "count         4087.000000  \n",
       "mean        205400.682652  \n",
       "std         114404.529872  \n",
       "min          14999.000000  \n",
       "25%         118700.000000  \n",
       "50%         179100.000000  \n",
       "75%         263350.000000  \n",
       "max         500001.000000  "
      ]
     },
     "execution_count": 22,
     "metadata": {},
     "output_type": "execute_result"
    }
   ],
   "source": [
    "test_data = pd.read_csv(\"data/housing-test.csv\")\n",
    "test_data.describe()"
   ]
  },
  {
   "cell_type": "markdown",
   "id": "useful-database",
   "metadata": {},
   "source": [
    "Now that we have created an input pipeline using `tf.data` and compiled a Keras sequential model, we create the input function for the test data and to intialise the `test_predict` variable."
   ]
  },
  {
   "cell_type": "code",
   "execution_count": 23,
   "id": "guided-range",
   "metadata": {},
   "outputs": [],
   "source": [
    "def test_input_fn(features, batch_size=256):\n",
    "    \"\"\"An input function for prediction\"\"\"\n",
    "    # Convert the inputs to a Dataset without labels\n",
    "    return tf.data.Dataset.from_tensor_slices(dict(features)).batch(batch_size)"
   ]
  },
  {
   "cell_type": "code",
   "execution_count": 24,
   "id": "formal-publicity",
   "metadata": {},
   "outputs": [],
   "source": [
    "test_predict = test_input_fn(dict(test_data))"
   ]
  },
  {
   "cell_type": "markdown",
   "id": "brazilian-catalyst",
   "metadata": {},
   "source": [
    "### **Prediction: Linear Regression**"
   ]
  },
  {
   "cell_type": "markdown",
   "id": "governmental-grounds",
   "metadata": {},
   "source": [
    "Before we begin to feature engineer our feature columns, we should predict the median house value. By predicting the median house value now as a baseline, we can then compare it with the median house value after feature engineering.\n",
    "\n",
    "To predict with Keras, you simply call `model.predict()` and pass in the housing features you want to predict the `median_house_value` for."
   ]
  },
  {
   "cell_type": "markdown",
   "id": "incredible-search",
   "metadata": {},
   "source": [
    "Note: we are predicting the model locally."
   ]
  },
  {
   "cell_type": "code",
   "execution_count": 25,
   "id": "joint-seller",
   "metadata": {},
   "outputs": [
    {
     "name": "stdout",
     "output_type": "stream",
     "text": [
      "WARNING:tensorflow:Layers in a Sequential model should only have a single input tensor, but we receive a <class 'dict'> input: {'longitude': <tf.Tensor 'ExpandDims_3:0' shape=(None, 1) dtype=float64>, 'latitude': <tf.Tensor 'ExpandDims_2:0' shape=(None, 1) dtype=float64>, 'housing_median_age': <tf.Tensor 'ExpandDims_1:0' shape=(None, 1) dtype=float64>, 'total_rooms': <tf.Tensor 'ExpandDims_9:0' shape=(None, 1) dtype=float64>, 'total_bedrooms': <tf.Tensor 'ExpandDims_8:0' shape=(None, 1) dtype=float64>, 'population': <tf.Tensor 'ExpandDims_7:0' shape=(None, 1) dtype=float64>, 'households': <tf.Tensor 'ExpandDims:0' shape=(None, 1) dtype=float64>, 'median_income': <tf.Tensor 'ExpandDims_5:0' shape=(None, 1) dtype=float64>, 'median_house_value': <tf.Tensor 'ExpandDims_4:0' shape=(None, 1) dtype=float64>, 'ocean_proximity': <tf.Tensor 'ExpandDims_6:0' shape=(None, 1) dtype=string>}\n",
      "Consider rewriting this model with the Functional API.\n"
     ]
    }
   ],
   "source": [
    "# Use the model to do prediction with `model.predict()`\n",
    "predicted_median_house_value = model.predict(test_predict)"
   ]
  },
  {
   "cell_type": "markdown",
   "id": "inclusive-investor",
   "metadata": {},
   "source": [
    "Next, we run two predictions in separate cells $-$ one where `ocean_proximity=\"INLAND\"` and one where `ocean_proximity=\"NEAR_OCEAN\"`."
   ]
  },
  {
   "cell_type": "code",
   "execution_count": 31,
   "id": "virtual-currency",
   "metadata": {},
   "outputs": [
    {
     "data": {
      "text/plain": [
       "array([[217383.12]], dtype=float32)"
      ]
     },
     "execution_count": 31,
     "metadata": {},
     "output_type": "execute_result"
    }
   ],
   "source": [
    "# ocean_proximity = \"INLAND\"\n",
    "model.predict({\n",
    "    \"longitude\": tf.convert_to_tensor([-121.86]),\n",
    "    \"latitude\": tf.convert_to_tensor([39.78]),\n",
    "    \"housing_median_age\": tf.convert_to_tensor([12.0]),\n",
    "    \"total_rooms\": tf.convert_to_tensor([7653.0]),\n",
    "    \"total_bedrooms\": tf.convert_to_tensor([1578.0]),\n",
    "    \"population\": tf.convert_to_tensor([3628.0]),\n",
    "    \"households\": tf.convert_to_tensor([1494.0]),\n",
    "    \"median_income\": tf.convert_to_tensor([3.0905]),\n",
    "    \"ocean_proximity\": tf.convert_to_tensor([\"INLAND\"])\n",
    "}, steps=1)"
   ]
  },
  {
   "cell_type": "code",
   "execution_count": 33,
   "id": "continuous-category",
   "metadata": {},
   "outputs": [
    {
     "data": {
      "text/plain": [
       "array([[234350.28]], dtype=float32)"
      ]
     },
     "execution_count": 33,
     "metadata": {},
     "output_type": "execute_result"
    }
   ],
   "source": [
    "# ocean_proximity = \"NEAR OCEAN\"\n",
    "model.predict({\n",
    "    \"longitude\": tf.convert_to_tensor([-122.43]),\n",
    "    \"latitude\": tf.convert_to_tensor([37.63]),\n",
    "    \"housing_median_age\": tf.convert_to_tensor([34.0]),\n",
    "    \"total_rooms\": tf.convert_to_tensor([4135.0]),\n",
    "    \"total_bedrooms\": tf.convert_to_tensor([687.0]),\n",
    "    \"population\": tf.convert_to_tensor([2154.0]),\n",
    "    \"households\": tf.convert_to_tensor([742.0]),\n",
    "    \"median_income\": tf.convert_to_tensor([4.9732]),\n",
    "    \"ocean_proximity\": tf.convert_to_tensor([\"NEAR OCEAN\"])\n",
    "})"
   ]
  },
  {
   "cell_type": "markdown",
   "id": "driving-porter",
   "metadata": {},
   "source": [
    "The array returns a predicted value. What do these numbers mean? Let's compare this value to the test set."
   ]
  },
  {
   "cell_type": "markdown",
   "id": "independent-injection",
   "metadata": {},
   "source": [
    "## **Feature engineering $-$ categorical and numerical features**"
   ]
  },
  {
   "cell_type": "markdown",
   "id": "controversial-census",
   "metadata": {},
   "source": [
    "Now we indicate which features will be used in the model."
   ]
  },
  {
   "cell_type": "markdown",
   "id": "suffering-hudson",
   "metadata": {},
   "source": [
    "Note: Be sure to bucketise `housing_median_age` and ensure that `ocean_proximity` is one-hot encoded. And, don't forget your numeric values!"
   ]
  },
  {
   "cell_type": "code",
   "execution_count": 39,
   "id": "solved-constant",
   "metadata": {},
   "outputs": [],
   "source": [
    "numeric_cols = [\"longitude\", \"latitude\", \"housing_median_age\", \n",
    "                \"total_rooms\", \"total_bedrooms\",  \"population\", \n",
    "                \"households\", \"median_income\"]\n",
    "\n",
    "bucketized_cols = [\"housing_median_age\"]\n",
    "\n",
    "# Indicator columns, Categorical features\n",
    "categorical_cols = [\"ocean_proximity\"]"
   ]
  },
  {
   "cell_type": "markdown",
   "id": "italian-textbook",
   "metadata": {},
   "source": [
    "Next, we scale the numerical, bucketised, and categorical feature columns that we assigned to the variables in the preceding cell."
   ]
  },
  {
   "cell_type": "code",
   "execution_count": 40,
   "id": "engaged-breed",
   "metadata": {},
   "outputs": [],
   "source": [
    "# Scalar def get_scal(feature):\n",
    "def get_scal(feature):\n",
    "    def minmax(x):\n",
    "        mini = train[feature].min()\n",
    "        maxi = train[feature].max()\n",
    "        return (x - mini)/(maxi - mini)\n",
    "        return(minmax)"
   ]
  },
  {
   "cell_type": "code",
   "execution_count": 41,
   "id": "coral-counter",
   "metadata": {},
   "outputs": [],
   "source": [
    "# All numerical features scaling\n",
    "feature_columns = []\n",
    "for header in numeric_cols:\n",
    "    scal_input_fn = get_scal(header)\n",
    "    feature_columns.append(tf.feature_column.numeric_column(header,\n",
    "                                                            normalizer_fn=scal_input_fn))"
   ]
  },
  {
   "cell_type": "markdown",
   "id": "derived-federation",
   "metadata": {},
   "source": [
    "### **Categorical Feature**"
   ]
  },
  {
   "cell_type": "markdown",
   "id": "nutritional-asbestos",
   "metadata": {},
   "source": [
    "In this data set, `ocean_proximity` is represented as a string. We cannot feed strings directly to a model. Instead, we must first map them to numeric values. The `tf.feature_column.categorical_with_vocabulary_list()` method provides a way to represent strings as a one-hot encoded vector."
   ]
  },
  {
   "cell_type": "markdown",
   "id": "welsh-meditation",
   "metadata": {},
   "source": [
    "Next, we create a categorical feature using `ocean_proximity`."
   ]
  },
  {
   "cell_type": "code",
   "execution_count": 43,
   "id": "transsexual-acquisition",
   "metadata": {},
   "outputs": [],
   "source": [
    "for feature_name in categorical_cols:\n",
    "    vocabulary = housing_df[feature_name].unique()\n",
    "    categorical_c = tf.feature_column.categorical_column_with_vocabulary_list(feature_name, vocabulary)\n",
    "    one_hot = tf.feature_column.indicator_column(categorical_c)\n",
    "    feature_columns.append(one_hot)"
   ]
  },
  {
   "cell_type": "markdown",
   "id": "circular-damage",
   "metadata": {},
   "source": [
    "### **Bucketised Feature**"
   ]
  },
  {
   "cell_type": "markdown",
   "id": "third-correction",
   "metadata": {},
   "source": [
    "Often, you don't want to feed a number directly into the model, but instead split its value into different categories based on numerical ranges. Consider our raw data that represents a home's age. Instead of representing the house age as a numeric column, we could split the home age into several buckets using a *bucketised column*. Notice the one-hot values below describe which age range each row matches."
   ]
  },
  {
   "cell_type": "markdown",
   "id": "tribal-dealer",
   "metadata": {},
   "source": [
    "Next we create a bucketised column using `housing_median_age`."
   ]
  },
  {
   "cell_type": "code",
   "execution_count": 45,
   "id": "alone-wrestling",
   "metadata": {},
   "outputs": [],
   "source": [
    "age = tf.feature_column.numeric_column(\"housing_median_age\")\n",
    "\n",
    "# Bucketised cols\n",
    "age_buckets = tf.feature_column.bucketized_column(age, boundaries=[10, 20, 30, 40, 50, 60, 80, 100])\n",
    "feature_columns.append(age_buckets)"
   ]
  },
  {
   "cell_type": "markdown",
   "id": "involved-crazy",
   "metadata": {},
   "source": [
    "### **Feature Cross**"
   ]
  },
  {
   "cell_type": "markdown",
   "id": "quarterly-cholesterol",
   "metadata": {},
   "source": [
    "Combining features into a single feature, better known as [*feature crosses*](https://developers.google.com/machine-learning/glossary/#feature_cross), enables a model to learn separate weights for each combination of features and encode non-linearity. Crossed features must be either bucketised continous features, or binary (one-hot encoded) categorical features."
   ]
  },
  {
   "cell_type": "markdown",
   "id": "laden-england",
   "metadata": {},
   "source": [
    "Next, we create a feature cross of `housing_median_age` (bucketised) and `ocean_proximity` (one-hot encoded)."
   ]
  },
  {
   "cell_type": "code",
   "execution_count": 48,
   "id": "returning-landscape",
   "metadata": {},
   "outputs": [],
   "source": [
    "vocabulary = housing_df[\"ocean_proximity\"].unique()\n",
    "ocean_proximity = tf.feature_column.categorical_column_with_vocabulary_list(\"ocean_proximity\", vocabulary)\n",
    "\n",
    "crossed_feature = tf.feature_column.crossed_column([age_buckets, ocean_proximity],\n",
    "                                                   hash_bucket_size=1000)\n",
    "crossed_feature = tf.feature_column.indicator_column(crossed_feature)\n",
    "feature_columns.append(crossed_feature)"
   ]
  },
  {
   "cell_type": "markdown",
   "id": "ranking-norfolk",
   "metadata": {},
   "source": [
    "Next, we should validate the total number of feature columns. Compare this number to the number of numeric features you input earlier."
   ]
  },
  {
   "cell_type": "code",
   "execution_count": 49,
   "id": "latin-poster",
   "metadata": {},
   "outputs": [
    {
     "name": "stdout",
     "output_type": "stream",
     "text": [
      "Total number of feature columns: 11\n"
     ]
    }
   ],
   "source": [
    "print(\"Total number of feature columns:\", len(feature_columns))"
   ]
  },
  {
   "cell_type": "markdown",
   "id": "southwest-acrylic",
   "metadata": {},
   "source": [
    "Next, we will compile and fit the Keras sequential model. This is the same model we ran earlier."
   ]
  },
  {
   "cell_type": "code",
   "execution_count": 53,
   "id": "tracked-hollywood",
   "metadata": {},
   "outputs": [
    {
     "name": "stdout",
     "output_type": "stream",
     "text": [
      "Epoch 1/32\n",
      "WARNING:tensorflow:Layers in a Sequential model should only have a single input tensor, but we receive a <class 'dict'> input: {'longitude': <tf.Tensor 'ExpandDims_3:0' shape=(None, 1) dtype=float64>, 'latitude': <tf.Tensor 'ExpandDims_2:0' shape=(None, 1) dtype=float64>, 'housing_median_age': <tf.Tensor 'ExpandDims_1:0' shape=(None, 1) dtype=float64>, 'total_rooms': <tf.Tensor 'ExpandDims_8:0' shape=(None, 1) dtype=float64>, 'total_bedrooms': <tf.Tensor 'ExpandDims_7:0' shape=(None, 1) dtype=float64>, 'population': <tf.Tensor 'ExpandDims_6:0' shape=(None, 1) dtype=float64>, 'households': <tf.Tensor 'ExpandDims:0' shape=(None, 1) dtype=float64>, 'median_income': <tf.Tensor 'ExpandDims_4:0' shape=(None, 1) dtype=float64>, 'ocean_proximity': <tf.Tensor 'ExpandDims_5:0' shape=(None, 1) dtype=string>}\n",
      "Consider rewriting this model with the Functional API.\n",
      "WARNING:tensorflow:Layers in a Sequential model should only have a single input tensor, but we receive a <class 'dict'> input: {'longitude': <tf.Tensor 'ExpandDims_3:0' shape=(None, 1) dtype=float64>, 'latitude': <tf.Tensor 'ExpandDims_2:0' shape=(None, 1) dtype=float64>, 'housing_median_age': <tf.Tensor 'ExpandDims_1:0' shape=(None, 1) dtype=float64>, 'total_rooms': <tf.Tensor 'ExpandDims_8:0' shape=(None, 1) dtype=float64>, 'total_bedrooms': <tf.Tensor 'ExpandDims_7:0' shape=(None, 1) dtype=float64>, 'population': <tf.Tensor 'ExpandDims_6:0' shape=(None, 1) dtype=float64>, 'households': <tf.Tensor 'ExpandDims:0' shape=(None, 1) dtype=float64>, 'median_income': <tf.Tensor 'ExpandDims_4:0' shape=(None, 1) dtype=float64>, 'ocean_proximity': <tf.Tensor 'ExpandDims_5:0' shape=(None, 1) dtype=string>}\n",
      "Consider rewriting this model with the Functional API.\n",
      "393/409 [===========================>..] - ETA: 0s - loss: 54989350833.8321 - mse: 54989350833.8321WARNING:tensorflow:Layers in a Sequential model should only have a single input tensor, but we receive a <class 'dict'> input: {'longitude': <tf.Tensor 'ExpandDims_3:0' shape=(None, 1) dtype=float64>, 'latitude': <tf.Tensor 'ExpandDims_2:0' shape=(None, 1) dtype=float64>, 'housing_median_age': <tf.Tensor 'ExpandDims_1:0' shape=(None, 1) dtype=float64>, 'total_rooms': <tf.Tensor 'ExpandDims_8:0' shape=(None, 1) dtype=float64>, 'total_bedrooms': <tf.Tensor 'ExpandDims_7:0' shape=(None, 1) dtype=float64>, 'population': <tf.Tensor 'ExpandDims_6:0' shape=(None, 1) dtype=float64>, 'households': <tf.Tensor 'ExpandDims:0' shape=(None, 1) dtype=float64>, 'median_income': <tf.Tensor 'ExpandDims_4:0' shape=(None, 1) dtype=float64>, 'ocean_proximity': <tf.Tensor 'ExpandDims_5:0' shape=(None, 1) dtype=string>}\n",
      "Consider rewriting this model with the Functional API.\n",
      "409/409 [==============================] - 3s 4ms/step - loss: 54822740337.6390 - mse: 54822740337.6390 - val_loss: 37241634816.0000 - val_mse: 37241634816.0000\n",
      "Epoch 2/32\n",
      "409/409 [==============================] - 1s 3ms/step - loss: 30611352331.2390 - mse: 30611352331.2390 - val_loss: 27115249664.0000 - val_mse: 27115249664.0000\n",
      "Epoch 3/32\n",
      "409/409 [==============================] - 2s 3ms/step - loss: 25555861491.5122 - mse: 25555861491.5122 - val_loss: 26729967616.0000 - val_mse: 26729967616.0000\n",
      "Epoch 4/32\n",
      "409/409 [==============================] - 2s 4ms/step - loss: 25624175715.9024 - mse: 25624175715.9024 - val_loss: 26333116416.0000 - val_mse: 26333116416.0000\n",
      "Epoch 5/32\n",
      "409/409 [==============================] - 2s 4ms/step - loss: 25854536401.7951 - mse: 25854536401.7951 - val_loss: 25923919872.0000 - val_mse: 25923919872.0000\n",
      "Epoch 6/32\n",
      "409/409 [==============================] - 2s 4ms/step - loss: 25180679602.5756 - mse: 25180679602.5756 - val_loss: 25470523392.0000 - val_mse: 25470523392.0000\n",
      "Epoch 7/32\n",
      "409/409 [==============================] - 2s 4ms/step - loss: 25209890436.3707 - mse: 25209890436.3707 - val_loss: 25068347392.0000 - val_mse: 25068347392.0000\n",
      "Epoch 8/32\n",
      "409/409 [==============================] - 2s 4ms/step - loss: 23329219469.1122 - mse: 23329219469.1122 - val_loss: 24460060672.0000 - val_mse: 24460060672.0000\n",
      "Epoch 9/32\n",
      "409/409 [==============================] - 2s 4ms/step - loss: 24081277062.8683 - mse: 24081277062.8683 - val_loss: 23918227456.0000 - val_mse: 23918227456.0000\n",
      "Epoch 10/32\n",
      "409/409 [==============================] - 2s 4ms/step - loss: 22297031507.6683 - mse: 22297031507.6683 - val_loss: 23221803008.0000 - val_mse: 23221803008.0000\n",
      "Epoch 11/32\n",
      "409/409 [==============================] - 2s 4ms/step - loss: 22776915593.3659 - mse: 22776915593.3659 - val_loss: 22563762176.0000 - val_mse: 22563762176.0000\n",
      "Epoch 12/32\n",
      "409/409 [==============================] - 2s 4ms/step - loss: 21029014962.5756 - mse: 21029014962.5756 - val_loss: 21609805824.0000 - val_mse: 21609805824.0000\n",
      "Epoch 13/32\n",
      "409/409 [==============================] - 2s 4ms/step - loss: 20192083977.9902 - mse: 20192083977.9902 - val_loss: 20583108608.0000 - val_mse: 20583108608.0000\n",
      "Epoch 14/32\n",
      "409/409 [==============================] - 2s 4ms/step - loss: 19332859479.4146 - mse: 19332859479.4146 - val_loss: 19381989376.0000 - val_mse: 19381989376.0000\n",
      "Epoch 15/32\n",
      "409/409 [==============================] - 2s 5ms/step - loss: 18399441025.8732 - mse: 18399441025.8732 - val_loss: 17985798144.0000 - val_mse: 17985798144.0000\n",
      "Epoch 16/32\n",
      "409/409 [==============================] - 1s 3ms/step - loss: 17287887247.6098 - mse: 17287887247.6098 - val_loss: 16367261696.0000 - val_mse: 16367261696.0000\n",
      "Epoch 17/32\n",
      "409/409 [==============================] - 2s 4ms/step - loss: 15375600500.1366 - mse: 15375600500.1366 - val_loss: 14789073920.0000 - val_mse: 14789073920.0000\n",
      "Epoch 18/32\n",
      "409/409 [==============================] - 2s 4ms/step - loss: 13787059022.6732 - mse: 13787059022.6732 - val_loss: 13393937408.0000 - val_mse: 13393937408.0000\n",
      "Epoch 19/32\n",
      "409/409 [==============================] - 2s 4ms/step - loss: 12542766314.7707 - mse: 12542766314.7707 - val_loss: 12370422784.0000 - val_mse: 12370422784.0000\n",
      "Epoch 20/32\n",
      "409/409 [==============================] - 2s 4ms/step - loss: 12068874062.6732 - mse: 12068874062.6732 - val_loss: 11794498560.0000 - val_mse: 11794498560.0000\n",
      "Epoch 21/32\n",
      "409/409 [==============================] - 2s 4ms/step - loss: 11396689702.7122 - mse: 11396689702.7122 - val_loss: 11592818688.0000 - val_mse: 11592818688.0000\n",
      "Epoch 22/32\n",
      "409/409 [==============================] - 2s 4ms/step - loss: 10981947961.4439 - mse: 10981947961.4439 - val_loss: 11420742656.0000 - val_mse: 11420742656.0000\n",
      "Epoch 23/32\n",
      "409/409 [==============================] - 1s 3ms/step - loss: 10925790252.9561 - mse: 10925790252.9561 - val_loss: 11354121216.0000 - val_mse: 11354121216.0000\n",
      "Epoch 24/32\n",
      "409/409 [==============================] - 1s 3ms/step - loss: 10888084332.6439 - mse: 10888084332.6439 - val_loss: 11295133696.0000 - val_mse: 11295133696.0000\n",
      "Epoch 25/32\n",
      "409/409 [==============================] - 2s 4ms/step - loss: 11129568695.5707 - mse: 11129568695.5707 - val_loss: 11242741760.0000 - val_mse: 11242741760.0000\n",
      "Epoch 26/32\n",
      "409/409 [==============================] - 1s 3ms/step - loss: 10784711003.1610 - mse: 10784711003.1610 - val_loss: 11192453120.0000 - val_mse: 11192453120.0000\n",
      "Epoch 27/32\n",
      "409/409 [==============================] - 2s 4ms/step - loss: 10973037350.7122 - mse: 10973037350.7122 - val_loss: 11152978944.0000 - val_mse: 11152978944.0000\n",
      "Epoch 28/32\n",
      "409/409 [==============================] - 2s 4ms/step - loss: 10734785663.3756 - mse: 10734785663.3756 - val_loss: 11097270272.0000 - val_mse: 11097270272.0000\n",
      "Epoch 29/32\n",
      "409/409 [==============================] - 2s 4ms/step - loss: 10736269736.5854 - mse: 10736269736.5854 - val_loss: 11059167232.0000 - val_mse: 11059167232.0000\n",
      "Epoch 30/32\n",
      "409/409 [==============================] - 2s 4ms/step - loss: 10802226605.5805 - mse: 10802226605.5805 - val_loss: 11030825984.0000 - val_mse: 11030825984.0000\n",
      "Epoch 31/32\n",
      "409/409 [==============================] - 2s 4ms/step - loss: 10770782480.2341 - mse: 10770782480.2341 - val_loss: 10944728064.0000 - val_mse: 10944728064.0000\n",
      "Epoch 32/32\n",
      "409/409 [==============================] - 2s 4ms/step - loss: 10431663973.1512 - mse: 10431663973.1512 - val_loss: 10895324160.0000 - val_mse: 10895324160.0000\n"
     ]
    }
   ],
   "source": [
    "# Create model\n",
    "# `tf.keras.layers.DenseFeatures()` is a layer that produces a dense Tensor based on given feature_columns\n",
    "feature_layer = tf.keras.layers.DenseFeatures(feature_columns,\n",
    "                                              dtype=\"float64\")\n",
    "\n",
    "# `tf.keras.Sequential()` groups a linear stack of layers into a tf.keras.Model\n",
    "model = tf.keras.Sequential([\n",
    "    feature_layer,\n",
    "    layers.Dense(12, input_dim=8, activation=\"relu\"),\n",
    "    layers.Dense(8, activation=\"relu\"),\n",
    "    layers.Dense(1, activation=\"linear\", name=\"median_house_value\")\n",
    "])\n",
    "\n",
    "# Compile model\n",
    "model.compile(optimizer=\"adam\",\n",
    "              loss=\"mse\",\n",
    "              metrics=[\"mse\"])\n",
    "\n",
    "# Fit model\n",
    "history = model.fit(train_ds,\n",
    "                    validation_data = val_ds,\n",
    "                    epochs=32)"
   ]
  },
  {
   "cell_type": "code",
   "execution_count": 54,
   "id": "bored-trace",
   "metadata": {},
   "outputs": [
    {
     "name": "stdout",
     "output_type": "stream",
     "text": [
      "409/409 [==============================] - 1s 2ms/step - loss: 10585739264.0000 - mse: 10585739264.0000\n",
      "Mean Squared Error 10585739264.0\n"
     ]
    }
   ],
   "source": [
    "loss, mse = model.evaluate(train_ds)\n",
    "print(\"Mean Squared Error\", mse)"
   ]
  },
  {
   "cell_type": "code",
   "execution_count": 55,
   "id": "sought-oliver",
   "metadata": {},
   "outputs": [
    {
     "data": {
      "image/png": "[encoded data removed]",
      "text/plain": [
       "<Figure size 720x360 with 2 Axes>"
      ]
     },
     "metadata": {
      "needs_background": "light"
     },
     "output_type": "display_data"
    }
   ],
   "source": [
    "plot_curves(history, [\"loss\", \"mse\"])"
   ]
  },
  {
   "cell_type": "markdown",
   "id": "otherwise-orbit",
   "metadata": {},
   "source": [
    "Next we create a predition model."
   ]
  },
  {
   "cell_type": "code",
   "execution_count": 56,
   "id": "apart-thunder",
   "metadata": {},
   "outputs": [
    {
     "name": "stdout",
     "output_type": "stream",
     "text": [
      "WARNING:tensorflow:Layers in a Sequential model should only have a single input tensor, but we receive a <class 'dict'> input: {'longitude': <tf.Tensor 'ExpandDims_3:0' shape=(None, 1) dtype=float32>, 'latitude': <tf.Tensor 'ExpandDims_2:0' shape=(None, 1) dtype=float32>, 'housing_median_age': <tf.Tensor 'ExpandDims_1:0' shape=(None, 1) dtype=float32>, 'total_rooms': <tf.Tensor 'ExpandDims_8:0' shape=(None, 1) dtype=float32>, 'total_bedrooms': <tf.Tensor 'ExpandDims_7:0' shape=(None, 1) dtype=float32>, 'population': <tf.Tensor 'ExpandDims_6:0' shape=(None, 1) dtype=float32>, 'households': <tf.Tensor 'ExpandDims:0' shape=(None, 1) dtype=float32>, 'median_income': <tf.Tensor 'ExpandDims_4:0' shape=(None, 1) dtype=float32>, 'ocean_proximity': <tf.Tensor 'ExpandDims_5:0' shape=(None, 1) dtype=string>}\n",
      "Consider rewriting this model with the Functional API.\n"
     ]
    },
    {
     "data": {
      "text/plain": [
       "array([[232037.58]], dtype=float32)"
      ]
     },
     "execution_count": 56,
     "metadata": {},
     "output_type": "execute_result"
    }
   ],
   "source": [
    "model.predict({\n",
    "    \"longitude\": tf.convert_to_tensor([-122.43]),\n",
    "    \"latitude\": tf.convert_to_tensor([37.63]),\n",
    "    \"housing_median_age\": tf.convert_to_tensor([34.0]),\n",
    "    \"total_rooms\": tf.convert_to_tensor([4135.0]),\n",
    "    \"total_bedrooms\": tf.convert_to_tensor([687.0]),\n",
    "    \"population\": tf.convert_to_tensor([2154.0]),\n",
    "    \"households\": tf.convert_to_tensor([742.0]),\n",
    "    \"median_income\": tf.convert_to_tensor([4.9732]),\n",
    "    \"ocean_proximity\": tf.convert_to_tensor([\"NEAR OCEAN\"])\n",
    "})"
   ]
  },
  {
   "cell_type": "markdown",
   "id": "female-cambodia",
   "metadata": {},
   "source": [
    "### **Analysis**"
   ]
  },
  {
   "cell_type": "markdown",
   "id": "therapeutic-party",
   "metadata": {},
   "source": [
    "The model returns a predicted value. Compare this value to the test set you ran earlier. Predicted value may be a bit better."
   ]
  }
 ],
 "metadata": {
  "kernelspec": {
   "display_name": "Python 3",
   "language": "python",
   "name": "python3"
  },
  "language_info": {
   "codemirror_mode": {
    "name": "ipython",
    "version": 3
   },
   "file_extension": ".py",
   "mimetype": "text/x-python",
   "name": "python",
   "nbconvert_exporter": "python",
   "pygments_lexer": "ipython3",
   "version": "3.8.5"
  }
 },
 "nbformat": 4,
 "nbformat_minor": 5
}
