{
 "cells": [
  {
   "cell_type": "markdown",
   "id": "progressive-palmer",
   "metadata": {},
   "source": [
    "# **Advanced Feature Engineering in Keras**"
   ]
  },
  {
   "cell_type": "markdown",
   "id": "dress-panel",
   "metadata": {},
   "source": [
    "**Learning Objectives**"
   ]
  },
  {
   "cell_type": "markdown",
   "id": "everyday-hamburg",
   "metadata": {},
   "source": [
    "1. Process temporal feature columns in Keras\n",
    "2. Use Lambda layers to perform feature engineering on geolocation features\n",
    "3. Create bucketised and crossed feature columns"
   ]
  },
  {
   "cell_type": "markdown",
   "id": "beginning-resistance",
   "metadata": {},
   "source": [
    "## **Introduction**"
   ]
  },
  {
   "cell_type": "markdown",
   "id": "dirty-crowd",
   "metadata": {},
   "source": [
    "In this notebook, we use Keras to build a taxifare price predition model and utilise feature engineering to improve the fare amount prediction for NYC taxi cab rides."
   ]
  },
  {
   "cell_type": "markdown",
   "id": "indie-consistency",
   "metadata": {},
   "source": [
    "## **Load necessary libraries**"
   ]
  },
  {
   "cell_type": "code",
   "execution_count": 1,
   "id": "documentary-doubt",
   "metadata": {},
   "outputs": [
    {
     "name": "stdout",
     "output_type": "stream",
     "text": [
      "TensorFlow version: 2.4.1\n"
     ]
    }
   ],
   "source": [
    "import datetime\n",
    "import logging\n",
    "import os\n",
    "\n",
    "import matplotlib.pyplot as plt\n",
    "import numpy as np\n",
    "import tensorflow as tf\n",
    "\n",
    "logging.getLogger(\"tensorflow\").setLevel(logging.ERROR)\n",
    "\n",
    "print(\"TensorFlow version:\", tf.__version__)"
   ]
  },
  {
   "cell_type": "markdown",
   "id": "linear-female",
   "metadata": {},
   "source": [
    "## **Load Taxi Fare data set**"
   ]
  },
  {
   "cell_type": "markdown",
   "id": "danish-vertical",
   "metadata": {},
   "source": [
    "The Taxi Fare data set for this lab is 106,545 rows and has been pre-processed and split for use in this lab. The `fare_amount` is the target, the continuous value we'll train a model to predict."
   ]
  },
  {
   "cell_type": "markdown",
   "id": "generous-devices",
   "metadata": {},
   "source": [
    "First, let's observe the `.csv` data by copying the data from a Cloud Storage bucket."
   ]
  },
  {
   "cell_type": "code",
   "execution_count": 2,
   "id": "american-function",
   "metadata": {},
   "outputs": [
    {
     "name": "stdout",
     "output_type": "stream",
     "text": [
      "-rw-r--r-- 1 antounes antounes 122483 mars  29 09:18 data/taxi-test.csv\r\n",
      "-rw-r--r-- 1 antounes antounes 573503 mars  29 09:19 data/taxi-train.csv\r\n",
      "-rw-rw-r-- 1 antounes antounes 121999 mars  29 09:19 data/taxi-valid.csv\r\n"
     ]
    }
   ],
   "source": [
    "!ls -l data/taxi*.csv"
   ]
  },
  {
   "cell_type": "code",
   "execution_count": 3,
   "id": "brazilian-mailing",
   "metadata": {},
   "outputs": [
    {
     "name": "stdout",
     "output_type": "stream",
     "text": [
      "==> data/taxi-test.csv <==\r\n",
      "fare_amount,pickup_datetime,pickup_longitude,pickup_latitude,dropoff_longitude,dropoff_latitude,passenger_count,key\r\n",
      "6,2013-03-27 03:35:00 UTC,-73.977672,40.784052,-73.965332,40.801025,2,0\r\n",
      "19.3,2012-05-10 18:43:16 UTC,-73.954366,40.778924,-74.004094,40.723104,1,1\r\n",
      "7.5,2014-05-20 23:09:00 UTC,-73.999165,40.738377,-74.003473,40.723862,2,2\r\n",
      "12.5,2015-02-23 19:51:31 UTC,-73.9652099609375,40.7694816589356,-73.9894943237305,40.7397422790527,1,3\r\n",
      "10.9,2011-03-19 03:32:00 UTC,-73.99259,40.742957,-73.989908,40.711053,1,4\r\n",
      "7,2012-09-18 12:51:11 UTC,-73.971195,40.751566,-73.975922,40.756361,1,5\r\n",
      "19,2014-05-20 23:09:00 UTC,-73.998392,40.74517,-73.939845,40.74908,1,6\r\n",
      "8.9,2012-07-18 08:46:08 UTC,-73.997638,40.756541,-73.973303,40.762019,1,7\r\n",
      "4.5,2010-07-11 20:39:08 UTC,-73.976738,40.751321,-73.986671,40.74883,1,8\r\n",
      "\r\n",
      "==> data/taxi-train.csv <==\r\n",
      "fare_amount,pickup_datetime,pickup_longitude,pickup_latitude,dropoff_longitude,dropoff_latitude,passenger_count,key\r\n",
      "11.3,2011-01-28 20:42:59 UTC,-73.999022,40.739146,-73.990369,40.717866,1,0\r\n",
      "7.7,2011-06-27 04:28:06 UTC,-73.987443,40.729221,-73.979013,40.758641,1,1\r\n",
      "10.5,2011-04-03 00:54:53 UTC,-73.982539,40.735725,-73.954797,40.778388,1,2\r\n",
      "16.2,2009-04-10 04:11:56 UTC,-74.001945,40.740505,-73.91385,40.758559,1,3\r\n",
      "33.5,2014-02-24 18:22:00 UTC,-73.993372,40.753382,-73.8609,40.732897,2,4\r\n",
      "6.9,2011-12-10 00:25:23 UTC,-73.996237,40.721848,-73.989416,40.718052,1,5\r\n",
      "6.1,2012-09-01 14:30:19 UTC,-73.977048,40.758461,-73.984899,40.744693,2,6\r\n",
      "9.5,2012-11-08 13:28:07 UTC,-73.969402,40.757545,-73.950049,40.776079,1,7\r\n",
      "9,2014-07-15 11:37:25 UTC,-73.979318,40.760949,-73.95767,40.773724,1,8\r\n",
      "\r\n",
      "==> data/taxi-valid.csv <==\r\n",
      "fare_amount,pickup_datetime,pickup_longitude,pickup_latitude,dropoff_longitude,dropoff_latitude,passenger_count,key\r\n",
      "5.3,2012-01-03 19:21:35 UTC,-73.962627,40.763214,-73.973485,40.753353,1,0\r\n",
      "25.3,2010-09-27 07:30:15 UTC,-73.965799,40.794243,-73.927134,40.852261,3,1\r\n",
      "27.5,2015-05-19 00:40:02 UTC,-73.8634414672852,40.7689971923828,-73.9605865478516,40.7612991333008,1,2\r\n",
      "5.7,2010-04-29 12:28:00 UTC,-73.989255,40.738912,-73.97558,40.749172,1,3\r\n",
      "11.5,2013-06-23 06:08:09 UTC,-73.99731,40.763735,-73.955657,40.768141,1,4\r\n",
      "18,2014-10-14 18:52:03 UTC,-73.997995,40.761638,-74.008985,40.712442,1,5\r\n",
      "4.9,2010-04-29 12:28:00 UTC,-73.977315,40.766182,-73.970845,40.761462,5,6\r\n",
      "32.33,2014-02-24 18:22:00 UTC,-73.985358,40.761352,-73.92427,40.699145,1,7\r\n",
      "17,2015-03-26 02:48:58 UTC,-73.939811706543,40.8464736938477,-73.9736175537109,40.7869834899902,1,8\r\n"
     ]
    }
   ],
   "source": [
    "!head data/taxi*.csv"
   ]
  },
  {
   "cell_type": "markdown",
   "id": "demonstrated-canon",
   "metadata": {},
   "source": [
    "## **Create an input pipeline**"
   ]
  },
  {
   "cell_type": "markdown",
   "id": "angry-syndicate",
   "metadata": {},
   "source": [
    "Typically, you will use a 2-step process to build the pipeline.\n",
    "- Step one is to define the columns of data; i.e., which column we're predicting for, and the default values.\n",
    "- Step two is to define two functions $-$ a function to define the features and label you want to use, and a function to load the training data.\n",
    "Also, note that `pickup_datetime` is a string and we will need to handle this in our feature engineered model."
   ]
  },
  {
   "cell_type": "code",
   "execution_count": 4,
   "id": "catholic-vaccine",
   "metadata": {},
   "outputs": [],
   "source": [
    "CSV_COLUMNS = [\n",
    "    \"fare_amount\",\n",
    "    \"pickup_datetime\",\n",
    "    \"pickup_longitude\",\n",
    "    \"pickup_latitude\",\n",
    "    \"dropoff_longitude\",\n",
    "    \"dropoff_latitude\",\n",
    "    \"passenger_count\",\n",
    "    \"key\"\n",
    "]\n",
    "LABEL_COLUMN = \"fare_amount\"\n",
    "STRING_COLS = [\"pickup_datetime\"]\n",
    "NUMERIC_COLS = [\"pickup_longitude\", \"pickup_latitude\", \"dropoff_longitude\", \"dropoff_latitude\", \"passenger_count\"]\n",
    "DEFAULTS = [[0.0], [\"na\"], [0.0], [0.0], [0.0], [0.0], [0.0], [\"na\"]]\n",
    "DAYS = [\"Sun\", \"Mon\", \"Tue\", \"Wed\", \"Thu\", \"Fri\", \"Sat\"]"
   ]
  },
  {
   "cell_type": "code",
   "execution_count": 5,
   "id": "available-sucking",
   "metadata": {},
   "outputs": [],
   "source": [
    "# A function to define features and labels\n",
    "def features_and_labels(row_data):\n",
    "    for unwanted_col in [\"key\"]:\n",
    "        row_data.pop(unwanted_col)\n",
    "    label = row_data.pop(LABEL_COLUMN)\n",
    "    return row_data, label\n",
    "\n",
    "# A utility method to create a tf.data data set from a Pandas DataFrame\n",
    "def load_dataset(pattern, batch_size=1, mode=\"eval\"):\n",
    "    dataset = tf.data.experimental.make_csv_dataset(pattern,\n",
    "                                                    batch_size,\n",
    "                                                    CSV_COLUMNS,\n",
    "                                                    DEFAULTS)\n",
    "    dataset = dataset.map(features_and_labels) # features, label\n",
    "    if mode == \"train\":\n",
    "        dataset = dataset.shuffle(1000).repeat()\n",
    "        # take advantage of multi-threading; 1 = AUTOTUNE\n",
    "        dataset = dataset.prefetch(1)\n",
    "    return dataset"
   ]
  },
  {
   "cell_type": "markdown",
   "id": "unavailable-xerox",
   "metadata": {},
   "source": [
    "## **Baseline DNN Model in Keras**"
   ]
  },
  {
   "cell_type": "markdown",
   "id": "accomplished-recorder",
   "metadata": {},
   "source": [
    "### **Create the model**"
   ]
  },
  {
   "cell_type": "markdown",
   "id": "attractive-reporter",
   "metadata": {},
   "source": [
    "Now let's build the Deep Neural Network (DNN) model in Keras using the functional API. Unlike the sequential API, we will need to specify the input and hidden layers. Note that we are creating a linear regression baseline model with no feature engineering. Recall that a baseline model is a solution to a problem without applying any ML techniques."
   ]
  },
  {
   "cell_type": "code",
   "execution_count": 6,
   "id": "focused-continuity",
   "metadata": {},
   "outputs": [],
   "source": [
    "# Build a simple Keras DNN using its Functional API\n",
    "def rmse(y_true, y_pred):\n",
    "    # Root mean squared error\n",
    "    return tf.sqrt(tf.reduce_mean(tf.square(y_pred - y_true)))\n",
    "\n",
    "def build_dnn_model():\n",
    "    # Input layer\n",
    "    inputs = {\n",
    "        colname: tf.keras.layers.Input(name=colname, shape=(), dtype=\"float32\")\n",
    "        for colname in NUMERIC_COLS\n",
    "    }\n",
    "    \n",
    "    # Feature columns\n",
    "    feature_columns = {\n",
    "        colname: tf.feature_column.numeric_column(colname)\n",
    "        for colname in NUMERIC_COLS\n",
    "    }\n",
    "    \n",
    "    # Constructor for DenseFeatures takes a list of numeric columns\n",
    "    dnn_inputs = tf.keras.layers.DenseFeatures(feature_columns.values())(inputs)\n",
    "    \n",
    "    # Two hidden layers of [32, 8]\n",
    "    h1 = tf.keras.layers.Dense(32, activation=\"relu\", name=\"h1\")(dnn_inputs)\n",
    "    h2 = tf.keras.layers.Dense(8, activation=\"relu\", name=\"h2\")(h1)\n",
    "    \n",
    "    # Final output is a linear activation beacause this is regression\n",
    "    output = tf.keras.layers.Dense(1, activation=\"linear\", name=\"fare\")(h2)\n",
    "    model = tf.keras.models.Model(inputs, output)\n",
    "    \n",
    "    # Compile model\n",
    "    model.compile(optimizer=\"adam\", loss=\"mse\", metrics=[rmse, \"mse\"])\n",
    "    \n",
    "    return model"
   ]
  },
  {
   "cell_type": "markdown",
   "id": "given-rebound",
   "metadata": {},
   "source": [
    "We'll build our DNN model and inspect the model architecture."
   ]
  },
  {
   "cell_type": "code",
   "execution_count": 7,
   "id": "alternative-calcium",
   "metadata": {},
   "outputs": [
    {
     "data": {
      "image/png": "[encoded data removed]",
      "text/plain": [
       "<IPython.core.display.Image object>"
      ]
     },
     "execution_count": 7,
     "metadata": {},
     "output_type": "execute_result"
    }
   ],
   "source": [
    "model = build_dnn_model()\n",
    "\n",
    "# We can visualise the DNN using the Keras `plot_model` utility\n",
    "tf.keras.utils.plot_model(model, \"models/dnn_model.png\", show_shapes=False, rankdir=\"LR\")"
   ]
  },
  {
   "cell_type": "markdown",
   "id": "completed-clarity",
   "metadata": {},
   "source": [
    "### **Train the model**"
   ]
  },
  {
   "cell_type": "markdown",
   "id": "bottom-award",
   "metadata": {},
   "source": [
    "To train the model, simply call [`model.fit()`](https://keras.io/models/model/#fit). Note that we should really use many more `NUM_TRAIN_EXAMPLES` (i.e. a larger data set). We shouldn't make assumptions about the quality of the model based on training/evaluating it on a small sample of the full data."
   ]
  },
  {
   "cell_type": "markdown",
   "id": "acting-degree",
   "metadata": {},
   "source": [
    "We start by setting up the environment variables for training, creating the input pipeline data sets, and then train our baseline DNN model."
   ]
  },
  {
   "cell_type": "code",
   "execution_count": 8,
   "id": "biological-lucas",
   "metadata": {},
   "outputs": [],
   "source": [
    "TRAIN_BATCH_SIZE = 32\n",
    "NUM_TRAIN_EXAMPLES = 59621 * 5\n",
    "NUM_EVALS = 5\n",
    "NUM_EVAL_EXAMPLES = 14906"
   ]
  },
  {
   "cell_type": "code",
   "execution_count": 9,
   "id": "difficult-acting",
   "metadata": {},
   "outputs": [
    {
     "name": "stdout",
     "output_type": "stream",
     "text": [
      "Epoch 1/5\n"
     ]
    },
    {
     "name": "stderr",
     "output_type": "stream",
     "text": [
      "/home/antounes/.local/lib/python3.8/site-packages/tensorflow/python/keras/engine/functional.py:592: UserWarning: Input dict contained keys ['pickup_datetime'] which did not match any model input. They will be ignored by the model.\n",
      "  warnings.warn(\n"
     ]
    },
    {
     "name": "stdout",
     "output_type": "stream",
     "text": [
      "1863/1863 [==============================] - 5s 2ms/step - loss: 97.3840 - rmse: 9.2389 - mse: 97.3840 - val_loss: 111.2905 - val_rmse: 10.5208 - val_mse: 111.2905\n",
      "Epoch 2/5\n",
      "1863/1863 [==============================] - 6s 3ms/step - loss: 98.6006 - rmse: 9.2824 - mse: 98.6006 - val_loss: 110.3700 - val_rmse: 10.5015 - val_mse: 110.3700\n",
      "Epoch 3/5\n",
      "1863/1863 [==============================] - 4s 2ms/step - loss: 98.9853 - rmse: 9.2892 - mse: 98.9853 - val_loss: 112.7715 - val_rmse: 10.6082 - val_mse: 112.7715\n",
      "Epoch 4/5\n",
      "1863/1863 [==============================] - 5s 2ms/step - loss: 97.1048 - rmse: 9.2169 - mse: 97.1048 - val_loss: 109.5731 - val_rmse: 10.4607 - val_mse: 109.5731\n",
      "Epoch 5/5\n",
      "1863/1863 [==============================] - 5s 3ms/step - loss: 93.5110 - rmse: 9.0896 - mse: 93.5110 - val_loss: 110.6320 - val_rmse: 10.4940 - val_mse: 110.6320\n"
     ]
    }
   ],
   "source": [
    "# `load_dataset()` method is used to load the data set\n",
    "trainds = load_dataset(\"data/taxi-train*\", \n",
    "                       TRAIN_BATCH_SIZE, \n",
    "                       \"train\")\n",
    "evalds = load_dataset(\"data/taxi-valid*\", \n",
    "                      1000, \n",
    "                      \"eval\").take(NUM_EVAL_EXAMPLES//1000)\n",
    "steps_per_epoch = NUM_TRAIN_EXAMPLES // (TRAIN_BATCH_SIZE * NUM_EVALS)\n",
    "\n",
    "# `.fit()` trains the model for a fixed number of epochs\n",
    "history = model.fit(trainds,\n",
    "                    validation_data=evalds,\n",
    "                    epochs=NUM_EVALS,\n",
    "                    steps_per_epoch=steps_per_epoch)"
   ]
  },
  {
   "cell_type": "markdown",
   "id": "cleared-springer",
   "metadata": {},
   "source": [
    "### **Visualise the model loss curve**"
   ]
  },
  {
   "cell_type": "markdown",
   "id": "blessed-beverage",
   "metadata": {},
   "source": [
    "Next, we will use matplotlib to draw the model's loss curves for training and validation. A line plot is also created showing the mean squared error loss over the training epochs for both the train (blue) and validation (orange) sets."
   ]
  },
  {
   "cell_type": "code",
   "execution_count": 10,
   "id": "electronic-detroit",
   "metadata": {},
   "outputs": [],
   "source": [
    "# A function to define `plot_curves`\n",
    "def plot_curves(history, metrics):\n",
    "    nrows = 1\n",
    "    ncols = 2\n",
    "    fig = plt.figure(figsize=(10, 5))\n",
    "    \n",
    "    for idx, key in enumerate(metrics):\n",
    "        ax = fig.add_subplot(nrows, ncols, idx+1)\n",
    "        plt.plot(history.history[key])\n",
    "        plt.plot(history.history[\"val_{}\".format(key)])\n",
    "        plt.title(\"model {}\".format(key))\n",
    "        plt.ylabel(key)\n",
    "        plt.xlabel(\"epoch\")\n",
    "        plt.legend([\"train\", \"validation\"], loc=\"upper left\");"
   ]
  },
  {
   "cell_type": "code",
   "execution_count": 11,
   "id": "fluid-macedonia",
   "metadata": {},
   "outputs": [
    {
     "data": {
      "image/png": "[encoded data removed]",
      "text/plain": [
       "<Figure size 720x360 with 2 Axes>"
      ]
     },
     "metadata": {
      "needs_background": "light"
     },
     "output_type": "display_data"
    }
   ],
   "source": [
    "plot_curves(history, [\"loss\", \"mse\"])"
   ]
  },
  {
   "cell_type": "markdown",
   "id": "committed-blake",
   "metadata": {},
   "source": [
    "### **Predict with the model locally**"
   ]
  },
  {
   "cell_type": "markdown",
   "id": "textile-florida",
   "metadata": {},
   "source": [
    "To predict with Keras, you simply call [`model.predict()`](https://keras.io/models/model/#predict) and pass in the cab ride you want to predict the fare amount for. Next we note the fare price at this geolocation and `pickup_datetime`."
   ]
  },
  {
   "cell_type": "code",
   "execution_count": 12,
   "id": "criminal-seafood",
   "metadata": {},
   "outputs": [
    {
     "data": {
      "text/plain": [
       "array([[11.292365]], dtype=float32)"
      ]
     },
     "execution_count": 12,
     "metadata": {},
     "output_type": "execute_result"
    }
   ],
   "source": [
    "# Use the model to do prediction with `model.predict()`\n",
    "model.predict({\n",
    "    \"pickup_longitude\": tf.convert_to_tensor([-73.982683]),\n",
    "    \"pickup_latitude\": tf.convert_to_tensor([40.742104]),\n",
    "    \"dropoff_longitude\": tf.convert_to_tensor([-73.983766]),\n",
    "    \"dropoff_latitude\": tf.convert_to_tensor([40.755174]),\n",
    "    \"passenger_count\": tf.convert_to_tensor([3.0]),\n",
    "    \"pickup_datetime\": tf.convert_to_tensor([\"2010-02-08 09:17:00 UTC\"], dtype=tf.string),\n",
    "}, steps=1)"
   ]
  },
  {
   "cell_type": "markdown",
   "id": "spread-diving",
   "metadata": {},
   "source": [
    "## **Improve Model Performance Using Feature Engineering**"
   ]
  },
  {
   "cell_type": "markdown",
   "id": "occupied-cedar",
   "metadata": {},
   "source": [
    "We now improve our model's performance by creating the following feature engineering types: Temporal, Categorical, and Geolocation."
   ]
  },
  {
   "cell_type": "markdown",
   "id": "difficult-norfolk",
   "metadata": {},
   "source": [
    "### **Temporal Feature Columns**"
   ]
  },
  {
   "cell_type": "markdown",
   "id": "exclusive-congo",
   "metadata": {},
   "source": [
    "We incorporate the temporal feature `pickup_datetime`. As noted earlier, `pickup_datetime` is a `str` and we will need to handle this within the model. First, you will include the `pickup_datetime` as a feature and then you will need to modify the model to handle our string feature."
   ]
  },
  {
   "cell_type": "code",
   "execution_count": 13,
   "id": "overall-gasoline",
   "metadata": {},
   "outputs": [],
   "source": [
    "def parse_datetime(s):\n",
    "    if type(s) is not str:\n",
    "        s = s.numpy().decode(\"utf-8\")\n",
    "    return datetime.datetime.strptime(s, \"%Y-%m-%d %H:%M:%S %Z\")\n",
    "\n",
    "def get_dayofweek(s):\n",
    "    ts = parse_datetime(s)\n",
    "    return DAYS[ts.weekday()]\n",
    "\n",
    "@tf.function\n",
    "def dayofweeks(ts_in):\n",
    "    return tf.map_fn(\n",
    "        lambda s: tf.py_function(get_dayofweek, inp=[s], Tout=tf.string),\n",
    "        ts_in)"
   ]
  },
  {
   "cell_type": "markdown",
   "id": "incident-addition",
   "metadata": {},
   "source": [
    "### **Geolocation/Coordinate Feature Columns**"
   ]
  },
  {
   "cell_type": "markdown",
   "id": "characteristic-receptor",
   "metadata": {},
   "source": [
    "The pick-up/drop-off longitude and latitude data are crucial to predicting the fare amount as fare amounts in NYC taxis are largely determined by the distance traveled. As such, we need to teach the model the Euclidean distance between the pick-up and drop-off points."
   ]
  },
  {
   "cell_type": "markdown",
   "id": "immediate-adjustment",
   "metadata": {},
   "source": [
    "Recall that latitude and longitude allows us to specify any location on Earth using a set of coordinates. In our training data set, we restricted our data points to only pickups and drop offs within NYC. New York City has an approximate longitude range of `-74.05` to `-73.75` and a latitude range of `40.63` to `40.85`."
   ]
  },
  {
   "cell_type": "markdown",
   "id": "residential-kingston",
   "metadata": {},
   "source": [
    "#### **Computing Euclidean distance**"
   ]
  },
  {
   "cell_type": "markdown",
   "id": "adolescent-nepal",
   "metadata": {},
   "source": [
    "The data set contains information regarding the pick up and drop off coordinates. However, there is no information regarding the distance beteween the pick up and drop off points. Therefore, we create a new feature that calculates the distance between each pair of pick up and drop off points. We can do this using the Euclidean distance, which is the straight-line distance between any two coordinate points."
   ]
  },
  {
   "cell_type": "code",
   "execution_count": 14,
   "id": "according-freeware",
   "metadata": {},
   "outputs": [],
   "source": [
    "def euclidean(params):\n",
    "    lon1, lat1, lon2, lat2 = params\n",
    "    londiff = lon2 - lon1\n",
    "    latdiff = lat2 - lat1\n",
    "    return tf.sqrt(londiff**2 + latdiff**2)"
   ]
  },
  {
   "cell_type": "markdown",
   "id": "amazing-workshop",
   "metadata": {},
   "source": [
    "#### **Scaling latitude and longitude**"
   ]
  },
  {
   "cell_type": "markdown",
   "id": "running-category",
   "metadata": {},
   "source": [
    "It is very important for numerical variables to get scaled before they are *fed* into the neural network. Here we use *min-max scaling* (also called *normalisation*) on the geolocation features. Later in our model, you will see that these values are shifted and rescaled so that they end up ranging from `0` to `1`."
   ]
  },
  {
   "cell_type": "markdown",
   "id": "possible-somerset",
   "metadata": {},
   "source": [
    "First, we create a function named `scale_longitude`, where we pass in all the longitudinal values and add `78` to each value. Note that our scaling longitude ranges from `-70` to `-78`, thus, the value `78` is the maximum longitudinal value. The delta between `-70` and `-78` is `8`. We add `78` to each longitudinal value and then divide by `8` to return a scaled value."
   ]
  },
  {
   "cell_type": "code",
   "execution_count": 15,
   "id": "affecting-headquarters",
   "metadata": {},
   "outputs": [],
   "source": [
    "def scale_longitude(lon_column):\n",
    "    return (lon_column + 78)/8"
   ]
  },
  {
   "cell_type": "markdown",
   "id": "processed-individual",
   "metadata": {},
   "source": [
    "Next, we create a function named `scale_latitude`, where we pass in all the latitudinal values and subtract `37` from each value. Note that our scaling latitude ranges from `-37` to `-45`. Thus, the value `37` is the minimal latitudinal value. The delta between `-37` and `-45` is `8`. We subtract `37` from each latitudinal value and then divide by `8` to return a scaled value."
   ]
  },
  {
   "cell_type": "code",
   "execution_count": 16,
   "id": "victorian-replication",
   "metadata": {},
   "outputs": [],
   "source": [
    "def scale_latitude(lat_column):\n",
    "    return (lat_column - 37)/8"
   ]
  },
  {
   "cell_type": "markdown",
   "id": "alert-contribution",
   "metadata": {},
   "source": [
    "### **Putting it all together**"
   ]
  },
  {
   "cell_type": "markdown",
   "id": "heard-subcommittee",
   "metadata": {},
   "source": [
    "We now create two new *geo* functions for our model. We create a function called `euclidean` to initialise our geolocation parameters. We then create a function called `transform`. The `transform` function passes our numerical and `str` column features as inputs to the model, scales geolocation features, then creates the Euclidean distance as a transformed variable with the geolocation features. Lastly, we bucketise the latitude and longitude features."
   ]
  },
  {
   "cell_type": "code",
   "execution_count": 17,
   "id": "trained-cream",
   "metadata": {},
   "outputs": [],
   "source": [
    "def transform(inputs, numeric_cols, string_cols, nbuckets):\n",
    "    print(\"Inputs before features transformation: {}\".format(inputs.keys()))\n",
    "    \n",
    "    # Pass-through columns\n",
    "    transformed = inputs.copy()\n",
    "    del transformed[\"pickup_datetime\"]\n",
    "    \n",
    "    feature_columns = {\n",
    "        colname: tf.feature_column.numeric_column(colname)\n",
    "        for colname in numeric_cols\n",
    "    }\n",
    "    \n",
    "    # Scaling longitude from range [-70, 78] to [0, 1]\n",
    "    for lon_col in [\"pickup_longitude\", \"dropoff_longitude\"]:\n",
    "        transformed[lon_col] = tf.keras.layers.Lambda(\n",
    "            scale_longitude,\n",
    "            name=\"scale_{}\".format(lon_col))(inputs[lon_col])\n",
    "    \n",
    "    # Scaling latitude from range [37, 45] to [0, 1]\n",
    "    for lat_col in [\"pickup_latitude\", \"dropoff_latitude\"]:\n",
    "        transformed[lat_col] = tf.keras.layers.Lambda(\n",
    "            scale_latitude,\n",
    "            name=\"scale_{}\".format(lat_col))(inputs[lat_col])\n",
    "        \n",
    "    # Add Euclidean distance\n",
    "    transformed[\"euclidean\"] = tf.keras.layers.Lambda(\n",
    "        euclidean,\n",
    "        name=\"euclidean\")([inputs[\"pickup_longitude\"],\n",
    "                           inputs[\"pickup_latitude\"],\n",
    "                           inputs[\"dropoff_longitude\"],\n",
    "                           inputs[\"dropoff_latitude\"]])\n",
    "    feature_columns[\"euclidean\"] = tf.feature_column.numeric_column(\"euclidean\")\n",
    "    \n",
    "    # Create bucketised features\n",
    "    latbuckets = np.linspace(0, 1, nbuckets).tolist()\n",
    "    lonbuckets = np.linspace(0, 1, nbuckets).tolist()\n",
    "    b_plat = tf.feature_column.bucketized_column(\n",
    "        feature_columns[\"pickup_latitude\"], latbuckets)\n",
    "    b_dlat = tf.feature_column.bucketized_column(\n",
    "        feature_columns[\"dropoff_latitude\"], latbuckets)\n",
    "    b_plon = tf.feature_column.bucketized_column(\n",
    "        feature_columns[\"pickup_longitude\"], lonbuckets)\n",
    "    b_dlon = tf.feature_column.bucketized_column(\n",
    "        feature_columns[\"dropoff_longitude\"], lonbuckets)\n",
    "    \n",
    "    # Create crossed columns\n",
    "    ploc = tf.feature_column.crossed_column([b_plat, b_plon], nbuckets * nbuckets)\n",
    "    dloc = tf.feature_column.crossed_column([b_dlat, b_dlon], nbuckets * nbuckets)\n",
    "    pd_pair = tf.feature_column.crossed_column([ploc, dloc], nbuckets ** 4)\n",
    "    \n",
    "    # Create embedding columns\n",
    "    feature_columns[\"pickup_and_dropoff\"] = tf.feature_column.embedding_column(pd_pair, 100)\n",
    "    \n",
    "    print(\"Transformed features: {}\".format(transformed.keys()))\n",
    "    print(\"Feature columns: {}\".format(feature_columns.keys()))\n",
    "    return transformed, feature_columns"
   ]
  },
  {
   "cell_type": "markdown",
   "id": "accepting-destruction",
   "metadata": {},
   "source": [
    "Next, we will create our DNN model now with the engineered features. We will set `NBUCKETS = 10` to specify 10 buckets when bucketising the latitude and longitude."
   ]
  },
  {
   "cell_type": "code",
   "execution_count": 18,
   "id": "patient-commons",
   "metadata": {},
   "outputs": [],
   "source": [
    "NBUCKETS = 10\n",
    "\n",
    "# DNN MODEL\n",
    "def rmse(y_true, y_pred):\n",
    "    return tf.sqrt(tf.reduce_mean(tf.square(y_true - y_pred)))\n",
    "\n",
    "def build_dnn_model():\n",
    "    # Input layer is all float except for pickup_datetime which is a string\n",
    "    inputs = {\n",
    "        colname: tf.keras.layers.Input(name=colname, shape=(), dtype=\"float32\")\n",
    "        for colname in NUMERIC_COLS\n",
    "    }\n",
    "    inputs.update({\n",
    "        colname: tf.keras.layers.Input(name=colname, shape=(), dtype=\"string\")\n",
    "        for colname in STRING_COLS\n",
    "    })\n",
    "    \n",
    "    # Transforms\n",
    "    transformed, feature_columns = transform(inputs,\n",
    "                                             numeric_cols=NUMERIC_COLS,\n",
    "                                             string_cols=STRING_COLS,\n",
    "                                             nbuckets=NBUCKETS)\n",
    "    dnn_inputs = tf.keras.layers.DenseFeatures(feature_columns.values())(transformed)\n",
    "    \n",
    "    # Two hidden layers of [32, 8]\n",
    "    h1 = tf.keras.layers.Dense(32, activation=\"relu\", name=\"h1\")(dnn_inputs)\n",
    "    h2 = tf.keras.layers.Dense(8, activation=\"relu\", name=\"h2\")(h1)\n",
    "    \n",
    "    # Final output is a linear activation because this is regression\n",
    "    output = tf.keras.layers.Dense(1, activation=\"linear\", name=\"fare\")(h2)\n",
    "    model = tf.keras.models.Model(inputs, output)\n",
    "    \n",
    "    # Compile model\n",
    "    model.compile(optimizer=\"adam\", loss=\"mse\", metrics=[rmse, \"mse\"])\n",
    "    return model"
   ]
  },
  {
   "cell_type": "code",
   "execution_count": 19,
   "id": "junior-mobile",
   "metadata": {},
   "outputs": [
    {
     "name": "stdout",
     "output_type": "stream",
     "text": [
      "Inputs before features transformation: dict_keys(['pickup_longitude', 'pickup_latitude', 'dropoff_longitude', 'dropoff_latitude', 'passenger_count', 'pickup_datetime'])\n",
      "Transformed features: dict_keys(['pickup_longitude', 'pickup_latitude', 'dropoff_longitude', 'dropoff_latitude', 'passenger_count', 'euclidean'])\n",
      "Feature columns: dict_keys(['pickup_longitude', 'pickup_latitude', 'dropoff_longitude', 'dropoff_latitude', 'passenger_count', 'euclidean', 'pickup_and_dropoff'])\n"
     ]
    }
   ],
   "source": [
    "model = build_dnn_model()"
   ]
  },
  {
   "cell_type": "markdown",
   "id": "mental-reunion",
   "metadata": {},
   "source": [
    "Let's see how our model architecture has changed now."
   ]
  },
  {
   "cell_type": "code",
   "execution_count": 20,
   "id": "civic-burlington",
   "metadata": {},
   "outputs": [
    {
     "data": {
      "image/png": "[encoded data removed]",
      "text/plain": [
       "<IPython.core.display.Image object>"
      ]
     },
     "execution_count": 20,
     "metadata": {},
     "output_type": "execute_result"
    }
   ],
   "source": [
    "# We can visualise the DNN using the Keras `plot_model` utility\n",
    "tf.keras.utils.plot_model(model, \"models/dnn_model_engineered.png\", show_shapes=False, rankdir=\"LR\")"
   ]
  },
  {
   "cell_type": "markdown",
   "id": "confused-character",
   "metadata": {},
   "source": [
    "### **Train the model**"
   ]
  },
  {
   "cell_type": "code",
   "execution_count": 21,
   "id": "varying-balance",
   "metadata": {},
   "outputs": [],
   "source": [
    "TRAIN_BATCH_SIZE = 32\n",
    "NUM_TRAIN_EXAMPLES = 59621 * 5\n",
    "NUM_EVALS = 5\n",
    "NUM_EVAL_EXAMPLES = 14906"
   ]
  },
  {
   "cell_type": "code",
   "execution_count": 22,
   "id": "native-whale",
   "metadata": {},
   "outputs": [
    {
     "name": "stdout",
     "output_type": "stream",
     "text": [
      "Epoch 1/8\n",
      "1863/1863 [==============================] - 46s 24ms/step - loss: 105.7950 - rmse: 9.5536 - mse: 105.7950 - val_loss: 68.6185 - val_rmse: 8.2581 - val_mse: 68.6185\n",
      "Epoch 2/8\n",
      "1863/1863 [==============================] - 37s 20ms/step - loss: 39.7656 - rmse: 5.6080 - mse: 39.7656 - val_loss: 26.7711 - val_rmse: 5.1447 - val_mse: 26.7711\n",
      "Epoch 3/8\n",
      "1863/1863 [==============================] - 34s 18ms/step - loss: 22.9873 - rmse: 3.9400 - mse: 22.9873 - val_loss: 26.5349 - val_rmse: 5.1311 - val_mse: 26.5349\n",
      "Epoch 4/8\n",
      "1863/1863 [==============================] - 33s 18ms/step - loss: 24.0070 - rmse: 3.9347 - mse: 24.0070 - val_loss: 26.1597 - val_rmse: 5.0528 - val_mse: 26.1597\n",
      "Epoch 5/8\n",
      "1863/1863 [==============================] - 33s 18ms/step - loss: 24.9738 - rmse: 4.0851 - mse: 24.9738 - val_loss: 27.1681 - val_rmse: 5.1737 - val_mse: 27.1681\n",
      "Epoch 6/8\n",
      "1863/1863 [==============================] - 35s 19ms/step - loss: 25.2337 - rmse: 3.9964 - mse: 25.2337 - val_loss: 26.5332 - val_rmse: 5.1054 - val_mse: 26.5332\n",
      "Epoch 7/8\n",
      "1863/1863 [==============================] - 35s 19ms/step - loss: 25.0045 - rmse: 4.0723 - mse: 25.0045 - val_loss: 26.8297 - val_rmse: 5.1556 - val_mse: 26.8297\n",
      "Epoch 8/8\n",
      "1863/1863 [==============================] - 33s 18ms/step - loss: 22.0776 - rmse: 3.9139 - mse: 22.0776 - val_loss: 26.4397 - val_rmse: 5.0916 - val_mse: 26.4397\n"
     ]
    }
   ],
   "source": [
    "# `load_dataset` method is used to load the data set\n",
    "trainds = load_dataset(\"data/taxi-train*\",\n",
    "                       TRAIN_BATCH_SIZE,\n",
    "                       \"train\")\n",
    "evalds = load_dataset(\"data/taxi-valid*\",\n",
    "                      1000,\n",
    "                      \"eval\").take(NUM_EVAL_EXAMPLES//1000)\n",
    "steps_per_epoch = NUM_TRAIN_EXAMPLES // (TRAIN_BATCH_SIZE * NUM_EVALS)\n",
    "\n",
    "# `.fit()` trains the model for a fixed number of epochs\n",
    "history = model.fit(trainds,\n",
    "                    validation_data=evalds,\n",
    "                    epochs=NUM_EVALS+3,\n",
    "                    steps_per_epoch=steps_per_epoch)"
   ]
  },
  {
   "cell_type": "markdown",
   "id": "modular-macedonia",
   "metadata": {},
   "source": [
    "### **Visualise the model loss curve**"
   ]
  },
  {
   "cell_type": "code",
   "execution_count": 23,
   "id": "suffering-analyst",
   "metadata": {},
   "outputs": [
    {
     "data": {
      "image/png": "[encoded data removed]",
      "text/plain": [
       "<Figure size 720x360 with 2 Axes>"
      ]
     },
     "metadata": {
      "needs_background": "light"
     },
     "output_type": "display_data"
    }
   ],
   "source": [
    "plot_curves(history, [\"loss\", \"mse\"])"
   ]
  },
  {
   "cell_type": "markdown",
   "id": "optimum-chemistry",
   "metadata": {},
   "source": [
    "### **Predict with the model locally**"
   ]
  },
  {
   "cell_type": "markdown",
   "id": "olympic-collector",
   "metadata": {},
   "source": [
    "Let's try a prediction with this new model with engineered features on the example we had above"
   ]
  },
  {
   "cell_type": "code",
   "execution_count": 24,
   "id": "graduate-wagner",
   "metadata": {},
   "outputs": [
    {
     "data": {
      "text/plain": [
       "array([[6.8785024]], dtype=float32)"
      ]
     },
     "execution_count": 24,
     "metadata": {},
     "output_type": "execute_result"
    }
   ],
   "source": [
    "# Use the model to do prediction with `model.predict()`\n",
    "model.predict({\n",
    "    \"pickup_longitude\": tf.convert_to_tensor([-73.982683]),\n",
    "    \"pickup_latitude\": tf.convert_to_tensor([40.742104]),\n",
    "    \"dropoff_longitude\": tf.convert_to_tensor([-73.983766]),\n",
    "    \"dropoff_latitude\": tf.convert_to_tensor([40.755174]),\n",
    "    \"passenger_count\": tf.convert_to_tensor([3.0]),\n",
    "    \"pickup_datetime\": tf.convert_to_tensor([\"2010-02-08 09:17:00 UTC\"], dtype=tf.string),\n",
    "}, steps=1)"
   ]
  },
  {
   "cell_type": "markdown",
   "id": "fiscal-montana",
   "metadata": {},
   "source": [
    "## **Summary**"
   ]
  },
  {
   "cell_type": "markdown",
   "id": "banned-aurora",
   "metadata": {},
   "source": [
    "Below we summarise our training results comparing our baseline model with our model with engineered features."
   ]
  },
  {
   "cell_type": "markdown",
   "id": "rotary-interstate",
   "metadata": {},
   "source": [
    "|**Model**|**Train RMSE**|**Valdiation RMSE**|**Description**|\n",
    "|:-:|:-:|:-:|:-:|\n",
    "|Baseline| `9.0896` | `10.4940` | Baseline model - no feature engineering|\n",
    "|Feature Engineered | `3.9139` | `5.0916` | Feature engineered model|"
   ]
  },
  {
   "cell_type": "code",
   "execution_count": null,
   "id": "cosmetic-voltage",
   "metadata": {},
   "outputs": [],
   "source": []
  }
 ],
 "metadata": {
  "kernelspec": {
   "display_name": "Python 3",
   "language": "python",
   "name": "python3"
  },
  "language_info": {
   "codemirror_mode": {
    "name": "ipython",
    "version": 3
   },
   "file_extension": ".py",
   "mimetype": "text/x-python",
   "name": "python",
   "nbconvert_exporter": "python",
   "pygments_lexer": "ipython3",
   "version": "3.8.5"
  }
 },
 "nbformat": 4,
 "nbformat_minor": 5
}
