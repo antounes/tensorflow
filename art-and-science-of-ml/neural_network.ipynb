{
 "cells": [
  {
   "cell_type": "markdown",
   "id": "right-childhood",
   "metadata": {},
   "source": [
    "# Build a DNN using the Keras Functional API"
   ]
  },
  {
   "cell_type": "markdown",
   "id": "dress-theme",
   "metadata": {},
   "source": [
    "**Learning objectives**"
   ]
  },
  {
   "cell_type": "markdown",
   "id": "environmental-arena",
   "metadata": {},
   "source": [
    "1. Review how to read in CSV files data using `tf.data`\n",
    "2. Specify input, hidden, and output layers in the DNN architecture\n",
    "3. Review and visualise the final DNN shape\n",
    "4. Train the model locally and visualise the loss curves\n",
    "5. Deploy and predict with the model using Cloud AI Platform"
   ]
  },
  {
   "cell_type": "markdown",
   "id": "responsible-coral",
   "metadata": {},
   "source": [
    "In this notebook, we will build a Keras DNN to predict the fare amount for NYC taxi cab rides."
   ]
  },
  {
   "cell_type": "code",
   "execution_count": 6,
   "id": "innovative-undergraduate",
   "metadata": {},
   "outputs": [
    {
     "name": "stdout",
     "output_type": "stream",
     "text": [
      "TensorFlow version: 2.4.1\n"
     ]
    }
   ],
   "source": [
    "import os\n",
    "import json\n",
    "import math\n",
    "\n",
    "import numpy as np\n",
    "import tensorflow as tf\n",
    "\n",
    "import shutil\n",
    "print(\"TensorFlow version:\", tf.__version__)\n",
    "\n",
    "os.environ[\"TF_CPP_MIN_LOG_LEVEL\"] = \"3\" # Set tf error log verbosity"
   ]
  },
  {
   "cell_type": "markdown",
   "id": "super-couple",
   "metadata": {},
   "source": [
    "## Locating the CSV files"
   ]
  },
  {
   "cell_type": "code",
   "execution_count": 7,
   "id": "specialized-activity",
   "metadata": {},
   "outputs": [
    {
     "name": "stdout",
     "output_type": "stream",
     "text": [
      "-rw-r--r-- 1 antounes antounes 123589 avril  9 16:20 data/taxi-test.csv\r\n",
      "-rw-r--r-- 1 antounes antounes 579054 avril  9 16:20 data/taxi-train.csv\r\n",
      "-rw-rw-r-- 1 antounes antounes 123113 avril  9 16:20 data/taxi-valid.csv\r\n"
     ]
    }
   ],
   "source": [
    "!ls -l data/taxi*"
   ]
  },
  {
   "cell_type": "markdown",
   "id": "instant-allergy",
   "metadata": {},
   "source": [
    "## Use `tf.data` to read the CSV files"
   ]
  },
  {
   "cell_type": "markdown",
   "id": "second-blanket",
   "metadata": {},
   "source": [
    "First let's define our columns of data, which column we're predicting for, and the default values."
   ]
  },
  {
   "cell_type": "code",
   "execution_count": 8,
   "id": "surprised-wrong",
   "metadata": {},
   "outputs": [],
   "source": [
    "# Define columns of data\n",
    "CSV_COLUMNS = [\"fare_amount\", \n",
    "               \"pickup_datetime\", \n",
    "               \"pickup_longitude\", \n",
    "               \"pickup_latitude\",\n",
    "               \"dropoff_longitude\", \n",
    "               \"dropoff_latitude\", \n",
    "               \"passenger_count\", \n",
    "               \"key\"]\n",
    "LABEL_COLUMN = \"fare_amount\"\n",
    "DEFAULTS = [[0.0], [\"na\"], [0.0], [0.0], [0.0], [0.0], [0.0], [\"na\"]]"
   ]
  },
  {
   "cell_type": "markdown",
   "id": "designed-gamma",
   "metadata": {},
   "source": [
    "Next, let's define the features we want to use and our label(s), then load in the data set for training."
   ]
  },
  {
   "cell_type": "code",
   "execution_count": 18,
   "id": "swiss-pattern",
   "metadata": {},
   "outputs": [],
   "source": [
    "# Define features you want to use\n",
    "def features_and_labels(row_data):\n",
    "    for unwanted_col in [\"pickup_datetime\", \"key\"]:\n",
    "        row_data.pop(unwanted_col)\n",
    "    label = row_data.pop(LABEL_COLUMN)\n",
    "    return row_data, label # Features, label\n",
    "\n",
    "# Load the training data\n",
    "def load_dataset(pattern, batch_size=1, mode=tf.estimator.ModeKeys.EVAL):\n",
    "    dataset = (tf.data.experimental.make_csv_dataset(pattern, batch_size, CSV_COLUMNS, DEFAULTS)\n",
    "               .map(features_and_labels) # Features, label\n",
    "              )\n",
    "    if mode == tf.estimator.ModeKeys.TRAIN:\n",
    "        dataset = dataset.shuffle(1000).repeat()\n",
    "    dataset = dataset.prefetch(1) # Take advantage of multi-threading; 1=AUTOTUNE\n",
    "    return dataset"
   ]
  },
  {
   "cell_type": "markdown",
   "id": "nonprofit-danger",
   "metadata": {},
   "source": [
    "## Build a DNN with Keras"
   ]
  },
  {
   "cell_type": "markdown",
   "id": "working-newcastle",
   "metadata": {},
   "source": [
    "Now let's build the Deep Neural Network (DNN) model in Keras and specify the input and hidden layers. We will print out the DNN architecture and visualise it."
   ]
  },
  {
   "cell_type": "code",
   "execution_count": 12,
   "id": "received-scottish",
   "metadata": {},
   "outputs": [
    {
     "name": "stdout",
     "output_type": "stream",
     "text": [
      "Here is our DNN architecture so far: \n",
      "\n",
      "Model: \"model_1\"\n",
      "__________________________________________________________________________________________________\n",
      "Layer (type)                    Output Shape         Param #     Connected to                     \n",
      "==================================================================================================\n",
      "dropoff_latitude (InputLayer)   [(None,)]            0                                            \n",
      "__________________________________________________________________________________________________\n",
      "dropoff_longitude (InputLayer)  [(None,)]            0                                            \n",
      "__________________________________________________________________________________________________\n",
      "passenger_count (InputLayer)    [(None,)]            0                                            \n",
      "__________________________________________________________________________________________________\n",
      "pickup_latitude (InputLayer)    [(None,)]            0                                            \n",
      "__________________________________________________________________________________________________\n",
      "pickup_longitude (InputLayer)   [(None,)]            0                                            \n",
      "__________________________________________________________________________________________________\n",
      "dense_features_1 (DenseFeatures (None, 5)            0           dropoff_latitude[0][0]           \n",
      "                                                                 dropoff_longitude[0][0]          \n",
      "                                                                 passenger_count[0][0]            \n",
      "                                                                 pickup_latitude[0][0]            \n",
      "                                                                 pickup_longitude[0][0]           \n",
      "__________________________________________________________________________________________________\n",
      "h1 (Dense)                      (None, 32)           192         dense_features_1[0][0]           \n",
      "__________________________________________________________________________________________________\n",
      "h2 (Dense)                      (None, 8)            264         h1[0][0]                         \n",
      "__________________________________________________________________________________________________\n",
      "fare (Dense)                    (None, 1)            9           h2[0][0]                         \n",
      "==================================================================================================\n",
      "Total params: 465\n",
      "Trainable params: 465\n",
      "Non-trainable params: 0\n",
      "__________________________________________________________________________________________________\n",
      "None\n"
     ]
    }
   ],
   "source": [
    "# Build a simple Keras DNN using its Functional API\n",
    "def rmse(y_true, y_pred):\n",
    "    return tf.sqrt(tf.reduce_mean(tf.square(y_pred - y_true)))\n",
    "\n",
    "def build_dnn_model():\n",
    "    INPUT_COLS = [\"pickup_longitude\", \n",
    "                  \"pickup_latitude\",\n",
    "                  \"dropoff_longitude\", \n",
    "                  \"dropoff_latitude\",\n",
    "                  \"passenger_count\"]\n",
    "    \n",
    "    # Input layer\n",
    "    inputs = {\n",
    "        colname: tf.keras.layers.Input(name=colname, shape=(), dtype=\"float32\")\n",
    "        for colname in INPUT_COLS\n",
    "    }\n",
    "    \n",
    "    # `tf.feature_column.numeric_column()` represents real valued or numerical features\n",
    "    feature_columns = {\n",
    "        colname: tf.feature_column.numeric_column(colname)\n",
    "        for colname in INPUT_COLS\n",
    "    }\n",
    "    \n",
    "    # The constructor for DenseFeatures takes a list of numeric columns\n",
    "    # The Functional API in Keras requires that you specify LayerConstructor()(inputs)\n",
    "    dnn_inputs = tf.keras.layers.DenseFeatures(feature_columns.values())(inputs)\n",
    "    \n",
    "    # Two hidden layers of [32, 8]\n",
    "    h1 = tf.keras.layers.Dense(32, activation=\"relu\", name=\"h1\")(dnn_inputs)\n",
    "    h2 = tf.keras.layers.Dense(8, activation=\"relu\", name=\"h2\")(h1)\n",
    "    \n",
    "    # Final output is a linear activation because this is regression\n",
    "    output = tf.keras.layers.Dense(1, activation=\"linear\", name=\"fare\")(h2)\n",
    "    model = tf.keras.models.Model(inputs, output)\n",
    "    model.compile(optimizer=\"adam\", loss=\"mse\", metrics=[rmse, \"mse\"])\n",
    "    return model\n",
    "\n",
    "print(\"Here is our DNN architecture so far: \\n\")\n",
    "model = build_dnn_model()\n",
    "print(model.summary())"
   ]
  },
  {
   "cell_type": "markdown",
   "id": "representative-yeast",
   "metadata": {},
   "source": [
    "## Visualise the DNN"
   ]
  },
  {
   "cell_type": "markdown",
   "id": "referenced-helmet",
   "metadata": {},
   "source": [
    "We can visualise the DNN using the Keras [plot_model](https://www.tensorflow.org/versions/r2.0/api_docs/python/tf/keras/utils/plot_model) utility."
   ]
  },
  {
   "cell_type": "code",
   "execution_count": 13,
   "id": "obvious-celtic",
   "metadata": {},
   "outputs": [
    {
     "data": {
      "image/png": "[encoded data removed]",
      "text/plain": [
       "<IPython.core.display.Image object>"
      ]
     },
     "execution_count": 13,
     "metadata": {},
     "output_type": "execute_result"
    }
   ],
   "source": [
    "# `tf.keras.utils.plot_model()` converts a Keras model to dot format and saves it to a file\n",
    "tf.keras.utils.plot_model(model, \"dnn_model.png\", show_shapes=False, rankdir=\"LR\")"
   ]
  },
  {
   "cell_type": "markdown",
   "id": "continental-fitting",
   "metadata": {},
   "source": [
    "## Train the model"
   ]
  },
  {
   "cell_type": "markdown",
   "id": "sitting-printing",
   "metadata": {},
   "source": [
    "To train the model, simply call [model.fit()](https://keras.io/models/model/#fit)"
   ]
  },
  {
   "cell_type": "markdown",
   "id": "another-burton",
   "metadata": {},
   "source": [
    "Note that we should really use many more `NUM_TRAIN_EXAMPLES` (i.e. a larger data set). We shouldn't make assumptions about the quality of the model based on training/evaluating it on a small sample of the full data."
   ]
  },
  {
   "cell_type": "code",
   "execution_count": 19,
   "id": "sufficient-meditation",
   "metadata": {
    "scrolled": true
   },
   "outputs": [
    {
     "name": "stdout",
     "output_type": "stream",
     "text": [
      "Epoch 1/32\n",
      "48/48 [==============================] - 2s 18ms/step - loss: 353.8535 - rmse: 17.4897 - mse: 353.8535 - val_loss: 111.8720 - val_rmse: 10.5550 - val_mse: 111.8720\n",
      "Epoch 2/32\n",
      "48/48 [==============================] - 1s 16ms/step - loss: 72.8846 - rmse: 8.1634 - mse: 72.8846 - val_loss: 108.9874 - val_rmse: 10.4323 - val_mse: 108.9874\n",
      "Epoch 3/32\n",
      "48/48 [==============================] - 0s 10ms/step - loss: 90.9000 - rmse: 9.1744 - mse: 90.9000 - val_loss: 110.4540 - val_rmse: 10.4972 - val_mse: 110.4540\n",
      "Epoch 4/32\n",
      "48/48 [==============================] - 0s 9ms/step - loss: 95.4280 - rmse: 9.2498 - mse: 95.4280 - val_loss: 112.3313 - val_rmse: 10.5719 - val_mse: 112.3313\n",
      "Epoch 5/32\n",
      "48/48 [==============================] - 0s 9ms/step - loss: 77.2080 - rmse: 8.4695 - mse: 77.2080 - val_loss: 109.8989 - val_rmse: 10.4774 - val_mse: 109.8989\n",
      "Epoch 6/32\n",
      "48/48 [==============================] - 0s 10ms/step - loss: 110.1569 - rmse: 9.2355 - mse: 110.1569 - val_loss: 111.5754 - val_rmse: 10.5443 - val_mse: 111.5754\n",
      "Epoch 7/32\n",
      "48/48 [==============================] - 0s 9ms/step - loss: 119.5301 - rmse: 10.1561 - mse: 119.5301 - val_loss: 110.9909 - val_rmse: 10.5175 - val_mse: 110.9909\n",
      "Epoch 8/32\n",
      "48/48 [==============================] - 0s 10ms/step - loss: 79.1098 - rmse: 8.4575 - mse: 79.1098 - val_loss: 109.0493 - val_rmse: 10.4305 - val_mse: 109.0493\n",
      "Epoch 9/32\n",
      "48/48 [==============================] - 0s 9ms/step - loss: 99.8265 - rmse: 9.5319 - mse: 99.8265 - val_loss: 110.5901 - val_rmse: 10.5056 - val_mse: 110.5901\n",
      "Epoch 10/32\n",
      "48/48 [==============================] - 0s 9ms/step - loss: 91.0102 - rmse: 8.9272 - mse: 91.0102 - val_loss: 108.7490 - val_rmse: 10.3964 - val_mse: 108.7490\n",
      "Epoch 11/32\n",
      "48/48 [==============================] - 0s 9ms/step - loss: 103.8666 - rmse: 9.2574 - mse: 103.8666 - val_loss: 110.2055 - val_rmse: 10.4927 - val_mse: 110.2055\n",
      "Epoch 12/32\n",
      "48/48 [==============================] - 0s 9ms/step - loss: 82.7734 - rmse: 8.6810 - mse: 82.7734 - val_loss: 111.0525 - val_rmse: 10.5288 - val_mse: 111.0525\n",
      "Epoch 13/32\n",
      "48/48 [==============================] - 0s 9ms/step - loss: 107.5083 - rmse: 9.5746 - mse: 107.5083 - val_loss: 110.5848 - val_rmse: 10.4976 - val_mse: 110.5848\n",
      "Epoch 14/32\n",
      "48/48 [==============================] - 0s 10ms/step - loss: 81.6583 - rmse: 8.6170 - mse: 81.6583 - val_loss: 108.5544 - val_rmse: 10.3796 - val_mse: 108.5544\n",
      "Epoch 15/32\n",
      "48/48 [==============================] - 0s 9ms/step - loss: 87.4690 - rmse: 9.0651 - mse: 87.4690 - val_loss: 110.1143 - val_rmse: 10.4825 - val_mse: 110.1143\n",
      "Epoch 16/32\n",
      "48/48 [==============================] - 0s 9ms/step - loss: 124.3899 - rmse: 10.5011 - mse: 124.3899 - val_loss: 111.0014 - val_rmse: 10.5296 - val_mse: 111.0014\n",
      "Epoch 17/32\n",
      "48/48 [==============================] - 0s 9ms/step - loss: 93.5645 - rmse: 9.1043 - mse: 93.5645 - val_loss: 111.2770 - val_rmse: 10.5326 - val_mse: 111.2770\n",
      "Epoch 18/32\n",
      "48/48 [==============================] - 0s 9ms/step - loss: 112.0327 - rmse: 10.1708 - mse: 112.0327 - val_loss: 112.4101 - val_rmse: 10.5737 - val_mse: 112.4101\n",
      "Epoch 19/32\n",
      "48/48 [==============================] - 0s 9ms/step - loss: 75.2090 - rmse: 8.2511 - mse: 75.2090 - val_loss: 109.8701 - val_rmse: 10.4772 - val_mse: 109.8701\n",
      "Epoch 20/32\n",
      "48/48 [==============================] - 0s 9ms/step - loss: 87.9086 - rmse: 8.9515 - mse: 87.9086 - val_loss: 112.1853 - val_rmse: 10.5869 - val_mse: 112.1853\n",
      "Epoch 21/32\n",
      "48/48 [==============================] - 0s 9ms/step - loss: 98.3057 - rmse: 9.4251 - mse: 98.3057 - val_loss: 111.9699 - val_rmse: 10.5327 - val_mse: 111.9699\n",
      "Epoch 22/32\n",
      "48/48 [==============================] - 0s 9ms/step - loss: 89.4026 - rmse: 8.6825 - mse: 89.4026 - val_loss: 108.8519 - val_rmse: 10.4131 - val_mse: 108.8519\n",
      "Epoch 23/32\n",
      "48/48 [==============================] - 0s 10ms/step - loss: 86.3122 - rmse: 8.8147 - mse: 86.3122 - val_loss: 111.0881 - val_rmse: 10.5273 - val_mse: 111.0881\n",
      "Epoch 24/32\n",
      "48/48 [==============================] - 0s 11ms/step - loss: 114.6755 - rmse: 10.1398 - mse: 114.6755 - val_loss: 109.7378 - val_rmse: 10.4592 - val_mse: 109.7378\n",
      "Epoch 25/32\n",
      "48/48 [==============================] - 1s 17ms/step - loss: 128.4523 - rmse: 10.5488 - mse: 128.4523 - val_loss: 109.1241 - val_rmse: 10.4360 - val_mse: 109.1241\n",
      "Epoch 26/32\n",
      "48/48 [==============================] - 0s 9ms/step - loss: 88.7494 - rmse: 8.6662 - mse: 88.7494 - val_loss: 109.4198 - val_rmse: 10.4409 - val_mse: 109.4198\n",
      "Epoch 27/32\n",
      "48/48 [==============================] - 1s 14ms/step - loss: 94.8452 - rmse: 9.3817 - mse: 94.8452 - val_loss: 109.7706 - val_rmse: 10.4597 - val_mse: 109.7706\n",
      "Epoch 28/32\n",
      "48/48 [==============================] - 0s 10ms/step - loss: 105.5786 - rmse: 9.4365 - mse: 105.5786 - val_loss: 111.2975 - val_rmse: 10.5456 - val_mse: 111.2975\n",
      "Epoch 29/32\n",
      "48/48 [==============================] - 0s 10ms/step - loss: 90.2202 - rmse: 9.0106 - mse: 90.2202 - val_loss: 111.3796 - val_rmse: 10.5385 - val_mse: 111.3796\n",
      "Epoch 30/32\n",
      "48/48 [==============================] - 0s 10ms/step - loss: 76.9864 - rmse: 8.4844 - mse: 76.9864 - val_loss: 110.7391 - val_rmse: 10.4956 - val_mse: 110.7391\n",
      "Epoch 31/32\n",
      "48/48 [==============================] - 1s 13ms/step - loss: 66.7458 - rmse: 7.7048 - mse: 66.7458 - val_loss: 112.2340 - val_rmse: 10.5615 - val_mse: 112.2340\n",
      "Epoch 32/32\n",
      "48/48 [==============================] - 1s 11ms/step - loss: 106.7163 - rmse: 9.7592 - mse: 106.7163 - val_loss: 110.0262 - val_rmse: 10.4802 - val_mse: 110.0262\n"
     ]
    }
   ],
   "source": [
    "TRAIN_BATCH_SIZE = 32\n",
    "NUM_TRAIN_EXAMPLES = 10000 * 5 # Training data set repeats, so it will wrap around\n",
    "NUM_EVALS = 32 # How many times to evaluate\n",
    "NUM_EVAL_EXAMPLES = 10000 # Enough to get a reasonable sample, but not so much that it slows down\n",
    "\n",
    "trainds = load_dataset(\"data/taxi-train*\", TRAIN_BATCH_SIZE, mode=tf.estimator.ModeKeys.TRAIN)\n",
    "evalds = load_dataset(\"data/taxi-valid*\", 1000, tf.estimator.ModeKeys.EVAL).take(NUM_EVAL_EXAMPLES//1000)\n",
    "\n",
    "steps_per_epoch = NUM_TRAIN_EXAMPLES//(TRAIN_BATCH_SIZE * NUM_EVALS)\n",
    "\n",
    "# Model fit\n",
    "history = model.fit(trainds,\n",
    "                    validation_data=evalds,\n",
    "                    epochs=NUM_EVALS,\n",
    "                    steps_per_epoch=steps_per_epoch)"
   ]
  },
  {
   "cell_type": "markdown",
   "id": "governmental-perspective",
   "metadata": {},
   "source": [
    "## Visualise the model loss curve"
   ]
  },
  {
   "cell_type": "markdown",
   "id": "unnecessary-audio",
   "metadata": {},
   "source": [
    "Next, we will use matplotlib to draw the model's loss curves for training and validation."
   ]
  },
  {
   "cell_type": "code",
   "execution_count": 20,
   "id": "fatal-ceramic",
   "metadata": {},
   "outputs": [
    {
     "data": {
      "image/png": "[encoded data removed]",
      "text/plain": [
       "<Figure size 720x360 with 2 Axes>"
      ]
     },
     "metadata": {
      "needs_background": "light"
     },
     "output_type": "display_data"
    }
   ],
   "source": [
    "# plot\n",
    "# Use matplotlib for visualising the model\n",
    "import matplotlib.pyplot as plt\n",
    "nrows = 1\n",
    "ncols = 2\n",
    "# The `.figure()` method will create a new figure, or activate an existing figure\n",
    "fig = plt.figure(figsize=(10,5))\n",
    "\n",
    "for idx, key in enumerate([\"loss\", \"rmse\"]):\n",
    "    ax = fig.add_subplot(nrows, ncols, idx+1)\n",
    "# The `.plot()` is a versatile function, and will take an arbitrary number of arguments\n",
    "    plt.plot(history.history[key])\n",
    "    plt.plot(history.history[\"val_{}\".format(key)])\n",
    "# The `.title()` method sets a title for the axes\n",
    "    plt.title(\"model {}\".format(key))\n",
    "    plt.ylabel(key)\n",
    "    plt.xlabel(\"epoch\")\n",
    "# The `.legend()` method will place a legend on the axes\n",
    "    plt.legend([\"train\", \"validation\"], loc=\"upper left\");"
   ]
  },
  {
   "cell_type": "markdown",
   "id": "recorded-motorcycle",
   "metadata": {},
   "source": [
    "## Predict with the model locally"
   ]
  },
  {
   "cell_type": "markdown",
   "id": "unlikely-destruction",
   "metadata": {},
   "source": [
    "To predict with Keras, you simply call [model.predict()](https://keras.io/models/model/#predict) and pass in the cab ride you want to predict the fare amount for."
   ]
  },
  {
   "cell_type": "code",
   "execution_count": 21,
   "id": "enabling-salad",
   "metadata": {},
   "outputs": [
    {
     "data": {
      "text/plain": [
       "array([[11.363737]], dtype=float32)"
      ]
     },
     "execution_count": 21,
     "metadata": {},
     "output_type": "execute_result"
    }
   ],
   "source": [
    "# Use the model to do prediction with `model.predict()`\n",
    "model.predict({\n",
    "    \"pickup_longitude\": tf.convert_to_tensor([-73.982683]),\n",
    "    \"pickup_latitude\": tf.convert_to_tensor([40.742104]),\n",
    "    \"dropoff_longitude\": tf.convert_to_tensor([-73.983766]),\n",
    "    \"dropoff_latitude\": tf.convert_to_tensor([40.755174]),\n",
    "    \"passenger_count\": tf.convert_to_tensor([3.0])\n",
    "}, steps=1)"
   ]
  },
  {
   "cell_type": "markdown",
   "id": "settled-revelation",
   "metadata": {},
   "source": [
    "Of course, this is not realistic, because we can't expect client code to have a model object in memory. We'll have to export our model to a file, and expect the client code to instantiate the model from that exported file."
   ]
  }
 ],
 "metadata": {
  "kernelspec": {
   "display_name": "Python 3",
   "language": "python",
   "name": "python3"
  },
  "language_info": {
   "codemirror_mode": {
    "name": "ipython",
    "version": 3
   },
   "file_extension": ".py",
   "mimetype": "text/x-python",
   "name": "python",
   "nbconvert_exporter": "python",
   "pygments_lexer": "ipython3",
   "version": "3.8.5"
  }
 },
 "nbformat": 4,
 "nbformat_minor": 5
}
