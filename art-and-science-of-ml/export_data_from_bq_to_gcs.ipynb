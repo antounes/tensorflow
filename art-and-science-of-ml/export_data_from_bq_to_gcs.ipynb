{
 "cells": [
  {
   "cell_type": "markdown",
   "id": "challenging-christopher",
   "metadata": {},
   "source": [
    "# **Exporting data from BigQuery to Google Cloud Storage**"
   ]
  },
  {
   "cell_type": "markdown",
   "id": "photographic-sucking",
   "metadata": {},
   "source": [
    "In this notebook, we export BigQuery data to GCS so that we can reuse our Keras model that was developed on CSV data."
   ]
  },
  {
   "cell_type": "code",
   "execution_count": null,
   "id": "framed-smell",
   "metadata": {},
   "outputs": [],
   "source": [
    "import os\n",
    "\n",
    "from google.cloud import bigquery"
   ]
  },
  {
   "cell_type": "code",
   "execution_count": null,
   "id": "ranging-comedy",
   "metadata": {},
   "outputs": [],
   "source": [
    "# Change with your own bucket and project below:\n",
    "BUCKET = \"<BUCKET>\"\n",
    "PROJECT = \"<PROJECT>\"\n",
    "\n",
    "OUTDIR = \"gs://{bucket}/taxifare/data\".format(bucket=BUCKET)\n",
    "\n",
    "os.environ[\"BUCKET\"] = BUCKET\n",
    "os.environ[\"OUTDIR\"] = OUTDIR\n",
    "os.environ[\"PROJECT\"] = PROJECT"
   ]
  },
  {
   "cell_type": "markdown",
   "id": "charitable-avenue",
   "metadata": {},
   "source": [
    "## **Create BigQuery tables**"
   ]
  },
  {
   "cell_type": "code",
   "execution_count": null,
   "id": "breeding-disorder",
   "metadata": {},
   "outputs": [],
   "source": [
    "# Initialise a BigQuery client\n",
    "bq = bigquery.Client(project=PROJECT)\n",
    "dataset = bigquery.Dataset(bq.dataset(\"taxifare\"))\n",
    "\n",
    "# Create a new data set with the `create_dataset()` method\n",
    "try:\n",
    "    bq.create_dataset(dataset)\n",
    "    print(\"Dataset created\")\n",
    "except:\n",
    "    print(\"Dataset already exists\")"
   ]
  },
  {
   "cell_type": "markdown",
   "id": "alpine-tooth",
   "metadata": {},
   "source": [
    "Let's create a table with 1 million examples."
   ]
  },
  {
   "cell_type": "markdown",
   "id": "legendary-clinic",
   "metadata": {},
   "source": [
    "Note that the order of columns is exactly what it was in our CSV files."
   ]
  },
  {
   "cell_type": "code",
   "execution_count": null,
   "id": "decent-thriller",
   "metadata": {},
   "outputs": [],
   "source": [
    "%%bigquery\n",
    "\n",
    "CREATE OR REPLACE TABLE taxifare.feateng_training_data AS\n",
    "\n",
    "SELECT\n",
    "    (tolls_amount + fare_amount) AS fare_amount,\n",
    "    pickup_datetime,\n",
    "    pickup_longitude AS pickuplon,\n",
    "    pickup_latitude AS pickuplat,\n",
    "    dropoff_longitude AS dropofflon,\n",
    "    dropoff_latitude AS dropofflat,\n",
    "    passenger_count*1.0 AS passengers,\n",
    "    \"unusued\" AS key\n",
    "FROM \n",
    "    `nyc-tlc.yellow.trips`\n",
    "WHERE\n",
    "    ABS(MOD(FARM_FINGERPRINT(CAST(pickup_datetime AS STRING)), 1000)) = 1\n",
    "AND\n",
    "    trip_distance > 0\n",
    "AND\n",
    "    fare_amount >= 2.5\n",
    "AND\n",
    "    pickup_longitude > -78\n",
    "AND\n",
    "    pickup_longitude < 70\n",
    "AND\n",
    "    dropoff_longitude > -78\n",
    "AND\n",
    "    dropoff_longitude < -70\n",
    "AND\n",
    "    pickup_latitude > 37\n",
    "AND\n",
    "    pickup_latitude < 45\n",
    "AND\n",
    "    dropoff_latitude > 37\n",
    "AND\n",
    "    dropoff_latitude < 45\n",
    "AND\n",
    "    passenger_count > 0"
   ]
  },
  {
   "cell_type": "code",
   "execution_count": null,
   "id": "conventional-illustration",
   "metadata": {},
   "outputs": [],
   "source": []
  },
  {
   "cell_type": "code",
   "execution_count": null,
   "id": "computational-catalog",
   "metadata": {},
   "outputs": [],
   "source": []
  },
  {
   "cell_type": "code",
   "execution_count": null,
   "id": "romantic-compensation",
   "metadata": {},
   "outputs": [],
   "source": []
  },
  {
   "cell_type": "code",
   "execution_count": null,
   "id": "reported-aerospace",
   "metadata": {},
   "outputs": [],
   "source": []
  },
  {
   "cell_type": "code",
   "execution_count": null,
   "id": "strange-brooklyn",
   "metadata": {},
   "outputs": [],
   "source": []
  },
  {
   "cell_type": "code",
   "execution_count": null,
   "id": "adult-disaster",
   "metadata": {},
   "outputs": [],
   "source": []
  },
  {
   "cell_type": "code",
   "execution_count": null,
   "id": "helpful-exhibition",
   "metadata": {},
   "outputs": [],
   "source": []
  }
 ],
 "metadata": {
  "kernelspec": {
   "display_name": "Python 3",
   "language": "python",
   "name": "python3"
  },
  "language_info": {
   "codemirror_mode": {
    "name": "ipython",
    "version": 3
   },
   "file_extension": ".py",
   "mimetype": "text/x-python",
   "name": "python",
   "nbconvert_exporter": "python",
   "pygments_lexer": "ipython3",
   "version": "3.8.5"
  }
 },
 "nbformat": 4,
 "nbformat_minor": 5
}
