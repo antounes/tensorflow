{
 "cells": [
  {
   "cell_type": "markdown",
   "id": "supreme-somewhere",
   "metadata": {},
   "source": [
    "# **Reviewing Learning Curves**"
   ]
  },
  {
   "cell_type": "markdown",
   "id": "valued-promotion",
   "metadata": {},
   "source": [
    "**Learning objectives**"
   ]
  },
  {
   "cell_type": "markdown",
   "id": "finnish-touch",
   "metadata": {},
   "source": [
    "1. Build and train a Keras Sequential model\n",
    "2. Specify various learning rates to a model\n",
    "3. Visualise the loss curves"
   ]
  },
  {
   "cell_type": "markdown",
   "id": "eligible-clinton",
   "metadata": {},
   "source": [
    "## **Introduction**"
   ]
  },
  {
   "cell_type": "markdown",
   "id": "palestinian-productivity",
   "metadata": {},
   "source": [
    "In this notebook, you will observe learning curves changes. You will use the Keras Sequential model to build an ML model to predict housing prices."
   ]
  },
  {
   "cell_type": "markdown",
   "id": "behind-avenue",
   "metadata": {},
   "source": [
    "A learning curve is a plot of model learning performance over experience or time."
   ]
  },
  {
   "cell_type": "markdown",
   "id": "finnish-hometown",
   "metadata": {},
   "source": [
    "Learning curves are a widely used diagnostic tool in ML for algorithms that learn from a training data set incrementally. The model can be evaluated on the training data set and on a hold out validation data set after each update during training, and plots of the measured performance can be created to show learning curves. Reviewing learning curves of models during training can be used to diagnose problems with learning, such as an underfit or overfit model, as well as whether the training and validation data sets are suitably representative."
   ]
  },
  {
   "cell_type": "markdown",
   "id": "strong-facing",
   "metadata": {},
   "source": [
    "Adam is an optimisation algorithm that can be used instead of the classical stochastic gradient descent procedure to update network weights iteratively based on training data. cf. [How to use Learning Curves to Diagnose ML Model Performance](https://machinelearningmastery.com/learning-curves-for-diagnosing-machine-learning-model-performance/)."
   ]
  },
  {
   "cell_type": "markdown",
   "id": "gorgeous-hundred",
   "metadata": {},
   "source": [
    "Start by importing the necessary libraries for this lab."
   ]
  },
  {
   "cell_type": "code",
   "execution_count": 1,
   "id": "transparent-restaurant",
   "metadata": {},
   "outputs": [
    {
     "name": "stdout",
     "output_type": "stream",
     "text": [
      "TensorFlow version:  2.4.1\n"
     ]
    }
   ],
   "source": [
    "import os\n",
    "import tensorflow.keras\n",
    "\n",
    "import matplotlib.pyplot as plt\n",
    "import pandas as pd\n",
    "import tensorflow as tf\n",
    "\n",
    "from tensorflow import feature_column as fc\n",
    "from tensorflow.keras import layers\n",
    "from tensorflow.keras.optimizers import Adam\n",
    "\n",
    "from sklearn.model_selection import train_test_split\n",
    "from tensorflow.keras.utils import plot_model\n",
    "\n",
    "print(\"TensorFlow version: \", tf.__version__)"
   ]
  },
  {
   "cell_type": "markdown",
   "id": "complimentary-whale",
   "metadata": {},
   "source": [
    "### **Load data set**"
   ]
  },
  {
   "cell_type": "markdown",
   "id": "metropolitan-entertainment",
   "metadata": {},
   "source": [
    "Many of the Google ML courses programming exercises use the [California Housing Data Set](https://developers.google.com/machine-learning/crash-course/california-housing-data-description), which contains data drawn from the 1990 U.S. census"
   ]
  },
  {
   "cell_type": "code",
   "execution_count": 27,
   "id": "restricted-destiny",
   "metadata": {},
   "outputs": [
    {
     "name": "stdout",
     "output_type": "stream",
     "text": [
      "longitude,latitude,housing_median_age,total_rooms,total_bedrooms,population,households,median_income,median_house_value,ocean_proximity\r\n",
      "-122.23,37.88,41.0,880.0,129.0,322.0,126.0,8.3252,452600.0,NEAR BAY\r\n",
      "-122.22,37.86,21.0,7099.0,1106.0,2401.0,1138.0,8.3014,358500.0,NEAR BAY\r\n",
      "-122.24,37.85,52.0,1467.0,190.0,496.0,177.0,7.2574,352100.0,NEAR BAY\r\n",
      "-122.25,37.85,52.0,1274.0,235.0,558.0,219.0,5.6431,341300.0,NEAR BAY\r\n",
      "-122.25,37.85,52.0,1627.0,280.0,565.0,259.0,3.8462,342200.0,NEAR BAY\r\n",
      "-122.25,37.85,52.0,919.0,213.0,413.0,193.0,4.0368,269700.0,NEAR BAY\r\n",
      "-122.25,37.84,52.0,2535.0,489.0,1094.0,514.0,3.6591,299200.0,NEAR BAY\r\n",
      "-122.25,37.84,52.0,3104.0,687.0,1157.0,647.0,3.12,241400.0,NEAR BAY\r\n",
      "-122.26,37.84,42.0,2555.0,665.0,1206.0,595.0,2.0804,226700.0,NEAR BAY\r\n"
     ]
    }
   ],
   "source": [
    "!head {path+filename}"
   ]
  },
  {
   "cell_type": "code",
   "execution_count": 40,
   "id": "raising-importance",
   "metadata": {},
   "outputs": [
    {
     "data": {
      "text/html": [
       "<div>\n",
       "<style scoped>\n",
       "    .dataframe tbody tr th:only-of-type {\n",
       "        vertical-align: middle;\n",
       "    }\n",
       "\n",
       "    .dataframe tbody tr th {\n",
       "        vertical-align: top;\n",
       "    }\n",
       "\n",
       "    .dataframe thead th {\n",
       "        text-align: right;\n",
       "    }\n",
       "</style>\n",
       "<table border=\"1\" class=\"dataframe\">\n",
       "  <thead>\n",
       "    <tr style=\"text-align: right;\">\n",
       "      <th></th>\n",
       "      <th>longitude</th>\n",
       "      <th>latitude</th>\n",
       "      <th>housing_median_age</th>\n",
       "      <th>total_rooms</th>\n",
       "      <th>total_bedrooms</th>\n",
       "      <th>population</th>\n",
       "      <th>households</th>\n",
       "      <th>median_income</th>\n",
       "      <th>median_house_value</th>\n",
       "      <th>ocean_proximity</th>\n",
       "    </tr>\n",
       "  </thead>\n",
       "  <tbody>\n",
       "    <tr>\n",
       "      <th>0</th>\n",
       "      <td>-122.23</td>\n",
       "      <td>37.88</td>\n",
       "      <td>41.0</td>\n",
       "      <td>880.0</td>\n",
       "      <td>129.0</td>\n",
       "      <td>322.0</td>\n",
       "      <td>126.0</td>\n",
       "      <td>8.3252</td>\n",
       "      <td>452600.0</td>\n",
       "      <td>NEAR BAY</td>\n",
       "    </tr>\n",
       "    <tr>\n",
       "      <th>1</th>\n",
       "      <td>-122.22</td>\n",
       "      <td>37.86</td>\n",
       "      <td>21.0</td>\n",
       "      <td>7099.0</td>\n",
       "      <td>1106.0</td>\n",
       "      <td>2401.0</td>\n",
       "      <td>1138.0</td>\n",
       "      <td>8.3014</td>\n",
       "      <td>358500.0</td>\n",
       "      <td>NEAR BAY</td>\n",
       "    </tr>\n",
       "    <tr>\n",
       "      <th>2</th>\n",
       "      <td>-122.24</td>\n",
       "      <td>37.85</td>\n",
       "      <td>52.0</td>\n",
       "      <td>1467.0</td>\n",
       "      <td>190.0</td>\n",
       "      <td>496.0</td>\n",
       "      <td>177.0</td>\n",
       "      <td>7.2574</td>\n",
       "      <td>352100.0</td>\n",
       "      <td>NEAR BAY</td>\n",
       "    </tr>\n",
       "    <tr>\n",
       "      <th>3</th>\n",
       "      <td>-122.25</td>\n",
       "      <td>37.85</td>\n",
       "      <td>52.0</td>\n",
       "      <td>1274.0</td>\n",
       "      <td>235.0</td>\n",
       "      <td>558.0</td>\n",
       "      <td>219.0</td>\n",
       "      <td>5.6431</td>\n",
       "      <td>341300.0</td>\n",
       "      <td>NEAR BAY</td>\n",
       "    </tr>\n",
       "    <tr>\n",
       "      <th>4</th>\n",
       "      <td>-122.25</td>\n",
       "      <td>37.85</td>\n",
       "      <td>52.0</td>\n",
       "      <td>1627.0</td>\n",
       "      <td>280.0</td>\n",
       "      <td>565.0</td>\n",
       "      <td>259.0</td>\n",
       "      <td>3.8462</td>\n",
       "      <td>342200.0</td>\n",
       "      <td>NEAR BAY</td>\n",
       "    </tr>\n",
       "  </tbody>\n",
       "</table>\n",
       "</div>"
      ],
      "text/plain": [
       "   longitude  latitude  housing_median_age  total_rooms  ...  households  median_income  median_house_value  ocean_proximity\n",
       "0    -122.23     37.88                41.0        880.0  ...       126.0         8.3252            452600.0         NEAR BAY\n",
       "1    -122.22     37.86                21.0       7099.0  ...      1138.0         8.3014            358500.0         NEAR BAY\n",
       "2    -122.24     37.85                52.0       1467.0  ...       177.0         7.2574            352100.0         NEAR BAY\n",
       "3    -122.25     37.85                52.0       1274.0  ...       219.0         5.6431            341300.0         NEAR BAY\n",
       "4    -122.25     37.85                52.0       1627.0  ...       259.0         3.8462            342200.0         NEAR BAY\n",
       "\n",
       "[5 rows x 10 columns]"
      ]
     },
     "execution_count": 40,
     "metadata": {},
     "output_type": "execute_result"
    }
   ],
   "source": [
    "path = \"/home/antounes/Documents/tensorflow/data/\"\n",
    "\n",
    "# Read `housing.csv` file using the `read_csv()` function included in the Pandas library\n",
    "filename = \"housing.csv\"\n",
    "housing_df = pd.read_csv(path+filename, error_bad_lines=False)\n",
    "housing_df = housing_df[~housing_df[\"total_bedrooms\"].isnull()]\n",
    "housing_df.head()"
   ]
  },
  {
   "cell_type": "markdown",
   "id": "worse-battery",
   "metadata": {},
   "source": [
    "We can use `.describe()` to see some summary statistics for the numeric fields in our DataFrame. Note, for example, the count row and corresponding columns. The count shows `20433.000000` for all feature columns. Thus, there are no missing values."
   ]
  },
  {
   "cell_type": "code",
   "execution_count": 42,
   "id": "legitimate-ribbon",
   "metadata": {},
   "outputs": [
    {
     "data": {
      "text/html": [
       "<div>\n",
       "<style scoped>\n",
       "    .dataframe tbody tr th:only-of-type {\n",
       "        vertical-align: middle;\n",
       "    }\n",
       "\n",
       "    .dataframe tbody tr th {\n",
       "        vertical-align: top;\n",
       "    }\n",
       "\n",
       "    .dataframe thead th {\n",
       "        text-align: right;\n",
       "    }\n",
       "</style>\n",
       "<table border=\"1\" class=\"dataframe\">\n",
       "  <thead>\n",
       "    <tr style=\"text-align: right;\">\n",
       "      <th></th>\n",
       "      <th>longitude</th>\n",
       "      <th>latitude</th>\n",
       "      <th>housing_median_age</th>\n",
       "      <th>total_rooms</th>\n",
       "      <th>total_bedrooms</th>\n",
       "      <th>population</th>\n",
       "      <th>households</th>\n",
       "      <th>median_income</th>\n",
       "      <th>median_house_value</th>\n",
       "    </tr>\n",
       "  </thead>\n",
       "  <tbody>\n",
       "    <tr>\n",
       "      <th>count</th>\n",
       "      <td>20433.000000</td>\n",
       "      <td>20433.000000</td>\n",
       "      <td>20433.000000</td>\n",
       "      <td>20433.000000</td>\n",
       "      <td>20433.000000</td>\n",
       "      <td>20433.000000</td>\n",
       "      <td>20433.000000</td>\n",
       "      <td>20433.000000</td>\n",
       "      <td>20433.000000</td>\n",
       "    </tr>\n",
       "    <tr>\n",
       "      <th>mean</th>\n",
       "      <td>-119.570689</td>\n",
       "      <td>35.633221</td>\n",
       "      <td>28.633094</td>\n",
       "      <td>2636.504233</td>\n",
       "      <td>537.870553</td>\n",
       "      <td>1424.946949</td>\n",
       "      <td>499.433465</td>\n",
       "      <td>3.871162</td>\n",
       "      <td>206864.413155</td>\n",
       "    </tr>\n",
       "    <tr>\n",
       "      <th>std</th>\n",
       "      <td>2.003578</td>\n",
       "      <td>2.136348</td>\n",
       "      <td>12.591805</td>\n",
       "      <td>2185.269567</td>\n",
       "      <td>421.385070</td>\n",
       "      <td>1133.208490</td>\n",
       "      <td>382.299226</td>\n",
       "      <td>1.899291</td>\n",
       "      <td>115435.667099</td>\n",
       "    </tr>\n",
       "    <tr>\n",
       "      <th>min</th>\n",
       "      <td>-124.350000</td>\n",
       "      <td>32.540000</td>\n",
       "      <td>1.000000</td>\n",
       "      <td>2.000000</td>\n",
       "      <td>1.000000</td>\n",
       "      <td>3.000000</td>\n",
       "      <td>1.000000</td>\n",
       "      <td>0.499900</td>\n",
       "      <td>14999.000000</td>\n",
       "    </tr>\n",
       "    <tr>\n",
       "      <th>25%</th>\n",
       "      <td>-121.800000</td>\n",
       "      <td>33.930000</td>\n",
       "      <td>18.000000</td>\n",
       "      <td>1450.000000</td>\n",
       "      <td>296.000000</td>\n",
       "      <td>787.000000</td>\n",
       "      <td>280.000000</td>\n",
       "      <td>2.563700</td>\n",
       "      <td>119500.000000</td>\n",
       "    </tr>\n",
       "    <tr>\n",
       "      <th>50%</th>\n",
       "      <td>-118.490000</td>\n",
       "      <td>34.260000</td>\n",
       "      <td>29.000000</td>\n",
       "      <td>2127.000000</td>\n",
       "      <td>435.000000</td>\n",
       "      <td>1166.000000</td>\n",
       "      <td>409.000000</td>\n",
       "      <td>3.536500</td>\n",
       "      <td>179700.000000</td>\n",
       "    </tr>\n",
       "    <tr>\n",
       "      <th>75%</th>\n",
       "      <td>-118.010000</td>\n",
       "      <td>37.720000</td>\n",
       "      <td>37.000000</td>\n",
       "      <td>3143.000000</td>\n",
       "      <td>647.000000</td>\n",
       "      <td>1722.000000</td>\n",
       "      <td>604.000000</td>\n",
       "      <td>4.744000</td>\n",
       "      <td>264700.000000</td>\n",
       "    </tr>\n",
       "    <tr>\n",
       "      <th>max</th>\n",
       "      <td>-114.310000</td>\n",
       "      <td>41.950000</td>\n",
       "      <td>52.000000</td>\n",
       "      <td>39320.000000</td>\n",
       "      <td>6445.000000</td>\n",
       "      <td>35682.000000</td>\n",
       "      <td>6082.000000</td>\n",
       "      <td>15.000100</td>\n",
       "      <td>500001.000000</td>\n",
       "    </tr>\n",
       "  </tbody>\n",
       "</table>\n",
       "</div>"
      ],
      "text/plain": [
       "          longitude      latitude  housing_median_age   total_rooms  ...    population    households  median_income  median_house_value\n",
       "count  20433.000000  20433.000000        20433.000000  20433.000000  ...  20433.000000  20433.000000   20433.000000        20433.000000\n",
       "mean    -119.570689     35.633221           28.633094   2636.504233  ...   1424.946949    499.433465       3.871162       206864.413155\n",
       "std        2.003578      2.136348           12.591805   2185.269567  ...   1133.208490    382.299226       1.899291       115435.667099\n",
       "min     -124.350000     32.540000            1.000000      2.000000  ...      3.000000      1.000000       0.499900        14999.000000\n",
       "25%     -121.800000     33.930000           18.000000   1450.000000  ...    787.000000    280.000000       2.563700       119500.000000\n",
       "50%     -118.490000     34.260000           29.000000   2127.000000  ...   1166.000000    409.000000       3.536500       179700.000000\n",
       "75%     -118.010000     37.720000           37.000000   3143.000000  ...   1722.000000    604.000000       4.744000       264700.000000\n",
       "max     -114.310000     41.950000           52.000000  39320.000000  ...  35682.000000   6082.000000      15.000100       500001.000000\n",
       "\n",
       "[8 rows x 9 columns]"
      ]
     },
     "execution_count": 42,
     "metadata": {},
     "output_type": "execute_result"
    }
   ],
   "source": [
    "housing_df.describe()"
   ]
  },
  {
   "cell_type": "markdown",
   "id": "supreme-gateway",
   "metadata": {},
   "source": [
    "### **Split data set for ML**"
   ]
  },
  {
   "cell_type": "markdown",
   "id": "powerful-discussion",
   "metadata": {},
   "source": [
    "The data set we loaded was a single CSV file. We will split this into train, validation, and test sets."
   ]
  },
  {
   "cell_type": "code",
   "execution_count": 45,
   "id": "smaller-spell",
   "metadata": {},
   "outputs": [
    {
     "name": "stdout",
     "output_type": "stream",
     "text": [
      "13076 train examples\n",
      "3270 validation examples\n",
      "4087 test examples\n"
     ]
    }
   ],
   "source": [
    "train, test = train_test_split(housing_df, test_size=0.2)\n",
    "train, val = train_test_split(train, test_size=0.2)\n",
    "\n",
    "# Let's output the count of `train`, `val`, and `test`\n",
    "print(len(train), \"train examples\")\n",
    "print(len(val), \"validation examples\")\n",
    "print(len(test), \"test examples\")\n",
    "\n",
    "# The `.to_csv()` method will write object to a CSV file\n",
    "train.to_csv(path+\"housing-train.csv\", encoding=\"utf-8\", index=False)\n",
    "val.to_csv(path+\"housing-val.csv\", encoding=\"utf-8\", index=False)\n",
    "test.to_csv(path+\"housing-test.csv\", encoding=\"utf-8\", index=False)"
   ]
  },
  {
   "cell_type": "code",
   "execution_count": 48,
   "id": "exceptional-divide",
   "metadata": {},
   "outputs": [],
   "source": [
    "# A utility method to create a `tf.data.Dataset` from a Pandas DataFrame\n",
    "\n",
    "def df_to_dataset(dataframe, shuffle=True, batch_size=32):\n",
    "    dataframe = dataframe.copy()\n",
    "    labels = dataframe.pop(\"median_house_value\")\n",
    "    ds = tf.data.Dataset.from_tensor_slices((dict(dataframe), labels))\n",
    "    if shuffle:\n",
    "        ds = ds.shuffle(buffer_size=len(dataframe))\n",
    "    ds = ds.batch(batch_size)\n",
    "    return ds\n",
    "\n",
    "# Next we initialise the training and validation data sets\n",
    "batch_size = 32\n",
    "train_ds = df_to_dataset(train)\n",
    "val_ds = df_to_dataset(val, shuffle=False, batch_size=batch_size)\n",
    "\n",
    "# Input pipeline\n",
    "numeric_cols = [\"longitude\", \"latitude\", \"housing_median_age\", \"total_rooms\",\n",
    "                \"total_bedrooms\", \"population\", \"households\", \"median_income\"]\n",
    "\n",
    "# Next, we scale the numerical feature columns that we assigned to the variable `numeric_cols`\n",
    "def get_scal(feature):\n",
    "    def minmax(x):\n",
    "        mini = train[feature].min()\n",
    "        maxi = train[feature].max()\n",
    "        return (x - mini)/(maxi-mini)\n",
    "        return(minmax)\n",
    "\n",
    "feature_columns = []\n",
    "for header in numeric_cols:\n",
    "    scal_input_fn = get_scal(header)\n",
    "    feature_columns.append(tf.feature_column.numeric_column(header, normalizer_fn = scal_input_fn))"
   ]
  },
  {
   "cell_type": "markdown",
   "id": "outdoor-injection",
   "metadata": {},
   "source": [
    "## **Using the Keras Sequential Model**"
   ]
  },
  {
   "cell_type": "markdown",
   "id": "geological-interview",
   "metadata": {},
   "source": [
    "Next, we will run this cell to compile and fit the Keras Sequential model"
   ]
  },
  {
   "cell_type": "markdown",
   "id": "private-collapse",
   "metadata": {},
   "source": [
    "### **Model 1 $-$ Hard coding the learning rate to `0.5`**"
   ]
  },
  {
   "cell_type": "code",
   "execution_count": 50,
   "id": "inner-energy",
   "metadata": {},
   "outputs": [
    {
     "name": "stdout",
     "output_type": "stream",
     "text": [
      "Epoch 1/32\n",
      "WARNING:tensorflow:Layers in a Sequential model should only have a single input tensor, but we receive a <class 'dict'> input: {'longitude': <tf.Tensor 'ExpandDims_3:0' shape=(None, 1) dtype=float64>, 'latitude': <tf.Tensor 'ExpandDims_2:0' shape=(None, 1) dtype=float64>, 'housing_median_age': <tf.Tensor 'ExpandDims_1:0' shape=(None, 1) dtype=float64>, 'total_rooms': <tf.Tensor 'ExpandDims_8:0' shape=(None, 1) dtype=float64>, 'total_bedrooms': <tf.Tensor 'ExpandDims_7:0' shape=(None, 1) dtype=float64>, 'population': <tf.Tensor 'ExpandDims_6:0' shape=(None, 1) dtype=float64>, 'households': <tf.Tensor 'ExpandDims:0' shape=(None, 1) dtype=float64>, 'median_income': <tf.Tensor 'ExpandDims_4:0' shape=(None, 1) dtype=float64>, 'ocean_proximity': <tf.Tensor 'ExpandDims_5:0' shape=(None, 1) dtype=string>}\n",
      "Consider rewriting this model with the Functional API.\n",
      "WARNING:tensorflow:Layers in a Sequential model should only have a single input tensor, but we receive a <class 'dict'> input: {'longitude': <tf.Tensor 'ExpandDims_3:0' shape=(None, 1) dtype=float64>, 'latitude': <tf.Tensor 'ExpandDims_2:0' shape=(None, 1) dtype=float64>, 'housing_median_age': <tf.Tensor 'ExpandDims_1:0' shape=(None, 1) dtype=float64>, 'total_rooms': <tf.Tensor 'ExpandDims_8:0' shape=(None, 1) dtype=float64>, 'total_bedrooms': <tf.Tensor 'ExpandDims_7:0' shape=(None, 1) dtype=float64>, 'population': <tf.Tensor 'ExpandDims_6:0' shape=(None, 1) dtype=float64>, 'households': <tf.Tensor 'ExpandDims:0' shape=(None, 1) dtype=float64>, 'median_income': <tf.Tensor 'ExpandDims_4:0' shape=(None, 1) dtype=float64>, 'ocean_proximity': <tf.Tensor 'ExpandDims_5:0' shape=(None, 1) dtype=string>}\n",
      "Consider rewriting this model with the Functional API.\n",
      "408/409 [============================>.] - ETA: 0s - loss: 19013392865.8824 - mse: 19013392865.8824WARNING:tensorflow:Layers in a Sequential model should only have a single input tensor, but we receive a <class 'dict'> input: {'longitude': <tf.Tensor 'ExpandDims_3:0' shape=(None, 1) dtype=float64>, 'latitude': <tf.Tensor 'ExpandDims_2:0' shape=(None, 1) dtype=float64>, 'housing_median_age': <tf.Tensor 'ExpandDims_1:0' shape=(None, 1) dtype=float64>, 'total_rooms': <tf.Tensor 'ExpandDims_8:0' shape=(None, 1) dtype=float64>, 'total_bedrooms': <tf.Tensor 'ExpandDims_7:0' shape=(None, 1) dtype=float64>, 'population': <tf.Tensor 'ExpandDims_6:0' shape=(None, 1) dtype=float64>, 'households': <tf.Tensor 'ExpandDims:0' shape=(None, 1) dtype=float64>, 'median_income': <tf.Tensor 'ExpandDims_4:0' shape=(None, 1) dtype=float64>, 'ocean_proximity': <tf.Tensor 'ExpandDims_5:0' shape=(None, 1) dtype=string>}\n",
      "Consider rewriting this model with the Functional API.\n",
      "409/409 [==============================] - 2s 3ms/step - loss: 18988133256.1171 - mse: 18988133256.1171 - val_loss: 12280124416.0000 - val_mse: 12280124416.0000\n",
      "Epoch 2/32\n",
      "409/409 [==============================] - 2s 3ms/step - loss: 11834375642.5366 - mse: 11834375642.5366 - val_loss: 10476773376.0000 - val_mse: 10476773376.0000\n",
      "Epoch 3/32\n",
      "409/409 [==============================] - 1s 3ms/step - loss: 10773245160.2732 - mse: 10773245160.2732 - val_loss: 7416404992.0000 - val_mse: 7416404992.0000\n",
      "Epoch 4/32\n",
      "409/409 [==============================] - 2s 4ms/step - loss: 10493645172.1366 - mse: 10493645172.1366 - val_loss: 8071752192.0000 - val_mse: 8071752192.0000\n",
      "Epoch 5/32\n",
      "409/409 [==============================] - 1s 3ms/step - loss: 9466709888.6244 - mse: 9466709888.6244 - val_loss: 7246346240.0000 - val_mse: 7246346240.0000\n",
      "Epoch 6/32\n",
      "409/409 [==============================] - 1s 3ms/step - loss: 9454088676.5268 - mse: 9454088676.5268 - val_loss: 6750156288.0000 - val_mse: 6750156288.0000\n",
      "Epoch 7/32\n",
      "409/409 [==============================] - 2s 4ms/step - loss: 7649574983.1805 - mse: 7649574983.1805 - val_loss: 8015494656.0000 - val_mse: 8015494656.0000\n",
      "Epoch 8/32\n",
      "409/409 [==============================] - 1s 2ms/step - loss: 7219544110.2049 - mse: 7219544110.2049 - val_loss: 6490474496.0000 - val_mse: 6490474496.0000\n",
      "Epoch 9/32\n",
      "409/409 [==============================] - 1s 3ms/step - loss: 7321413648.2341 - mse: 7321413648.2341 - val_loss: 5766475776.0000 - val_mse: 5766475776.0000\n",
      "Epoch 10/32\n",
      "409/409 [==============================] - 1s 3ms/step - loss: 7090870215.8049 - mse: 7090870215.8049 - val_loss: 5750065664.0000 - val_mse: 5750065664.0000\n",
      "Epoch 11/32\n",
      "409/409 [==============================] - 1s 3ms/step - loss: 6694094020.0585 - mse: 6694094020.0585 - val_loss: 6688915456.0000 - val_mse: 6688915456.0000\n",
      "Epoch 12/32\n",
      "409/409 [==============================] - 1s 3ms/step - loss: 7021652095.3756 - mse: 7021652095.3756 - val_loss: 7201458176.0000 - val_mse: 7201458176.0000\n",
      "Epoch 13/32\n",
      "409/409 [==============================] - 1s 3ms/step - loss: 6690838542.9854 - mse: 6690838542.9854 - val_loss: 7677495808.0000 - val_mse: 7677495808.0000\n",
      "Epoch 14/32\n",
      "409/409 [==============================] - 1s 3ms/step - loss: 7065152704.3122 - mse: 7065152704.3122 - val_loss: 6594894848.0000 - val_mse: 6594894848.0000\n",
      "Epoch 15/32\n",
      "409/409 [==============================] - 1s 3ms/step - loss: 6390569427.0439 - mse: 6390569427.0439 - val_loss: 5685213184.0000 - val_mse: 5685213184.0000\n",
      "Epoch 16/32\n",
      "409/409 [==============================] - 1s 3ms/step - loss: 6705785185.4049 - mse: 6705785185.4049 - val_loss: 7047217152.0000 - val_mse: 7047217152.0000\n",
      "Epoch 17/32\n",
      "409/409 [==============================] - 1s 3ms/step - loss: 6594995776.9366 - mse: 6594995776.9366 - val_loss: 5740879872.0000 - val_mse: 5740879872.0000\n",
      "Epoch 18/32\n",
      "409/409 [==============================] - 2s 4ms/step - loss: 6555521263.7659 - mse: 6555521263.7659 - val_loss: 6263025664.0000 - val_mse: 6263025664.0000\n",
      "Epoch 19/32\n",
      "409/409 [==============================] - 1s 3ms/step - loss: 6356840923.7854 - mse: 6356840923.7854 - val_loss: 6662877696.0000 - val_mse: 6662877696.0000\n",
      "Epoch 20/32\n",
      "409/409 [==============================] - 1s 3ms/step - loss: 6461248385.8732 - mse: 6461248385.8732 - val_loss: 5678061056.0000 - val_mse: 5678061056.0000\n",
      "Epoch 21/32\n",
      "409/409 [==============================] - 1s 3ms/step - loss: 6381609434.5366 - mse: 6381609434.5366 - val_loss: 5633956352.0000 - val_mse: 5633956352.0000\n",
      "Epoch 22/32\n",
      "409/409 [==============================] - 1s 3ms/step - loss: 6155594709.5415 - mse: 6155594709.5415 - val_loss: 5676856832.0000 - val_mse: 5676856832.0000\n",
      "Epoch 23/32\n",
      "409/409 [==============================] - 1s 3ms/step - loss: 6473329492.9171 - mse: 6473329492.9171 - val_loss: 5689812992.0000 - val_mse: 5689812992.0000\n",
      "Epoch 24/32\n",
      "409/409 [==============================] - 1s 3ms/step - loss: 6495226761.9902 - mse: 6495226761.9902 - val_loss: 5699149824.0000 - val_mse: 5699149824.0000\n",
      "Epoch 25/32\n",
      "409/409 [==============================] - 2s 4ms/step - loss: 6655290343.0244 - mse: 6655290343.0244 - val_loss: 6710270976.0000 - val_mse: 6710270976.0000\n",
      "Epoch 26/32\n",
      "409/409 [==============================] - 1s 3ms/step - loss: 6624722004.9171 - mse: 6624722004.9171 - val_loss: 5973859840.0000 - val_mse: 5973859840.0000\n",
      "Epoch 27/32\n",
      "409/409 [==============================] - 2s 3ms/step - loss: 5999506220.9561 - mse: 5999506220.9561 - val_loss: 5887110144.0000 - val_mse: 5887110144.0000\n",
      "Epoch 28/32\n",
      "409/409 [==============================] - 1s 3ms/step - loss: 6499627215.2976 - mse: 6499627215.2976 - val_loss: 5527777280.0000 - val_mse: 5527777280.0000\n",
      "Epoch 29/32\n",
      "409/409 [==============================] - 2s 5ms/step - loss: 6283806124.3317 - mse: 6283806124.3317 - val_loss: 5876791808.0000 - val_mse: 5876791808.0000\n",
      "Epoch 30/32\n",
      "409/409 [==============================] - 2s 5ms/step - loss: 6321656744.5854 - mse: 6321656744.5854 - val_loss: 5666546176.0000 - val_mse: 5666546176.0000\n",
      "Epoch 31/32\n",
      "409/409 [==============================] - 1s 3ms/step - loss: 6214161937.4829 - mse: 6214161937.4829 - val_loss: 9093431296.0000 - val_mse: 9093431296.0000\n",
      "Epoch 32/32\n",
      "409/409 [==============================] - 1s 3ms/step - loss: 6629546689.5610 - mse: 6629546689.5610 - val_loss: 5884620288.0000 - val_mse: 5884620288.0000\n"
     ]
    }
   ],
   "source": [
    "# Create model\n",
    "\n",
    "feature_layer = tf.keras.layers.DenseFeatures(feature_columns, dtype=\"float64\")\n",
    "\n",
    "model = tf.keras.Sequential([\n",
    "    feature_layer,\n",
    "    tf.keras.layers.Dense(12, input_dim=8, activation=\"relu\"),\n",
    "    tf.keras.layers.Dense(8, activation=\"relu\"),\n",
    "    tf.keras.layers.Dense(1, activation=\"linear\", name=\"median_house_value\")\n",
    "])\n",
    "\n",
    "# Compile model\n",
    "opt = tf.keras.optimizers.Adam(learning_rate=0.5)\n",
    "model.compile(optimizer=opt,\n",
    "              loss=\"mse\",\n",
    "              metrics=[\"mse\"])\n",
    "\n",
    "# Train model\n",
    "# Using the `.fit()` method we can train our model\n",
    "history = model.fit(train_ds,\n",
    "                    validation_data=val_ds,\n",
    "                    epochs=32)"
   ]
  },
  {
   "cell_type": "code",
   "execution_count": 51,
   "id": "careful-danish",
   "metadata": {},
   "outputs": [
    {
     "data": {
      "image/png": "[encoded data removed]",
      "text/plain": [
       "<Figure size 720x360 with 2 Axes>"
      ]
     },
     "metadata": {
      "needs_background": "light"
     },
     "output_type": "display_data"
    }
   ],
   "source": [
    "def plot_curves(history, metrics):\n",
    "    nrows = 1\n",
    "    ncols = 2\n",
    "    # Using the `.figure()` method we can create a new figure or activate an existing figure\n",
    "    fig = plt.figure(figsize=(10, 5))\n",
    "    \n",
    "    for idx, key in enumerate(metrics):\n",
    "        # Using the `.add_subplot()` method we can add a subplot to the current figure\n",
    "        ax = fig.add_subplot(nrows, ncols, idx+1)\n",
    "        # The `.plot()` is a versatile function and will take an arbitrary number of arguments\n",
    "        plt.plot(history.history[key])\n",
    "        plt.plot(history.history[\"val_{}\".format(key)])\n",
    "        plt.title(\"model {}\".format(key))\n",
    "        plt.ylabel(key)\n",
    "        plt.xlabel(\"epoch\")\n",
    "        # Using the `.legend()` method we can place a legend on the axes\n",
    "        plt.legend([\"train\", \"validation\"], loc=\"upper left\");\n",
    "\n",
    "plot_curves(history, [\"loss\", \"mse\"])"
   ]
  },
  {
   "cell_type": "markdown",
   "id": "religious-threat",
   "metadata": {},
   "source": [
    "### **Model 2 $-$ Hard coding the learning rate to `0.1`**"
   ]
  },
  {
   "cell_type": "code",
   "execution_count": 56,
   "id": "minus-intervention",
   "metadata": {
    "scrolled": true
   },
   "outputs": [
    {
     "name": "stdout",
     "output_type": "stream",
     "text": [
      "Epoch 1/32\n",
      "WARNING:tensorflow:Layers in a Sequential model should only have a single input tensor, but we receive a <class 'dict'> input: {'longitude': <tf.Tensor 'ExpandDims_3:0' shape=(None, 1) dtype=float64>, 'latitude': <tf.Tensor 'ExpandDims_2:0' shape=(None, 1) dtype=float64>, 'housing_median_age': <tf.Tensor 'ExpandDims_1:0' shape=(None, 1) dtype=float64>, 'total_rooms': <tf.Tensor 'ExpandDims_8:0' shape=(None, 1) dtype=float64>, 'total_bedrooms': <tf.Tensor 'ExpandDims_7:0' shape=(None, 1) dtype=float64>, 'population': <tf.Tensor 'ExpandDims_6:0' shape=(None, 1) dtype=float64>, 'households': <tf.Tensor 'ExpandDims:0' shape=(None, 1) dtype=float64>, 'median_income': <tf.Tensor 'ExpandDims_4:0' shape=(None, 1) dtype=float64>, 'ocean_proximity': <tf.Tensor 'ExpandDims_5:0' shape=(None, 1) dtype=string>}\n",
      "Consider rewriting this model with the Functional API.\n",
      "WARNING:tensorflow:Layers in a Sequential model should only have a single input tensor, but we receive a <class 'dict'> input: {'longitude': <tf.Tensor 'ExpandDims_3:0' shape=(None, 1) dtype=float64>, 'latitude': <tf.Tensor 'ExpandDims_2:0' shape=(None, 1) dtype=float64>, 'housing_median_age': <tf.Tensor 'ExpandDims_1:0' shape=(None, 1) dtype=float64>, 'total_rooms': <tf.Tensor 'ExpandDims_8:0' shape=(None, 1) dtype=float64>, 'total_bedrooms': <tf.Tensor 'ExpandDims_7:0' shape=(None, 1) dtype=float64>, 'population': <tf.Tensor 'ExpandDims_6:0' shape=(None, 1) dtype=float64>, 'households': <tf.Tensor 'ExpandDims:0' shape=(None, 1) dtype=float64>, 'median_income': <tf.Tensor 'ExpandDims_4:0' shape=(None, 1) dtype=float64>, 'ocean_proximity': <tf.Tensor 'ExpandDims_5:0' shape=(None, 1) dtype=string>}\n",
      "Consider rewriting this model with the Functional API.\n",
      "393/409 [===========================>..] - ETA: 0s - loss: 24410144825.3232 - mse: 24410144825.3232WARNING:tensorflow:Layers in a Sequential model should only have a single input tensor, but we receive a <class 'dict'> input: {'longitude': <tf.Tensor 'ExpandDims_3:0' shape=(None, 1) dtype=float64>, 'latitude': <tf.Tensor 'ExpandDims_2:0' shape=(None, 1) dtype=float64>, 'housing_median_age': <tf.Tensor 'ExpandDims_1:0' shape=(None, 1) dtype=float64>, 'total_rooms': <tf.Tensor 'ExpandDims_8:0' shape=(None, 1) dtype=float64>, 'total_bedrooms': <tf.Tensor 'ExpandDims_7:0' shape=(None, 1) dtype=float64>, 'population': <tf.Tensor 'ExpandDims_6:0' shape=(None, 1) dtype=float64>, 'households': <tf.Tensor 'ExpandDims:0' shape=(None, 1) dtype=float64>, 'median_income': <tf.Tensor 'ExpandDims_4:0' shape=(None, 1) dtype=float64>, 'ocean_proximity': <tf.Tensor 'ExpandDims_5:0' shape=(None, 1) dtype=string>}\n",
      "Consider rewriting this model with the Functional API.\n",
      "409/409 [==============================] - 2s 3ms/step - loss: 24094309318.5561 - mse: 24094309318.5561 - val_loss: 10411763712.0000 - val_mse: 10411763712.0000\n",
      "Epoch 2/32\n",
      "409/409 [==============================] - 1s 3ms/step - loss: 10534432842.9268 - mse: 10534432842.9268 - val_loss: 9030325248.0000 - val_mse: 9030325248.0000\n",
      "Epoch 3/32\n",
      "409/409 [==============================] - 1s 3ms/step - loss: 9302842014.5951 - mse: 9302842014.5951 - val_loss: 7539124224.0000 - val_mse: 7539124224.0000\n",
      "Epoch 4/32\n",
      "409/409 [==============================] - 1s 3ms/step - loss: 8208923640.5073 - mse: 8208923640.5073 - val_loss: 7173341696.0000 - val_mse: 7173341696.0000\n",
      "Epoch 5/32\n",
      "409/409 [==============================] - 1s 2ms/step - loss: 8619196538.3805 - mse: 8619196538.3805 - val_loss: 8607921152.0000 - val_mse: 8607921152.0000\n",
      "Epoch 6/32\n",
      "409/409 [==============================] - 1s 3ms/step - loss: 8431560132.0585 - mse: 8431560132.0585 - val_loss: 6863583232.0000 - val_mse: 6863583232.0000\n",
      "Epoch 7/32\n",
      "409/409 [==============================] - 1s 2ms/step - loss: 7091941731.9024 - mse: 7091941731.9024 - val_loss: 13752111104.0000 - val_mse: 13752111104.0000\n",
      "Epoch 8/32\n",
      "409/409 [==============================] - 1s 2ms/step - loss: 8333446090.3024 - mse: 8333446090.3024 - val_loss: 9152402432.0000 - val_mse: 9152402432.0000\n",
      "Epoch 9/32\n",
      "409/409 [==============================] - 1s 3ms/step - loss: 6959000600.9756 - mse: 6959000600.9756 - val_loss: 6446771200.0000 - val_mse: 6446771200.0000\n",
      "Epoch 10/32\n",
      "409/409 [==============================] - 1s 3ms/step - loss: 6996231168.0000 - mse: 6996231168.0000 - val_loss: 10435282944.0000 - val_mse: 10435282944.0000\n",
      "Epoch 11/32\n",
      "409/409 [==============================] - 1s 3ms/step - loss: 6719507043.9024 - mse: 6719507043.9024 - val_loss: 5854119424.0000 - val_mse: 5854119424.0000\n",
      "Epoch 12/32\n",
      "409/409 [==============================] - 1s 3ms/step - loss: 6124355482.2244 - mse: 6124355482.2244 - val_loss: 5978555904.0000 - val_mse: 5978555904.0000\n",
      "Epoch 13/32\n",
      "409/409 [==============================] - 1s 3ms/step - loss: 6073868958.5951 - mse: 6073868958.5951 - val_loss: 5524636672.0000 - val_mse: 5524636672.0000\n",
      "Epoch 14/32\n",
      "409/409 [==============================] - 1s 2ms/step - loss: 5780077792.7805 - mse: 5780077792.7805 - val_loss: 6463180800.0000 - val_mse: 6463180800.0000\n",
      "Epoch 15/32\n",
      "409/409 [==============================] - 1s 3ms/step - loss: 6339704180.1366 - mse: 6339704180.1366 - val_loss: 5414936064.0000 - val_mse: 5414936064.0000\n",
      "Epoch 16/32\n",
      "409/409 [==============================] - 1s 3ms/step - loss: 5986690146.6537 - mse: 5986690146.6537 - val_loss: 5700557312.0000 - val_mse: 5700557312.0000\n",
      "Epoch 17/32\n",
      "409/409 [==============================] - 1s 3ms/step - loss: 5648546594.9659 - mse: 5648546594.9659 - val_loss: 5587455488.0000 - val_mse: 5587455488.0000\n",
      "Epoch 18/32\n",
      "409/409 [==============================] - 1s 2ms/step - loss: 5389524910.8293 - mse: 5389524910.8293 - val_loss: 6721614336.0000 - val_mse: 6721614336.0000\n",
      "Epoch 19/32\n",
      "409/409 [==============================] - 2s 4ms/step - loss: 5571191308.4878 - mse: 5571191308.4878 - val_loss: 5970740736.0000 - val_mse: 5970740736.0000\n",
      "Epoch 20/32\n",
      "409/409 [==============================] - 2s 4ms/step - loss: 5896955229.6585 - mse: 5896955229.6585 - val_loss: 4912216576.0000 - val_mse: 4912216576.0000\n",
      "Epoch 21/32\n",
      "409/409 [==============================] - 1s 3ms/step - loss: 5412068892.7220 - mse: 5412068892.7220 - val_loss: 4864852480.0000 - val_mse: 4864852480.0000\n",
      "Epoch 22/32\n",
      "409/409 [==============================] - 1s 2ms/step - loss: 5372602326.1659 - mse: 5372602326.1659 - val_loss: 4978348544.0000 - val_mse: 4978348544.0000\n",
      "Epoch 23/32\n",
      "409/409 [==============================] - 1s 3ms/step - loss: 5329133400.6634 - mse: 5329133400.6634 - val_loss: 4982048256.0000 - val_mse: 4982048256.0000\n",
      "Epoch 24/32\n",
      "409/409 [==============================] - 1s 3ms/step - loss: 5102661523.3561 - mse: 5102661523.3561 - val_loss: 5387728896.0000 - val_mse: 5387728896.0000\n",
      "Epoch 25/32\n",
      "409/409 [==============================] - 1s 3ms/step - loss: 5395116466.5756 - mse: 5395116466.5756 - val_loss: 5039355392.0000 - val_mse: 5039355392.0000\n",
      "Epoch 26/32\n",
      "409/409 [==============================] - 1s 3ms/step - loss: 5447094285.7366 - mse: 5447094285.7366 - val_loss: 5088935936.0000 - val_mse: 5088935936.0000\n",
      "Epoch 27/32\n",
      "409/409 [==============================] - 1s 3ms/step - loss: 5309280425.8341 - mse: 5309280425.8341 - val_loss: 5033502208.0000 - val_mse: 5033502208.0000\n",
      "Epoch 28/32\n",
      "409/409 [==============================] - 1s 3ms/step - loss: 5292320406.4780 - mse: 5292320406.4780 - val_loss: 4764133376.0000 - val_mse: 4764133376.0000\n",
      "Epoch 29/32\n",
      "409/409 [==============================] - 2s 3ms/step - loss: 5213419534.9854 - mse: 5213419534.9854 - val_loss: 5726962176.0000 - val_mse: 5726962176.0000\n",
      "Epoch 30/32\n",
      "409/409 [==============================] - 1s 3ms/step - loss: 5118342505.5220 - mse: 5118342505.5220 - val_loss: 5315798528.0000 - val_mse: 5315798528.0000\n",
      "Epoch 31/32\n",
      "409/409 [==============================] - 1s 3ms/step - loss: 5404955091.0439 - mse: 5404955091.0439 - val_loss: 5366364160.0000 - val_mse: 5366364160.0000\n",
      "Epoch 32/32\n",
      "409/409 [==============================] - 1s 3ms/step - loss: 5543297088.3122 - mse: 5543297088.3122 - val_loss: 5403190784.0000 - val_mse: 5403190784.0000\n"
     ]
    }
   ],
   "source": [
    "# Create model\n",
    "feature_layer = tf.keras.layers.DenseFeatures(feature_columns, dtype=\"float64\")\n",
    "\n",
    "model = tf.keras.Sequential([\n",
    "    feature_layer,\n",
    "    tf.keras.layers.Dense(12, input_dim=8, activation=\"relu\"),\n",
    "    tf.keras.layers.Dense(8, activation=\"relu\"),\n",
    "    tf.keras.layers.Dense(1, activation=\"linear\", name=\"median_house_value\")\n",
    "])\n",
    "\n",
    "# Compile model\n",
    "model.compile(optimizer=tf.keras.optimizers.Adam(learning_rate=0.1),\n",
    "              loss=\"mse\",\n",
    "              metrics=[\"mse\"])\n",
    "\n",
    "# Train model\n",
    "history = model.fit(train_ds,\n",
    "                    validation_data=val_ds,\n",
    "                    epochs=32)"
   ]
  },
  {
   "cell_type": "code",
   "execution_count": 57,
   "id": "timely-classics",
   "metadata": {},
   "outputs": [
    {
     "data": {
      "image/png": "[encoded data removed]",
      "text/plain": [
       "<Figure size 720x360 with 2 Axes>"
      ]
     },
     "metadata": {
      "needs_background": "light"
     },
     "output_type": "display_data"
    }
   ],
   "source": [
    "def plot_curves(history, metrics):\n",
    "    nrows = 1\n",
    "    ncols = 2\n",
    "    \n",
    "    fig = plt.figure(figsize=(10, 5))\n",
    "    \n",
    "    for idx, key in enumerate(metrics):\n",
    "        ax = fig.add_subplot(nrows, ncols, idx+1)\n",
    "        plt.plot(history.history[key])\n",
    "        plt.plot(history.history[\"val_{}\".format(key)])\n",
    "        plt.title(\"model {}\".format(key))\n",
    "        plt.ylabel(key)\n",
    "        plt.xlabel(\"epoch\")\n",
    "        plt.legend([\"train\", \"validation\"], loc=\"upper left\");\n",
    "        \n",
    "plot_curves(history, [\"loss\", \"mse\"])"
   ]
  },
  {
   "cell_type": "markdown",
   "id": "approved-notebook",
   "metadata": {},
   "source": [
    "### **Model 3 $-$ Hard coding the learning rate to `0.1`**"
   ]
  },
  {
   "cell_type": "code",
   "execution_count": 60,
   "id": "premium-hampshire",
   "metadata": {
    "scrolled": true
   },
   "outputs": [
    {
     "name": "stdout",
     "output_type": "stream",
     "text": [
      "Epoch 1/32\n",
      "WARNING:tensorflow:Layers in a Sequential model should only have a single input tensor, but we receive a <class 'dict'> input: {'longitude': <tf.Tensor 'ExpandDims_3:0' shape=(None, 1) dtype=float64>, 'latitude': <tf.Tensor 'ExpandDims_2:0' shape=(None, 1) dtype=float64>, 'housing_median_age': <tf.Tensor 'ExpandDims_1:0' shape=(None, 1) dtype=float64>, 'total_rooms': <tf.Tensor 'ExpandDims_8:0' shape=(None, 1) dtype=float64>, 'total_bedrooms': <tf.Tensor 'ExpandDims_7:0' shape=(None, 1) dtype=float64>, 'population': <tf.Tensor 'ExpandDims_6:0' shape=(None, 1) dtype=float64>, 'households': <tf.Tensor 'ExpandDims:0' shape=(None, 1) dtype=float64>, 'median_income': <tf.Tensor 'ExpandDims_4:0' shape=(None, 1) dtype=float64>, 'ocean_proximity': <tf.Tensor 'ExpandDims_5:0' shape=(None, 1) dtype=string>}\n",
      "Consider rewriting this model with the Functional API.\n",
      "WARNING:tensorflow:Layers in a Sequential model should only have a single input tensor, but we receive a <class 'dict'> input: {'longitude': <tf.Tensor 'ExpandDims_3:0' shape=(None, 1) dtype=float64>, 'latitude': <tf.Tensor 'ExpandDims_2:0' shape=(None, 1) dtype=float64>, 'housing_median_age': <tf.Tensor 'ExpandDims_1:0' shape=(None, 1) dtype=float64>, 'total_rooms': <tf.Tensor 'ExpandDims_8:0' shape=(None, 1) dtype=float64>, 'total_bedrooms': <tf.Tensor 'ExpandDims_7:0' shape=(None, 1) dtype=float64>, 'population': <tf.Tensor 'ExpandDims_6:0' shape=(None, 1) dtype=float64>, 'households': <tf.Tensor 'ExpandDims:0' shape=(None, 1) dtype=float64>, 'median_income': <tf.Tensor 'ExpandDims_4:0' shape=(None, 1) dtype=float64>, 'ocean_proximity': <tf.Tensor 'ExpandDims_5:0' shape=(None, 1) dtype=string>}\n",
      "Consider rewriting this model with the Functional API.\n",
      "408/409 [============================>.] - ETA: 0s - loss: 37637091975.5294 - mse: 37637091975.5294WARNING:tensorflow:Layers in a Sequential model should only have a single input tensor, but we receive a <class 'dict'> input: {'longitude': <tf.Tensor 'ExpandDims_3:0' shape=(None, 1) dtype=float64>, 'latitude': <tf.Tensor 'ExpandDims_2:0' shape=(None, 1) dtype=float64>, 'housing_median_age': <tf.Tensor 'ExpandDims_1:0' shape=(None, 1) dtype=float64>, 'total_rooms': <tf.Tensor 'ExpandDims_8:0' shape=(None, 1) dtype=float64>, 'total_bedrooms': <tf.Tensor 'ExpandDims_7:0' shape=(None, 1) dtype=float64>, 'population': <tf.Tensor 'ExpandDims_6:0' shape=(None, 1) dtype=float64>, 'households': <tf.Tensor 'ExpandDims:0' shape=(None, 1) dtype=float64>, 'median_income': <tf.Tensor 'ExpandDims_4:0' shape=(None, 1) dtype=float64>, 'ocean_proximity': <tf.Tensor 'ExpandDims_5:0' shape=(None, 1) dtype=string>}\n",
      "Consider rewriting this model with the Functional API.\n",
      "409/409 [==============================] - 2s 5ms/step - loss: 37594356296.4293 - mse: 37594356296.4293 - val_loss: 19896186880.0000 - val_mse: 19896186880.0000\n",
      "Epoch 2/32\n",
      "409/409 [==============================] - 1s 3ms/step - loss: 17521382542.3610 - mse: 17521382542.3610 - val_loss: 11074065408.0000 - val_mse: 11074065408.0000\n",
      "Epoch 3/32\n",
      "409/409 [==============================] - 1s 2ms/step - loss: 11628100280.8195 - mse: 11628100280.8195 - val_loss: 10454923264.0000 - val_mse: 10454923264.0000\n",
      "Epoch 4/32\n",
      "409/409 [==============================] - 1s 2ms/step - loss: 11059335020.6439 - mse: 11059335020.6439 - val_loss: 10039699456.0000 - val_mse: 10039699456.0000\n",
      "Epoch 5/32\n",
      "409/409 [==============================] - 1s 2ms/step - loss: 10515045750.6341 - mse: 10515045750.6341 - val_loss: 9721263104.0000 - val_mse: 9721263104.0000\n",
      "Epoch 6/32\n",
      "409/409 [==============================] - 1s 3ms/step - loss: 10176260471.8829 - mse: 10176260471.8829 - val_loss: 10229466112.0000 - val_mse: 10229466112.0000\n",
      "Epoch 7/32\n",
      "409/409 [==============================] - 1s 3ms/step - loss: 10221249473.5610 - mse: 10221249473.5610 - val_loss: 9216142336.0000 - val_mse: 9216142336.0000\n",
      "Epoch 8/32\n",
      "409/409 [==============================] - 1s 3ms/step - loss: 9401547984.5463 - mse: 9401547984.5463 - val_loss: 8909358080.0000 - val_mse: 8909358080.0000\n",
      "Epoch 9/32\n",
      "409/409 [==============================] - 1s 3ms/step - loss: 9255919044.0585 - mse: 9255919044.0585 - val_loss: 8530596864.0000 - val_mse: 8530596864.0000\n",
      "Epoch 10/32\n",
      "409/409 [==============================] - 2s 3ms/step - loss: 9048594511.9220 - mse: 9048594511.9220 - val_loss: 8257340928.0000 - val_mse: 8257340928.0000\n",
      "Epoch 11/32\n",
      "409/409 [==============================] - 1s 3ms/step - loss: 8613535057.1707 - mse: 8613535057.1707 - val_loss: 7701933568.0000 - val_mse: 7701933568.0000\n",
      "Epoch 12/32\n",
      "409/409 [==============================] - 1s 3ms/step - loss: 8124976808.5854 - mse: 8124976808.5854 - val_loss: 7539454976.0000 - val_mse: 7539454976.0000\n",
      "Epoch 13/32\n",
      "409/409 [==============================] - 1s 3ms/step - loss: 7646082421.3854 - mse: 7646082421.3854 - val_loss: 7201210368.0000 - val_mse: 7201210368.0000\n",
      "Epoch 14/32\n",
      "409/409 [==============================] - 2s 3ms/step - loss: 7280554866.8878 - mse: 7280554866.8878 - val_loss: 6889950720.0000 - val_mse: 6889950720.0000\n",
      "Epoch 15/32\n",
      "409/409 [==============================] - 2s 3ms/step - loss: 7083241680.5463 - mse: 7083241680.5463 - val_loss: 7039118336.0000 - val_mse: 7039118336.0000\n",
      "Epoch 16/32\n",
      "409/409 [==============================] - 1s 3ms/step - loss: 6761368923.1610 - mse: 6761368923.1610 - val_loss: 6563935232.0000 - val_mse: 6563935232.0000\n",
      "Epoch 17/32\n",
      "409/409 [==============================] - 2s 3ms/step - loss: 7049991646.2829 - mse: 7049991646.2829 - val_loss: 6441270784.0000 - val_mse: 6441270784.0000\n",
      "Epoch 18/32\n",
      "409/409 [==============================] - 1s 3ms/step - loss: 6569781506.4976 - mse: 6569781506.4976 - val_loss: 6242091008.0000 - val_mse: 6242091008.0000\n",
      "Epoch 19/32\n",
      "409/409 [==============================] - 1s 3ms/step - loss: 6650647687.4927 - mse: 6650647687.4927 - val_loss: 6382834688.0000 - val_mse: 6382834688.0000\n",
      "Epoch 20/32\n",
      "409/409 [==============================] - 2s 4ms/step - loss: 6225819348.2927 - mse: 6225819348.2927 - val_loss: 5940612096.0000 - val_mse: 5940612096.0000\n",
      "Epoch 21/32\n",
      "409/409 [==============================] - 2s 4ms/step - loss: 6095681109.5415 - mse: 6095681109.5415 - val_loss: 5820975616.0000 - val_mse: 5820975616.0000\n",
      "Epoch 22/32\n",
      "409/409 [==============================] - 1s 3ms/step - loss: 5883011415.4146 - mse: 5883011415.4146 - val_loss: 5750085120.0000 - val_mse: 5750085120.0000\n",
      "Epoch 23/32\n",
      "409/409 [==============================] - 2s 3ms/step - loss: 5768135207.9610 - mse: 5768135207.9610 - val_loss: 5991787520.0000 - val_mse: 5991787520.0000\n",
      "Epoch 24/32\n",
      "409/409 [==============================] - 2s 3ms/step - loss: 5872350585.1317 - mse: 5872350585.1317 - val_loss: 5500205568.0000 - val_mse: 5500205568.0000\n",
      "Epoch 25/32\n",
      "409/409 [==============================] - 2s 4ms/step - loss: 5740315413.2293 - mse: 5740315413.2293 - val_loss: 5527639040.0000 - val_mse: 5527639040.0000\n",
      "Epoch 26/32\n",
      "409/409 [==============================] - 1s 3ms/step - loss: 5602276224.0000 - mse: 5602276224.0000 - val_loss: 5323205120.0000 - val_mse: 5323205120.0000\n",
      "Epoch 27/32\n",
      "409/409 [==============================] - 1s 3ms/step - loss: 5527477510.2439 - mse: 5527477510.2439 - val_loss: 5488665088.0000 - val_mse: 5488665088.0000\n",
      "Epoch 28/32\n",
      "409/409 [==============================] - 2s 3ms/step - loss: 5657961940.2927 - mse: 5657961940.2927 - val_loss: 5414900224.0000 - val_mse: 5414900224.0000\n",
      "Epoch 29/32\n",
      "409/409 [==============================] - 2s 4ms/step - loss: 5368529909.3854 - mse: 5368529909.3854 - val_loss: 5355325952.0000 - val_mse: 5355325952.0000\n",
      "Epoch 30/32\n",
      "409/409 [==============================] - 2s 3ms/step - loss: 5523353382.7122 - mse: 5523353382.7122 - val_loss: 5149466112.0000 - val_mse: 5149466112.0000\n",
      "Epoch 31/32\n",
      "409/409 [==============================] - 2s 4ms/step - loss: 5363042231.5707 - mse: 5363042231.5707 - val_loss: 5088785920.0000 - val_mse: 5088785920.0000\n",
      "Epoch 32/32\n",
      "409/409 [==============================] - 1s 3ms/step - loss: 5136838479.9220 - mse: 5136838479.9220 - val_loss: 5482610688.0000 - val_mse: 5482610688.0000\n"
     ]
    }
   ],
   "source": [
    "# Create model\n",
    "\n",
    "feature_layer = tf.keras.layers.DenseFeatures(feature_columns, dtype=\"float64\")\n",
    "\n",
    "model = tf.keras.Sequential([\n",
    "    feature_layer,\n",
    "    layers.Dense(12, input_dim=8, activation=\"relu\"),\n",
    "    layers.Dense(8, activation=\"relu\"),\n",
    "    layers.Dense(1, activation=\"linear\", name=\"median_house_value\")\n",
    "])\n",
    "\n",
    "# Compile model\n",
    "\n",
    "opt = tf.keras.optimizers.Adam(learning_rate=0.01)\n",
    "model.compile(optimizer=opt,\n",
    "              loss=\"mse\",\n",
    "              metrics=[\"mse\"])\n",
    "\n",
    "# Train model\n",
    "history = model.fit(train_ds,\n",
    "                    validation_data=val_ds,\n",
    "                    epochs=32)"
   ]
  },
  {
   "cell_type": "code",
   "execution_count": 61,
   "id": "sought-wildlife",
   "metadata": {},
   "outputs": [
    {
     "data": {
      "image/png": "[encoded data removed]",
      "text/plain": [
       "<Figure size 720x360 with 2 Axes>"
      ]
     },
     "metadata": {
      "needs_background": "light"
     },
     "output_type": "display_data"
    }
   ],
   "source": [
    "def plot_curves(history, metrics):\n",
    "    nrows = 1\n",
    "    ncols = 2\n",
    "    fig = plt.figure(figsize=(10, 5))\n",
    "    \n",
    "    for idx, key in enumerate(metrics):\n",
    "        ax = fig.add_subplot(nrows, ncols, idx+1)\n",
    "        plt.plot(history.history[key])\n",
    "        plt.plot(history.history[\"val_{}\".format(key)])\n",
    "        plt.title(\"model {}\".format(key))\n",
    "        plt.ylabel(key)\n",
    "        plt.xlabel(\"epoch\")\n",
    "        plt.legend([\"train\", \"validation\"], loc=\"upper left\");\n",
    "        \n",
    "plot_curves(history, [\"loss\", \"mse\"])"
   ]
  },
  {
   "cell_type": "markdown",
   "id": "found-roman",
   "metadata": {},
   "source": [
    "### **Model 4 $-$ Hard coding the learning rate to `0.001`**"
   ]
  },
  {
   "cell_type": "code",
   "execution_count": 62,
   "id": "peaceful-bailey",
   "metadata": {
    "scrolled": true
   },
   "outputs": [
    {
     "name": "stdout",
     "output_type": "stream",
     "text": [
      "Epoch 1/32\n",
      "WARNING:tensorflow:Layers in a Sequential model should only have a single input tensor, but we receive a <class 'dict'> input: {'longitude': <tf.Tensor 'ExpandDims_3:0' shape=(None, 1) dtype=float64>, 'latitude': <tf.Tensor 'ExpandDims_2:0' shape=(None, 1) dtype=float64>, 'housing_median_age': <tf.Tensor 'ExpandDims_1:0' shape=(None, 1) dtype=float64>, 'total_rooms': <tf.Tensor 'ExpandDims_8:0' shape=(None, 1) dtype=float64>, 'total_bedrooms': <tf.Tensor 'ExpandDims_7:0' shape=(None, 1) dtype=float64>, 'population': <tf.Tensor 'ExpandDims_6:0' shape=(None, 1) dtype=float64>, 'households': <tf.Tensor 'ExpandDims:0' shape=(None, 1) dtype=float64>, 'median_income': <tf.Tensor 'ExpandDims_4:0' shape=(None, 1) dtype=float64>, 'ocean_proximity': <tf.Tensor 'ExpandDims_5:0' shape=(None, 1) dtype=string>}\n",
      "Consider rewriting this model with the Functional API.\n",
      "WARNING:tensorflow:Layers in a Sequential model should only have a single input tensor, but we receive a <class 'dict'> input: {'longitude': <tf.Tensor 'ExpandDims_3:0' shape=(None, 1) dtype=float64>, 'latitude': <tf.Tensor 'ExpandDims_2:0' shape=(None, 1) dtype=float64>, 'housing_median_age': <tf.Tensor 'ExpandDims_1:0' shape=(None, 1) dtype=float64>, 'total_rooms': <tf.Tensor 'ExpandDims_8:0' shape=(None, 1) dtype=float64>, 'total_bedrooms': <tf.Tensor 'ExpandDims_7:0' shape=(None, 1) dtype=float64>, 'population': <tf.Tensor 'ExpandDims_6:0' shape=(None, 1) dtype=float64>, 'households': <tf.Tensor 'ExpandDims:0' shape=(None, 1) dtype=float64>, 'median_income': <tf.Tensor 'ExpandDims_4:0' shape=(None, 1) dtype=float64>, 'ocean_proximity': <tf.Tensor 'ExpandDims_5:0' shape=(None, 1) dtype=string>}\n",
      "Consider rewriting this model with the Functional API.\n",
      "400/409 [============================>.] - ETA: 0s - loss: 54027502110.7200 - mse: 54027502110.7200WARNING:tensorflow:Layers in a Sequential model should only have a single input tensor, but we receive a <class 'dict'> input: {'longitude': <tf.Tensor 'ExpandDims_3:0' shape=(None, 1) dtype=float64>, 'latitude': <tf.Tensor 'ExpandDims_2:0' shape=(None, 1) dtype=float64>, 'housing_median_age': <tf.Tensor 'ExpandDims_1:0' shape=(None, 1) dtype=float64>, 'total_rooms': <tf.Tensor 'ExpandDims_8:0' shape=(None, 1) dtype=float64>, 'total_bedrooms': <tf.Tensor 'ExpandDims_7:0' shape=(None, 1) dtype=float64>, 'population': <tf.Tensor 'ExpandDims_6:0' shape=(None, 1) dtype=float64>, 'households': <tf.Tensor 'ExpandDims:0' shape=(None, 1) dtype=float64>, 'median_income': <tf.Tensor 'ExpandDims_4:0' shape=(None, 1) dtype=float64>, 'ocean_proximity': <tf.Tensor 'ExpandDims_5:0' shape=(None, 1) dtype=string>}\n",
      "Consider rewriting this model with the Functional API.\n",
      "409/409 [==============================] - 3s 5ms/step - loss: 53887384441.1317 - mse: 53887384441.1317 - val_loss: 29008783360.0000 - val_mse: 29008783360.0000\n",
      "Epoch 2/32\n",
      "409/409 [==============================] - 2s 4ms/step - loss: 27724467259.9415 - mse: 27724467259.9415 - val_loss: 24554027008.0000 - val_mse: 24554027008.0000\n",
      "Epoch 3/32\n",
      "409/409 [==============================] - 2s 3ms/step - loss: 27139385828.5268 - mse: 27139385828.5268 - val_loss: 24061591552.0000 - val_mse: 24061591552.0000\n",
      "Epoch 4/32\n",
      "409/409 [==============================] - 1s 3ms/step - loss: 26415692305.4829 - mse: 26415692305.4829 - val_loss: 23477590016.0000 - val_mse: 23477590016.0000\n",
      "Epoch 5/32\n",
      "409/409 [==============================] - 1s 3ms/step - loss: 25115758577.0146 - mse: 25115758577.0146 - val_loss: 23006590976.0000 - val_mse: 23006590976.0000\n",
      "Epoch 6/32\n",
      "409/409 [==============================] - 1s 3ms/step - loss: 24268706241.5610 - mse: 24268706241.5610 - val_loss: 22444494848.0000 - val_mse: 22444494848.0000\n",
      "Epoch 7/32\n",
      "409/409 [==============================] - 1s 3ms/step - loss: 23898415998.1268 - mse: 23898415998.1268 - val_loss: 21682591744.0000 - val_mse: 21682591744.0000\n",
      "Epoch 8/32\n",
      "409/409 [==============================] - 1s 3ms/step - loss: 23264200938.7707 - mse: 23264200938.7707 - val_loss: 20949739520.0000 - val_mse: 20949739520.0000\n",
      "Epoch 9/32\n",
      "409/409 [==============================] - 1s 3ms/step - loss: 21992064203.5512 - mse: 21992064203.5512 - val_loss: 19909470208.0000 - val_mse: 19909470208.0000\n",
      "Epoch 10/32\n",
      "409/409 [==============================] - 1s 3ms/step - loss: 20768159431.8049 - mse: 20768159431.8049 - val_loss: 18737639424.0000 - val_mse: 18737639424.0000\n",
      "Epoch 11/32\n",
      "409/409 [==============================] - 1s 3ms/step - loss: 19503459150.6732 - mse: 19503459150.6732 - val_loss: 17254871040.0000 - val_mse: 17254871040.0000\n",
      "Epoch 12/32\n",
      "409/409 [==============================] - 1s 3ms/step - loss: 17992236216.8195 - mse: 17992236216.8195 - val_loss: 15352435712.0000 - val_mse: 15352435712.0000\n",
      "Epoch 13/32\n",
      "409/409 [==============================] - 1s 3ms/step - loss: 16224101833.0537 - mse: 16224101833.0537 - val_loss: 13260561408.0000 - val_mse: 13260561408.0000\n",
      "Epoch 14/32\n",
      "409/409 [==============================] - 1s 3ms/step - loss: 14197533985.7171 - mse: 14197533985.7171 - val_loss: 11651471360.0000 - val_mse: 11651471360.0000\n",
      "Epoch 15/32\n",
      "409/409 [==============================] - 1s 3ms/step - loss: 12027439140.2146 - mse: 12027439140.2146 - val_loss: 10952098816.0000 - val_mse: 10952098816.0000\n",
      "Epoch 16/32\n",
      "409/409 [==============================] - 1s 3ms/step - loss: 11601005018.5366 - mse: 11601005018.5366 - val_loss: 10748042240.0000 - val_mse: 10748042240.0000\n",
      "Epoch 17/32\n",
      "409/409 [==============================] - 1s 3ms/step - loss: 11294387429.7756 - mse: 11294387429.7756 - val_loss: 10689112064.0000 - val_mse: 10689112064.0000\n",
      "Epoch 18/32\n",
      "409/409 [==============================] - 1s 3ms/step - loss: 11039413480.2732 - mse: 11039413480.2732 - val_loss: 10629743616.0000 - val_mse: 10629743616.0000\n",
      "Epoch 19/32\n",
      "409/409 [==============================] - 1s 3ms/step - loss: 11185824862.9073 - mse: 11185824862.9073 - val_loss: 10614647808.0000 - val_mse: 10614647808.0000\n",
      "Epoch 20/32\n",
      "409/409 [==============================] - 1s 3ms/step - loss: 10965284053.5415 - mse: 10965284053.5415 - val_loss: 10593084416.0000 - val_mse: 10593084416.0000\n",
      "Epoch 21/32\n",
      "409/409 [==============================] - 1s 3ms/step - loss: 10968931642.6927 - mse: 10968931642.6927 - val_loss: 10483466240.0000 - val_mse: 10483466240.0000\n",
      "Epoch 22/32\n",
      "409/409 [==============================] - 1s 3ms/step - loss: 10793263243.8634 - mse: 10793263243.8634 - val_loss: 10411705344.0000 - val_mse: 10411705344.0000\n",
      "Epoch 23/32\n",
      "409/409 [==============================] - 1s 3ms/step - loss: 11087242534.7122 - mse: 11087242534.7122 - val_loss: 10346279936.0000 - val_mse: 10346279936.0000\n",
      "Epoch 24/32\n",
      "409/409 [==============================] - 1s 3ms/step - loss: 10941508635.4732 - mse: 10941508635.4732 - val_loss: 10299866112.0000 - val_mse: 10299866112.0000\n",
      "Epoch 25/32\n",
      "409/409 [==============================] - 1s 3ms/step - loss: 10921164685.1122 - mse: 10921164685.1122 - val_loss: 10246617088.0000 - val_mse: 10246617088.0000\n",
      "Epoch 26/32\n",
      "409/409 [==============================] - 1s 3ms/step - loss: 11148401296.8585 - mse: 11148401296.8585 - val_loss: 10211351552.0000 - val_mse: 10211351552.0000\n",
      "Epoch 27/32\n",
      "409/409 [==============================] - 1s 3ms/step - loss: 10705946161.9512 - mse: 10705946161.9512 - val_loss: 10141665280.0000 - val_mse: 10141665280.0000\n",
      "Epoch 28/32\n",
      "409/409 [==============================] - 1s 3ms/step - loss: 10693373145.2878 - mse: 10693373145.2878 - val_loss: 10090602496.0000 - val_mse: 10090602496.0000\n",
      "Epoch 29/32\n",
      "409/409 [==============================] - 1s 3ms/step - loss: 10670723738.8488 - mse: 10670723738.8488 - val_loss: 10046642176.0000 - val_mse: 10046642176.0000\n",
      "Epoch 30/32\n",
      "409/409 [==============================] - 1s 3ms/step - loss: 10503195675.4732 - mse: 10503195675.4732 - val_loss: 10027001856.0000 - val_mse: 10027001856.0000\n",
      "Epoch 31/32\n",
      "409/409 [==============================] - 1s 3ms/step - loss: 10445818082.0293 - mse: 10445818082.0293 - val_loss: 9969006592.0000 - val_mse: 9969006592.0000\n",
      "Epoch 32/32\n",
      "409/409 [==============================] - 1s 3ms/step - loss: 10561185649.6390 - mse: 10561185649.6390 - val_loss: 9884198912.0000 - val_mse: 9884198912.0000\n"
     ]
    }
   ],
   "source": [
    "# Model create\n",
    "\n",
    "feature_layer = tf.keras.layers.DenseFeatures(feature_columns, dtype=\"float64\")\n",
    "\n",
    "model = tf.keras.Sequential([\n",
    "    feature_layer,\n",
    "    tf.keras.layers.Dense(12, input_dim=8, activation=\"relu\"),\n",
    "    tf.keras.layers.Dense(8, activation=\"relu\"),\n",
    "    tf.keras.layers.Dense(1, activation=\"linear\", name=\"median_house_value\")\n",
    "])\n",
    "\n",
    "# Compile model\n",
    "opt = tf.keras.optimizers.Adam(learning_rate=0.001)\n",
    "model.compile(optimizer=opt,\n",
    "              loss=\"mse\",\n",
    "              metrics=[\"mse\"])\n",
    "\n",
    "# Train model\n",
    "history = model.fit(train_ds,\n",
    "                    validation_data=val_ds,\n",
    "                    epochs=32)"
   ]
  },
  {
   "cell_type": "code",
   "execution_count": 64,
   "id": "random-briefing",
   "metadata": {},
   "outputs": [
    {
     "data": {
      "image/png": "[encoded data removed]",
      "text/plain": [
       "<Figure size 720x360 with 2 Axes>"
      ]
     },
     "metadata": {
      "needs_background": "light"
     },
     "output_type": "display_data"
    }
   ],
   "source": [
    "def plot_curves(history, metrics):\n",
    "    nrows = 1\n",
    "    ncols = 2\n",
    "    fig = plt.figure(figsize=(10, 5))\n",
    "    \n",
    "    for idx, key in enumerate(metrics):\n",
    "        ax = fig.add_subplot(nrows, ncols, idx+1)\n",
    "        plt.plot(history.history[key])\n",
    "        plt.plot(history.history[\"val_{}\".format(key)])\n",
    "        plt.title(\"model {}\".format(key))\n",
    "        plt.ylabel(key)\n",
    "        plt.xlabel(\"epoch\")\n",
    "        plt.legend([\"train\", \"validation\"], loc=\"upper left\");\n",
    "        \n",
    "plot_curves(history, [\"loss\", \"mse\"])"
   ]
  }
 ],
 "metadata": {
  "kernelspec": {
   "display_name": "Python 3",
   "language": "python",
   "name": "python3"
  },
  "language_info": {
   "codemirror_mode": {
    "name": "ipython",
    "version": 3
   },
   "file_extension": ".py",
   "mimetype": "text/x-python",
   "name": "python",
   "nbconvert_exporter": "python",
   "pygments_lexer": "ipython3",
   "version": "3.8.5"
  }
 },
 "nbformat": 4,
 "nbformat_minor": 5
}
