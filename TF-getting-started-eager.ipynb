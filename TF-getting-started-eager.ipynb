{
 "cells": [
  {
   "cell_type": "markdown",
   "id": "guided-polymer",
   "metadata": {},
   "source": [
    "# **Getting started with TensorFlow (Eager execution mode)**\n",
    "\n",
    "**Learning objectives**\n",
    "\n",
    "- Understand the differences between TensorFlow two execution modes: **eager execution** and **graph execution**\n",
    "- Practice defining and performing basic operations on constant `tensors`\n",
    "- Use TensorFlow automatic differentiation capability"
   ]
  },
  {
   "cell_type": "code",
   "execution_count": null,
   "id": "operational-massage",
   "metadata": {},
   "outputs": [],
   "source": []
  }
 ],
 "metadata": {
  "kernelspec": {
   "display_name": "Python 3",
   "language": "python",
   "name": "python3"
  },
  "language_info": {
   "codemirror_mode": {
    "name": "ipython",
    "version": 3
   },
   "file_extension": ".py",
   "mimetype": "text/x-python",
   "name": "python",
   "nbconvert_exporter": "python",
   "pygments_lexer": "ipython3",
   "version": "3.8.5"
  }
 },
 "nbformat": 4,
 "nbformat_minor": 5
}
