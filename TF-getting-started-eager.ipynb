{
 "cells": [
  {
   "cell_type": "markdown",
   "id": "enormous-daisy",
   "metadata": {},
   "source": [
    "# **Getting started with TensorFlow (Eager execution mode)**\n",
    "\n",
    "**Learning objectives**\n",
    "\n",
    "- Understand the differences between TensorFlow two execution modes: **eager execution** and **graph execution**\n",
    "- Practice defining and performing basic operations on constant `tensors`\n",
    "- Use TensorFlow automatic differentiation capability"
   ]
  },
  {
   "cell_type": "markdown",
   "id": "suffering-mattress",
   "metadata": {},
   "source": [
    "## **Introduction**\n",
    "\n",
    "**Eager execution**\n",
    "\n",
    "Eager mode evaluates operations immediately and returns concrete values immediately. To enable eager mode simple place `tf.enable_eager_execution()` at the top of the code. It is recommended to use eager execution when prototyping as it is intuitive, easier to debug, and requires less boilerplate code.\n",
    "\n",
    "**Graph execution**\n",
    "\n",
    "Graph mode (aka delayed execution mode) is TensorFlow default execution mode (although this will change to eager with `TF 2.0`). In graph mode operations only produce a symbolic graph which doesn't get executed until run within the context of a `tf.Session()`. This style of coding is less intuitive and has more boilerplate, however it can lead to performance optimisations and is particularly suited for distributing training across multiple devices. It is recommended to use delayed execution for performance sensitive production code."
   ]
  },
  {
   "cell_type": "code",
   "execution_count": 1,
   "id": "southeast-background",
   "metadata": {},
   "outputs": [
    {
     "name": "stdout",
     "output_type": "stream",
     "text": [
      "2.4.1\n"
     ]
    }
   ],
   "source": [
    "import tensorflow as tf\n",
    "print(tf.__version__)"
   ]
  },
  {
   "cell_type": "markdown",
   "id": "boring-usage",
   "metadata": {},
   "source": [
    "## **Eager execution**\n",
    "\n",
    "This mode is set by default on TensorFlow 2.x"
   ]
  },
  {
   "cell_type": "markdown",
   "id": "simple-prototype",
   "metadata": {},
   "source": [
    "### **Adding two tensors**\n",
    "\n",
    "The value of a tensor, as well as its shape and data type are printed"
   ]
  },
  {
   "cell_type": "code",
   "execution_count": 2,
   "id": "according-holmes",
   "metadata": {},
   "outputs": [
    {
     "name": "stdout",
     "output_type": "stream",
     "text": [
      "tf.Tensor([ 8  2 10], shape=(3,), dtype=int32)\n"
     ]
    }
   ],
   "source": [
    "a = tf.constant(value=[5, 3, 8], dtype=tf.int32)\n",
    "b = tf.constant(value=[3, -1, 2], dtype=tf.int32)\n",
    "c = tf.add(x=a, y=b)\n",
    "print(c)"
   ]
  },
  {
   "cell_type": "markdown",
   "id": "periodic-storm",
   "metadata": {},
   "source": [
    "**Overloaded operators**\n",
    "\n",
    "We can also perform a `tf.add()` using the `+` operator. The `/, -, *` and `**` operators are similarly overloaded with the appropriate tensorflow operation."
   ]
  },
  {
   "cell_type": "code",
   "execution_count": 3,
   "id": "former-official",
   "metadata": {},
   "outputs": [
    {
     "name": "stdout",
     "output_type": "stream",
     "text": [
      "tf.Tensor([ 8  2 10], shape=(3,), dtype=int32)\n"
     ]
    }
   ],
   "source": [
    "c = a + b\n",
    "print(c)"
   ]
  },
  {
   "cell_type": "markdown",
   "id": "imported-wisdom",
   "metadata": {},
   "source": [
    "### **NumPy interoperability**\n",
    "\n",
    "In addition to native TF tensors, tensorflow operations can take native python types and NumPy arrays as operands."
   ]
  },
  {
   "cell_type": "code",
   "execution_count": 4,
   "id": "vertical-crossing",
   "metadata": {},
   "outputs": [
    {
     "name": "stdout",
     "output_type": "stream",
     "text": [
      "Type: <class 'tensorflow.python.framework.ops.EagerTensor'>, Value: [4 6]\n",
      "Type: <class 'tensorflow.python.framework.ops.EagerTensor'>, Value: [4 6]\n",
      "Type: <class 'tensorflow.python.framework.ops.EagerTensor'>, Value: [4 6]\n"
     ]
    }
   ],
   "source": [
    "import numpy as np\n",
    "\n",
    "a_py = [1, 2] # native Python list\n",
    "b_py = [3, 4] # native Python list\n",
    "\n",
    "a_np = np.array([1, 2]) # NumPy array\n",
    "b_np = np.array([3, 4]) # NumPy array\n",
    "\n",
    "a_tf = tf.constant(value=[1, 2], dtype=tf.int32) # native TensorFlow tensor\n",
    "b_tf = tf.constant(value=[3, 4], dtype=tf.int32) # native TensorFlow tensor\n",
    "\n",
    "for result in [tf.add(x=a_py, y=b_py), tf.add(x=a_np, y=b_np), tf.add(x=a_tf, y=b_tf)]:\n",
    "    print(\"Type: {}, Value: {}\".format(type(result), result))"
   ]
  },
  {
   "cell_type": "markdown",
   "id": "compact-stylus",
   "metadata": {},
   "source": [
    "A native TensorFlow tensor can be converted to a NumPy array using `.numpy()`."
   ]
  },
  {
   "cell_type": "code",
   "execution_count": 7,
   "id": "gothic-diameter",
   "metadata": {},
   "outputs": [
    {
     "data": {
      "text/plain": [
       "array([1, 2], dtype=int32)"
      ]
     },
     "execution_count": 7,
     "metadata": {},
     "output_type": "execute_result"
    }
   ],
   "source": [
    "a_tf.numpy()"
   ]
  },
  {
   "cell_type": "markdown",
   "id": "empty-copying",
   "metadata": {},
   "source": [
    "## **Linear Regression**\n",
    "\n",
    "Now let's use low level tensorflow operations to implement linear regression.\n",
    "\n",
    "### **Toy data set**\n",
    "\n",
    "We'll model the following function:\n",
    "\n",
    "$$\n",
    "y = 2x + 10\n",
    "$$"
   ]
  },
  {
   "cell_type": "code",
   "execution_count": 19,
   "id": "approved-confirmation",
   "metadata": {},
   "outputs": [
    {
     "name": "stdout",
     "output_type": "stream",
     "text": [
      "X: [ 0.  1.  2.  3.  4.  5.  6.  7.  8.  9. 10.]\n",
      "Y: [10. 12. 14. 16. 18. 20. 22. 24. 26. 28. 30.]\n"
     ]
    }
   ],
   "source": [
    "X = tf.constant(value=np.arange(11), dtype=tf.float32)\n",
    "Y = 2*X + 10\n",
    "print(\"X: {}\".format(X))\n",
    "print(\"Y: {}\".format(Y))"
   ]
  },
  {
   "cell_type": "markdown",
   "id": "specified-survey",
   "metadata": {},
   "source": [
    "### **Loss function**\n",
    "\n",
    "Using mean squared error, the loss function is:\n",
    "\n",
    "$$\n",
    "\\Sum\n",
    "$$"
   ]
  },
  {
   "cell_type": "code",
   "execution_count": null,
   "id": "compatible-happening",
   "metadata": {},
   "outputs": [],
   "source": []
  }
 ],
 "metadata": {
  "kernelspec": {
   "display_name": "Python 3",
   "language": "python",
   "name": "python3"
  },
  "language_info": {
   "codemirror_mode": {
    "name": "ipython",
    "version": 3
   },
   "file_extension": ".py",
   "mimetype": "text/x-python",
   "name": "python",
   "nbconvert_exporter": "python",
   "pygments_lexer": "ipython3",
   "version": "3.8.5"
  }
 },
 "nbformat": 4,
 "nbformat_minor": 5
}
