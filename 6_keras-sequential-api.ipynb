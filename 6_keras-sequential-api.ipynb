{
 "cells": [
  {
   "cell_type": "markdown",
   "id": "exceptional-direction",
   "metadata": {},
   "source": [
    "# **Introducing the Keras Sequential API**\n",
    "\n",
    "**Learning objectives**\n",
    "\n",
    "1. Build a DNN model using the Keras Sequential API\n",
    "2. Learn how to use feature columns in a Keras model\n",
    "3. Learn how to train a model with Keras\n",
    "4. Learn how to save/load and deploy a Keras model on GCP\n",
    "5. Learn how to deploy and make predictions with a"
   ]
  }
 ],
 "metadata": {
  "kernelspec": {
   "display_name": "Python 3",
   "language": "python",
   "name": "python3"
  },
  "language_info": {
   "codemirror_mode": {
    "name": "ipython",
    "version": 3
   },
   "file_extension": ".py",
   "mimetype": "text/x-python",
   "name": "python",
   "nbconvert_exporter": "python",
   "pygments_lexer": "ipython3",
   "version": "3.8.5"
  }
 },
 "nbformat": 4,
 "nbformat_minor": 5
}
