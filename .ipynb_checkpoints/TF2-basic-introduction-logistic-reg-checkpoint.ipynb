{
 "cells": [
  {
   "cell_type": "markdown",
   "id": "universal-shame",
   "metadata": {},
   "source": [
    "# **Basic introduction to Logistic Regression in TensorFlow 2.0**\n",
    "\n",
    "## **Learning Objectives**\n",
    "\n",
    "1. Build a logistic regression model\n",
    "2. Train the model on example data\n",
    "3. Use the model to make predictions about unknown data\n",
    "\n",
    "## **Introduction**\n",
    "\n",
    "This notebook walks through a classification problem. The goal is to *categorise* Iris flowers by species. TensorFlow is used for:\n",
    "- getting familiar with default eager execution environment\n",
    "- importing data with the Datasets API\n",
    "- building models and layers with the Keras API"
   ]
  },
  {
   "cell_type": "code",
   "execution_count": null,
   "id": "oriented-authority",
   "metadata": {},
   "outputs": [],
   "source": []
  }
 ],
 "metadata": {
  "kernelspec": {
   "display_name": "Python 3",
   "language": "python",
   "name": "python3"
  },
  "language_info": {
   "codemirror_mode": {
    "name": "ipython",
    "version": 3
   },
   "file_extension": ".py",
   "mimetype": "text/x-python",
   "name": "python",
   "nbconvert_exporter": "python",
   "pygments_lexer": "ipython3",
   "version": "3.8.5"
  }
 },
 "nbformat": 4,
 "nbformat_minor": 5
}
