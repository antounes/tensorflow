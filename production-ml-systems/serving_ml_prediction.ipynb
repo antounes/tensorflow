{
 "cells": [
  {
   "cell_type": "markdown",
   "id": "fallen-intersection",
   "metadata": {},
   "source": [
    "# Serving ML Predictions in batch and real-time"
   ]
  },
  {
   "cell_type": "markdown",
   "id": "above-uniform",
   "metadata": {},
   "source": [
    "**Learning objectives**"
   ]
  },
  {
   "cell_type": "markdown",
   "id": "southern-performer",
   "metadata": {},
   "source": [
    "1. Copy trained model into your bucket\n",
    "2. Deploy AI Platform trained model"
   ]
  },
  {
   "cell_type": "markdown",
   "id": "confirmed-reporter",
   "metadata": {},
   "source": [
    "## Introduction"
   ]
  },
  {
   "cell_type": "markdown",
   "id": "finite-essence",
   "metadata": {},
   "source": [
    "In this notebook, we will create a prediction service that calls your trained model deployed in Cloud to serve predictions."
   ]
  },
  {
   "cell_type": "markdown",
   "id": "impressive-password",
   "metadata": {},
   "source": [
    "## Copy trained model"
   ]
  },
  {
   "cell_type": "markdown",
   "id": "presidential-secretariat",
   "metadata": {},
   "source": [
    "Set necessary variables"
   ]
  },
  {
   "cell_type": "code",
   "execution_count": null,
   "id": "confident-measurement",
   "metadata": {},
   "outputs": [],
   "source": [
    "PROJECT = \"cloud-training-demos\"\n",
    "BUCKET = PROJECT\n",
    "REGION = \"us-central1\"\n",
    "TFVERSION = \"2.1\""
   ]
  },
  {
   "cell_type": "code",
   "execution_count": null,
   "id": "loaded-replication",
   "metadata": {},
   "outputs": [],
   "source": [
    "import os\n",
    "os.environ[\"BUCKET\"] = BUCKET\n",
    "os.environ[\"PROJECT\"] = PROJECT\n",
    "os.environ[\"REGION\"] = REGION\n",
    "os.environ[\"TFVERSION\"] = TFVERSION"
   ]
  },
  {
   "cell_type": "markdown",
   "id": "parental-links",
   "metadata": {},
   "source": [
    "Create a bucket and copy trained model."
   ]
  },
  {
   "cell_type": "code",
   "execution_count": null,
   "id": "weighted-barrier",
   "metadata": {},
   "outputs": [],
   "source": [
    "%%bash\n",
    "if ! gsutil ls -r gs://${BUCKET} | grep -q gs://${BUCKET}/babyweight/trained_model/; then\n",
    "    gsutil mb -l ${REGION} gs://${BUCKET}\n",
    "    gsutil -m cp -R gs://cloud-training-demos/babyweight/trained_model g://${BUCKET}/babyweight\n",
    "fi"
   ]
  },
  {
   "cell_type": "markdown",
   "id": "boring-brazilian",
   "metadata": {},
   "source": [
    "## Deploy trained model"
   ]
  },
  {
   "cell_type": "markdown",
   "id": "bearing-murder",
   "metadata": {},
   "source": [
    "We'll now deploy our model. This will take a few minutes. Once the cell below completes, you should be able to see your newly deployed model in the *Models* portion of the AI Platform section of the GCP console."
   ]
  },
  {
   "cell_type": "code",
   "execution_count": null,
   "id": "improving-amount",
   "metadata": {},
   "outputs": [],
   "source": [
    "%%bash\n",
    "# Set necessary variables\n",
    "MODEL_NAME = \"babyweight\"\n",
    "MODEL_VERSION = \"ml_on_gcp\"\n",
    "MODEL_LOCATION=$(gsutil ls gs://${BUCKET}/babyweight/export/exporter/ | tail -1)\n",
    "\n",
    "# Set the region to global by executing the following command\n",
    "gcloud config set ai_platform/region global\n",
    "\n",
    "echo \"Deploying the model '$MODEL_NAME', version '$MODEL_VERSION' from $MODEL_LOCATION\"\n",
    "echo \"... this will take a few minutes\"\n",
    "\n",
    "# Deploy trained model\n",
    "gcloud ai-platform models create ${MODEL_NAME} --regions $REGION\n",
    "# Create new AI Platform version\n",
    "gcloud ai-platform versions create ${MODEL_VERSION} \\\n",
    "    --model ${MODEL_NAME} \\\n",
    "    --origin ${MODEL_LOCATION} \\\n",
    "    --runtime-version $TFVERSION"
   ]
  }
 ],
 "metadata": {
  "kernelspec": {
   "display_name": "Python 3",
   "language": "python",
   "name": "python3"
  },
  "language_info": {
   "codemirror_mode": {
    "name": "ipython",
    "version": 3
   },
   "file_extension": ".py",
   "mimetype": "text/x-python",
   "name": "python",
   "nbconvert_exporter": "python",
   "pygments_lexer": "ipython3",
   "version": "3.8.5"
  }
 },
 "nbformat": 4,
 "nbformat_minor": 5
}
