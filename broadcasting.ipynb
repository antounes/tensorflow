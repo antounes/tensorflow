{
 "cells": [
  {
   "cell_type": "markdown",
   "id": "smaller-spare",
   "metadata": {},
   "source": [
    "# **Broadcasting**\n",
    "\n",
    "In NumPy, broadcasting is a mean of **vectorising ops** and thereby removing slow Python loops. Broadcasting is simply a set of rules for applying binary `ufuncs` (e.g. addition, subtraction, multiplication, etc.) **on arrays of different sizes**."
   ]
  },
  {
   "cell_type": "markdown",
   "id": "abroad-storm",
   "metadata": {},
   "source": [
    "## **Introducing broadcasting**\n",
    "\n",
    "For arrays of the same size, binary ops are performed on an element-by-element basis"
   ]
  },
  {
   "cell_type": "code",
   "execution_count": 2,
   "id": "committed-superior",
   "metadata": {},
   "outputs": [],
   "source": [
    "import numpy as np"
   ]
  },
  {
   "cell_type": "code",
   "execution_count": 3,
   "id": "injured-bones",
   "metadata": {},
   "outputs": [
    {
     "data": {
      "text/plain": [
       "array([5, 6, 7])"
      ]
     },
     "execution_count": 3,
     "metadata": {},
     "output_type": "execute_result"
    }
   ],
   "source": [
    "a = np.array([0, 1, 2])\n",
    "b = np.array([5, 5, 5])\n",
    "a + b"
   ]
  },
  {
   "cell_type": "markdown",
   "id": "lovely-posting",
   "metadata": {},
   "source": [
    "Broadcasting allows these types of binary operations to be performed on arrays of different sizes - for example adding a scalar (a 0-dimensional array) to an array"
   ]
  },
  {
   "cell_type": "code",
   "execution_count": 4,
   "id": "promotional-housing",
   "metadata": {},
   "outputs": [
    {
     "data": {
      "text/plain": [
       "array([5, 6, 7])"
      ]
     },
     "execution_count": 4,
     "metadata": {},
     "output_type": "execute_result"
    }
   ],
   "source": [
    "a + 5"
   ]
  },
  {
   "cell_type": "markdown",
   "id": "running-arbor",
   "metadata": {},
   "source": [
    "We can think of this as an operation that stretches or duplicates the value `5` into the array `[5, 5, 5]` and adds the results. The advantage of NumPy broadcasting is that this duplication of values does not actually take place, but it is a useful mental model as we think about broadcasting.\n",
    "\n",
    "We can similarly extend this to arrays of higher dimension. Observe the result when we add a one-dimensional array to a two-dimensional array."
   ]
  },
  {
   "cell_type": "code",
   "execution_count": 8,
   "id": "altered-official",
   "metadata": {},
   "outputs": [
    {
     "data": {
      "text/plain": [
       "array([[1., 1., 1.],\n",
       "       [1., 1., 1.],\n",
       "       [1., 1., 1.]])"
      ]
     },
     "execution_count": 8,
     "metadata": {},
     "output_type": "execute_result"
    }
   ],
   "source": [
    "M = np.ones((3, 3))\n",
    "M"
   ]
  },
  {
   "cell_type": "code",
   "execution_count": 9,
   "id": "mineral-departure",
   "metadata": {},
   "outputs": [
    {
     "data": {
      "text/plain": [
       "array([[1., 2., 3.],\n",
       "       [1., 2., 3.],\n",
       "       [1., 2., 3.]])"
      ]
     },
     "execution_count": 9,
     "metadata": {},
     "output_type": "execute_result"
    }
   ],
   "source": [
    "M + a"
   ]
  },
  {
   "cell_type": "markdown",
   "id": "collect-mongolia",
   "metadata": {},
   "source": [
    "Here the one dimensional array `a` is stretched, or broadcast across the second dimension in order to match the shape of `M`. While these examples are relatively easy to understand, more complicated cases can involve broadcasting of both arrays. Consider the following example:"
   ]
  },
  {
   "cell_type": "code",
   "execution_count": 31,
   "id": "final-commonwealth",
   "metadata": {},
   "outputs": [],
   "source": [
    "a = np.arange(3)\n",
    "b = np.arange(3).reshape((3, 1))"
   ]
  },
  {
   "cell_type": "code",
   "execution_count": 32,
   "id": "representative-reaction",
   "metadata": {},
   "outputs": [
    {
     "data": {
      "text/plain": [
       "array([0, 1, 2])"
      ]
     },
     "execution_count": 32,
     "metadata": {},
     "output_type": "execute_result"
    }
   ],
   "source": [
    "a"
   ]
  },
  {
   "cell_type": "code",
   "execution_count": 33,
   "id": "moved-ending",
   "metadata": {},
   "outputs": [
    {
     "data": {
      "text/plain": [
       "array([[0],\n",
       "       [1],\n",
       "       [2]])"
      ]
     },
     "execution_count": 33,
     "metadata": {},
     "output_type": "execute_result"
    }
   ],
   "source": [
    "b"
   ]
  },
  {
   "cell_type": "code",
   "execution_count": 20,
   "id": "composite-namibia",
   "metadata": {},
   "outputs": [
    {
     "data": {
      "text/plain": [
       "array([[0, 1, 2],\n",
       "       [1, 2, 3],\n",
       "       [2, 3, 4]])"
      ]
     },
     "execution_count": 20,
     "metadata": {},
     "output_type": "execute_result"
    }
   ],
   "source": [
    "a + b"
   ]
  },
  {
   "cell_type": "markdown",
   "id": "under-liabilities",
   "metadata": {},
   "source": [
    "Just as before, we stretched or broadcasted one value to match the shape of the other. Here we've stretched *both* `a` and `b` to match a common shape, and the result is a two-dimensional array!\n",
    "\n",
    "<center><img src=\"img/broadcast-array.png\" width=400 height=400><\\center>\n",
    "    \n",
    "\n",
    "The light boxes represent the broadcast values: again, this extra memory is not actually allocated in the course of the operation, but it can be useful conceptually to imagine that it is."
   ]
  },
  {
   "cell_type": "markdown",
   "id": "successful-scheme",
   "metadata": {},
   "source": [
    "## **Rules of broadcasting**\n",
    "\n",
    "Broadcasting in NumPy follows a strict set of rules to determine the interaction between the two arrays:\n",
    "- Rule 1: If the two arrays differ in their number of dimensions, the shape of the one with the fewer dimensions is *padded* with ones on its leading (left) side.\n",
    "- Rule 2: If the shape of the two arrays does not match in any dimension, the array with shape equal to 1 in that dimension is stretched to match the other shape.\n",
    "- Rule 3: If in any dimension the sizes disagree and neither is equal to 1, an error is raised.\n",
    "\n",
    "### **Broadcasting example 1**\n",
    "\n",
    "Let's look at adding a two-dimensional array to a one-dimensional array:"
   ]
  },
  {
   "cell_type": "code",
   "execution_count": 27,
   "id": "needed-multimedia",
   "metadata": {},
   "outputs": [],
   "source": [
    "M = np.ones((2, 3))\n",
    "a = np.arange(3)"
   ]
  },
  {
   "cell_type": "code",
   "execution_count": 28,
   "id": "greenhouse-times",
   "metadata": {},
   "outputs": [
    {
     "data": {
      "text/plain": [
       "array([[1., 1., 1.],\n",
       "       [1., 1., 1.]])"
      ]
     },
     "execution_count": 28,
     "metadata": {},
     "output_type": "execute_result"
    }
   ],
   "source": [
    "M"
   ]
  },
  {
   "cell_type": "code",
   "execution_count": 29,
   "id": "documentary-psychiatry",
   "metadata": {},
   "outputs": [
    {
     "data": {
      "text/plain": [
       "array([0, 1, 2])"
      ]
     },
     "execution_count": 29,
     "metadata": {},
     "output_type": "execute_result"
    }
   ],
   "source": [
    "a"
   ]
  },
  {
   "cell_type": "markdown",
   "id": "trained-headquarters",
   "metadata": {},
   "source": [
    "Let's consider an op on these two arrays. The shapes of the arrays are\n",
    "- M.shape = (2, 3)\n",
    "- a.shape = (3,)\n",
    "\n",
    "We see by rule 1 that `a` has fewer dimensions, so we pad **its shape** on the left with ones:\n",
    "- M.shape -> (2, 3)\n",
    "- a.shape -> (1,3)\n",
    "\n",
    "By rule 2, we now see that the first dimension disagrees, so we **stretch this dimension** to match:\n",
    "- M.shape -> (2, 3)\n",
    "- a.shape -> (2, 3)\n",
    "\n",
    "The shapes match then, and we see that the final shape will be (2, 3):"
   ]
  },
  {
   "cell_type": "code",
   "execution_count": 30,
   "id": "seasonal-procurement",
   "metadata": {},
   "outputs": [
    {
     "data": {
      "text/plain": [
       "array([[1., 2., 3.],\n",
       "       [1., 2., 3.]])"
      ]
     },
     "execution_count": 30,
     "metadata": {},
     "output_type": "execute_result"
    }
   ],
   "source": [
    "M + a"
   ]
  },
  {
   "cell_type": "markdown",
   "id": "leading-completion",
   "metadata": {},
   "source": [
    "### **Broadcasting example 2**\n",
    "\n",
    "Let's take a look at an example where both arrays need to be broadcast:"
   ]
  },
  {
   "cell_type": "code",
   "execution_count": 34,
   "id": "visible-deadline",
   "metadata": {},
   "outputs": [],
   "source": [
    "a = np.arange(3).reshape((3, 1))\n",
    "b = np.arange(3)"
   ]
  },
  {
   "cell_type": "code",
   "execution_count": 35,
   "id": "mediterranean-appreciation",
   "metadata": {},
   "outputs": [
    {
     "data": {
      "text/plain": [
       "array([[0],\n",
       "       [1],\n",
       "       [2]])"
      ]
     },
     "execution_count": 35,
     "metadata": {},
     "output_type": "execute_result"
    }
   ],
   "source": [
    "a"
   ]
  },
  {
   "cell_type": "code",
   "execution_count": 36,
   "id": "incoming-functionality",
   "metadata": {},
   "outputs": [
    {
     "data": {
      "text/plain": [
       "array([0, 1, 2])"
      ]
     },
     "execution_count": 36,
     "metadata": {},
     "output_type": "execute_result"
    }
   ],
   "source": [
    "b"
   ]
  },
  {
   "cell_type": "markdown",
   "id": "funded-control",
   "metadata": {},
   "source": [
    "Again, we'll start by writing out the shapes of the arrays:\n",
    "- a.shape = (3, 1)\n",
    "- b.shape = (3,)\n",
    "\n",
    "Rule 1 says that we must **pad the shape of `b`** with `1`:\n",
    "- a.shape -> (3, 1)\n",
    "- b.shape -> (1, 3)\n",
    "\n",
    "Rule 2 says that we must **upgrade each of the `1`** of both arrays to match the corresponding size of the other array:\n",
    "- a.shape -> (3, 3)\n",
    "- b.shape -> (3, 3)\n",
    "\n",
    "Because the result matches, these shapes are compatible. We can see this here:"
   ]
  },
  {
   "cell_type": "code",
   "execution_count": 37,
   "id": "turkish-wealth",
   "metadata": {},
   "outputs": [
    {
     "data": {
      "text/plain": [
       "array([[0, 1, 2],\n",
       "       [1, 2, 3],\n",
       "       [2, 3, 4]])"
      ]
     },
     "execution_count": 37,
     "metadata": {},
     "output_type": "execute_result"
    }
   ],
   "source": [
    "a + b"
   ]
  },
  {
   "cell_type": "markdown",
   "id": "baking-error",
   "metadata": {},
   "source": [
    "### **Broadcasting example 3**\n",
    "\n",
    "Now let's take a look at an example in which the two arrays are not compatible:"
   ]
  },
  {
   "cell_type": "code",
   "execution_count": 38,
   "id": "consistent-memory",
   "metadata": {},
   "outputs": [],
   "source": [
    "M = np.ones((3, 2))\n",
    "a = np.arange(3)"
   ]
  },
  {
   "cell_type": "code",
   "execution_count": 39,
   "id": "linear-kennedy",
   "metadata": {},
   "outputs": [
    {
     "data": {
      "text/plain": [
       "array([[1., 1.],\n",
       "       [1., 1.],\n",
       "       [1., 1.]])"
      ]
     },
     "execution_count": 39,
     "metadata": {},
     "output_type": "execute_result"
    }
   ],
   "source": [
    "M"
   ]
  },
  {
   "cell_type": "code",
   "execution_count": 40,
   "id": "opening-methodology",
   "metadata": {},
   "outputs": [
    {
     "data": {
      "text/plain": [
       "array([0, 1, 2])"
      ]
     },
     "execution_count": 40,
     "metadata": {},
     "output_type": "execute_result"
    }
   ],
   "source": [
    "a"
   ]
  },
  {
   "cell_type": "markdown",
   "id": "protected-location",
   "metadata": {},
   "source": [
    "This is just a slightly different situation than in the first example: the matrix `M` is transposed. How does this affect the calculation ? The shape of the arrays are \n",
    "- M.shape = (3, 2)\n",
    "- a.shape = (3,)\n",
    "\n",
    "Again, rule 1 tells us that we must **pad the shape of `a`** with ones:\n",
    "- M.shape -> (3, 2)\n",
    "- a.shape -> (1, 3)\n",
    "\n",
    "By rule 2, the first dimension of `a` is stretched to match that of `M`:\n",
    "- M.shape -> (3, 2)\n",
    "- a.shape -> (3, 3)\n",
    "\n",
    "Now we hit rule 3 - the final shapes do not match, so these arrays are incompatible, as we can observe by attempting this operation:"
   ]
  },
  {
   "cell_type": "code",
   "execution_count": 41,
   "id": "middle-collection",
   "metadata": {},
   "outputs": [
    {
     "ename": "ValueError",
     "evalue": "operands could not be broadcast together with shapes (3,2) (3,) ",
     "output_type": "error",
     "traceback": [
      "\u001b[0;31m---------------------------------------------------------------------------\u001b[0m",
      "\u001b[0;31mValueError\u001b[0m                                Traceback (most recent call last)",
      "\u001b[0;32m<ipython-input-41-8cac1d547906>\u001b[0m in \u001b[0;36m<module>\u001b[0;34m\u001b[0m\n\u001b[0;32m----> 1\u001b[0;31m \u001b[0mM\u001b[0m \u001b[0;34m+\u001b[0m \u001b[0ma\u001b[0m\u001b[0;34m\u001b[0m\u001b[0;34m\u001b[0m\u001b[0m\n\u001b[0m",
      "\u001b[0;31mValueError\u001b[0m: operands could not be broadcast together with shapes (3,2) (3,) "
     ]
    }
   ],
   "source": [
    "M + a"
   ]
  },
  {
   "cell_type": "markdown",
   "id": "impaired-patent",
   "metadata": {},
   "source": [
    "Note the potential confusion here: you could imagine `a` and `M` compatible by padding `a` shape with ones on the right rather than on the left. But this is not how broadcasting rules work! That sort of flexibility might be useful in some cases, but it would lead to potential areas of ambiguity. If right-side padding is what you'd like, you can do this explicitly by reshaping the array (using `np.newaxis`)."
   ]
  },
  {
   "cell_type": "code",
   "execution_count": 42,
   "id": "contemporary-average",
   "metadata": {},
   "outputs": [
    {
     "data": {
      "text/plain": [
       "(3, 1)"
      ]
     },
     "execution_count": 42,
     "metadata": {},
     "output_type": "execute_result"
    }
   ],
   "source": [
    "a[:, np.newaxis].shape"
   ]
  },
  {
   "cell_type": "code",
   "execution_count": 43,
   "id": "handled-telescope",
   "metadata": {},
   "outputs": [
    {
     "data": {
      "text/plain": [
       "array([[1., 1.],\n",
       "       [2., 2.],\n",
       "       [3., 3.]])"
      ]
     },
     "execution_count": 43,
     "metadata": {},
     "output_type": "execute_result"
    }
   ],
   "source": [
    "M + a[:, np.newaxis]"
   ]
  },
  {
   "cell_type": "markdown",
   "id": "express-parameter",
   "metadata": {},
   "source": [
    "Also note that while we've been focusing on the `+` operator here, these broadcasting rules apply to *any* binary `ufunc`. For example, here is the `logaddexp(a, b)` function, which computes `log(exp(a) + exp(b))` with more precision than the naive approach:"
   ]
  },
  {
   "cell_type": "code",
   "execution_count": 44,
   "id": "pregnant-matthew",
   "metadata": {},
   "outputs": [
    {
     "data": {
      "text/plain": [
       "array([[1.31326169, 1.31326169],\n",
       "       [1.69314718, 1.69314718],\n",
       "       [2.31326169, 2.31326169]])"
      ]
     },
     "execution_count": 44,
     "metadata": {},
     "output_type": "execute_result"
    }
   ],
   "source": [
    "np.logaddexp(M, a[:, np.newaxis])"
   ]
  },
  {
   "cell_type": "markdown",
   "id": "regular-society",
   "metadata": {},
   "source": [
    "## **Broadcasting in practice**\n",
    "\n",
    "We'll now take a look at examples where broadcasting ops may be useful.\n",
    "\n",
    "### **Centering an array**\n",
    "\n",
    "`ufunc`s allow a NumPy user to remove the need to write slow Python loops. Broadcasting extends this ability. One common example is centering an array of data. Imagine that you have an array of 10 observations, each of which consists of 3 values. Using the standard convention, we'll store this in a `10*3` array:"
   ]
  },
  {
   "cell_type": "code",
   "execution_count": 46,
   "id": "pursuant-concert",
   "metadata": {},
   "outputs": [],
   "source": [
    "X = np.random.random((10,3))\n",
    "X"
   ]
  },
  {
   "cell_type": "code",
   "execution_count": null,
   "id": "excess-terrain",
   "metadata": {},
   "outputs": [],
   "source": []
  }
 ],
 "metadata": {
  "kernelspec": {
   "display_name": "Python 3",
   "language": "python",
   "name": "python3"
  },
  "language_info": {
   "codemirror_mode": {
    "name": "ipython",
    "version": 3
   },
   "file_extension": ".py",
   "mimetype": "text/x-python",
   "name": "python",
   "nbconvert_exporter": "python",
   "pygments_lexer": "ipython3",
   "version": "3.8.5"
  }
 },
 "nbformat": 4,
 "nbformat_minor": 5
}
