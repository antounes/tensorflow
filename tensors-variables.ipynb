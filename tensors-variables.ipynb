{
 "cells": [
  {
   "cell_type": "markdown",
   "id": "searching-dividend",
   "metadata": {},
   "source": [
    "# **Introduction to Tensors and Variables**\n",
    "\n",
    "**Learning objectives**\n",
    "\n",
    "1. Understand basic and advanced `tensor` concepts\n",
    "2. Understand single-axis and multi-axis indexing\n",
    "3. Create `tensors` and `Variables`"
   ]
  },
  {
   "cell_type": "markdown",
   "id": "fifty-heritage",
   "metadata": {},
   "source": [
    "## **Introduction**\n",
    "\n",
    "In this notebook, we look at tensors, which are multi-dimensional arrays with a uniform type (called a `dtype`). Tensors are (kind of) like `np.arrays`. All tensors are immutable like Python numbers and strings: you can never update the contents of a tensor, only create a new one.\n",
    "\n",
    "We also look at variables, a `tf.Variable` represents a tensor whose value can be changed by running operations (ops) on it. Specific ops allow you to read and modify the value of this tensor. Higher level libraries like `tf.keras` use `tf.Variable` to store model parameters."
   ]
  },
  {
   "cell_type": "markdown",
   "id": "double-mount",
   "metadata": {},
   "source": [
    "## **Load necessary libraries**\n",
    "\n",
    "Import necessary libraries"
   ]
  },
  {
   "cell_type": "code",
   "execution_count": 1,
   "id": "terminal-receipt",
   "metadata": {},
   "outputs": [
    {
     "name": "stdout",
     "output_type": "stream",
     "text": [
      "TensorFlow version: 2.4.1\n"
     ]
    }
   ],
   "source": [
    "import tensorflow as tf\n",
    "import numpy as np\n",
    "\n",
    "print(\"TensorFlow version:\", tf.version.VERSION)"
   ]
  },
  {
   "cell_type": "markdown",
   "id": "international-accused",
   "metadata": {},
   "source": [
    "## **Basic and advanced tensor concepts**\n",
    "\n",
    "### **Basics**\n",
    "\n",
    "Let's create some basic tensors. \n",
    "\n",
    "#### **Tensor objects**\n",
    "A **scalar** is a rank-0 tensor. A scalar contains a single value, and no *axes*"
   ]
  },
  {
   "cell_type": "code",
   "execution_count": 2,
   "id": "through-circuit",
   "metadata": {},
   "outputs": [
    {
     "data": {
      "text/plain": [
       "<tf.Tensor: shape=(), dtype=int32, numpy=4>"
      ]
     },
     "execution_count": 2,
     "metadata": {},
     "output_type": "execute_result"
    }
   ],
   "source": [
    "# A scalar tensor contains a single value and no axes\n",
    "rank_0_tensor = tf.constant(4)\n",
    "rank_0_tensor"
   ]
  },
  {
   "cell_type": "markdown",
   "id": "dental-portugal",
   "metadata": {},
   "source": [
    "A **vector** is a rank-1 tensor. A vector is like a list of values, it has 1 axis"
   ]
  },
  {
   "cell_type": "code",
   "execution_count": 3,
   "id": "spanish-benchmark",
   "metadata": {},
   "outputs": [
    {
     "data": {
      "text/plain": [
       "<tf.Tensor: shape=(3,), dtype=float32, numpy=array([2., 3., 4.], dtype=float32)>"
      ]
     },
     "execution_count": 3,
     "metadata": {},
     "output_type": "execute_result"
    }
   ],
   "source": [
    "# A vector tensor has 1 axis\n",
    "rank_1_tensor = tf.constant([2.0, 3.0, 4.0])\n",
    "rank_1_tensor"
   ]
  },
  {
   "cell_type": "markdown",
   "id": "right-population",
   "metadata": {},
   "source": [
    "A **matrix** is a rank-2 tensor. It has 2 axes."
   ]
  },
  {
   "cell_type": "code",
   "execution_count": 4,
   "id": "engaged-switzerland",
   "metadata": {},
   "outputs": [
    {
     "data": {
      "text/plain": [
       "<tf.Tensor: shape=(3, 2), dtype=float16, numpy=\n",
       "array([[1., 2.],\n",
       "       [3., 4.],\n",
       "       [5., 6.]], dtype=float16)>"
      ]
     },
     "execution_count": 4,
     "metadata": {},
     "output_type": "execute_result"
    }
   ],
   "source": [
    "# A matrix tensor has 2 axes\n",
    "# dtype can be specified at creation\n",
    "rank_2_tensor = tf.constant([[1, 2],\n",
    "                             [3, 4],\n",
    "                             [5, 6]], dtype=tf.float16)\n",
    "rank_2_tensor"
   ]
  },
  {
   "cell_type": "markdown",
   "id": "impaired-fortune",
   "metadata": {},
   "source": [
    "<center><img src=\"img/tensors.png\" width=500 height=500></center>"
   ]
  },
  {
   "cell_type": "markdown",
   "id": "innocent-kennedy",
   "metadata": {},
   "source": [
    "Tensors may have more axes, here is a tensor with 3 axes"
   ]
  },
  {
   "cell_type": "code",
   "execution_count": 25,
   "id": "revised-brooklyn",
   "metadata": {},
   "outputs": [
    {
     "data": {
      "text/plain": [
       "<tf.Tensor: shape=(3, 2, 5), dtype=int32, numpy=\n",
       "array([[[ 0,  1,  2,  3,  4],\n",
       "        [ 5,  6,  7,  8,  9]],\n",
       "\n",
       "       [[10, 11, 12, 13, 14],\n",
       "        [15, 16, 17, 18, 19]],\n",
       "\n",
       "       [[20, 21, 22, 23, 24],\n",
       "        [25, 26, 27, 28, 29]]], dtype=int32)>"
      ]
     },
     "execution_count": 25,
     "metadata": {},
     "output_type": "execute_result"
    }
   ],
   "source": [
    "# There can be an arbitrary number of axes\n",
    "rank_3_tensor = tf.constant([\n",
    "    [[0, 1, 2, 3, 4],\n",
    "     [5, 6, 7, 8, 9]],\n",
    "    [[10, 11, 12, 13, 14],\n",
    "     [15, 16, 17, 18, 19]],\n",
    "    [[20, 21, 22, 23, 24],\n",
    "     [25, 26, 27, 28, 29]]\n",
    "])\n",
    "\n",
    "rank_3_tensor"
   ]
  },
  {
   "cell_type": "markdown",
   "id": "special-given",
   "metadata": {},
   "source": [
    "Tensors with more than 2 axes can be visualised in many ways\n",
    "\n",
    "<center><img src=\"img/multi-tensors.png\" width=600 height=600></center>"
   ]
  },
  {
   "cell_type": "markdown",
   "id": "worst-factor",
   "metadata": {},
   "source": [
    "A tensor can be converted to a NumPy array either using `np.array` or the `tensor.numpy` method."
   ]
  },
  {
   "cell_type": "code",
   "execution_count": 9,
   "id": "extensive-shaft",
   "metadata": {},
   "outputs": [
    {
     "data": {
      "text/plain": [
       "array([[1., 2.],\n",
       "       [3., 4.],\n",
       "       [5., 6.]], dtype=float16)"
      ]
     },
     "execution_count": 9,
     "metadata": {},
     "output_type": "execute_result"
    }
   ],
   "source": [
    "np.array(rank_2_tensor)"
   ]
  },
  {
   "cell_type": "code",
   "execution_count": 11,
   "id": "periodic-times",
   "metadata": {},
   "outputs": [
    {
     "data": {
      "text/plain": [
       "array([[1., 2.],\n",
       "       [3., 4.],\n",
       "       [5., 6.]], dtype=float16)"
      ]
     },
     "execution_count": 11,
     "metadata": {},
     "output_type": "execute_result"
    }
   ],
   "source": [
    "rank_2_tensor.numpy()"
   ]
  },
  {
   "cell_type": "markdown",
   "id": "natural-pizza",
   "metadata": {},
   "source": [
    "Tensors often contain `float` and `int` types, but may have many other types, including:\n",
    "- complex numbers\n",
    "- strings\n",
    "\n",
    "The base `tf.Tensor` class requires tensors to be *rectangular* - that is, **along each axis, every element must be the same size**. However, some specialised types of tensors can handle different shapes:\n",
    "- ragged tensors\n",
    "- sparse tensors\n",
    "\n",
    "#### **Basic math**\n",
    "\n",
    "Basic math can be performed on tensors, including addition, element-wise multiplication, and matrix multiplication."
   ]
  },
  {
   "cell_type": "code",
   "execution_count": 12,
   "id": "major-campbell",
   "metadata": {},
   "outputs": [],
   "source": [
    "a = tf.constant([[1, 2],\n",
    "                 [3, 4]])\n",
    "b = tf.constant([[1, 1],\n",
    "                 [1, 1]])"
   ]
  },
  {
   "cell_type": "markdown",
   "id": "southeast-washington",
   "metadata": {},
   "source": [
    "**Addition**"
   ]
  },
  {
   "cell_type": "code",
   "execution_count": 13,
   "id": "embedded-breath",
   "metadata": {},
   "outputs": [
    {
     "name": "stdout",
     "output_type": "stream",
     "text": [
      "tf.Tensor(\n",
      "[[2 3]\n",
      " [4 5]], shape=(2, 2), dtype=int32)\n"
     ]
    }
   ],
   "source": [
    "print(tf.add(a, b))"
   ]
  },
  {
   "cell_type": "code",
   "execution_count": 16,
   "id": "wrapped-mortgage",
   "metadata": {},
   "outputs": [
    {
     "name": "stdout",
     "output_type": "stream",
     "text": [
      "tf.Tensor(\n",
      "[[2 3]\n",
      " [4 5]], shape=(2, 2), dtype=int32)\n"
     ]
    }
   ],
   "source": [
    "print(a + b)"
   ]
  },
  {
   "cell_type": "markdown",
   "id": "eligible-greek",
   "metadata": {},
   "source": [
    "**Element-wise multiplication**"
   ]
  },
  {
   "cell_type": "code",
   "execution_count": 14,
   "id": "aboriginal-coverage",
   "metadata": {},
   "outputs": [
    {
     "name": "stdout",
     "output_type": "stream",
     "text": [
      "tf.Tensor(\n",
      "[[1 2]\n",
      " [3 4]], shape=(2, 2), dtype=int32)\n"
     ]
    }
   ],
   "source": [
    "print(tf.multiply(a, b))"
   ]
  },
  {
   "cell_type": "code",
   "execution_count": 17,
   "id": "thirty-france",
   "metadata": {},
   "outputs": [
    {
     "name": "stdout",
     "output_type": "stream",
     "text": [
      "tf.Tensor(\n",
      "[[1 2]\n",
      " [3 4]], shape=(2, 2), dtype=int32)\n"
     ]
    }
   ],
   "source": [
    "print(a * b)"
   ]
  },
  {
   "cell_type": "markdown",
   "id": "documented-advertising",
   "metadata": {},
   "source": [
    "**Matrix multiplication**"
   ]
  },
  {
   "cell_type": "code",
   "execution_count": 15,
   "id": "excellent-nitrogen",
   "metadata": {},
   "outputs": [
    {
     "name": "stdout",
     "output_type": "stream",
     "text": [
      "tf.Tensor(\n",
      "[[3 3]\n",
      " [7 7]], shape=(2, 2), dtype=int32)\n"
     ]
    }
   ],
   "source": [
    "print(tf.matmul(a, b))"
   ]
  },
  {
   "cell_type": "code",
   "execution_count": 18,
   "id": "defensive-elder",
   "metadata": {},
   "outputs": [
    {
     "name": "stdout",
     "output_type": "stream",
     "text": [
      "tf.Tensor(\n",
      "[[3 3]\n",
      " [7 7]], shape=(2, 2), dtype=int32)\n"
     ]
    }
   ],
   "source": [
    "print(a @ b)"
   ]
  },
  {
   "cell_type": "markdown",
   "id": "homeless-empire",
   "metadata": {},
   "source": [
    "**Tensor ops**"
   ]
  },
  {
   "cell_type": "code",
   "execution_count": 24,
   "id": "logical-inspiration",
   "metadata": {},
   "outputs": [
    {
     "data": {
      "text/plain": [
       "<tf.Tensor: shape=(2, 2), dtype=float32, numpy=\n",
       "array([[2.6894143e-01, 7.3105860e-01],\n",
       "       [9.9987662e-01, 1.2339458e-04]], dtype=float32)>"
      ]
     },
     "execution_count": 24,
     "metadata": {},
     "output_type": "execute_result"
    }
   ],
   "source": [
    "c = tf.constant([[4.0, 5.0], \n",
    "                 [10.0, 1.0]])\n",
    "\n",
    "# Find the largest value\n",
    "tf.reduce_max(c)\n",
    "\n",
    "# Find the INDEX of the largest value\n",
    "tf.argmax(c)\n",
    "\n",
    "# Compute the softmax\n",
    "tf.nn.softmax(c)"
   ]
  },
  {
   "cell_type": "markdown",
   "id": "derived-spirit",
   "metadata": {},
   "source": [
    "### **Tensor shapes**\n",
    "\n",
    "Tensors have shapes. Some vocabulary:\n",
    "- **Shape** - Tuple storing the length of each of the dimensions of a tensor\n",
    "- **Rank** - Number of tensor dimensions. A **scalar** is rank-0, a **vector** is rank-1, a **matrix** is rank-2\n",
    "- **Axis** or **Dimension** - Lowest structure level of a tensor\n",
    "- **Size** - Total number of the items in a tensor, its product shape vector\n",
    "\n",
    "Tensors and `tf.TensorShape` objects have convenient properties for accessing these.\n",
    "\n",
    "Note: although there may be references to *tensors of 2 dimensions*, a rank-2 tensor usually does not describe a 2D space."
   ]
  },
  {
   "cell_type": "code",
   "execution_count": 34,
   "id": "virtual-architect",
   "metadata": {},
   "outputs": [
    {
     "data": {
      "text/plain": [
       "<tf.Tensor: shape=(3, 2, 4, 5), dtype=float32, numpy=\n",
       "array([[[[0., 0., 0., 0., 0.],\n",
       "         [0., 0., 0., 0., 0.],\n",
       "         [0., 0., 0., 0., 0.],\n",
       "         [0., 0., 0., 0., 0.]],\n",
       "\n",
       "        [[0., 0., 0., 0., 0.],\n",
       "         [0., 0., 0., 0., 0.],\n",
       "         [0., 0., 0., 0., 0.],\n",
       "         [0., 0., 0., 0., 0.]]],\n",
       "\n",
       "\n",
       "       [[[0., 0., 0., 0., 0.],\n",
       "         [0., 0., 0., 0., 0.],\n",
       "         [0., 0., 0., 0., 0.],\n",
       "         [0., 0., 0., 0., 0.]],\n",
       "\n",
       "        [[0., 0., 0., 0., 0.],\n",
       "         [0., 0., 0., 0., 0.],\n",
       "         [0., 0., 0., 0., 0.],\n",
       "         [0., 0., 0., 0., 0.]]],\n",
       "\n",
       "\n",
       "       [[[0., 0., 0., 0., 0.],\n",
       "         [0., 0., 0., 0., 0.],\n",
       "         [0., 0., 0., 0., 0.],\n",
       "         [0., 0., 0., 0., 0.]],\n",
       "\n",
       "        [[0., 0., 0., 0., 0.],\n",
       "         [0., 0., 0., 0., 0.],\n",
       "         [0., 0., 0., 0., 0.],\n",
       "         [0., 0., 0., 0., 0.]]]], dtype=float32)>"
      ]
     },
     "execution_count": 34,
     "metadata": {},
     "output_type": "execute_result"
    }
   ],
   "source": [
    "# `tf.zeros` creates a tensor with all elements set to 0\n",
    "rank_4_tensor = tf.zeros([3, 2, 4, 5])\n",
    "rank_4_tensor"
   ]
  },
  {
   "cell_type": "markdown",
   "id": "typical-measurement",
   "metadata": {},
   "source": [
    "<center><img src=\"img/rank-4-tensor.png\" width=500 height=500><\\center>"
   ]
  },
  {
   "cell_type": "code",
   "execution_count": 29,
   "id": "personal-praise",
   "metadata": {},
   "outputs": [
    {
     "name": "stdout",
     "output_type": "stream",
     "text": [
      "Type of every element: <dtype: 'float32'>\n",
      "Number of dimensions: 4\n",
      "Shape of tensor: (3, 2, 4, 5)\n",
      "Elements along axis 0 of tensor: 3\n",
      "Elements along the last axis of tensor: 5\n",
      "Total number of elements (3*2*4*5): 120\n"
     ]
    }
   ],
   "source": [
    "print(\"Type of every element:\", rank_4_tensor.dtype)\n",
    "print(\"Number of dimensions:\", rank_4_tensor.ndim)\n",
    "print(\"Shape of tensor:\", rank_4_tensor.shape)\n",
    "print(\"Elements along axis 0 of tensor:\", rank_4_tensor.shape[0])\n",
    "print(\"Elements along the last axis of tensor:\", rank_4_tensor.shape[-1])\n",
    "print(\"Total number of elements (3*2*4*5):\", tf.size(rank_4_tensor).numpy())"
   ]
  },
  {
   "cell_type": "markdown",
   "id": "similar-delta",
   "metadata": {},
   "source": [
    "While axes are often referred to by their indices, you should always keep track of the meaning of each. **Axes are ordered from global to local**: \n",
    "1. **batch** axis\n",
    "2. **spatial** axes\n",
    "3. **features** for each location\n",
    "\n",
    "This way feature vectors are contiguous regions of memory.\n",
    "\n",
    "<center><img src=\"img/tf-axes.png\" width=300 height=300><\\center>"
   ]
  },
  {
   "cell_type": "markdown",
   "id": "bearing-hepatitis",
   "metadata": {},
   "source": [
    "## **Single-axis and multi-axis indexing**\n",
    "\n",
    "### **Single-axis indexing**\n",
    "\n",
    "TensorFlow follows standard Python and NumPy indexing rules:\n",
    "\n",
    "- indexes start at `0`\n",
    "- negative indices count backwards from the end\n",
    "- colons `:` are used for slicing as `start:stop:step`"
   ]
  },
  {
   "cell_type": "code",
   "execution_count": 33,
   "id": "baking-probe",
   "metadata": {},
   "outputs": [
    {
     "data": {
      "text/plain": [
       "array([ 0,  1,  1,  2,  3,  5,  8, 13, 21, 34], dtype=int32)"
      ]
     },
     "execution_count": 33,
     "metadata": {},
     "output_type": "execute_result"
    }
   ],
   "source": [
    "rank_1_tensor = tf.constant([0, 1, 1, 2, 3, 5, 8, 13, 21, 34])\n",
    "rank_1_tensor.numpy()"
   ]
  },
  {
   "cell_type": "markdown",
   "id": "suburban-destination",
   "metadata": {},
   "source": [
    "Indexing with a scalar **removes the dimension**"
   ]
  },
  {
   "cell_type": "code",
   "execution_count": 35,
   "id": "associate-vacuum",
   "metadata": {},
   "outputs": [
    {
     "name": "stdout",
     "output_type": "stream",
     "text": [
      "First: 0\n",
      "Second: 1\n",
      "Last: 34\n"
     ]
    }
   ],
   "source": [
    "print(\"First:\", rank_1_tensor[0].numpy())\n",
    "print(\"Second:\", rank_1_tensor[1].numpy())\n",
    "print(\"Last:\", rank_1_tensor[-1].numpy())"
   ]
  },
  {
   "cell_type": "markdown",
   "id": "extensive-roads",
   "metadata": {},
   "source": [
    "Indexing with a slice `:` **keeps the dimension**"
   ]
  },
  {
   "cell_type": "code",
   "execution_count": 39,
   "id": "large-burden",
   "metadata": {},
   "outputs": [
    {
     "name": "stdout",
     "output_type": "stream",
     "text": [
      "Everything: [ 0  1  1  2  3  5  8 13 21 34]\n",
      "Before 4:  [0 1 1 2]\n",
      "From 4 to the end: [ 3  5  8 13 21 34]\n",
      "From 2, before 7: [1 2 3 5 8]\n",
      "Every other item: [ 0  1  3  8 21]\n",
      "Reversed: [34 21 13  8  5  3  2  1  1  0]\n"
     ]
    }
   ],
   "source": [
    "print(\"Everything:\", rank_1_tensor[:].numpy())\n",
    "print(\"Before 4: \", rank_1_tensor[:4].numpy())\n",
    "print(\"From 4 to the end:\", rank_1_tensor[4:].numpy())\n",
    "print(\"From 2, before 7:\", rank_1_tensor[2:7].numpy())\n",
    "print(\"Every other item:\", rank_1_tensor[::2].numpy())\n",
    "print(\"Reversed:\", rank_1_tensor[::-1].numpy())"
   ]
  },
  {
   "cell_type": "markdown",
   "id": "immune-delight",
   "metadata": {},
   "source": [
    "### **Multi-axis indexig**\n",
    "\n",
    "Higher rank tensors are indexed by passing multiple indices. The exact same rules as in the single-axis case apply to each axis independently."
   ]
  },
  {
   "cell_type": "code",
   "execution_count": 46,
   "id": "dynamic-accounting",
   "metadata": {},
   "outputs": [
    {
     "data": {
      "text/plain": [
       "array([[1., 2.],\n",
       "       [3., 4.],\n",
       "       [5., 6.]], dtype=float16)"
      ]
     },
     "execution_count": 46,
     "metadata": {},
     "output_type": "execute_result"
    }
   ],
   "source": [
    "rank_2_tensor.numpy()"
   ]
  },
  {
   "cell_type": "markdown",
   "id": "tired-surgery",
   "metadata": {},
   "source": [
    "Passing an integer for each index results in a scalar."
   ]
  },
  {
   "cell_type": "code",
   "execution_count": 47,
   "id": "based-trick",
   "metadata": {},
   "outputs": [
    {
     "data": {
      "text/plain": [
       "4.0"
      ]
     },
     "execution_count": 47,
     "metadata": {},
     "output_type": "execute_result"
    }
   ],
   "source": [
    "# Pull out a single value from a rank-2 tensor\n",
    "rank_2_tensor[1, 1].numpy()"
   ]
  },
  {
   "cell_type": "markdown",
   "id": "animated-programmer",
   "metadata": {},
   "source": [
    "Indexing can be performed using any combination of integers and slices"
   ]
  },
  {
   "cell_type": "code",
   "execution_count": 50,
   "id": "mighty-needle",
   "metadata": {},
   "outputs": [
    {
     "name": "stdout",
     "output_type": "stream",
     "text": [
      "Second row: [3. 4.]\n",
      "Second column: [2. 4. 6.]\n",
      "Last row: [5. 6.]\n",
      "First item in the last column: 2.0\n",
      "Skip the first row:\n",
      "[[3. 4.]\n",
      " [5. 6.]]\n"
     ]
    }
   ],
   "source": [
    "# Get row and column tensors\n",
    "print(\"Second row:\", rank_2_tensor[1,:].numpy())\n",
    "print(\"Second column:\", rank_2_tensor[:, 1].numpy())\n",
    "print(\"Last row:\", rank_2_tensor[-1,:].numpy())\n",
    "print(\"First item in the last column:\", rank_2_tensor[0, -1].numpy())\n",
    "print(\"Skip the first row:\")\n",
    "print(rank_2_tensor[1:, :].numpy())"
   ]
  },
  {
   "cell_type": "markdown",
   "id": "elementary-honor",
   "metadata": {},
   "source": [
    "An example with a 3-axis tensor"
   ]
  },
  {
   "cell_type": "code",
   "execution_count": 51,
   "id": "dominican-commons",
   "metadata": {},
   "outputs": [
    {
     "data": {
      "text/plain": [
       "<tf.Tensor: shape=(3, 2), dtype=int32, numpy=\n",
       "array([[ 4,  9],\n",
       "       [14, 19],\n",
       "       [24, 29]], dtype=int32)>"
      ]
     },
     "execution_count": 51,
     "metadata": {},
     "output_type": "execute_result"
    }
   ],
   "source": [
    "# Get 3-axis tensor\n",
    "rank_3_tensor[:, :, 4]"
   ]
  },
  {
   "cell_type": "markdown",
   "id": "acquired-cowboy",
   "metadata": {},
   "source": [
    "<center><img src=\"img/rank-3-tensor.png\" width=500 height=500><\\center>"
   ]
  },
  {
   "cell_type": "markdown",
   "id": "auburn-charter",
   "metadata": {},
   "source": [
    "## **Manipulating shapes**\n",
    "\n",
    "Reshaping a tensor is of great utility. The `tf.reshape` operation is fast and cheap as the underlying data does not need to be duplicated."
   ]
  },
  {
   "cell_type": "code",
   "execution_count": 56,
   "id": "smaller-display",
   "metadata": {},
   "outputs": [
    {
     "data": {
      "text/plain": [
       "TensorShape([3, 1])"
      ]
     },
     "execution_count": 56,
     "metadata": {},
     "output_type": "execute_result"
    }
   ],
   "source": [
    "# Shape returns a `tf.TensorShape` object that shows the size of each dimension\n",
    "var_x = tf.Variable(tf.constant([[1], [2], [3]]))\n",
    "var_x.shape"
   ]
  },
  {
   "cell_type": "code",
   "execution_count": 57,
   "id": "built-bumper",
   "metadata": {},
   "outputs": [
    {
     "data": {
      "text/plain": [
       "[3, 1]"
      ]
     },
     "execution_count": 57,
     "metadata": {},
     "output_type": "execute_result"
    }
   ],
   "source": [
    "# `tf.TensorShape` can be converted into a Python list\n",
    "var_x.shape.as_list()"
   ]
  },
  {
   "cell_type": "markdown",
   "id": "specific-publisher",
   "metadata": {},
   "source": [
    "A tensor can be reshaped into a new shape."
   ]
  },
  {
   "cell_type": "code",
   "execution_count": 58,
   "id": "surprising-price",
   "metadata": {},
   "outputs": [],
   "source": [
    "reshaped = tf.reshape(var_x, [1, 3])"
   ]
  },
  {
   "cell_type": "code",
   "execution_count": 60,
   "id": "activated-collapse",
   "metadata": {},
   "outputs": [
    {
     "name": "stdout",
     "output_type": "stream",
     "text": [
      "(3, 1)\n",
      "(1, 3)\n"
     ]
    }
   ],
   "source": [
    "print(var_x.shape)\n",
    "print(reshaped.shape)"
   ]
  },
  {
   "cell_type": "markdown",
   "id": "included-hollywood",
   "metadata": {},
   "source": [
    "The data maintains its layout in memory and a new tensor is created, with the requested shape, pointing to the same data. TensorFlow uses C-style \"row-major\" memory ordering, where incrementing the right-most index corresponds to a single step in memory."
   ]
  },
  {
   "cell_type": "code",
   "execution_count": 61,
   "id": "unexpected-microphone",
   "metadata": {},
   "outputs": [
    {
     "data": {
      "text/plain": [
       "<tf.Tensor: shape=(3, 2, 5), dtype=int32, numpy=\n",
       "array([[[ 0,  1,  2,  3,  4],\n",
       "        [ 5,  6,  7,  8,  9]],\n",
       "\n",
       "       [[10, 11, 12, 13, 14],\n",
       "        [15, 16, 17, 18, 19]],\n",
       "\n",
       "       [[20, 21, 22, 23, 24],\n",
       "        [25, 26, 27, 28, 29]]], dtype=int32)>"
      ]
     },
     "execution_count": 61,
     "metadata": {},
     "output_type": "execute_result"
    }
   ],
   "source": [
    "rank_3_tensor"
   ]
  },
  {
   "cell_type": "markdown",
   "id": "mediterranean-graph",
   "metadata": {},
   "source": [
    "A flattened tensor shows the order it is laid out in memory"
   ]
  },
  {
   "cell_type": "code",
   "execution_count": 62,
   "id": "compact-benjamin",
   "metadata": {},
   "outputs": [
    {
     "data": {
      "text/plain": [
       "<tf.Tensor: shape=(30,), dtype=int32, numpy=\n",
       "array([ 0,  1,  2,  3,  4,  5,  6,  7,  8,  9, 10, 11, 12, 13, 14, 15, 16,\n",
       "       17, 18, 19, 20, 21, 22, 23, 24, 25, 26, 27, 28, 29], dtype=int32)>"
      ]
     },
     "execution_count": 62,
     "metadata": {},
     "output_type": "execute_result"
    }
   ],
   "source": [
    "# A `-1` passed in the `shape` argument says \"Whatever fits\"\n",
    "tf.reshape(rank_3_tensor, [-1])"
   ]
  },
  {
   "cell_type": "markdown",
   "id": "surface-vegetarian",
   "metadata": {},
   "source": [
    "Typically, the only reasonable uses of `tf.reshape` are to combine or split adjacent axes (or add/remove `1`s). For this 3x2x5 tensor, reshaping to (3x2)x5 or 3x(2x5) are both reasonable things to do, as the slices do not mix"
   ]
  },
  {
   "cell_type": "code",
   "execution_count": 63,
   "id": "cathedral-poster",
   "metadata": {},
   "outputs": [
    {
     "data": {
      "text/plain": [
       "<tf.Tensor: shape=(6, 5), dtype=int32, numpy=\n",
       "array([[ 0,  1,  2,  3,  4],\n",
       "       [ 5,  6,  7,  8,  9],\n",
       "       [10, 11, 12, 13, 14],\n",
       "       [15, 16, 17, 18, 19],\n",
       "       [20, 21, 22, 23, 24],\n",
       "       [25, 26, 27, 28, 29]], dtype=int32)>"
      ]
     },
     "execution_count": 63,
     "metadata": {},
     "output_type": "execute_result"
    }
   ],
   "source": [
    "tf.reshape(rank_3_tensor, [3*2, 5])"
   ]
  },
  {
   "cell_type": "code",
   "execution_count": 64,
   "id": "northern-wednesday",
   "metadata": {},
   "outputs": [
    {
     "data": {
      "text/plain": [
       "<tf.Tensor: shape=(3, 10), dtype=int32, numpy=\n",
       "array([[ 0,  1,  2,  3,  4,  5,  6,  7,  8,  9],\n",
       "       [10, 11, 12, 13, 14, 15, 16, 17, 18, 19],\n",
       "       [20, 21, 22, 23, 24, 25, 26, 27, 28, 29]], dtype=int32)>"
      ]
     },
     "execution_count": 64,
     "metadata": {},
     "output_type": "execute_result"
    }
   ],
   "source": [
    "tf.reshape(rank_3_tensor, [3, -1])"
   ]
  },
  {
   "cell_type": "markdown",
   "id": "jewish-strand",
   "metadata": {},
   "source": [
    "<center><img src=\"img/good-reshapes.png\" width=800 height=700><\\center>"
   ]
  },
  {
   "cell_type": "markdown",
   "id": "exciting-dollar",
   "metadata": {},
   "source": [
    "Reshaping will succeed for any new shape with the same total number of elements. It won't do anything useful if the order of the axes are not respected.\n",
    "\n",
    "Swapping axes in `tf.reshape` does not work, it requires `tf.transpose`."
   ]
  },
  {
   "cell_type": "code",
   "execution_count": 70,
   "id": "imported-university",
   "metadata": {},
   "outputs": [
    {
     "name": "stdout",
     "output_type": "stream",
     "text": [
      "tf.Tensor(\n",
      "[[[ 0  1  2  3  4]\n",
      "  [ 5  6  7  8  9]\n",
      "  [10 11 12 13 14]]\n",
      "\n",
      " [[15 16 17 18 19]\n",
      "  [20 21 22 23 24]\n",
      "  [25 26 27 28 29]]], shape=(2, 3, 5), dtype=int32) \n",
      "\n",
      "tf.Tensor(\n",
      "[[ 0  1  2  3  4  5]\n",
      " [ 6  7  8  9 10 11]\n",
      " [12 13 14 15 16 17]\n",
      " [18 19 20 21 22 23]\n",
      " [24 25 26 27 28 29]], shape=(5, 6), dtype=int32) \n",
      "\n",
      "Input to reshape is a tensor with 30 values, but the requested shape requires a multiple of 7 [Op:Reshape]\n"
     ]
    }
   ],
   "source": [
    "# Bad reshaping examples\n",
    "\n",
    "print(tf.reshape(rank_3_tensor, [2, 3, 5]), \"\\n\")\n",
    "\n",
    "# This is a mess\n",
    "print(tf.reshape(rank_3_tensor, [5, 6]), \"\\n\")\n",
    "\n",
    "# This doesn't work at all\n",
    "try:\n",
    "    tf.reshape(rank_3_tensor, [7, -1])\n",
    "except Exception as e: print(e)"
   ]
  },
  {
   "cell_type": "markdown",
   "id": "incident-williams",
   "metadata": {},
   "source": [
    "<center><img src=\"img/bad-reshapes.png\" width=800 height=700><\\center>"
   ]
  },
  {
   "cell_type": "markdown",
   "id": "authentic-insurance",
   "metadata": {},
   "source": [
    "## **More on `dtypes`**\n",
    "\n",
    "To inspect a `tf.Tensor` data type use `Tensor.dtype` property. \n",
    "\n",
    "When creating a `tf.Tensor` from a Python object, data type may optionally be specified. If not, TensorFlow selects a data type that can represent the data. TensorFlow converts Python integers to `tf.int32` and Python floating point numbers to `tf.float32`. Otherwise TensorFlow uses the same rules NumPy uses when converting to arrays.\n",
    "\n",
    "Casting from type to type is possible."
   ]
  },
  {
   "cell_type": "code",
   "execution_count": 73,
   "id": "fifteen-december",
   "metadata": {},
   "outputs": [
    {
     "name": "stdout",
     "output_type": "stream",
     "text": [
      "tf.Tensor([2.2 3.3 4.4], shape=(3,), dtype=float64)\n",
      "tf.Tensor([2.2 3.3 4.4], shape=(3,), dtype=float16)\n",
      "tf.Tensor([2 3 4], shape=(3,), dtype=uint8)\n"
     ]
    }
   ],
   "source": [
    "# `tf.cast` casts a tensor to a new type\n",
    "f64_tensor = tf.constant([2.2, 3.3, 4.4], dtype=tf.float64)\n",
    "print(f64_tensor)\n",
    "f16_tensor = tf.cast(f64_tensor, dtype=tf.float16)\n",
    "print(f16_tensor)\n",
    "# Now let's cast to uint8 and lose the decimal precision\n",
    "u8_tensor = tf.cast(f16_tensor, dtype=tf.uint8)\n",
    "print(u8_tensor)"
   ]
  },
  {
   "cell_type": "markdown",
   "id": "incomplete-kinase",
   "metadata": {},
   "source": [
    "## **Broadcasting**\n",
    "\n",
    "Broadcasting is a concept borrowed from the equivalent feature un NumPy. In short, under certain conditions, **smaller tensors are \"stretched\" automatically to fit larger tensors when running combined operations on them**.\n",
    "\n",
    "The simplest and most common case is the multiplication or addition of a tensor and a scalar. In that case, the scalar is broadcast to be the same shape as the other argument."
   ]
  },
  {
   "cell_type": "code",
   "execution_count": 77,
   "id": "caroline-spyware",
   "metadata": {},
   "outputs": [
    {
     "name": "stdout",
     "output_type": "stream",
     "text": [
      "tf.Tensor([2 4 6], shape=(3,), dtype=int32)\n",
      "tf.Tensor([2 4 6], shape=(3,), dtype=int32)\n",
      "tf.Tensor([2 4 6], shape=(3,), dtype=int32)\n"
     ]
    }
   ],
   "source": [
    "x = tf.constant([1, 2, 3])\n",
    "y = tf.constant(2)\n",
    "z = tf.constant([2, 2, 2])\n",
    "\n",
    "print(tf.multiply(x, 2))\n",
    "print(x * y)\n",
    "print(x * z)"
   ]
  },
  {
   "cell_type": "markdown",
   "id": "juvenile-plain",
   "metadata": {},
   "source": [
    "Likewise, 1-sized dimensions can be stretched out to match the other arguments. Both arguments can be stretched in the same computation. In the following case, a 3x1 matrix is element-wise multiplied by a 1x4 matrix to produce a 3x4 matrix."
   ]
  },
  {
   "cell_type": "code",
   "execution_count": 82,
   "id": "capital-warrant",
   "metadata": {},
   "outputs": [
    {
     "name": "stdout",
     "output_type": "stream",
     "text": [
      "tf.Tensor(\n",
      "[[1]\n",
      " [2]\n",
      " [3]], shape=(3, 1), dtype=int32) \n",
      "\n",
      "tf.Tensor([1 2 3 4], shape=(4,), dtype=int32) \n",
      "\n",
      "tf.Tensor(\n",
      "[[ 1  2  3  4]\n",
      " [ 2  4  6  8]\n",
      " [ 3  6  9 12]], shape=(3, 4), dtype=int32)\n"
     ]
    }
   ],
   "source": [
    "x = tf.reshape(x, [3, 1])\n",
    "y = tf.range(1, 5)\n",
    "print(x, \"\\n\")\n",
    "print(y, \"\\n\")\n",
    "print(tf.multiply(x, y))"
   ]
  },
  {
   "cell_type": "markdown",
   "id": "documentary-comparative",
   "metadata": {},
   "source": [
    "<center><img src=\"img/broadcast.png\" width=400 height=400><\\center>"
   ]
  },
  {
   "cell_type": "markdown",
   "id": "productive-donor",
   "metadata": {},
   "source": [
    "The same operation is done without broadcasting in the following"
   ]
  },
  {
   "cell_type": "code",
   "execution_count": 88,
   "id": "facial-courage",
   "metadata": {},
   "outputs": [
    {
     "name": "stdout",
     "output_type": "stream",
     "text": [
      "tf.Tensor(\n",
      "[[ 1  2  3  4]\n",
      " [ 2  4  6  8]\n",
      " [ 3  6  9 12]], shape=(3, 4), dtype=int32)\n"
     ]
    }
   ],
   "source": [
    "x_stretch = tf.constant([[1, 1, 1, 1],\n",
    "                         [2, 2, 2, 2],\n",
    "                         [3, 3, 3, 3]])\n",
    "y_stretch = tf.constant([[1, 2, 3, 4],\n",
    "                         [1, 2, 3, 4],\n",
    "                         [1, 2, 3, 4]])\n",
    "\n",
    "print(x_stretch * y_stretch)"
   ]
  },
  {
   "cell_type": "markdown",
   "id": "incorporated-campbell",
   "metadata": {},
   "source": [
    "Most of the time, broadcasting is both time and memory efficient, as the broadcast operation never materialises the expanded tensors in memory. Broadcasting can be looked at using `tf.broadcast_to`."
   ]
  },
  {
   "cell_type": "code",
   "execution_count": 89,
   "id": "governing-decimal",
   "metadata": {},
   "outputs": [
    {
     "data": {
      "text/plain": [
       "<tf.Tensor: shape=(3, 3), dtype=int32, numpy=\n",
       "array([[1, 2, 3],\n",
       "       [1, 2, 3],\n",
       "       [1, 2, 3]], dtype=int32)>"
      ]
     },
     "execution_count": 89,
     "metadata": {},
     "output_type": "execute_result"
    }
   ],
   "source": [
    "tf.broadcast_to(tf.constant([1, 2, 3]), [3, 3])"
   ]
  },
  {
   "cell_type": "markdown",
   "id": "charming-botswana",
   "metadata": {},
   "source": [
    "Unlike mathematical ops, for example, `tf.broadcast_to` does nothing special to save memory. Here, the tensor is materialised."
   ]
  },
  {
   "cell_type": "markdown",
   "id": "american-negotiation",
   "metadata": {},
   "source": [
    "## **`tf.convert_to_tensor`**\n",
    "\n",
    "Most ops, like `tf.matmul` and `tf.reshape` take arguments of class `tf.Tensor`. However, Python objects shaped like tensors are also frequently passed. Most, but not all, ops call `convert_to_tensor` on non-tensor arguments. There is a registry of conversions, and most object classes like NumPy `ndarray`, `TensorShape`, `list` and `tf.Variable` will convert automatically.\n"
   ]
  },
  {
   "cell_type": "code",
   "execution_count": null,
   "id": "outstanding-jones",
   "metadata": {},
   "outputs": [],
   "source": []
  }
 ],
 "metadata": {
  "kernelspec": {
   "display_name": "Python 3",
   "language": "python",
   "name": "python3"
  },
  "language_info": {
   "codemirror_mode": {
    "name": "ipython",
    "version": 3
   },
   "file_extension": ".py",
   "mimetype": "text/x-python",
   "name": "python",
   "nbconvert_exporter": "python",
   "pygments_lexer": "ipython3",
   "version": "3.8.5"
  }
 },
 "nbformat": 4,
 "nbformat_minor": 5
}
