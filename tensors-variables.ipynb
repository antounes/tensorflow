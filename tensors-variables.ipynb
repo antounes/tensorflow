{
 "cells": [
  {
   "cell_type": "markdown",
   "id": "amino-geology",
   "metadata": {},
   "source": [
    "# **Introduction to Tensors and Variables**\n",
    "\n",
    "**Learning objectives**\n",
    "\n",
    "1. Understand basic and advanced `tensor` concepts\n",
    "2. Understand single-axis and multi-axis indexing\n",
    "3. Create `tensors` and `Variables`"
   ]
  },
  {
   "cell_type": "markdown",
   "id": "understanding-territory",
   "metadata": {},
   "source": [
    "## **Introduction**\n",
    "\n",
    "In this notebook, we look at tensors, which are multi-dimensional arrays with a uniform type (called a `dtype`)."
   ]
  },
  {
   "cell_type": "code",
   "execution_count": null,
   "id": "imported-threshold",
   "metadata": {},
   "outputs": [],
   "source": []
  }
 ],
 "metadata": {
  "kernelspec": {
   "display_name": "Python 3",
   "language": "python",
   "name": "python3"
  },
  "language_info": {
   "codemirror_mode": {
    "name": "ipython",
    "version": 3
   },
   "file_extension": ".py",
   "mimetype": "text/x-python",
   "name": "python",
   "nbconvert_exporter": "python",
   "pygments_lexer": "ipython3",
   "version": "3.8.5"
  }
 },
 "nbformat": 4,
 "nbformat_minor": 5
}
